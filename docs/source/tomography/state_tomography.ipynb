{
 "cells": [
  {
   "cell_type": "markdown",
   "metadata": {},
   "source": [
    "# State Tomography\n",
    "State tomography allows for analysis of the quantum state produced by a particular quantum process, through measurement of the density matrix of the state.\n",
    "\n",
    "This notebook demonstrates utilisation of the StateTomography object, which can be used for generating the required experiments and processing the created data."
   ]
  },
  {
   "cell_type": "code",
   "execution_count": 1,
   "metadata": {},
   "outputs": [],
   "source": [
    "import matplotlib.pyplot as plt\n",
    "import numpy as np\n",
    "\n",
    "import lightworks as lw\n",
    "from lightworks import emulator, qubit\n",
    "from lightworks.tomography import StateTomography, density_from_state"
   ]
  },
  {
   "cell_type": "markdown",
   "metadata": {},
   "source": [
    "Before starting, a general function is defined to quickly perform the plotting of density matrices. This takes a complex matrix and plots the real and imaginary parts separately."
   ]
  },
  {
   "cell_type": "code",
   "execution_count": 2,
   "metadata": {},
   "outputs": [],
   "source": [
    "def plot_density_matrix(rho: np.ndarray) -> tuple:\n",
    "    \"\"\"\n",
    "    General function for plotting a density matrix. It will split up and plot\n",
    "    the real and imaginary components using a common colorbar between them.\n",
    "    \"\"\"\n",
    "    # Find plot range\n",
    "    vmin = min(np.real(rho).min(), np.imag(rho).min())\n",
    "    vmax = max(np.real(rho).max(), np.imag(rho).max())\n",
    "\n",
    "    # Create figure\n",
    "    fig, ax = plt.subplots(1, 2, figsize=(12, 5))\n",
    "    ax[0].imshow(np.real(rho), vmin=vmin, vmax=vmax)\n",
    "    ax[0].set_title(\"Re(\\u03c1)\")\n",
    "    im = ax[1].imshow(np.imag(rho), vmin=vmin, vmax=vmax)\n",
    "    ax[1].set_title(\"Im(\\u03c1)\")\n",
    "    fig.colorbar(im, ax=ax.ravel().tolist())\n",
    "\n",
    "    # Set ticks as integer values and create state labels\n",
    "    ticks = range(rho.shape[0])\n",
    "    n_qubits = int(np.log2(len(ticks)))\n",
    "    basis = [\"0\", \"1\"]\n",
    "    labels = list(basis)\n",
    "    for _ in range(n_qubits - 1):\n",
    "        labels = [q1 + q2 for q1 in labels for q2 in basis]\n",
    "    for i in range(2):\n",
    "        ax[i].set_xticks(ticks, labels=labels)\n",
    "        ax[i].set_yticks(ticks, labels=labels)\n",
    "\n",
    "    return (fig, ax)"
   ]
  },
  {
   "cell_type": "markdown",
   "metadata": {},
   "source": [
    "## Single Qubit\n",
    "First, single qubit states are examined, starting with $\\ket{0}$. This is created by using an identity gate circuit and a photonic input state of $\\ket{10}$. The circuit defined below acts as a base circuit to use with the StateTomography, which is then modified as part of the algorithm.\n",
    "\n",
    ".. note::\n",
    "    The input state is defined later on, when we run the experiments on a backend, as this is user-defined for state tomography (but not for process tomography)."
   ]
  },
  {
   "cell_type": "code",
   "execution_count": 3,
   "metadata": {},
   "outputs": [
    {
     "data": {
      "image/svg+xml": [
       "<?xml version=\"1.0\" encoding=\"UTF-8\"?>\n",
       "<svg xmlns=\"http://www.w3.org/2000/svg\" xmlns:xlink=\"http://www.w3.org/1999/xlink\"\n",
       "     width=\"240.0\" height=\"180.0\" viewBox=\"0 0 500.0 375\">\n",
       "<defs>\n",
       "</defs>\n",
       "<rect x=\"0\" y=\"0\" width=\"500.0\" height=\"375\" fill=\"white\" stroke=\"none\" />\n",
       "<rect x=\"100.0\" y=\"25\" width=\"300.0\" height=\"325\" fill=\"none\" stroke=\"black\" />\n",
       "<rect x=\"92.0\" y=\"124.5\" width=\"8\" height=\"1\" fill=\"black\" />\n",
       "<rect x=\"92.0\" y=\"249.5\" width=\"8\" height=\"1\" fill=\"black\" />\n",
       "<text x=\"80.0\" y=\"127\" font-size=\"25\" fill=\"black\" text-anchor=\"end\" dominant-baseline=\"middle\" transform=\"rotate(0, 80.0, 127)\">0</text>\n",
       "<text x=\"80.0\" y=\"252\" font-size=\"25\" fill=\"black\" text-anchor=\"end\" dominant-baseline=\"middle\" transform=\"rotate(0, 80.0, 252)\">1</text>\n",
       "<rect x=\"149.95\" y=\"121.0\" width=\"50.1\" height=\"8\" fill=\"black\" />\n",
       "<rect x=\"149.95\" y=\"246.0\" width=\"50.1\" height=\"8\" fill=\"black\" />\n",
       "<g>\n",
       "<rect x=\"200.0\" y=\"100.0\" width=\"100\" height=\"175\" fill=\"#1a0f36\" stroke=\"black\" rx=\"5\" ry=\"5\" />\n",
       "<text x=\"250.0\" y=\"187.5\" font-size=\"28.0\" fill=\"white\" text-anchor=\"middle\" dominant-baseline=\"middle\" transform=\"rotate(0, 250.0, 187.5)\">I</text>\n",
       "</g>\n",
       "<rect x=\"299.95\" y=\"121.0\" width=\"50.1\" height=\"8\" fill=\"black\" />\n",
       "<rect x=\"299.95\" y=\"246.0\" width=\"50.1\" height=\"8\" fill=\"black\" />\n",
       "</svg>"
      ],
      "text/plain": [
       "<drawsvg.drawing.Drawing at 0x18bf006dcd0>"
      ]
     },
     "metadata": {},
     "output_type": "display_data"
    }
   ],
   "source": [
    "identity_circ = qubit.I()\n",
    "identity_circ.display()"
   ]
  },
  {
   "cell_type": "markdown",
   "metadata": {},
   "source": [
    "Then, we'll create the StateTomography object and use this to generate the required experiments."
   ]
  },
  {
   "cell_type": "code",
   "execution_count": 4,
   "metadata": {},
   "outputs": [],
   "source": [
    "n_qubits = 1\n",
    "\n",
    "tomo = StateTomography(n_qubits, identity_circ)\n",
    "\n",
    "experiments = tomo.get_experiments()"
   ]
  },
  {
   "cell_type": "markdown",
   "metadata": {},
   "source": [
    "The data for the tomography can then be generated using the target backend. A list of the results is created, it is important that this matches the order of the experiments. "
   ]
  },
  {
   "cell_type": "code",
   "execution_count": 5,
   "metadata": {},
   "outputs": [],
   "source": [
    "backend = emulator.Backend(\"slos\")\n",
    "\n",
    "# Generate results and return\n",
    "results = []\n",
    "for circ in experiments.all_circuits:\n",
    "    sampler = lw.Sampler(\n",
    "        circ,\n",
    "        lw.State([1, 0]),\n",
    "        10000,\n",
    "        random_seed=11,\n",
    "    )\n",
    "    results.append(backend.run(sampler))"
   ]
  },
  {
   "cell_type": "markdown",
   "metadata": {},
   "source": [
    "The state tomography can then be ran on the results with the process method and the produced density matrix examined."
   ]
  },
  {
   "cell_type": "code",
   "execution_count": 6,
   "metadata": {},
   "outputs": [],
   "source": [
    "rho = tomo.process(results)"
   ]
  },
  {
   "cell_type": "markdown",
   "metadata": {},
   "source": [
    "From below, the density matrix is approximately\n",
    "\n",
    "$\\begin{equation}\\rho = \\begin{bmatrix} 1 & 0\\\\ 0 & 0 \\end{bmatrix}\\end{equation}$\n",
    "\n",
    "which is as expected using the equation\n",
    "\n",
    "$\\begin{equation}\\rho = \\ket{\\Psi}\\bra{\\Psi} = \\ket{0}\\bra{0} \\end{equation}$"
   ]
  },
  {
   "cell_type": "code",
   "execution_count": 7,
   "metadata": {},
   "outputs": [
    {
     "data": {
      "image/png": "[encoded data removed]",
      "text/plain": [
       "<Figure size 1200x500 with 3 Axes>"
      ]
     },
     "metadata": {},
     "output_type": "display_data"
    }
   ],
   "source": [
    "plot_density_matrix(rho)\n",
    "plt.show()"
   ]
  },
  {
   "cell_type": "markdown",
   "metadata": {},
   "source": [
    "### $\\ket{+}$ tomography\n",
    "Next we can perform tomography of the $\\ket{+}$ state, through creation of this with a hadamard gate. This is the case as the experiment_1q function uses the input $\\ket{0}$."
   ]
  },
  {
   "cell_type": "code",
   "execution_count": 8,
   "metadata": {},
   "outputs": [
    {
     "data": {
      "image/svg+xml": [
       "<?xml version=\"1.0\" encoding=\"UTF-8\"?>\n",
       "<svg xmlns=\"http://www.w3.org/2000/svg\" xmlns:xlink=\"http://www.w3.org/1999/xlink\"\n",
       "     width=\"240.0\" height=\"180.0\" viewBox=\"0 0 500.0 375\">\n",
       "<defs>\n",
       "</defs>\n",
       "<rect x=\"0\" y=\"0\" width=\"500.0\" height=\"375\" fill=\"white\" stroke=\"none\" />\n",
       "<rect x=\"100.0\" y=\"25\" width=\"300.0\" height=\"325\" fill=\"none\" stroke=\"black\" />\n",
       "<rect x=\"92.0\" y=\"124.5\" width=\"8\" height=\"1\" fill=\"black\" />\n",
       "<rect x=\"92.0\" y=\"249.5\" width=\"8\" height=\"1\" fill=\"black\" />\n",
       "<text x=\"80.0\" y=\"127\" font-size=\"25\" fill=\"black\" text-anchor=\"end\" dominant-baseline=\"middle\" transform=\"rotate(0, 80.0, 127)\">0</text>\n",
       "<text x=\"80.0\" y=\"252\" font-size=\"25\" fill=\"black\" text-anchor=\"end\" dominant-baseline=\"middle\" transform=\"rotate(0, 80.0, 252)\">1</text>\n",
       "<rect x=\"149.95\" y=\"121.0\" width=\"50.1\" height=\"8\" fill=\"black\" />\n",
       "<rect x=\"149.95\" y=\"246.0\" width=\"50.1\" height=\"8\" fill=\"black\" />\n",
       "<g>\n",
       "<rect x=\"200.0\" y=\"100.0\" width=\"100\" height=\"175\" fill=\"#1a0f36\" stroke=\"black\" rx=\"5\" ry=\"5\" />\n",
       "<text x=\"250.0\" y=\"187.5\" font-size=\"28.0\" fill=\"white\" text-anchor=\"middle\" dominant-baseline=\"middle\" transform=\"rotate(0, 250.0, 187.5)\">H</text>\n",
       "</g>\n",
       "<rect x=\"299.95\" y=\"121.0\" width=\"50.1\" height=\"8\" fill=\"black\" />\n",
       "<rect x=\"299.95\" y=\"246.0\" width=\"50.1\" height=\"8\" fill=\"black\" />\n",
       "</svg>"
      ],
      "text/plain": [
       "<drawsvg.drawing.Drawing at 0x18bf2343c90>"
      ]
     },
     "metadata": {},
     "output_type": "display_data"
    }
   ],
   "source": [
    "h_circ = qubit.H()\n",
    "h_circ.display()"
   ]
  },
  {
   "cell_type": "markdown",
   "metadata": {},
   "source": [
    "A new set of experiments is first generated with the tomography object."
   ]
  },
  {
   "cell_type": "code",
   "execution_count": 9,
   "metadata": {},
   "outputs": [],
   "source": [
    "n_qubits = 1\n",
    "\n",
    "tomo = StateTomography(n_qubits, h_circ)\n",
    "\n",
    "experiments = tomo.get_experiments()"
   ]
  },
  {
   "cell_type": "markdown",
   "metadata": {},
   "source": [
    "The results are then created for these experiments. In this case, we choose to store the data as a dictionary instead of a list, with the measurement basis as keys. This is useful in cases where for some reason the order of results may not be well preserved."
   ]
  },
  {
   "cell_type": "code",
   "execution_count": 10,
   "metadata": {},
   "outputs": [],
   "source": [
    "backend = emulator.Backend(\"slos\")\n",
    "\n",
    "# Generate results and return\n",
    "results = {}\n",
    "for exp in experiments:\n",
    "    sampler = lw.Sampler(\n",
    "        exp.circuit,\n",
    "        lw.State([1, 0]),\n",
    "        10000,\n",
    "        random_seed=11,\n",
    "    )\n",
    "    results[exp.measurement_basis] = backend.run(sampler)\n",
    "\n",
    "rho = tomo.process(results)"
   ]
  },
  {
   "cell_type": "markdown",
   "metadata": {},
   "source": [
    "Again the density matrix is as expected using:\n",
    "\n",
    "$\\begin{equation}\\rho = \\ket{+}\\bra{+} = \\frac{1}{2} (\\ket{0}\\bra{0} + \\ket{0}\\bra{1} + \\ket{1}\\bra{0} + \\ket{1}\\bra{1}) \\end{equation}$"
   ]
  },
  {
   "cell_type": "code",
   "execution_count": 11,
   "metadata": {},
   "outputs": [
    {
     "data": {
      "image/png": "[encoded data removed]",
      "text/plain": [
       "<Figure size 1200x500 with 3 Axes>"
      ]
     },
     "metadata": {},
     "output_type": "display_data"
    }
   ],
   "source": [
    "plot_density_matrix(rho)\n",
    "plt.show()"
   ]
  },
  {
   "cell_type": "markdown",
   "metadata": {},
   "source": [
    "## Two Qubit\n",
    "StateTomography also supports multi-qubit states. Below, a circuit to create a bell state is defined using a hadamard and CNOT gate. This will produce the output $\\ket{\\Phi^+} = \\frac{1}{\\sqrt{2}}(\\ket{00} + \\ket{11})$."
   ]
  },
  {
   "cell_type": "code",
   "execution_count": 12,
   "metadata": {},
   "outputs": [
    {
     "data": {
      "image/svg+xml": [
       "<?xml version=\"1.0\" encoding=\"UTF-8\"?>\n",
       "<svg xmlns=\"http://www.w3.org/2000/svg\" xmlns:xlink=\"http://www.w3.org/1999/xlink\"\n",
       "     width=\"373.6774193548387\" height=\"362.0\" viewBox=\"0 0 800.0 775\">\n",
       "<defs>\n",
       "</defs>\n",
       "<rect x=\"0\" y=\"0\" width=\"800.0\" height=\"775\" fill=\"white\" stroke=\"none\" />\n",
       "<rect x=\"100.0\" y=\"25\" width=\"600.0\" height=\"725\" fill=\"none\" stroke=\"black\" />\n",
       "<rect x=\"92.0\" y=\"124.5\" width=\"8\" height=\"1\" fill=\"black\" />\n",
       "<rect x=\"92.0\" y=\"199.5\" width=\"8\" height=\"1\" fill=\"black\" />\n",
       "<rect x=\"92.0\" y=\"324.5\" width=\"8\" height=\"1\" fill=\"black\" />\n",
       "<rect x=\"92.0\" y=\"449.5\" width=\"8\" height=\"1\" fill=\"black\" />\n",
       "<rect x=\"92.0\" y=\"574.5\" width=\"8\" height=\"1\" fill=\"black\" />\n",
       "<rect x=\"92.0\" y=\"649.5\" width=\"8\" height=\"1\" fill=\"black\" />\n",
       "<text x=\"80.0\" y=\"127\" font-size=\"25\" fill=\"black\" text-anchor=\"end\" dominant-baseline=\"middle\" transform=\"rotate(0, 80.0, 127)\">-</text>\n",
       "<text x=\"80.0\" y=\"202\" font-size=\"25\" fill=\"black\" text-anchor=\"end\" dominant-baseline=\"middle\" transform=\"rotate(0, 80.0, 202)\">0</text>\n",
       "<text x=\"80.0\" y=\"327\" font-size=\"25\" fill=\"black\" text-anchor=\"end\" dominant-baseline=\"middle\" transform=\"rotate(0, 80.0, 327)\">1</text>\n",
       "<text x=\"80.0\" y=\"452\" font-size=\"25\" fill=\"black\" text-anchor=\"end\" dominant-baseline=\"middle\" transform=\"rotate(0, 80.0, 452)\">2</text>\n",
       "<text x=\"80.0\" y=\"577\" font-size=\"25\" fill=\"black\" text-anchor=\"end\" dominant-baseline=\"middle\" transform=\"rotate(0, 80.0, 577)\">3</text>\n",
       "<text x=\"80.0\" y=\"652\" font-size=\"25\" fill=\"black\" text-anchor=\"end\" dominant-baseline=\"middle\" transform=\"rotate(0, 80.0, 652)\">-</text>\n",
       "<rect x=\"149.95\" y=\"196.0\" width=\"50.1\" height=\"8\" fill=\"black\" />\n",
       "<rect x=\"149.95\" y=\"321.0\" width=\"50.1\" height=\"8\" fill=\"black\" />\n",
       "<g>\n",
       "<rect x=\"200.0\" y=\"175.0\" width=\"100\" height=\"175\" fill=\"#1a0f36\" stroke=\"black\" rx=\"5\" ry=\"5\" />\n",
       "<text x=\"250.0\" y=\"262.5\" font-size=\"35.0\" fill=\"white\" text-anchor=\"middle\" dominant-baseline=\"middle\" transform=\"rotate(0, 250.0, 262.5)\">H</text>\n",
       "</g>\n",
       "<rect x=\"299.95\" y=\"196.0\" width=\"50.1\" height=\"8\" fill=\"black\" />\n",
       "<rect x=\"299.95\" y=\"321.0\" width=\"50.1\" height=\"8\" fill=\"black\" />\n",
       "<rect x=\"149.95\" y=\"446.0\" width=\"200.1\" height=\"8\" fill=\"black\" />\n",
       "<rect x=\"149.95\" y=\"571.0\" width=\"200.1\" height=\"8\" fill=\"black\" />\n",
       "<rect x=\"399.95\" y=\"121.0\" width=\"50.1\" height=\"8\" fill=\"black\" />\n",
       "<rect x=\"349.95\" y=\"196.0\" width=\"100.1\" height=\"8\" fill=\"black\" />\n",
       "<rect x=\"349.95\" y=\"321.0\" width=\"100.1\" height=\"8\" fill=\"black\" />\n",
       "<rect x=\"349.95\" y=\"446.0\" width=\"100.1\" height=\"8\" fill=\"black\" />\n",
       "<rect x=\"349.95\" y=\"571.0\" width=\"100.1\" height=\"8\" fill=\"black\" />\n",
       "<rect x=\"399.95\" y=\"646.0\" width=\"50.1\" height=\"8\" fill=\"black\" />\n",
       "<g>\n",
       "<rect x=\"450.0\" y=\"100.0\" width=\"100\" height=\"575\" fill=\"#1a0f36\" stroke=\"black\" rx=\"5\" ry=\"5\" />\n",
       "<text x=\"500.0\" y=\"387.5\" font-size=\"25\" fill=\"white\" text-anchor=\"middle\" dominant-baseline=\"middle\" transform=\"rotate(270, 500.0, 387.5)\">CNOT (0, 1)</text>\n",
       "</g>\n",
       "<rect x=\"549.95\" y=\"121.0\" width=\"50.1\" height=\"8\" fill=\"black\" />\n",
       "<rect x=\"549.95\" y=\"196.0\" width=\"100.1\" height=\"8\" fill=\"black\" />\n",
       "<rect x=\"549.95\" y=\"321.0\" width=\"100.1\" height=\"8\" fill=\"black\" />\n",
       "<rect x=\"549.95\" y=\"446.0\" width=\"100.1\" height=\"8\" fill=\"black\" />\n",
       "<rect x=\"549.95\" y=\"571.0\" width=\"100.1\" height=\"8\" fill=\"black\" />\n",
       "<rect x=\"549.95\" y=\"646.0\" width=\"50.1\" height=\"8\" fill=\"black\" />\n",
       "<g>\n",
       "<circle cx=\"400.0\" cy=\"125\" r=\"25\" fill=\"#3e368d\" stroke=\"black\" />\n",
       "<text x=\"400.0\" y=\"127.5\" font-size=\"30\" fill=\"white\" text-anchor=\"middle\" dominant-baseline=\"middle\" transform=\"rotate(0, 400.0, 127.5)\">0</text>\n",
       "</g>\n",
       "<g>\n",
       "<circle cx=\"400.0\" cy=\"650\" r=\"25\" fill=\"#3e368d\" stroke=\"black\" />\n",
       "<text x=\"400.0\" y=\"652.5\" font-size=\"30\" fill=\"white\" text-anchor=\"middle\" dominant-baseline=\"middle\" transform=\"rotate(0, 400.0, 652.5)\">0</text>\n",
       "</g>\n",
       "<g>\n",
       "<circle cx=\"600.0\" cy=\"125\" r=\"25\" fill=\"#3e368d\" stroke=\"black\" />\n",
       "<text x=\"600.0\" y=\"127.5\" font-size=\"30\" fill=\"white\" text-anchor=\"middle\" dominant-baseline=\"middle\" transform=\"rotate(0, 600.0, 127.5)\">0</text>\n",
       "</g>\n",
       "<g>\n",
       "<circle cx=\"600.0\" cy=\"650\" r=\"25\" fill=\"#3e368d\" stroke=\"black\" />\n",
       "<text x=\"600.0\" y=\"652.5\" font-size=\"30\" fill=\"white\" text-anchor=\"middle\" dominant-baseline=\"middle\" transform=\"rotate(0, 600.0, 652.5)\">0</text>\n",
       "</g>\n",
       "</svg>"
      ],
      "text/plain": [
       "<drawsvg.drawing.Drawing at 0x18bf37e86d0>"
      ]
     },
     "metadata": {},
     "output_type": "display_data"
    }
   ],
   "source": [
    "n_qubits = 2\n",
    "\n",
    "bell_circuit = lw.PhotonicCircuit(2 * n_qubits)\n",
    "bell_circuit.add(qubit.H())\n",
    "bell_circuit.add(qubit.CNOT())\n",
    "\n",
    "bell_circuit.display()"
   ]
  },
  {
   "cell_type": "markdown",
   "metadata": {},
   "source": [
    "When running multiple tomography experiments, it may be useful to have a function which contains the majority of the logic for creating the data. An example of this is shown below, where we parametrize the number of qubits, source & target backend for flexibility. "
   ]
  },
  {
   "cell_type": "code",
   "execution_count": 13,
   "metadata": {},
   "outputs": [],
   "source": [
    "def run_experiments(experiments, n_qubits, source, backend) -> list:\n",
    "    \"\"\"\n",
    "    Generalised version of experiment function, designed for any\n",
    "    number of qubits. It is assumes the provided circuits contain dual-rail\n",
    "    encoded qubits across pairs of adjacent modes.\n",
    "    \"\"\"\n",
    "    # Post-select on 1 photon across each pair of qubit modes\n",
    "    post_select = lw.PostSelection()\n",
    "    for i in range(n_qubits):\n",
    "        post_select.add((2 * i, 2 * i + 1), 1)\n",
    "\n",
    "    # Generate results and return\n",
    "    results = []\n",
    "    for circ in experiments.all_circuits:\n",
    "        sampler = lw.Sampler(\n",
    "            circ,\n",
    "            lw.State([1, 0] * n_qubits),\n",
    "            1000,\n",
    "            source=source,\n",
    "            post_selection=post_select,\n",
    "            random_seed=21,\n",
    "        )\n",
    "        results.append(backend.run(sampler))\n",
    "    return results"
   ]
  },
  {
   "cell_type": "markdown",
   "metadata": {},
   "source": [
    "As before, the experiments are then generated for this particular circuit."
   ]
  },
  {
   "cell_type": "code",
   "execution_count": 14,
   "metadata": {},
   "outputs": [],
   "source": [
    "tomo = StateTomography(n_qubits, bell_circuit)\n",
    "experiments = tomo.get_experiments()"
   ]
  },
  {
   "cell_type": "markdown",
   "metadata": {},
   "source": [
    "For this tomography, we'll create an ideal source and choose the emulator 'slos' backend."
   ]
  },
  {
   "cell_type": "code",
   "execution_count": 15,
   "metadata": {},
   "outputs": [],
   "source": [
    "source = emulator.Source()\n",
    "backend = emulator.Backend(\"slos\")"
   ]
  },
  {
   "cell_type": "markdown",
   "metadata": {},
   "source": [
    "This data is then passed to the run experiments function and the density matrix calculated with the results."
   ]
  },
  {
   "cell_type": "code",
   "execution_count": 16,
   "metadata": {},
   "outputs": [],
   "source": [
    "results = run_experiments(experiments, n_qubits, source, backend)\n",
    "rho = tomo.process(results)"
   ]
  },
  {
   "cell_type": "markdown",
   "metadata": {},
   "source": [
    "Again, this density matrix matches that which would be expected with $\\rho = \\ket{\\Phi^+}\\bra{\\Phi^+}$."
   ]
  },
  {
   "cell_type": "code",
   "execution_count": 17,
   "metadata": {},
   "outputs": [
    {
     "data": {
      "image/png": "[encoded data removed]",
      "text/plain": [
       "<Figure size 1200x500 with 3 Axes>"
      ]
     },
     "metadata": {},
     "output_type": "display_data"
    }
   ],
   "source": [
    "plot_density_matrix(rho)\n",
    "plt.show()"
   ]
  },
  {
   "cell_type": "markdown",
   "metadata": {},
   "source": [
    "After calculation, it is also possible to calculate the fidelity with respect to the expected matrix using the fidelity method. The tomography module contains a density_from_state function which enables the density matrix to be calculated from the expected state.\n",
    "\n",
    "No imperfections were included within the system, so as expected the fidelity is 100%."
   ]
  },
  {
   "cell_type": "code",
   "execution_count": 18,
   "metadata": {},
   "outputs": [
    {
     "name": "stdout",
     "output_type": "stream",
     "text": [
      "Fidelity = 100.00 %\n"
     ]
    }
   ],
   "source": [
    "rho_exp = density_from_state([2**-0.5, 0, 0, 2**-0.5])\n",
    "\n",
    "print(f\"Fidelity = {tomo.fidelity(rho_exp) * 100:.2f} %\")"
   ]
  },
  {
   "cell_type": "markdown",
   "metadata": {},
   "source": [
    "### Imperfect SPS\n",
    "It is also possible to include the error sources from the emulator to view how these change fidelity. Below, the single photon source is modified to have indistinguishability of 95% and purity of 99%."
   ]
  },
  {
   "cell_type": "code",
   "execution_count": 19,
   "metadata": {},
   "outputs": [],
   "source": [
    "source.indistinguishability = 0.9\n",
    "source.purity = 0.9"
   ]
  },
  {
   "cell_type": "markdown",
   "metadata": {},
   "source": [
    "When re-running the state tomography, it can be seen how the denisty matrix begins to vary from ideal and the fidelity drops to ~93%."
   ]
  },
  {
   "cell_type": "code",
   "execution_count": 20,
   "metadata": {},
   "outputs": [
    {
     "name": "stdout",
     "output_type": "stream",
     "text": [
      "Fidelity = 85.75 %\n"
     ]
    },
    {
     "data": {
      "image/png": "[encoded data removed]",
      "text/plain": [
       "<Figure size 1200x500 with 3 Axes>"
      ]
     },
     "metadata": {},
     "output_type": "display_data"
    }
   ],
   "source": [
    "results = run_experiments(experiments, n_qubits, source, backend)\n",
    "rho = tomo.process(results)\n",
    "\n",
    "print(f\"Fidelity = {tomo.fidelity(rho_exp) * 100:.2f} %\")\n",
    "\n",
    "plot_density_matrix(rho)\n",
    "plt.show()"
   ]
  },
  {
   "cell_type": "markdown",
   "metadata": {},
   "source": [
    "## Projection to a physical process\n",
    "For a calculated density matrix to be physical, it should have the following properties:\n",
    "1. It is Hermitian.\n",
    "2. $\\text{Tr}(\\rho)$ = 1.\n",
    "3. All eigenvalues are non-negative.\n",
    "\n",
    "However, it is possible for tomography methods to produce unphysical matrices, particularly in the presence of noise or low shot numbers. Above, we have intentionally introduced low source performance and used a low number of samples, and when we then view the eigenvalues of the calculated density matrix with `check_eigenvalues` it can be seen that the first one is negative."
   ]
  },
  {
   "cell_type": "code",
   "execution_count": 21,
   "metadata": {},
   "outputs": [
    {
     "data": {
      "text/plain": [
       "array([-0.02672052,  0.00636689,  0.16176132,  0.85859231])"
      ]
     },
     "execution_count": 21,
     "metadata": {},
     "output_type": "execute_result"
    }
   ],
   "source": [
    "tomo.check_eigenvalues()"
   ]
  },
  {
   "cell_type": "markdown",
   "metadata": {},
   "source": [
    "To correct this, the `project_to_physical` option is added when calculating the density matrix, which will add an additional post-processing step to ensure the matrix is physical.\n",
    "\n",
    ".. note::\n",
    "    There are many different options to project a density matrix to be physical and Lightworks implements just one of these, in particular <cite data-cite=\"smolin2012\">(smolin2012)</cite> is chosen. For certain applications you may find more success with other alternatives."
   ]
  },
  {
   "cell_type": "code",
   "execution_count": 22,
   "metadata": {},
   "outputs": [],
   "source": [
    "rho = tomo.process(results, project_to_physical=True)"
   ]
  },
  {
   "cell_type": "markdown",
   "metadata": {},
   "source": [
    "If we then re-calculate the eigenvalues it can be seen that while once is still technically negative, it is essentially zero, and as such the projection procedure has been successful."
   ]
  },
  {
   "cell_type": "code",
   "execution_count": 23,
   "metadata": {},
   "outputs": [
    {
     "data": {
      "text/plain": [
       "array([-2.83385910e-16,  1.04709392e-16,  1.51584505e-01,  8.48415495e-01])"
      ]
     },
     "execution_count": 23,
     "metadata": {},
     "output_type": "execute_result"
    }
   ],
   "source": [
    "tomo.check_eigenvalues()"
   ]
  },
  {
   "cell_type": "markdown",
   "metadata": {},
   "source": [
    "The fidelity and updated density matrix can then be viewed. In this case a small drop in the fidelity compared to the expected matrix is seen."
   ]
  },
  {
   "cell_type": "code",
   "execution_count": 24,
   "metadata": {},
   "outputs": [
    {
     "name": "stdout",
     "output_type": "stream",
     "text": [
      "Fidelity = 84.73 %\n"
     ]
    },
    {
     "data": {
      "image/png": "[encoded data removed]",
      "text/plain": [
       "<Figure size 1200x500 with 3 Axes>"
      ]
     },
     "metadata": {},
     "output_type": "display_data"
    }
   ],
   "source": [
    "print(f\"Fidelity = {tomo.fidelity(rho_exp) * 100:.2f} %\")\n",
    "\n",
    "plot_density_matrix(rho)\n",
    "plt.show()"
   ]
  }
 ],
 "metadata": {
  "kernelspec": {
   "display_name": "venv",
   "language": "python",
   "name": "python3"
  },
  "language_info": {
   "codemirror_mode": {
    "name": "ipython",
    "version": 3
   },
   "file_extension": ".py",
   "mimetype": "text/x-python",
   "name": "python",
   "nbconvert_exporter": "python",
   "pygments_lexer": "ipython3",
   "version": "3.11.6"
  }
 },
 "nbformat": 4,
 "nbformat_minor": 2
}
