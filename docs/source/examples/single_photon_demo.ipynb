{
 "cells": [
  {
   "attachments": {},
   "cell_type": "markdown",
   "metadata": {},
   "source": [
    "# Single-photon Simulation\n",
    "- The following notebook demonstrates the use of the emulator to simulate the propagation of a single photon in a quantum photonic processor.\n",
    "- This can be used to find the unitary implemented by a system.\n",
    "- First import required modules and some additional tools."
   ]
  },
  {
   "cell_type": "code",
   "execution_count": 1,
   "metadata": {},
   "outputs": [],
   "source": [
    "import lightworks as lw\n",
    "from lightworks import emulator, State\n",
    "\n",
    "from scipy.stats import unitary_group\n",
    "import matplotlib.pyplot as plt\n",
    "from collections import Counter"
   ]
  },
  {
   "attachments": {},
   "cell_type": "markdown",
   "metadata": {},
   "source": [
    "- A general N is then defined, which is used to adjust the number of modes used for the circuit throughout the notebook."
   ]
  },
  {
   "cell_type": "code",
   "execution_count": 2,
   "metadata": {},
   "outputs": [],
   "source": [
    "N = 8"
   ]
  },
  {
   "attachments": {},
   "cell_type": "markdown",
   "metadata": {},
   "source": [
    "- Can then create a random unitary matrix which is programmed onto the chip."
   ]
  },
  {
   "cell_type": "code",
   "execution_count": 3,
   "metadata": {},
   "outputs": [],
   "source": [
    "U = lw.random_unitary(N)\n",
    "\n",
    "circuit = lw.Unitary(U)"
   ]
  },
  {
   "attachments": {},
   "cell_type": "markdown",
   "metadata": {},
   "source": [
    "## Simulator\n",
    "- First we try using the simulation part of the emulator. This allows the simulation of a number of input states, finding the probability amplitudes for the given outputs.\n",
    "- To set this up, we specify the generated circuit to the simulator class. "
   ]
  },
  {
   "cell_type": "code",
   "execution_count": 4,
   "metadata": {},
   "outputs": [],
   "source": [
    "sim = emulator.Simulator(circuit)"
   ]
  },
  {
   "attachments": {},
   "cell_type": "markdown",
   "metadata": {},
   "source": [
    "- In this case we will choose to try to recreate the unitary matrix, which can be done by creating a list of all single photon input and output states."
   ]
  },
  {
   "cell_type": "code",
   "execution_count": 5,
   "metadata": {},
   "outputs": [],
   "source": [
    "states = []\n",
    "\n",
    "# Create all single photon states by adding 1 to list when i=j, otherwise add 0\n",
    "for i in range(N):\n",
    "    state = []\n",
    "    for j in range(N):\n",
    "        if i == j:\n",
    "            state += [1]\n",
    "        else:\n",
    "            state += [0]\n",
    "    states.append(State(state))\n",
    "\n",
    "# Calculate probability amplitude\n",
    "results = sim.simulate(states, states)\n",
    "U_calc = results.array"
   ]
  },
  {
   "attachments": {},
   "cell_type": "markdown",
   "metadata": {},
   "source": [
    "- The resultant matrix probability amplitude matrix can be visualized below, and we see that the unitary is correctly replicated.\n",
    "- Note that the unitary needs to be transposed for the plotting below to show identical matrices."
   ]
  },
  {
   "cell_type": "code",
   "execution_count": 6,
   "metadata": {},
   "outputs": [
    {
     "data": {
      "image/png": "[encoded data removed]",
      "text/plain": [
       "<Figure size 1200x600 with 2 Axes>"
      ]
     },
     "metadata": {},
     "output_type": "display_data"
    }
   ],
   "source": [
    "fig, ax = plt.subplots(1, 2, figsize = (12, 6))\n",
    "\n",
    "ax[0].imshow(abs(U.T))\n",
    "ax[1].imshow(abs(U_calc))\n",
    "ax[0].set_title(\"U\")\n",
    "ax[1].set_title(\"Calculated U\")\n",
    "\n",
    "plt.show()"
   ]
  },
  {
   "attachments": {},
   "cell_type": "markdown",
   "metadata": {},
   "source": [
    "- It is also possible to directly view the probability amplitudes in a nicer form using the display_as_dataframe function included with the results object. \n",
    "- In this case the values are converted to probabilities with the conv_to_probability keyword."
   ]
  },
  {
   "cell_type": "code",
   "execution_count": 7,
   "metadata": {},
   "outputs": [
    {
     "data": {
      "text/html": [
       "<div>\n",
       "<style scoped>\n",
       "    .dataframe tbody tr th:only-of-type {\n",
       "        vertical-align: middle;\n",
       "    }\n",
       "\n",
       "    .dataframe tbody tr th {\n",
       "        vertical-align: top;\n",
       "    }\n",
       "\n",
       "    .dataframe thead th {\n",
       "        text-align: right;\n",
       "    }\n",
       "</style>\n",
       "<table border=\"1\" class=\"dataframe\">\n",
       "  <thead>\n",
       "    <tr style=\"text-align: right;\">\n",
       "      <th></th>\n",
       "      <th>|1,0,0,0,0,0,0,0&gt;</th>\n",
       "      <th>|0,1,0,0,0,0,0,0&gt;</th>\n",
       "      <th>|0,0,1,0,0,0,0,0&gt;</th>\n",
       "      <th>|0,0,0,1,0,0,0,0&gt;</th>\n",
       "      <th>|0,0,0,0,1,0,0,0&gt;</th>\n",
       "      <th>|0,0,0,0,0,1,0,0&gt;</th>\n",
       "      <th>|0,0,0,0,0,0,1,0&gt;</th>\n",
       "      <th>|0,0,0,0,0,0,0,1&gt;</th>\n",
       "    </tr>\n",
       "  </thead>\n",
       "  <tbody>\n",
       "    <tr>\n",
       "      <th>|1,0,0,0,0,0,0,0&gt;</th>\n",
       "      <td>0.007163</td>\n",
       "      <td>0.149016</td>\n",
       "      <td>0.003434</td>\n",
       "      <td>0.054392</td>\n",
       "      <td>0.296432</td>\n",
       "      <td>0.199166</td>\n",
       "      <td>0.114965</td>\n",
       "      <td>0.175432</td>\n",
       "    </tr>\n",
       "    <tr>\n",
       "      <th>|0,1,0,0,0,0,0,0&gt;</th>\n",
       "      <td>0.080720</td>\n",
       "      <td>0.236196</td>\n",
       "      <td>0.219294</td>\n",
       "      <td>0.222318</td>\n",
       "      <td>0.024637</td>\n",
       "      <td>0.025542</td>\n",
       "      <td>0.019866</td>\n",
       "      <td>0.171426</td>\n",
       "    </tr>\n",
       "    <tr>\n",
       "      <th>|0,0,1,0,0,0,0,0&gt;</th>\n",
       "      <td>0.174588</td>\n",
       "      <td>0.216304</td>\n",
       "      <td>0.246639</td>\n",
       "      <td>0.013733</td>\n",
       "      <td>0.208121</td>\n",
       "      <td>0.057472</td>\n",
       "      <td>0.000698</td>\n",
       "      <td>0.082446</td>\n",
       "    </tr>\n",
       "    <tr>\n",
       "      <th>|0,0,0,1,0,0,0,0&gt;</th>\n",
       "      <td>0.164592</td>\n",
       "      <td>0.183281</td>\n",
       "      <td>0.063770</td>\n",
       "      <td>0.248064</td>\n",
       "      <td>0.205632</td>\n",
       "      <td>0.004504</td>\n",
       "      <td>0.005918</td>\n",
       "      <td>0.124238</td>\n",
       "    </tr>\n",
       "    <tr>\n",
       "      <th>|0,0,0,0,1,0,0,0&gt;</th>\n",
       "      <td>0.283656</td>\n",
       "      <td>0.044348</td>\n",
       "      <td>0.361005</td>\n",
       "      <td>0.180278</td>\n",
       "      <td>0.072396</td>\n",
       "      <td>0.007359</td>\n",
       "      <td>0.016519</td>\n",
       "      <td>0.034438</td>\n",
       "    </tr>\n",
       "    <tr>\n",
       "      <th>|0,0,0,0,0,1,0,0&gt;</th>\n",
       "      <td>0.076580</td>\n",
       "      <td>0.011676</td>\n",
       "      <td>0.006031</td>\n",
       "      <td>0.070231</td>\n",
       "      <td>0.103234</td>\n",
       "      <td>0.187141</td>\n",
       "      <td>0.447557</td>\n",
       "      <td>0.097551</td>\n",
       "    </tr>\n",
       "    <tr>\n",
       "      <th>|0,0,0,0,0,0,1,0&gt;</th>\n",
       "      <td>0.115712</td>\n",
       "      <td>0.096055</td>\n",
       "      <td>0.073553</td>\n",
       "      <td>0.183041</td>\n",
       "      <td>0.047434</td>\n",
       "      <td>0.137020</td>\n",
       "      <td>0.115854</td>\n",
       "      <td>0.231331</td>\n",
       "    </tr>\n",
       "    <tr>\n",
       "      <th>|0,0,0,0,0,0,0,1&gt;</th>\n",
       "      <td>0.096989</td>\n",
       "      <td>0.063124</td>\n",
       "      <td>0.026273</td>\n",
       "      <td>0.027944</td>\n",
       "      <td>0.042114</td>\n",
       "      <td>0.381796</td>\n",
       "      <td>0.278622</td>\n",
       "      <td>0.083138</td>\n",
       "    </tr>\n",
       "  </tbody>\n",
       "</table>\n",
       "</div>"
      ],
      "text/plain": [
       "                   |1,0,0,0,0,0,0,0>  |0,1,0,0,0,0,0,0>  |0,0,1,0,0,0,0,0>  \\\n",
       "|1,0,0,0,0,0,0,0>           0.007163           0.149016           0.003434   \n",
       "|0,1,0,0,0,0,0,0>           0.080720           0.236196           0.219294   \n",
       "|0,0,1,0,0,0,0,0>           0.174588           0.216304           0.246639   \n",
       "|0,0,0,1,0,0,0,0>           0.164592           0.183281           0.063770   \n",
       "|0,0,0,0,1,0,0,0>           0.283656           0.044348           0.361005   \n",
       "|0,0,0,0,0,1,0,0>           0.076580           0.011676           0.006031   \n",
       "|0,0,0,0,0,0,1,0>           0.115712           0.096055           0.073553   \n",
       "|0,0,0,0,0,0,0,1>           0.096989           0.063124           0.026273   \n",
       "\n",
       "                   |0,0,0,1,0,0,0,0>  |0,0,0,0,1,0,0,0>  |0,0,0,0,0,1,0,0>  \\\n",
       "|1,0,0,0,0,0,0,0>           0.054392           0.296432           0.199166   \n",
       "|0,1,0,0,0,0,0,0>           0.222318           0.024637           0.025542   \n",
       "|0,0,1,0,0,0,0,0>           0.013733           0.208121           0.057472   \n",
       "|0,0,0,1,0,0,0,0>           0.248064           0.205632           0.004504   \n",
       "|0,0,0,0,1,0,0,0>           0.180278           0.072396           0.007359   \n",
       "|0,0,0,0,0,1,0,0>           0.070231           0.103234           0.187141   \n",
       "|0,0,0,0,0,0,1,0>           0.183041           0.047434           0.137020   \n",
       "|0,0,0,0,0,0,0,1>           0.027944           0.042114           0.381796   \n",
       "\n",
       "                   |0,0,0,0,0,0,1,0>  |0,0,0,0,0,0,0,1>  \n",
       "|1,0,0,0,0,0,0,0>           0.114965           0.175432  \n",
       "|0,1,0,0,0,0,0,0>           0.019866           0.171426  \n",
       "|0,0,1,0,0,0,0,0>           0.000698           0.082446  \n",
       "|0,0,0,1,0,0,0,0>           0.005918           0.124238  \n",
       "|0,0,0,0,1,0,0,0>           0.016519           0.034438  \n",
       "|0,0,0,0,0,1,0,0>           0.447557           0.097551  \n",
       "|0,0,0,0,0,0,1,0>           0.115854           0.231331  \n",
       "|0,0,0,0,0,0,0,1>           0.278622           0.083138  "
      ]
     },
     "execution_count": 7,
     "metadata": {},
     "output_type": "execute_result"
    }
   ],
   "source": [
    "results.display_as_dataframe(conv_to_probability = True)"
   ]
  },
  {
   "attachments": {},
   "cell_type": "markdown",
   "metadata": {},
   "source": [
    "## Sampler\n",
    "- The other way to use the emulator is as a sampler.\n",
    "- This is achieved using the Sampler class, to which we provide the generated circuit and single input state that we want to look at. In this case we input a single photon on mode 0."
   ]
  },
  {
   "cell_type": "code",
   "execution_count": 8,
   "metadata": {},
   "outputs": [],
   "source": [
    "sampler = emulator.Sampler(circuit, State([1]+[0]*(N-1)))"
   ]
  },
  {
   "attachments": {},
   "cell_type": "markdown",
   "metadata": {},
   "source": [
    "- Once the sampler has been set up, we can then sample from it many times.\n",
    "- The probability distribution was pre-calculated in the last step, so the sampling procedure takes place very quickly.\n",
    "- We get the output state from the sample, and convert this into a mode number which is stored."
   ]
  },
  {
   "cell_type": "code",
   "execution_count": 9,
   "metadata": {},
   "outputs": [],
   "source": [
    "N_rep = 100 # Set number of samples\n",
    "results = []\n",
    "\n",
    "for i in range(N_rep):\n",
    "    state = sampler.sample()\n",
    "    # Get state from sampler and find which more the photon is on\n",
    "    loc = state.s.index(1)\n",
    "    results.append(loc)\n",
    "\n",
    "# Count number of times we measure a photon on each mode\n",
    "counted = Counter(results)"
   ]
  },
  {
   "attachments": {},
   "cell_type": "markdown",
   "metadata": {},
   "source": [
    "- The counts can then be converted into probabilities and compared to the expected values from the unitary.\n",
    "- As we only choose to look at 100 samples here, the measured and expected distributions tend to vary as not enough samples have been taken to see convergence."
   ]
  },
  {
   "cell_type": "code",
   "execution_count": 10,
   "metadata": {},
   "outputs": [
    {
     "data": {
      "image/png": "[encoded data removed]",
      "text/plain": [
       "<Figure size 700x600 with 1 Axes>"
      ]
     },
     "metadata": {},
     "output_type": "display_data"
    }
   ],
   "source": [
    "x = range(N)\n",
    "\n",
    "# Convert counts to a list and normalise to total count numbers\n",
    "p_calc = []\n",
    "for i in x:\n",
    "    p_calc.append(counted[i]/sum(counted.values()))\n",
    "\n",
    "# Find expected distribution\n",
    "p_exp = abs(U.T[0,:])**2\n",
    "\n",
    "plt.figure(figsize = (7,6))\n",
    "plt.bar(x, p_calc, label = \"Measured\", alpha = 1)\n",
    "plt.bar(x, p_exp, label = \"Expected\", edgecolor = \"Black\", fill = False,\n",
    "        linestyle = \"dashed\", linewidth = 1.5)\n",
    "plt.xlabel(\"Output mode\")\n",
    "plt.ylabel(\"Counts\")\n",
    "plt.legend()\n",
    "plt.show()"
   ]
  }
 ],
 "metadata": {
  "kernelspec": {
   "display_name": "Python 3",
   "language": "python",
   "name": "python3"
  },
  "language_info": {
   "codemirror_mode": {
    "name": "ipython",
    "version": 3
   },
   "file_extension": ".py",
   "mimetype": "text/x-python",
   "name": "python",
   "nbconvert_exporter": "python",
   "pygments_lexer": "ipython3",
   "version": "3.11.6"
  },
  "orig_nbformat": 4
 },
 "nbformat": 4,
 "nbformat_minor": 2
}
