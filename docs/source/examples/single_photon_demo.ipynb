{
 "cells": [
  {
   "attachments": {},
   "cell_type": "markdown",
   "metadata": {},
   "source": [
    "# Single-photon Simulation\n",
    "- The following notebook demonstrates the use of the emulator to simulate the propagation of a single photon in a quantum photonic processor.\n",
    "- This can be used to find the unitary implemented by a system.\n",
    "- First import required modules and some additional tools."
   ]
  },
  {
   "cell_type": "code",
   "execution_count": 11,
   "metadata": {},
   "outputs": [],
   "source": [
    "import lightworks as lw\n",
    "from lightworks import emulator, State\n",
    "\n",
    "from scipy.stats import unitary_group\n",
    "import matplotlib.pyplot as plt\n",
    "from collections import Counter"
   ]
  },
  {
   "attachments": {},
   "cell_type": "markdown",
   "metadata": {},
   "source": [
    "- A general N is then defined, which is used to adjust the number of modes used for the circuit throughout the notebook."
   ]
  },
  {
   "cell_type": "code",
   "execution_count": 12,
   "metadata": {},
   "outputs": [],
   "source": [
    "N = 8"
   ]
  },
  {
   "attachments": {},
   "cell_type": "markdown",
   "metadata": {},
   "source": [
    "- Can then create a random unitary matrix which is programmed onto the chip."
   ]
  },
  {
   "cell_type": "code",
   "execution_count": 13,
   "metadata": {},
   "outputs": [],
   "source": [
    "U = lw.random_unitary(N)\n",
    "\n",
    "circuit = lw.Unitary(U)"
   ]
  },
  {
   "attachments": {},
   "cell_type": "markdown",
   "metadata": {},
   "source": [
    "## Simulator\n",
    "- First we try using the simulation part of the emulator. This allows the simulation of a number of input states, finding the probability amplitudes for the given outputs.\n",
    "- To set this up, we specify the generated circuit to the simulator class. "
   ]
  },
  {
   "cell_type": "code",
   "execution_count": 14,
   "metadata": {},
   "outputs": [],
   "source": [
    "sim = emulator.Simulator(circuit)"
   ]
  },
  {
   "attachments": {},
   "cell_type": "markdown",
   "metadata": {},
   "source": [
    "- In this case we will choose to try to recreate the unitary matrix, which can be done by creating a list of all single photon input and output states."
   ]
  },
  {
   "cell_type": "code",
   "execution_count": 15,
   "metadata": {},
   "outputs": [],
   "source": [
    "states = []\n",
    "\n",
    "# Create all single photon states by adding 1 to list when i=j, otherwise add 0\n",
    "for i in range(N):\n",
    "    state = []\n",
    "    for j in range(N):\n",
    "        if i == j:\n",
    "            state += [1]\n",
    "        else:\n",
    "            state += [0]\n",
    "    states.append(State(state))\n",
    "\n",
    "# Calculate probability amplitude\n",
    "results = sim.simulate(states, states)\n",
    "U_calc = results.array"
   ]
  },
  {
   "attachments": {},
   "cell_type": "markdown",
   "metadata": {},
   "source": [
    "- The resultant matrix probability amplitude matrix can be visualized below, and we see that the unitary is correctly replicated.\n",
    "- Note that the unitary needs to be transposed for the plotting below to show identical matrices."
   ]
  },
  {
   "cell_type": "code",
   "execution_count": 16,
   "metadata": {},
   "outputs": [
    {
     "data": {
      "image/png": "[encoded data removed]",
      "text/plain": [
       "<Figure size 1200x600 with 2 Axes>"
      ]
     },
     "metadata": {},
     "output_type": "display_data"
    }
   ],
   "source": [
    "fig, ax = plt.subplots(1, 2, figsize = (12, 6))\n",
    "\n",
    "ax[0].imshow(abs(U.T))\n",
    "ax[1].imshow(abs(U_calc))\n",
    "ax[0].set_title(\"U\")\n",
    "ax[1].set_title(\"Calculated U\")\n",
    "\n",
    "plt.show()"
   ]
  },
  {
   "attachments": {},
   "cell_type": "markdown",
   "metadata": {},
   "source": [
    "- It is also possible to directly view the probability amplitudes in a nicer form using the display_as_dataframe function included with the results object. \n",
    "- In this case the values are converted to probabilities with the conv_to_probability keyword."
   ]
  },
  {
   "cell_type": "code",
   "execution_count": 17,
   "metadata": {},
   "outputs": [
    {
     "data": {
      "text/html": [
       "<div>\n",
       "<style scoped>\n",
       "    .dataframe tbody tr th:only-of-type {\n",
       "        vertical-align: middle;\n",
       "    }\n",
       "\n",
       "    .dataframe tbody tr th {\n",
       "        vertical-align: top;\n",
       "    }\n",
       "\n",
       "    .dataframe thead th {\n",
       "        text-align: right;\n",
       "    }\n",
       "</style>\n",
       "<table border=\"1\" class=\"dataframe\">\n",
       "  <thead>\n",
       "    <tr style=\"text-align: right;\">\n",
       "      <th></th>\n",
       "      <th>|1,0,0,0,0,0,0,0&gt;</th>\n",
       "      <th>|0,1,0,0,0,0,0,0&gt;</th>\n",
       "      <th>|0,0,1,0,0,0,0,0&gt;</th>\n",
       "      <th>|0,0,0,1,0,0,0,0&gt;</th>\n",
       "      <th>|0,0,0,0,1,0,0,0&gt;</th>\n",
       "      <th>|0,0,0,0,0,1,0,0&gt;</th>\n",
       "      <th>|0,0,0,0,0,0,1,0&gt;</th>\n",
       "      <th>|0,0,0,0,0,0,0,1&gt;</th>\n",
       "    </tr>\n",
       "  </thead>\n",
       "  <tbody>\n",
       "    <tr>\n",
       "      <th>|1,0,0,0,0,0,0,0&gt;</th>\n",
       "      <td>0.160337</td>\n",
       "      <td>0.031275</td>\n",
       "      <td>0.026805</td>\n",
       "      <td>0.287558</td>\n",
       "      <td>0.008552</td>\n",
       "      <td>0.031536</td>\n",
       "      <td>0.255526</td>\n",
       "      <td>0.198412</td>\n",
       "    </tr>\n",
       "    <tr>\n",
       "      <th>|0,1,0,0,0,0,0,0&gt;</th>\n",
       "      <td>0.131128</td>\n",
       "      <td>0.370823</td>\n",
       "      <td>0.002644</td>\n",
       "      <td>0.113476</td>\n",
       "      <td>0.185122</td>\n",
       "      <td>0.165589</td>\n",
       "      <td>0.011114</td>\n",
       "      <td>0.020103</td>\n",
       "    </tr>\n",
       "    <tr>\n",
       "      <th>|0,0,1,0,0,0,0,0&gt;</th>\n",
       "      <td>0.085386</td>\n",
       "      <td>0.138220</td>\n",
       "      <td>0.041754</td>\n",
       "      <td>0.037857</td>\n",
       "      <td>0.004346</td>\n",
       "      <td>0.416142</td>\n",
       "      <td>0.105702</td>\n",
       "      <td>0.170593</td>\n",
       "    </tr>\n",
       "    <tr>\n",
       "      <th>|0,0,0,1,0,0,0,0&gt;</th>\n",
       "      <td>0.100004</td>\n",
       "      <td>0.076413</td>\n",
       "      <td>0.139672</td>\n",
       "      <td>0.210466</td>\n",
       "      <td>0.105578</td>\n",
       "      <td>0.014702</td>\n",
       "      <td>0.189331</td>\n",
       "      <td>0.163834</td>\n",
       "    </tr>\n",
       "    <tr>\n",
       "      <th>|0,0,0,0,1,0,0,0&gt;</th>\n",
       "      <td>0.118442</td>\n",
       "      <td>0.031625</td>\n",
       "      <td>0.135993</td>\n",
       "      <td>0.142504</td>\n",
       "      <td>0.478181</td>\n",
       "      <td>0.009012</td>\n",
       "      <td>0.058619</td>\n",
       "      <td>0.025624</td>\n",
       "    </tr>\n",
       "    <tr>\n",
       "      <th>|0,0,0,0,0,1,0,0&gt;</th>\n",
       "      <td>0.141216</td>\n",
       "      <td>0.056800</td>\n",
       "      <td>0.090067</td>\n",
       "      <td>0.088126</td>\n",
       "      <td>0.037843</td>\n",
       "      <td>0.173187</td>\n",
       "      <td>0.187620</td>\n",
       "      <td>0.225141</td>\n",
       "    </tr>\n",
       "    <tr>\n",
       "      <th>|0,0,0,0,0,0,1,0&gt;</th>\n",
       "      <td>0.109420</td>\n",
       "      <td>0.173324</td>\n",
       "      <td>0.181772</td>\n",
       "      <td>0.066240</td>\n",
       "      <td>0.025603</td>\n",
       "      <td>0.119427</td>\n",
       "      <td>0.144319</td>\n",
       "      <td>0.179895</td>\n",
       "    </tr>\n",
       "    <tr>\n",
       "      <th>|0,0,0,0,0,0,0,1&gt;</th>\n",
       "      <td>0.154069</td>\n",
       "      <td>0.121520</td>\n",
       "      <td>0.381292</td>\n",
       "      <td>0.053772</td>\n",
       "      <td>0.154776</td>\n",
       "      <td>0.070406</td>\n",
       "      <td>0.047768</td>\n",
       "      <td>0.016398</td>\n",
       "    </tr>\n",
       "  </tbody>\n",
       "</table>\n",
       "</div>"
      ],
      "text/plain": [
       "                   |1,0,0,0,0,0,0,0>  |0,1,0,0,0,0,0,0>  |0,0,1,0,0,0,0,0>  \\\n",
       "|1,0,0,0,0,0,0,0>           0.160337           0.031275           0.026805   \n",
       "|0,1,0,0,0,0,0,0>           0.131128           0.370823           0.002644   \n",
       "|0,0,1,0,0,0,0,0>           0.085386           0.138220           0.041754   \n",
       "|0,0,0,1,0,0,0,0>           0.100004           0.076413           0.139672   \n",
       "|0,0,0,0,1,0,0,0>           0.118442           0.031625           0.135993   \n",
       "|0,0,0,0,0,1,0,0>           0.141216           0.056800           0.090067   \n",
       "|0,0,0,0,0,0,1,0>           0.109420           0.173324           0.181772   \n",
       "|0,0,0,0,0,0,0,1>           0.154069           0.121520           0.381292   \n",
       "\n",
       "                   |0,0,0,1,0,0,0,0>  |0,0,0,0,1,0,0,0>  |0,0,0,0,0,1,0,0>  \\\n",
       "|1,0,0,0,0,0,0,0>           0.287558           0.008552           0.031536   \n",
       "|0,1,0,0,0,0,0,0>           0.113476           0.185122           0.165589   \n",
       "|0,0,1,0,0,0,0,0>           0.037857           0.004346           0.416142   \n",
       "|0,0,0,1,0,0,0,0>           0.210466           0.105578           0.014702   \n",
       "|0,0,0,0,1,0,0,0>           0.142504           0.478181           0.009012   \n",
       "|0,0,0,0,0,1,0,0>           0.088126           0.037843           0.173187   \n",
       "|0,0,0,0,0,0,1,0>           0.066240           0.025603           0.119427   \n",
       "|0,0,0,0,0,0,0,1>           0.053772           0.154776           0.070406   \n",
       "\n",
       "                   |0,0,0,0,0,0,1,0>  |0,0,0,0,0,0,0,1>  \n",
       "|1,0,0,0,0,0,0,0>           0.255526           0.198412  \n",
       "|0,1,0,0,0,0,0,0>           0.011114           0.020103  \n",
       "|0,0,1,0,0,0,0,0>           0.105702           0.170593  \n",
       "|0,0,0,1,0,0,0,0>           0.189331           0.163834  \n",
       "|0,0,0,0,1,0,0,0>           0.058619           0.025624  \n",
       "|0,0,0,0,0,1,0,0>           0.187620           0.225141  \n",
       "|0,0,0,0,0,0,1,0>           0.144319           0.179895  \n",
       "|0,0,0,0,0,0,0,1>           0.047768           0.016398  "
      ]
     },
     "execution_count": 17,
     "metadata": {},
     "output_type": "execute_result"
    }
   ],
   "source": [
    "results.display_as_dataframe(conv_to_probability = True)"
   ]
  },
  {
   "attachments": {},
   "cell_type": "markdown",
   "metadata": {},
   "source": [
    "## Sampler\n",
    "- The other way to use the emulator is as a sampler.\n",
    "- This is achieved using the Sampler class, to which we provide the generated circuit and single input state that we want to look at. In this case we input a single photon on mode 0."
   ]
  },
  {
   "cell_type": "code",
   "execution_count": 18,
   "metadata": {},
   "outputs": [],
   "source": [
    "sampler = emulator.Sampler(circuit, State([1]+[0]*(N-1)))"
   ]
  },
  {
   "attachments": {},
   "cell_type": "markdown",
   "metadata": {},
   "source": [
    "- Once the sampler has been set up, we can then sample from it many times.\n",
    "- The probability distribution was pre-calculated in the last step, so the sampling procedure takes place very quickly.\n",
    "- We get the output state from the sample, and convert this into a mode number which is stored."
   ]
  },
  {
   "cell_type": "code",
   "execution_count": 19,
   "metadata": {},
   "outputs": [],
   "source": [
    "N_rep = 100 # Set number of samples\n",
    "results = []\n",
    "\n",
    "for i in range(N_rep):\n",
    "    state = sampler.sample()\n",
    "    # Get state from sampler and find which more the photon is on\n",
    "    loc = state.s.index(1)\n",
    "    results.append(loc)\n",
    "\n",
    "# Count number of times we measure a photon on each mode\n",
    "counted = Counter(results)"
   ]
  },
  {
   "attachments": {},
   "cell_type": "markdown",
   "metadata": {},
   "source": [
    "- The counts can then be converted into probabilities and compared to the expected values from the unitary.\n",
    "- As we only choose to look at 100 samples here, the measured and expected distributions tend to vary as not enough samples have been taken to see convergence."
   ]
  },
  {
   "cell_type": "code",
   "execution_count": 20,
   "metadata": {},
   "outputs": [
    {
     "data": {
      "image/png": "[encoded data removed]",
      "text/plain": [
       "<Figure size 700x600 with 1 Axes>"
      ]
     },
     "metadata": {},
     "output_type": "display_data"
    }
   ],
   "source": [
    "x = range(N)\n",
    "\n",
    "# Convert counts to a list and normalise to total count numbers\n",
    "p_calc = []\n",
    "for i in x:\n",
    "    p_calc.append(counted[i]/sum(counted.values()))\n",
    "\n",
    "# Find expected distribution\n",
    "p_exp = abs(U.T[0,:])**2\n",
    "\n",
    "plt.figure(figsize = (7,6))\n",
    "plt.bar(x, p_calc, label = \"Measured\", alpha = 1)\n",
    "plt.bar(x, p_exp, label = \"Expected\", edgecolor = \"Black\", fill = False,\n",
    "        linestyle = \"dashed\", linewidth = 1.5)\n",
    "plt.xlabel(\"Output mode\")\n",
    "plt.ylabel(\"Counts\")\n",
    "plt.legend()\n",
    "plt.show()"
   ]
  }
 ],
 "metadata": {
  "kernelspec": {
   "display_name": "Python 3",
   "language": "python",
   "name": "python3"
  },
  "language_info": {
   "codemirror_mode": {
    "name": "ipython",
    "version": 3
   },
   "file_extension": ".py",
   "mimetype": "text/x-python",
   "name": "python",
   "nbconvert_exporter": "python",
   "pygments_lexer": "ipython3",
   "version": "3.11.6"
  },
  "orig_nbformat": 4
 },
 "nbformat": 4,
 "nbformat_minor": 2
}
