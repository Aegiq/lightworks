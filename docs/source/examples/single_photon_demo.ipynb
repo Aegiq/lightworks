{
 "cells": [
  {
   "attachments": {},
   "cell_type": "markdown",
   "metadata": {},
   "source": [
    "# Single-photon Simulation\n",
    "- The following notebook demonstrates the use of the emulator to simulate the propagation of a single photon in a quantum photonic processor.\n",
    "- This can be used to find the unitary implemented by a system.\n",
    "- First import required modules and some additional tools."
   ]
  },
  {
   "cell_type": "code",
   "execution_count": 1,
   "metadata": {},
   "outputs": [],
   "source": [
    "from collections import Counter\n",
    "\n",
    "import matplotlib.pyplot as plt\n",
    "\n",
    "import lightworks as lw\n",
    "from lightworks import State, emulator"
   ]
  },
  {
   "attachments": {},
   "cell_type": "markdown",
   "metadata": {},
   "source": [
    "- A general N is then defined, which is used to adjust the number of modes used for the circuit throughout the notebook."
   ]
  },
  {
   "cell_type": "code",
   "execution_count": 2,
   "metadata": {},
   "outputs": [],
   "source": [
    "N = 8"
   ]
  },
  {
   "attachments": {},
   "cell_type": "markdown",
   "metadata": {},
   "source": [
    "- Can then create a random unitary matrix which is programmed onto the chip."
   ]
  },
  {
   "cell_type": "code",
   "execution_count": 3,
   "metadata": {},
   "outputs": [],
   "source": [
    "U = lw.random_unitary(N)\n",
    "\n",
    "circuit = lw.Unitary(U)"
   ]
  },
  {
   "attachments": {},
   "cell_type": "markdown",
   "metadata": {},
   "source": [
    "## Simulator\n",
    "- First we try using the simulation part of the emulator. This allows the simulation of a number of input states, finding the probability amplitudes for the given outputs.\n",
    "- To set this up, we specify the generated circuit to the simulator class. "
   ]
  },
  {
   "cell_type": "code",
   "execution_count": 4,
   "metadata": {},
   "outputs": [],
   "source": [
    "sim = emulator.Simulator(circuit)"
   ]
  },
  {
   "attachments": {},
   "cell_type": "markdown",
   "metadata": {},
   "source": [
    "- In this case we will choose to try to recreate the unitary matrix, which can be done by creating a list of all single photon input and output states."
   ]
  },
  {
   "cell_type": "code",
   "execution_count": 5,
   "metadata": {},
   "outputs": [],
   "source": [
    "states = []\n",
    "\n",
    "# Create all single photon states by adding 1 to list when i=j, otherwise add 0\n",
    "for i in range(N):\n",
    "    state = []\n",
    "    for j in range(N):\n",
    "        if i == j:\n",
    "            state += [1]\n",
    "        else:\n",
    "            state += [0]\n",
    "    states.append(State(state))\n",
    "\n",
    "# Calculate probability amplitude\n",
    "results = sim.simulate(states, states)\n",
    "U_calc = results.array"
   ]
  },
  {
   "attachments": {},
   "cell_type": "markdown",
   "metadata": {},
   "source": [
    "- The resultant matrix probability amplitude matrix can be visualized below, and we see that the unitary is correctly replicated.\n",
    "- Note that the unitary needs to be transposed for the plotting below to show identical matrices."
   ]
  },
  {
   "cell_type": "code",
   "execution_count": 6,
   "metadata": {},
   "outputs": [
    {
     "data": {
      "image/png": "[encoded data removed]",
      "text/plain": [
       "<Figure size 1200x600 with 2 Axes>"
      ]
     },
     "metadata": {},
     "output_type": "display_data"
    }
   ],
   "source": [
    "fig, ax = plt.subplots(1, 2, figsize=(12, 6))\n",
    "\n",
    "ax[0].imshow(abs(U.T))\n",
    "ax[1].imshow(abs(U_calc))\n",
    "ax[0].set_title(\"U\")\n",
    "ax[1].set_title(\"Calculated U\")\n",
    "\n",
    "plt.show()"
   ]
  },
  {
   "attachments": {},
   "cell_type": "markdown",
   "metadata": {},
   "source": [
    "- It is also possible to directly view the probability amplitudes in a nicer form using the display_as_dataframe function included with the results object. \n",
    "- In this case the values are converted to probabilities with the conv_to_probability keyword."
   ]
  },
  {
   "cell_type": "code",
   "execution_count": 7,
   "metadata": {},
   "outputs": [
    {
     "data": {
      "text/html": [
       "<div>\n",
       "<style scoped>\n",
       "    .dataframe tbody tr th:only-of-type {\n",
       "        vertical-align: middle;\n",
       "    }\n",
       "\n",
       "    .dataframe tbody tr th {\n",
       "        vertical-align: top;\n",
       "    }\n",
       "\n",
       "    .dataframe thead th {\n",
       "        text-align: right;\n",
       "    }\n",
       "</style>\n",
       "<table border=\"1\" class=\"dataframe\">\n",
       "  <thead>\n",
       "    <tr style=\"text-align: right;\">\n",
       "      <th></th>\n",
       "      <th>|1,0,0,0,0,0,0,0&gt;</th>\n",
       "      <th>|0,1,0,0,0,0,0,0&gt;</th>\n",
       "      <th>|0,0,1,0,0,0,0,0&gt;</th>\n",
       "      <th>|0,0,0,1,0,0,0,0&gt;</th>\n",
       "      <th>|0,0,0,0,1,0,0,0&gt;</th>\n",
       "      <th>|0,0,0,0,0,1,0,0&gt;</th>\n",
       "      <th>|0,0,0,0,0,0,1,0&gt;</th>\n",
       "      <th>|0,0,0,0,0,0,0,1&gt;</th>\n",
       "    </tr>\n",
       "  </thead>\n",
       "  <tbody>\n",
       "    <tr>\n",
       "      <th>|1,0,0,0,0,0,0,0&gt;</th>\n",
       "      <td>0.187880</td>\n",
       "      <td>0.055688</td>\n",
       "      <td>0.023124</td>\n",
       "      <td>0.092186</td>\n",
       "      <td>0.054290</td>\n",
       "      <td>0.005508</td>\n",
       "      <td>0.024950</td>\n",
       "      <td>0.556373</td>\n",
       "    </tr>\n",
       "    <tr>\n",
       "      <th>|0,1,0,0,0,0,0,0&gt;</th>\n",
       "      <td>0.068229</td>\n",
       "      <td>0.311029</td>\n",
       "      <td>0.097022</td>\n",
       "      <td>0.005456</td>\n",
       "      <td>0.115826</td>\n",
       "      <td>0.269172</td>\n",
       "      <td>0.124379</td>\n",
       "      <td>0.008887</td>\n",
       "    </tr>\n",
       "    <tr>\n",
       "      <th>|0,0,1,0,0,0,0,0&gt;</th>\n",
       "      <td>0.042174</td>\n",
       "      <td>0.032456</td>\n",
       "      <td>0.160419</td>\n",
       "      <td>0.071796</td>\n",
       "      <td>0.111370</td>\n",
       "      <td>0.000249</td>\n",
       "      <td>0.543947</td>\n",
       "      <td>0.037589</td>\n",
       "    </tr>\n",
       "    <tr>\n",
       "      <th>|0,0,0,1,0,0,0,0&gt;</th>\n",
       "      <td>0.089451</td>\n",
       "      <td>0.060069</td>\n",
       "      <td>0.245367</td>\n",
       "      <td>0.353947</td>\n",
       "      <td>0.001352</td>\n",
       "      <td>0.097540</td>\n",
       "      <td>0.130642</td>\n",
       "      <td>0.021633</td>\n",
       "    </tr>\n",
       "    <tr>\n",
       "      <th>|0,0,0,0,1,0,0,0&gt;</th>\n",
       "      <td>0.283446</td>\n",
       "      <td>0.254240</td>\n",
       "      <td>0.019136</td>\n",
       "      <td>0.012586</td>\n",
       "      <td>0.139484</td>\n",
       "      <td>0.183564</td>\n",
       "      <td>0.039799</td>\n",
       "      <td>0.067746</td>\n",
       "    </tr>\n",
       "    <tr>\n",
       "      <th>|0,0,0,0,0,1,0,0&gt;</th>\n",
       "      <td>0.033732</td>\n",
       "      <td>0.176289</td>\n",
       "      <td>0.094476</td>\n",
       "      <td>0.212093</td>\n",
       "      <td>0.183445</td>\n",
       "      <td>0.113941</td>\n",
       "      <td>0.009779</td>\n",
       "      <td>0.176245</td>\n",
       "    </tr>\n",
       "    <tr>\n",
       "      <th>|0,0,0,0,0,0,1,0&gt;</th>\n",
       "      <td>0.168293</td>\n",
       "      <td>0.061512</td>\n",
       "      <td>0.170333</td>\n",
       "      <td>0.147343</td>\n",
       "      <td>0.099184</td>\n",
       "      <td>0.231435</td>\n",
       "      <td>0.115118</td>\n",
       "      <td>0.006782</td>\n",
       "    </tr>\n",
       "    <tr>\n",
       "      <th>|0,0,0,0,0,0,0,1&gt;</th>\n",
       "      <td>0.126795</td>\n",
       "      <td>0.048718</td>\n",
       "      <td>0.190123</td>\n",
       "      <td>0.104593</td>\n",
       "      <td>0.295049</td>\n",
       "      <td>0.098589</td>\n",
       "      <td>0.011388</td>\n",
       "      <td>0.124745</td>\n",
       "    </tr>\n",
       "  </tbody>\n",
       "</table>\n",
       "</div>"
      ],
      "text/plain": [
       "                   |1,0,0,0,0,0,0,0>  |0,1,0,0,0,0,0,0>  |0,0,1,0,0,0,0,0>  \\\n",
       "|1,0,0,0,0,0,0,0>           0.187880           0.055688           0.023124   \n",
       "|0,1,0,0,0,0,0,0>           0.068229           0.311029           0.097022   \n",
       "|0,0,1,0,0,0,0,0>           0.042174           0.032456           0.160419   \n",
       "|0,0,0,1,0,0,0,0>           0.089451           0.060069           0.245367   \n",
       "|0,0,0,0,1,0,0,0>           0.283446           0.254240           0.019136   \n",
       "|0,0,0,0,0,1,0,0>           0.033732           0.176289           0.094476   \n",
       "|0,0,0,0,0,0,1,0>           0.168293           0.061512           0.170333   \n",
       "|0,0,0,0,0,0,0,1>           0.126795           0.048718           0.190123   \n",
       "\n",
       "                   |0,0,0,1,0,0,0,0>  |0,0,0,0,1,0,0,0>  |0,0,0,0,0,1,0,0>  \\\n",
       "|1,0,0,0,0,0,0,0>           0.092186           0.054290           0.005508   \n",
       "|0,1,0,0,0,0,0,0>           0.005456           0.115826           0.269172   \n",
       "|0,0,1,0,0,0,0,0>           0.071796           0.111370           0.000249   \n",
       "|0,0,0,1,0,0,0,0>           0.353947           0.001352           0.097540   \n",
       "|0,0,0,0,1,0,0,0>           0.012586           0.139484           0.183564   \n",
       "|0,0,0,0,0,1,0,0>           0.212093           0.183445           0.113941   \n",
       "|0,0,0,0,0,0,1,0>           0.147343           0.099184           0.231435   \n",
       "|0,0,0,0,0,0,0,1>           0.104593           0.295049           0.098589   \n",
       "\n",
       "                   |0,0,0,0,0,0,1,0>  |0,0,0,0,0,0,0,1>  \n",
       "|1,0,0,0,0,0,0,0>           0.024950           0.556373  \n",
       "|0,1,0,0,0,0,0,0>           0.124379           0.008887  \n",
       "|0,0,1,0,0,0,0,0>           0.543947           0.037589  \n",
       "|0,0,0,1,0,0,0,0>           0.130642           0.021633  \n",
       "|0,0,0,0,1,0,0,0>           0.039799           0.067746  \n",
       "|0,0,0,0,0,1,0,0>           0.009779           0.176245  \n",
       "|0,0,0,0,0,0,1,0>           0.115118           0.006782  \n",
       "|0,0,0,0,0,0,0,1>           0.011388           0.124745  "
      ]
     },
     "execution_count": 7,
     "metadata": {},
     "output_type": "execute_result"
    }
   ],
   "source": [
    "results.display_as_dataframe(conv_to_probability=True)"
   ]
  },
  {
   "attachments": {},
   "cell_type": "markdown",
   "metadata": {},
   "source": [
    "## Sampler\n",
    "- The other way to use the emulator is as a sampler.\n",
    "- This is achieved using the Sampler class, to which we provide the generated circuit and single input state that we want to look at. In this case we input a single photon on mode 0."
   ]
  },
  {
   "cell_type": "code",
   "execution_count": 8,
   "metadata": {},
   "outputs": [],
   "source": [
    "sampler = emulator.Sampler(circuit, State([1] + [0] * (N - 1)))"
   ]
  },
  {
   "attachments": {},
   "cell_type": "markdown",
   "metadata": {},
   "source": [
    "- Once the sampler has been set up, we can then sample from it many times.\n",
    "- The probability distribution was pre-calculated in the last step, so the sampling procedure takes place very quickly.\n",
    "- We get the output state from the sample, and convert this into a mode number which is stored."
   ]
  },
  {
   "cell_type": "code",
   "execution_count": 9,
   "metadata": {},
   "outputs": [],
   "source": [
    "N_rep = 100  # Set number of samples\n",
    "results = []\n",
    "\n",
    "for _ in range(N_rep):\n",
    "    state = sampler.sample()\n",
    "    # Get state from sampler and find which more the photon is on\n",
    "    loc = state.s.index(1)\n",
    "    results.append(loc)\n",
    "\n",
    "# Count number of times we measure a photon on each mode\n",
    "counted = Counter(results)"
   ]
  },
  {
   "attachments": {},
   "cell_type": "markdown",
   "metadata": {},
   "source": [
    "- The counts can then be converted into probabilities and compared to the expected values from the unitary.\n",
    "- As we only choose to look at 100 samples here, the measured and expected distributions tend to vary as not enough samples have been taken to see convergence."
   ]
  },
  {
   "cell_type": "code",
   "execution_count": 10,
   "metadata": {},
   "outputs": [
    {
     "data": {
      "image/png": "[encoded data removed]",
      "text/plain": [
       "<Figure size 700x600 with 1 Axes>"
      ]
     },
     "metadata": {},
     "output_type": "display_data"
    }
   ],
   "source": [
    "x = range(N)\n",
    "\n",
    "# Convert counts to a list and normalise to total count numbers\n",
    "p_calc = [counted[i] / sum(counted.values()) for i in x]\n",
    "\n",
    "# Find expected distribution\n",
    "p_exp = abs(U.T[0, :]) ** 2\n",
    "\n",
    "plt.figure(figsize=(7, 6))\n",
    "plt.bar(x, p_calc, label=\"Measured\", alpha=1)\n",
    "plt.bar(\n",
    "    x,\n",
    "    p_exp,\n",
    "    label=\"Expected\",\n",
    "    edgecolor=\"Black\",\n",
    "    fill=False,\n",
    "    linestyle=\"dashed\",\n",
    "    linewidth=1.5,\n",
    ")\n",
    "plt.xlabel(\"Output mode\")\n",
    "plt.ylabel(\"Counts\")\n",
    "plt.legend()\n",
    "plt.show()"
   ]
  }
 ],
 "metadata": {
  "kernelspec": {
   "display_name": "venv",
   "language": "python",
   "name": "python3"
  },
  "language_info": {
   "codemirror_mode": {
    "name": "ipython",
    "version": 3
   },
   "file_extension": ".py",
   "mimetype": "text/x-python",
   "name": "python",
   "nbconvert_exporter": "python",
   "pygments_lexer": "ipython3",
   "version": "3.11.6"
  },
  "orig_nbformat": 4
 },
 "nbformat": 4,
 "nbformat_minor": 2
}
