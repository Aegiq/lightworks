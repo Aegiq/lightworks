{
 "cells": [
  {
   "cell_type": "markdown",
   "metadata": {},
   "source": [
    "# Average Gate Fidelity\n",
    "Instead of performing process tomography on a system, it is possible to use a series of state tomographies and calculate an average gate fidelity from the measured density matices. To achieve this, the following equation can be used <cite data-cite=\"Nielsen_2002\">(Nielsen_2002)</cite>:\n",
    "\n",
    "$\\begin{equation}\\overline{F}(\\mathcal{E}, U) = \\frac{\\sum_{jk}\\alpha_{jk}tr(UU_j^{\\dagger}U^{\\dagger}\\mathcal{E}(\\rho_k))+d^2}{d^2(d+1)}\\end{equation},$\n",
    "\n",
    "where $\\mathcal{E}(\\rho_k) = \\rho_k^\\prime$ is the result from a single state tomography experiment with input $k$. This sum can then be evaluated using the input basis $\\ket{0}$, $\\ket{1}$, $\\frac{\\ket{0} + \\ket{1}}{\\sqrt{2}}$ & $\\frac{\\ket{0} + i\\ket{1}}{\\sqrt{2}}$ to determine an estimate for gate fidelity.\n",
    "\n",
    "This notebook demonstates how the included GateFidelity object in Lightworks can be used to automate the process of gathering and analysing data to find the average gate fidelities."
   ]
  },
  {
   "cell_type": "code",
   "execution_count": 1,
   "metadata": {},
   "outputs": [],
   "source": [
    "import matplotlib.pyplot as plt\n",
    "import numpy as np\n",
    "\n",
    "import lightworks as lw\n",
    "from lightworks import emulator, qubit\n",
    "from lightworks.tomography import GateFidelity"
   ]
  },
  {
   "cell_type": "markdown",
   "metadata": {},
   "source": [
    "We'll define a run_experiments function which accepts the list of experiments and generates the results. In this example, an additional source_indistinguishability argument is included to allow for variation of this value, it defaults to a value of 1."
   ]
  },
  {
   "cell_type": "code",
   "execution_count": 2,
   "metadata": {},
   "outputs": [],
   "source": [
    "def run_experiments(\n",
    "    experiments, source_indistinguishability: float = 1.0\n",
    ") -> list:\n",
    "    \"\"\"\n",
    "    Experiment function which is required for performing state tomography on a\n",
    "    system. It takes a list of circuits and generates a corresponding list of\n",
    "    results for each of them. Only supports one qubit systems currently.\n",
    "    \"\"\"\n",
    "    # Post-select on 1 photon across each pair of qubit modes\n",
    "    post_select = lw.PostSelection()\n",
    "    post_select.add((0, 1), 1)\n",
    "    post_select.add((2, 3), 1)\n",
    "\n",
    "    backend = emulator.Backend(\"slos\")\n",
    "\n",
    "    # Use a batch to run all tasks at once\n",
    "    batch = lw.Batch(\n",
    "        lw.Sampler,\n",
    "        task_args=[experiments.all_circuits, experiments.all_inputs, [20000]],\n",
    "        task_kwargs={\n",
    "            \"source\": [\n",
    "                emulator.Source(\n",
    "                    indistinguishability=source_indistinguishability\n",
    "                )\n",
    "            ],\n",
    "            \"post_selection\": [post_select],\n",
    "            \"random_seed\": [10],\n",
    "        },\n",
    "    )\n",
    "    return backend.run(batch)"
   ]
  },
  {
   "cell_type": "markdown",
   "metadata": {},
   "source": [
    "For this tutorial, the 2 qubit CNOT gate is used, which is created and shown below. A 90% loss is also included on each of the output channels."
   ]
  },
  {
   "cell_type": "code",
   "execution_count": 3,
   "metadata": {},
   "outputs": [
    {
     "data": {
      "image/svg+xml": [
       "<?xml version=\"1.0\" encoding=\"UTF-8\"?>\n",
       "<svg xmlns=\"http://www.w3.org/2000/svg\" xmlns:xlink=\"http://www.w3.org/1999/xlink\"\n",
       "     width=\"350.3225806451613\" height=\"362.0\" viewBox=\"0 0 750.0 775\">\n",
       "<defs>\n",
       "</defs>\n",
       "<rect x=\"0\" y=\"0\" width=\"750.0\" height=\"775\" fill=\"white\" stroke=\"none\" />\n",
       "<rect x=\"100.0\" y=\"25\" width=\"550.0\" height=\"725\" fill=\"none\" stroke=\"black\" />\n",
       "<rect x=\"92.0\" y=\"124.5\" width=\"8\" height=\"1\" fill=\"black\" />\n",
       "<rect x=\"92.0\" y=\"199.5\" width=\"8\" height=\"1\" fill=\"black\" />\n",
       "<rect x=\"92.0\" y=\"324.5\" width=\"8\" height=\"1\" fill=\"black\" />\n",
       "<rect x=\"92.0\" y=\"449.5\" width=\"8\" height=\"1\" fill=\"black\" />\n",
       "<rect x=\"92.0\" y=\"574.5\" width=\"8\" height=\"1\" fill=\"black\" />\n",
       "<rect x=\"92.0\" y=\"649.5\" width=\"8\" height=\"1\" fill=\"black\" />\n",
       "<text x=\"80.0\" y=\"127\" font-size=\"25\" fill=\"black\" text-anchor=\"end\" dominant-baseline=\"middle\" transform=\"rotate(0, 80.0, 127)\">-</text>\n",
       "<text x=\"80.0\" y=\"202\" font-size=\"25\" fill=\"black\" text-anchor=\"end\" dominant-baseline=\"middle\" transform=\"rotate(0, 80.0, 202)\">0</text>\n",
       "<text x=\"80.0\" y=\"327\" font-size=\"25\" fill=\"black\" text-anchor=\"end\" dominant-baseline=\"middle\" transform=\"rotate(0, 80.0, 327)\">1</text>\n",
       "<text x=\"80.0\" y=\"452\" font-size=\"25\" fill=\"black\" text-anchor=\"end\" dominant-baseline=\"middle\" transform=\"rotate(0, 80.0, 452)\">2</text>\n",
       "<text x=\"80.0\" y=\"577\" font-size=\"25\" fill=\"black\" text-anchor=\"end\" dominant-baseline=\"middle\" transform=\"rotate(0, 80.0, 577)\">3</text>\n",
       "<text x=\"80.0\" y=\"652\" font-size=\"25\" fill=\"black\" text-anchor=\"end\" dominant-baseline=\"middle\" transform=\"rotate(0, 80.0, 652)\">-</text>\n",
       "<rect x=\"199.95\" y=\"121.0\" width=\"50.1\" height=\"8\" fill=\"black\" />\n",
       "<rect x=\"149.95\" y=\"196.0\" width=\"100.1\" height=\"8\" fill=\"black\" />\n",
       "<rect x=\"149.95\" y=\"321.0\" width=\"100.1\" height=\"8\" fill=\"black\" />\n",
       "<rect x=\"149.95\" y=\"446.0\" width=\"100.1\" height=\"8\" fill=\"black\" />\n",
       "<rect x=\"149.95\" y=\"571.0\" width=\"100.1\" height=\"8\" fill=\"black\" />\n",
       "<rect x=\"199.95\" y=\"646.0\" width=\"50.1\" height=\"8\" fill=\"black\" />\n",
       "<g>\n",
       "<rect x=\"250.0\" y=\"100.0\" width=\"100\" height=\"575\" fill=\"#1a0f36\" stroke=\"black\" rx=\"5\" ry=\"5\" />\n",
       "<text x=\"300.0\" y=\"387.5\" font-size=\"25\" fill=\"white\" text-anchor=\"middle\" dominant-baseline=\"middle\" transform=\"rotate(270, 300.0, 387.5)\">CNOT (0, 1)</text>\n",
       "</g>\n",
       "<rect x=\"349.95\" y=\"121.0\" width=\"50.1\" height=\"8\" fill=\"black\" />\n",
       "<rect x=\"349.95\" y=\"196.0\" width=\"100.1\" height=\"8\" fill=\"black\" />\n",
       "<rect x=\"349.95\" y=\"321.0\" width=\"100.1\" height=\"8\" fill=\"black\" />\n",
       "<rect x=\"349.95\" y=\"446.0\" width=\"100.1\" height=\"8\" fill=\"black\" />\n",
       "<rect x=\"349.95\" y=\"571.0\" width=\"100.1\" height=\"8\" fill=\"black\" />\n",
       "<rect x=\"349.95\" y=\"646.0\" width=\"50.1\" height=\"8\" fill=\"black\" />\n",
       "<g>\n",
       "<circle cx=\"200.0\" cy=\"125\" r=\"25\" fill=\"#3e368d\" stroke=\"black\" />\n",
       "<text x=\"200.0\" y=\"127.5\" font-size=\"30\" fill=\"white\" text-anchor=\"middle\" dominant-baseline=\"middle\" transform=\"rotate(0, 200.0, 127.5)\">0</text>\n",
       "</g>\n",
       "<g>\n",
       "<circle cx=\"200.0\" cy=\"650\" r=\"25\" fill=\"#3e368d\" stroke=\"black\" />\n",
       "<text x=\"200.0\" y=\"652.5\" font-size=\"30\" fill=\"white\" text-anchor=\"middle\" dominant-baseline=\"middle\" transform=\"rotate(0, 200.0, 652.5)\">0</text>\n",
       "</g>\n",
       "<g>\n",
       "<circle cx=\"400.0\" cy=\"125\" r=\"25\" fill=\"#3e368d\" stroke=\"black\" />\n",
       "<text x=\"400.0\" y=\"127.5\" font-size=\"30\" fill=\"white\" text-anchor=\"middle\" dominant-baseline=\"middle\" transform=\"rotate(0, 400.0, 127.5)\">0</text>\n",
       "</g>\n",
       "<g>\n",
       "<circle cx=\"400.0\" cy=\"650\" r=\"25\" fill=\"#3e368d\" stroke=\"black\" />\n",
       "<text x=\"400.0\" y=\"652.5\" font-size=\"30\" fill=\"white\" text-anchor=\"middle\" dominant-baseline=\"middle\" transform=\"rotate(0, 400.0, 652.5)\">0</text>\n",
       "</g>\n",
       "<rect x=\"449.95\" y=\"196.0\" width=\"50.1\" height=\"8\" fill=\"black\" />\n",
       "<g>\n",
       "<rect x=\"500.0\" y=\"175.0\" width=\"50\" height=\"50\" fill=\"grey\" stroke=\"black\" rx=\"5\" ry=\"5\" />\n",
       "<text x=\"525.0\" y=\"202\" font-size=\"25\" fill=\"white\" text-anchor=\"middle\" dominant-baseline=\"middle\" transform=\"rotate(0, 525.0, 202)\">L</text>\n",
       "<text x=\"525.0\" y=\"250\" font-size=\"18\" fill=\"black\" text-anchor=\"middle\" dominant-baseline=\"middle\" transform=\"rotate(0, 525.0, 250)\">loss = 0.9</text>\n",
       "</g>\n",
       "<rect x=\"549.95\" y=\"196.0\" width=\"50.1\" height=\"8\" fill=\"black\" />\n",
       "<rect x=\"449.95\" y=\"321.0\" width=\"50.1\" height=\"8\" fill=\"black\" />\n",
       "<g>\n",
       "<rect x=\"500.0\" y=\"300.0\" width=\"50\" height=\"50\" fill=\"grey\" stroke=\"black\" rx=\"5\" ry=\"5\" />\n",
       "<text x=\"525.0\" y=\"327\" font-size=\"25\" fill=\"white\" text-anchor=\"middle\" dominant-baseline=\"middle\" transform=\"rotate(0, 525.0, 327)\">L</text>\n",
       "<text x=\"525.0\" y=\"375\" font-size=\"18\" fill=\"black\" text-anchor=\"middle\" dominant-baseline=\"middle\" transform=\"rotate(0, 525.0, 375)\">loss = 0.9</text>\n",
       "</g>\n",
       "<rect x=\"549.95\" y=\"321.0\" width=\"50.1\" height=\"8\" fill=\"black\" />\n",
       "<rect x=\"449.95\" y=\"446.0\" width=\"50.1\" height=\"8\" fill=\"black\" />\n",
       "<g>\n",
       "<rect x=\"500.0\" y=\"425.0\" width=\"50\" height=\"50\" fill=\"grey\" stroke=\"black\" rx=\"5\" ry=\"5\" />\n",
       "<text x=\"525.0\" y=\"452\" font-size=\"25\" fill=\"white\" text-anchor=\"middle\" dominant-baseline=\"middle\" transform=\"rotate(0, 525.0, 452)\">L</text>\n",
       "<text x=\"525.0\" y=\"500\" font-size=\"18\" fill=\"black\" text-anchor=\"middle\" dominant-baseline=\"middle\" transform=\"rotate(0, 525.0, 500)\">loss = 0.9</text>\n",
       "</g>\n",
       "<rect x=\"549.95\" y=\"446.0\" width=\"50.1\" height=\"8\" fill=\"black\" />\n",
       "<rect x=\"449.95\" y=\"571.0\" width=\"50.1\" height=\"8\" fill=\"black\" />\n",
       "<g>\n",
       "<rect x=\"500.0\" y=\"550.0\" width=\"50\" height=\"50\" fill=\"grey\" stroke=\"black\" rx=\"5\" ry=\"5\" />\n",
       "<text x=\"525.0\" y=\"577\" font-size=\"25\" fill=\"white\" text-anchor=\"middle\" dominant-baseline=\"middle\" transform=\"rotate(0, 525.0, 577)\">L</text>\n",
       "<text x=\"525.0\" y=\"625\" font-size=\"18\" fill=\"black\" text-anchor=\"middle\" dominant-baseline=\"middle\" transform=\"rotate(0, 525.0, 625)\">loss = 0.9</text>\n",
       "</g>\n",
       "<rect x=\"549.95\" y=\"571.0\" width=\"50.1\" height=\"8\" fill=\"black\" />\n",
       "</svg>"
      ],
      "text/plain": [
       "<drawsvg.drawing.Drawing at 0x22551ab1d90>"
      ]
     },
     "metadata": {},
     "output_type": "display_data"
    }
   ],
   "source": [
    "n_qubits = 2\n",
    "\n",
    "cnot = qubit.CNOT()\n",
    "for i in range(4):\n",
    "    cnot.loss(i, 0.9)\n",
    "cnot.display(display_loss=True)"
   ]
  },
  {
   "cell_type": "markdown",
   "metadata": {},
   "source": [
    "## Ideal System\n",
    "To measure the average gate fidelity, a new GateFidelity object is created with the required configuration and the experiments are then generated."
   ]
  },
  {
   "cell_type": "code",
   "execution_count": 4,
   "metadata": {},
   "outputs": [],
   "source": [
    "gate_f = GateFidelity(n_qubits, cnot)\n",
    "experiments = gate_f.get_experiments()"
   ]
  },
  {
   "cell_type": "markdown",
   "metadata": {},
   "source": [
    "We then run the experiments. Initially, we want to test an ideal system, so the photon indistinguishability is set to 1. "
   ]
  },
  {
   "cell_type": "code",
   "execution_count": 5,
   "metadata": {},
   "outputs": [],
   "source": [
    "results = run_experiments(experiments, 1.0)"
   ]
  },
  {
   "cell_type": "markdown",
   "metadata": {},
   "source": [
    "The fidelity is then calculated with the process method. Unlike the other tomography approaches, the average gate fidelity requires knowledge of the expected unitary matrix for the gate. In the case of the CNOT gate, this is\n",
    "\n",
    "\\begin{equation} \\text{U}_\\text{cnot} = \\begin{bmatrix} 1 & 0 & 0 & 0 \\\\ 0 & 1 & 0 & 0 \\\\ 0 & 0 & 0 & 1 \\\\ 0 & 0 & 1 & 0 \\end{bmatrix},\\end{equation}\n",
    "\n",
    "which is encoded within the array below.\n",
    "\n",
    "As expected, the calculated fidelity with an ideal system is nearly 100%."
   ]
  },
  {
   "cell_type": "code",
   "execution_count": 6,
   "metadata": {},
   "outputs": [
    {
     "name": "stdout",
     "output_type": "stream",
     "text": [
      "Average gate fidelity = 99.84399999999998 %\n"
     ]
    }
   ],
   "source": [
    "u_cnot = np.array([[1, 0, 0, 0], [0, 1, 0, 0], [0, 0, 0, 1], [0, 0, 1, 0]])\n",
    "avg_fidelity = gate_f.process(results, u_cnot)\n",
    "\n",
    "print(f\"Average gate fidelity = {avg_fidelity * 100} %\")"
   ]
  },
  {
   "cell_type": "markdown",
   "metadata": {},
   "source": [
    "## Photon Distinguishability\n",
    "\n",
    "It is then possible to use the built-in noise modelling in Lightworks to simulate the likely effect that this has on the gate fidelity. A key limitation for gate fidelity is the extent to which photons are indistinguishable from each other, with distinguishability reducing overall fidelity.\n",
    "\n",
    "To examine this effect, we sweep the photon indistinguishability from 80 to 100% and calculate the fidelity at each point. This is then plotted to view the relationship between the two quantities.\n",
    "\n",
    ".. note:: This cell may take a while to execute (~1 min)."
   ]
  },
  {
   "cell_type": "code",
   "execution_count": 7,
   "metadata": {},
   "outputs": [
    {
     "data": {
      "image/png": "[encoded data removed]",
      "text/plain": [
       "<Figure size 640x480 with 1 Axes>"
      ]
     },
     "metadata": {},
     "output_type": "display_data"
    }
   ],
   "source": [
    "indistinguishability = range(80, 101, 2)\n",
    "\n",
    "fidelities = []\n",
    "for ind in indistinguishability:\n",
    "    # Re-run experiments with new value\n",
    "    results = run_experiments(experiments, ind / 100)\n",
    "    # And then calculate fidelity\n",
    "    fidelities.append(gate_f.process(results, u_cnot) * 100)\n",
    "\n",
    "plt.plot(indistinguishability, fidelities)\n",
    "plt.xlabel(\"Photon Indistinguishability (%)\")\n",
    "plt.ylabel(\"CNOT Fidelity (%)\")\n",
    "plt.show()"
   ]
  },
  {
   "cell_type": "markdown",
   "metadata": {},
   "source": [
    "## State Fidelities\n",
    "With any of the process tomography algorithms, it is also possible to take the collected data and find the output state fidelity matrices for the input basis used by the algorithms. While the gate fidelity is not strictly an average of these output state fidelities, it can be a useful way to understand how a system behaves in a range of different configurations.\n",
    "\n",
    "To demonstrate this we will re-run the experiments created above with a source indistinguishability of 80%."
   ]
  },
  {
   "cell_type": "code",
   "execution_count": 8,
   "metadata": {},
   "outputs": [],
   "source": [
    "results = run_experiments(experiments, source_indistinguishability=0.8)"
   ]
  },
  {
   "cell_type": "markdown",
   "metadata": {},
   "source": [
    "This data is then processed by the target process tomography algorithm. The return from this is a dictionary containing the input basis and the calculated state tomography fidelities. "
   ]
  },
  {
   "cell_type": "code",
   "execution_count": 9,
   "metadata": {},
   "outputs": [
    {
     "data": {
      "text/plain": [
       "{'Z+,Z+': np.float64(1.0000000004637002),\n",
       " 'Z+,Z-': np.float64(1.0000000004018266),\n",
       " 'Z+,X+': np.float64(1.000000021848882),\n",
       " 'Z+,Y+': np.float64(1.0000000068731802),\n",
       " 'Z-,Z+': np.float64(0.7113000005572717),\n",
       " 'Z-,Z-': np.float64(0.7113000023718576),\n",
       " 'Z-,X+': np.float64(1.0000000012883055),\n",
       " 'Z-,Y+': np.float64(0.7113000113141975),\n",
       " 'X+,Z+': np.float64(0.7476250008975734),\n",
       " 'X+,Z-': np.float64(0.7476250000461714),\n",
       " 'X+,X+': np.float64(0.7113000074420067),\n",
       " 'X+,Y+': np.float64(0.7476250140993302),\n",
       " 'Y+,Z+': np.float64(0.7476250109718067),\n",
       " 'Y+,Z-': np.float64(0.747625000400505),\n",
       " 'Y+,X+': np.float64(0.711300022334176),\n",
       " 'Y+,Y+': np.float64(0.7476250281292963)}"
      ]
     },
     "execution_count": 9,
     "metadata": {},
     "output_type": "execute_result"
    }
   ],
   "source": [
    "state_fidelities = gate_f.process_state_fidelities(results, u_cnot)\n",
    "state_fidelities"
   ]
  },
  {
   "cell_type": "markdown",
   "metadata": {},
   "source": [
    "This data can then be plotted to view the individual fidelities. \n",
    "\n",
    "As can be seen, despite the non-ideal photon indistinguishability some states are still generated with 100% fidelity. For the first 4 inputs, this occurs because there is no interference between photons when the first qubit is in the zero state (Z+), and so indistinguishability does not matter. The other case is Z-,X+ in which there is also no interference because the second qubit being input as X+ converts the gate from a CNOT to a CZ, we're then doing a CZ gate on the state |10>, which has no effect and so again no interference occurs."
   ]
  },
  {
   "cell_type": "code",
   "execution_count": 10,
   "metadata": {},
   "outputs": [
    {
     "data": {
      "image/png": "[encoded data removed]",
      "text/plain": [
       "<Figure size 640x480 with 1 Axes>"
      ]
     },
     "metadata": {},
     "output_type": "display_data"
    }
   ],
   "source": [
    "x = range(len(state_fidelities))\n",
    "\n",
    "plt.bar(x, state_fidelities.values())\n",
    "plt.xlabel(\"Input\")\n",
    "plt.ylabel(\"Fidelity\")\n",
    "plt.xticks(x, labels=state_fidelities, rotation=90)\n",
    "plt.show()"
   ]
  },
  {
   "cell_type": "markdown",
   "metadata": {},
   "source": [
    "## Projection to a physical process\n",
    "The gate fidelity object also contains an option for projecting the calculated operators to a physical process. As the gate fidelity calculation uses a series of state tomographies, the physical projection is applied at this point and then these projected density matrices are passed into the equation for the gate fidelity calculation.\n",
    "\n",
    "To demonstrate this projection, a tomography is performed on a T gate, with an intentionally low number of samples measured to introduce noise. It can be seen how in this case a fidelity of >100 % is calculated, which is a clear indication that the calculated density matrices are unphysical."
   ]
  },
  {
   "cell_type": "code",
   "execution_count": 11,
   "metadata": {},
   "outputs": [
    {
     "name": "stdout",
     "output_type": "stream",
     "text": [
      "Original fidelity = 100.961 %\n"
     ]
    }
   ],
   "source": [
    "n_qubits = 1\n",
    "t_gate = qubit.T()\n",
    "u_t = np.array([[1, 0], [0, np.exp(1j * np.pi / 4)]])\n",
    "n_samples = 400\n",
    "seed = 1\n",
    "\n",
    "gate_f = GateFidelity(n_qubits, t_gate)\n",
    "experiments = gate_f.get_experiments()\n",
    "\n",
    "results = [\n",
    "    emulator.Backend(\"slos\").run(\n",
    "        lw.Sampler(exp.circuit, exp.input_state, n_samples, random_seed=seed)\n",
    "    )\n",
    "    for exp in experiments\n",
    "]\n",
    "\n",
    "f = gate_f.process(results, u_t)\n",
    "print(f\"Original fidelity = {f * 100:.3f} %\")"
   ]
  },
  {
   "cell_type": "markdown",
   "metadata": {},
   "source": [
    "The eigenvalues of the density matrices can also specifically checked with `check_eigenvalues`."
   ]
  },
  {
   "cell_type": "code",
   "execution_count": 12,
   "metadata": {},
   "outputs": [
    {
     "data": {
      "text/plain": [
       "{'Z+': array([-0.00124844,  1.00124844]),\n",
       " 'Z-': array([-0.00124844,  1.00124844]),\n",
       " 'X+': array([-0.04504587,  1.04504587]),\n",
       " 'Y+': array([-0.02091266,  1.02091266])}"
      ]
     },
     "execution_count": 12,
     "metadata": {},
     "output_type": "execute_result"
    }
   ],
   "source": [
    "gate_f.check_eigenvalues(results)"
   ]
  },
  {
   "cell_type": "markdown",
   "metadata": {},
   "source": [
    "The fidelity is then recalculated using the `project_to_physical` option, and in this case a physical value is now seen.\n",
    "\n",
    ".. note::\n",
    "    Because of how the noise is introduced here the fidelity is likely to still not be accurate and may still be unphysical in some cases."
   ]
  },
  {
   "cell_type": "code",
   "execution_count": 13,
   "metadata": {},
   "outputs": [
    {
     "name": "stdout",
     "output_type": "stream",
     "text": [
      "Fidelity after projection = 98.727 %\n"
     ]
    }
   ],
   "source": [
    "f2 = gate_f.process(results, u_t, project_to_physical=True)\n",
    "print(f\"Fidelity after projection = {f2 * 100:.3f} %\")"
   ]
  },
  {
   "cell_type": "markdown",
   "metadata": {},
   "source": [
    "Likewise the eigenvalues of the matrices can then be checked to confirm these are all non-negative (or effectively zero)."
   ]
  },
  {
   "cell_type": "code",
   "execution_count": 14,
   "metadata": {},
   "outputs": [
    {
     "data": {
      "text/plain": [
       "{'Z+': array([-8.67361738e-19,  1.00000000e+00]),\n",
       " 'Z-': array([-2.16840434e-19,  1.00000000e+00]),\n",
       " 'X+': array([-1.38777878e-16,  1.00000000e+00]),\n",
       " 'Y+': array([1.38777878e-16, 1.00000000e+00])}"
      ]
     },
     "execution_count": 14,
     "metadata": {},
     "output_type": "execute_result"
    }
   ],
   "source": [
    "gate_f.check_eigenvalues(results, project_to_physical=True)"
   ]
  }
 ],
 "metadata": {
  "kernelspec": {
   "display_name": "venv",
   "language": "python",
   "name": "python3"
  },
  "language_info": {
   "codemirror_mode": {
    "name": "ipython",
    "version": 3
   },
   "file_extension": ".py",
   "mimetype": "text/x-python",
   "name": "python",
   "nbconvert_exporter": "python",
   "pygments_lexer": "ipython3",
   "version": "3.11.6"
  }
 },
 "nbformat": 4,
 "nbformat_minor": 2
}
