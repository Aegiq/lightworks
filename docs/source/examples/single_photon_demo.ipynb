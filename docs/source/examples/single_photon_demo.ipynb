{
 "cells": [
  {
   "attachments": {},
   "cell_type": "markdown",
   "metadata": {},
   "source": [
    "# Single-photon Simulation\n",
    "The following notebook demonstrates the use of the emulator to simulate the propagation of a single photon in a quantum photonic processor. This can be used to find the unitary implemented by a system.\n",
    "\n",
    "First import required modules and some additional tools."
   ]
  },
  {
   "cell_type": "code",
   "execution_count": 1,
   "metadata": {},
   "outputs": [],
   "source": [
    "from collections import Counter\n",
    "\n",
    "import matplotlib.pyplot as plt\n",
    "\n",
    "import lightworks as lw\n",
    "from lightworks import State, emulator"
   ]
  },
  {
   "attachments": {},
   "cell_type": "markdown",
   "metadata": {},
   "source": [
    "A general N is then defined, which is used to adjust the number of modes used for the circuit throughout the notebook."
   ]
  },
  {
   "cell_type": "code",
   "execution_count": 2,
   "metadata": {},
   "outputs": [],
   "source": [
    "N = 8"
   ]
  },
  {
   "attachments": {},
   "cell_type": "markdown",
   "metadata": {},
   "source": [
    "Can then create a random unitary matrix which is programmed onto the chip."
   ]
  },
  {
   "cell_type": "code",
   "execution_count": 3,
   "metadata": {},
   "outputs": [],
   "source": [
    "U = lw.random_unitary(N)\n",
    "\n",
    "circuit = lw.Unitary(U)"
   ]
  },
  {
   "attachments": {},
   "cell_type": "markdown",
   "metadata": {},
   "source": [
    "## Simulator\n",
    "First we try using the simulation part of the emulator. This allows the simulation of a number of input states, finding the probability amplitudes for the given outputs. To set this up, we specify the generated circuit to the simulator class. \n",
    "\n",
    "In this case we will choose to try to recreate the unitary matrix, which can be done by creating a list of all single photon input and output states."
   ]
  },
  {
   "cell_type": "code",
   "execution_count": 4,
   "metadata": {},
   "outputs": [],
   "source": [
    "# Create all single photon states by adding 1 to list when i=j, otherwise add 0\n",
    "states = [State([int(i == j) for j in range(N)]) for i in range(N)]\n",
    "\n",
    "sim = lw.Simulator(circuit, states, states)\n",
    "\n",
    "# Calculate probability amplitude\n",
    "backed = emulator.Backend(\"permanent\")\n",
    "results = backed.run(sim)\n",
    "\n",
    "U_calc = results.array"
   ]
  },
  {
   "attachments": {},
   "cell_type": "markdown",
   "metadata": {},
   "source": [
    "The resultant matrix probability amplitude matrix can be visualized below, and we see that the unitary is correctly replicated. Note that the unitary needs to be transposed for the plotting below to show identical matrices."
   ]
  },
  {
   "cell_type": "code",
   "execution_count": 5,
   "metadata": {},
   "outputs": [
    {
     "data": {
      "image/png": "[encoded data removed]",
      "text/plain": [
       "<Figure size 1200x600 with 2 Axes>"
      ]
     },
     "metadata": {},
     "output_type": "display_data"
    }
   ],
   "source": [
    "fig, ax = plt.subplots(1, 2, figsize=(12, 6))\n",
    "\n",
    "ax[0].imshow(abs(U.T))\n",
    "ax[1].imshow(abs(U_calc))\n",
    "ax[0].set_title(\"U\")\n",
    "ax[1].set_title(\"Calculated U\")\n",
    "\n",
    "plt.show()"
   ]
  },
  {
   "attachments": {},
   "cell_type": "markdown",
   "metadata": {},
   "source": [
    "It is also possible to directly view the probability amplitudes in a nicer form using the display_as_dataframe function included with the results object. In this case the values are converted to probabilities with the conv_to_probability keyword."
   ]
  },
  {
   "cell_type": "code",
   "execution_count": 6,
   "metadata": {},
   "outputs": [
    {
     "data": {
      "text/html": [
       "<div>\n",
       "<style scoped>\n",
       "    .dataframe tbody tr th:only-of-type {\n",
       "        vertical-align: middle;\n",
       "    }\n",
       "\n",
       "    .dataframe tbody tr th {\n",
       "        vertical-align: top;\n",
       "    }\n",
       "\n",
       "    .dataframe thead th {\n",
       "        text-align: right;\n",
       "    }\n",
       "</style>\n",
       "<table border=\"1\" class=\"dataframe\">\n",
       "  <thead>\n",
       "    <tr style=\"text-align: right;\">\n",
       "      <th></th>\n",
       "      <th>|1,0,0,0,0,0,0,0&gt;</th>\n",
       "      <th>|0,1,0,0,0,0,0,0&gt;</th>\n",
       "      <th>|0,0,1,0,0,0,0,0&gt;</th>\n",
       "      <th>|0,0,0,1,0,0,0,0&gt;</th>\n",
       "      <th>|0,0,0,0,1,0,0,0&gt;</th>\n",
       "      <th>|0,0,0,0,0,1,0,0&gt;</th>\n",
       "      <th>|0,0,0,0,0,0,1,0&gt;</th>\n",
       "      <th>|0,0,0,0,0,0,0,1&gt;</th>\n",
       "    </tr>\n",
       "  </thead>\n",
       "  <tbody>\n",
       "    <tr>\n",
       "      <th>|1,0,0,0,0,0,0,0&gt;</th>\n",
       "      <td>0.054219</td>\n",
       "      <td>0.030692</td>\n",
       "      <td>0.369378</td>\n",
       "      <td>0.333889</td>\n",
       "      <td>0.000770</td>\n",
       "      <td>0.025639</td>\n",
       "      <td>0.143519</td>\n",
       "      <td>0.041894</td>\n",
       "    </tr>\n",
       "    <tr>\n",
       "      <th>|0,1,0,0,0,0,0,0&gt;</th>\n",
       "      <td>0.011680</td>\n",
       "      <td>0.264869</td>\n",
       "      <td>0.064209</td>\n",
       "      <td>0.118370</td>\n",
       "      <td>0.289810</td>\n",
       "      <td>0.093067</td>\n",
       "      <td>0.005352</td>\n",
       "      <td>0.152644</td>\n",
       "    </tr>\n",
       "    <tr>\n",
       "      <th>|0,0,1,0,0,0,0,0&gt;</th>\n",
       "      <td>0.018689</td>\n",
       "      <td>0.090437</td>\n",
       "      <td>0.147608</td>\n",
       "      <td>0.141004</td>\n",
       "      <td>0.165931</td>\n",
       "      <td>0.124955</td>\n",
       "      <td>0.262464</td>\n",
       "      <td>0.048911</td>\n",
       "    </tr>\n",
       "    <tr>\n",
       "      <th>|0,0,0,1,0,0,0,0&gt;</th>\n",
       "      <td>0.116603</td>\n",
       "      <td>0.046318</td>\n",
       "      <td>0.111925</td>\n",
       "      <td>0.126841</td>\n",
       "      <td>0.094749</td>\n",
       "      <td>0.425849</td>\n",
       "      <td>0.049754</td>\n",
       "      <td>0.027963</td>\n",
       "    </tr>\n",
       "    <tr>\n",
       "      <th>|0,0,0,0,1,0,0,0&gt;</th>\n",
       "      <td>0.154861</td>\n",
       "      <td>0.208638</td>\n",
       "      <td>0.147460</td>\n",
       "      <td>0.015421</td>\n",
       "      <td>0.188167</td>\n",
       "      <td>0.086908</td>\n",
       "      <td>0.115069</td>\n",
       "      <td>0.083477</td>\n",
       "    </tr>\n",
       "    <tr>\n",
       "      <th>|0,0,0,0,0,1,0,0&gt;</th>\n",
       "      <td>0.142784</td>\n",
       "      <td>0.007850</td>\n",
       "      <td>0.044895</td>\n",
       "      <td>0.063095</td>\n",
       "      <td>0.072830</td>\n",
       "      <td>0.041421</td>\n",
       "      <td>0.295332</td>\n",
       "      <td>0.331795</td>\n",
       "    </tr>\n",
       "    <tr>\n",
       "      <th>|0,0,0,0,0,0,1,0&gt;</th>\n",
       "      <td>0.031335</td>\n",
       "      <td>0.322487</td>\n",
       "      <td>0.047759</td>\n",
       "      <td>0.104681</td>\n",
       "      <td>0.068356</td>\n",
       "      <td>0.129004</td>\n",
       "      <td>0.059216</td>\n",
       "      <td>0.237163</td>\n",
       "    </tr>\n",
       "    <tr>\n",
       "      <th>|0,0,0,0,0,0,0,1&gt;</th>\n",
       "      <td>0.469830</td>\n",
       "      <td>0.028710</td>\n",
       "      <td>0.066768</td>\n",
       "      <td>0.096700</td>\n",
       "      <td>0.119388</td>\n",
       "      <td>0.073157</td>\n",
       "      <td>0.069294</td>\n",
       "      <td>0.076153</td>\n",
       "    </tr>\n",
       "  </tbody>\n",
       "</table>\n",
       "</div>"
      ],
      "text/plain": [
       "                   |1,0,0,0,0,0,0,0>  |0,1,0,0,0,0,0,0>  |0,0,1,0,0,0,0,0>  \\\n",
       "|1,0,0,0,0,0,0,0>           0.054219           0.030692           0.369378   \n",
       "|0,1,0,0,0,0,0,0>           0.011680           0.264869           0.064209   \n",
       "|0,0,1,0,0,0,0,0>           0.018689           0.090437           0.147608   \n",
       "|0,0,0,1,0,0,0,0>           0.116603           0.046318           0.111925   \n",
       "|0,0,0,0,1,0,0,0>           0.154861           0.208638           0.147460   \n",
       "|0,0,0,0,0,1,0,0>           0.142784           0.007850           0.044895   \n",
       "|0,0,0,0,0,0,1,0>           0.031335           0.322487           0.047759   \n",
       "|0,0,0,0,0,0,0,1>           0.469830           0.028710           0.066768   \n",
       "\n",
       "                   |0,0,0,1,0,0,0,0>  |0,0,0,0,1,0,0,0>  |0,0,0,0,0,1,0,0>  \\\n",
       "|1,0,0,0,0,0,0,0>           0.333889           0.000770           0.025639   \n",
       "|0,1,0,0,0,0,0,0>           0.118370           0.289810           0.093067   \n",
       "|0,0,1,0,0,0,0,0>           0.141004           0.165931           0.124955   \n",
       "|0,0,0,1,0,0,0,0>           0.126841           0.094749           0.425849   \n",
       "|0,0,0,0,1,0,0,0>           0.015421           0.188167           0.086908   \n",
       "|0,0,0,0,0,1,0,0>           0.063095           0.072830           0.041421   \n",
       "|0,0,0,0,0,0,1,0>           0.104681           0.068356           0.129004   \n",
       "|0,0,0,0,0,0,0,1>           0.096700           0.119388           0.073157   \n",
       "\n",
       "                   |0,0,0,0,0,0,1,0>  |0,0,0,0,0,0,0,1>  \n",
       "|1,0,0,0,0,0,0,0>           0.143519           0.041894  \n",
       "|0,1,0,0,0,0,0,0>           0.005352           0.152644  \n",
       "|0,0,1,0,0,0,0,0>           0.262464           0.048911  \n",
       "|0,0,0,1,0,0,0,0>           0.049754           0.027963  \n",
       "|0,0,0,0,1,0,0,0>           0.115069           0.083477  \n",
       "|0,0,0,0,0,1,0,0>           0.295332           0.331795  \n",
       "|0,0,0,0,0,0,1,0>           0.059216           0.237163  \n",
       "|0,0,0,0,0,0,0,1>           0.069294           0.076153  "
      ]
     },
     "execution_count": 6,
     "metadata": {},
     "output_type": "execute_result"
    }
   ],
   "source": [
    "results.display_as_dataframe(conv_to_probability=True)"
   ]
  },
  {
   "attachments": {},
   "cell_type": "markdown",
   "metadata": {},
   "source": [
    "## Sampler\n",
    "Alternatively, the Sampler class can be used to emulate the process of measuring samples from the system. To initialise, this requires the generated circuit, the single input state that we want to look at, and the number of samples to collect. In this case we input a single photon on mode 0."
   ]
  },
  {
   "cell_type": "code",
   "execution_count": 7,
   "metadata": {},
   "outputs": [],
   "source": [
    "sampler = lw.Sampler(circuit, State([1] + [0] * (N - 1)), n_samples=100)"
   ]
  },
  {
   "attachments": {},
   "cell_type": "markdown",
   "metadata": {},
   "source": [
    "Once the sampler has been set up, we can then sample from it many times by running on the backend."
   ]
  },
  {
   "cell_type": "code",
   "execution_count": 8,
   "metadata": {},
   "outputs": [],
   "source": [
    "results = backed.run(sampler)\n",
    "\n",
    "mode_locs = []\n",
    "for state, count in results.items():\n",
    "    loc = state.s.index(1)\n",
    "    mode_locs += [loc] * count\n",
    "\n",
    "# Count number of times we measure a photon on each mode\n",
    "counted = Counter(mode_locs)"
   ]
  },
  {
   "attachments": {},
   "cell_type": "markdown",
   "metadata": {},
   "source": [
    "The counts can then be converted into probabilities and compared to the expected values from the unitary. As we only choose to look at 100 samples here, the measured and expected distributions tend to vary as not enough samples have been taken to see convergence."
   ]
  },
  {
   "cell_type": "code",
   "execution_count": 9,
   "metadata": {},
   "outputs": [
    {
     "data": {
      "image/png": "[encoded data removed]",
      "text/plain": [
       "<Figure size 700x600 with 1 Axes>"
      ]
     },
     "metadata": {},
     "output_type": "display_data"
    }
   ],
   "source": [
    "x = range(N)\n",
    "\n",
    "# Convert counts to a list and normalise to total count numbers\n",
    "p_calc = [counted[i] / sum(counted.values()) for i in x]\n",
    "\n",
    "# Find expected distribution\n",
    "p_exp = abs(U.T[0, :]) ** 2\n",
    "\n",
    "plt.figure(figsize=(7, 6))\n",
    "plt.bar(x, p_calc, label=\"Measured\", alpha=1)\n",
    "plt.bar(\n",
    "    x,\n",
    "    p_exp,\n",
    "    label=\"Expected\",\n",
    "    edgecolor=\"Black\",\n",
    "    fill=False,\n",
    "    linestyle=\"dashed\",\n",
    "    linewidth=1.5,\n",
    ")\n",
    "plt.xlabel(\"Output mode\")\n",
    "plt.ylabel(\"Counts\")\n",
    "plt.legend()\n",
    "plt.show()"
   ]
  }
 ],
 "metadata": {
  "kernelspec": {
   "display_name": "venv",
   "language": "python",
   "name": "python3"
  },
  "language_info": {
   "codemirror_mode": {
    "name": "ipython",
    "version": 3
   },
   "file_extension": ".py",
   "mimetype": "text/x-python",
   "name": "python",
   "nbconvert_exporter": "python",
   "pygments_lexer": "ipython3",
   "version": "3.11.6"
  },
  "orig_nbformat": 4
 },
 "nbformat": 4,
 "nbformat_minor": 2
}
