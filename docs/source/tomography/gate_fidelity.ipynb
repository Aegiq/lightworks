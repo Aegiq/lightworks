{
 "cells": [
  {
   "cell_type": "markdown",
   "metadata": {},
   "source": [
    "# Average Gate Fidelity\n",
    "Instead of performing process tomography on a system, it is possible to use a series of state tomographies and calculate an average gate fidelity from the measured density matices. To achieve this, the following equation can be used <cite data-cite=\"Nielsen_2002\">(Nielsen_2002)</cite>:\n",
    "\n",
    "$\\begin{equation}\\overline{F}(\\mathcal{E}, U) = \\frac{\\sum_{jk}\\alpha_{jk}tr(UU_j^{\\dagger}U^{\\dagger}\\mathcal{E}(\\rho_k))+d^2}{d^2(d+1)}\\end{equation},$\n",
    "\n",
    "where $\\mathcal{E}(\\rho_k) = \\rho_k^\\prime$ is the result from a single state tomography experiment with input $k$. This sum can then be evaluated using the input basis $\\ket{0}$, $\\ket{1}$, $\\frac{\\ket{0} + \\ket{1}}{\\sqrt{2}}$ & $\\frac{\\ket{0} + i\\ket{1}}{\\sqrt{2}}$ to determine an estimate for gate fidelity.\n",
    "\n",
    "This notebook demonstates how the included GateFidelity object in Lightworks can be used to automate the process of gathering and analysing data to find the average gate fidelities."
   ]
  },
  {
   "cell_type": "code",
   "execution_count": 1,
   "metadata": {},
   "outputs": [],
   "source": [
    "import matplotlib.pyplot as plt\n",
    "import numpy as np\n",
    "\n",
    "import lightworks as lw\n",
    "from lightworks import emulator, qubit\n",
    "from lightworks.tomography import GateFidelity"
   ]
  },
  {
   "cell_type": "markdown",
   "metadata": {},
   "source": [
    "As with process tomography, an experiment function needs to be defined which accepts a list of circuits and a list of inputs. In this example, as additional source_indistinguishability argument is included to allow for variation of this value, it defaults to a value of 1."
   ]
  },
  {
   "cell_type": "code",
   "execution_count": 2,
   "metadata": {},
   "outputs": [],
   "source": [
    "def experiment(\n",
    "    circuits: list[lw.PhotonicCircuit],\n",
    "    inputs: list[lw.State],\n",
    "    source_indistinguishability: float = 1.0,\n",
    ") -> list:\n",
    "    \"\"\"\n",
    "    Experiment function which is required for performing state tomography on a\n",
    "    system. It takes a list of circuits and generates a corresponding list of\n",
    "    results for each of them. Only supports one qubit systems currently.\n",
    "    \"\"\"\n",
    "    # Post-select on 1 photon across each pair of qubit modes\n",
    "    post_select = lw.PostSelection()\n",
    "    post_select.add((0, 1), 1)\n",
    "    post_select.add((2, 3), 1)\n",
    "\n",
    "    backend = emulator.Backend(\"slos\")\n",
    "\n",
    "    # Use a batch to run all tasks at once\n",
    "    batch = lw.Batch(\n",
    "        lw.Sampler,\n",
    "        task_args=[circuits, inputs, [20000]],\n",
    "        task_kwargs={\n",
    "            \"source\": [\n",
    "                emulator.Source(\n",
    "                    indistinguishability=source_indistinguishability\n",
    "                )\n",
    "            ],\n",
    "            \"post_selection\": [post_select],\n",
    "            \"random_seed\": [10],\n",
    "        },\n",
    "    )\n",
    "    return backend.run(batch)"
   ]
  },
  {
   "cell_type": "markdown",
   "metadata": {},
   "source": [
    "For this tutorial, the 2 qubit CNOT gate is used, which is created and shown below. A 90% loss is also included on each of the output channels."
   ]
  },
  {
   "cell_type": "code",
   "execution_count": 3,
   "metadata": {},
   "outputs": [
    {
     "data": {
      "image/svg+xml": [
       "<?xml version=\"1.0\" encoding=\"UTF-8\"?>\n",
       "<svg xmlns=\"http://www.w3.org/2000/svg\" xmlns:xlink=\"http://www.w3.org/1999/xlink\"\n",
       "     width=\"350.3225806451613\" height=\"362.0\" viewBox=\"0 0 750.0 775\">\n",
       "<defs>\n",
       "</defs>\n",
       "<rect x=\"0\" y=\"0\" width=\"750.0\" height=\"775\" fill=\"white\" stroke=\"none\" />\n",
       "<rect x=\"100.0\" y=\"25\" width=\"550.0\" height=\"725\" fill=\"none\" stroke=\"black\" />\n",
       "<rect x=\"92.0\" y=\"124.5\" width=\"8\" height=\"1\" fill=\"black\" />\n",
       "<rect x=\"92.0\" y=\"199.5\" width=\"8\" height=\"1\" fill=\"black\" />\n",
       "<rect x=\"92.0\" y=\"324.5\" width=\"8\" height=\"1\" fill=\"black\" />\n",
       "<rect x=\"92.0\" y=\"449.5\" width=\"8\" height=\"1\" fill=\"black\" />\n",
       "<rect x=\"92.0\" y=\"574.5\" width=\"8\" height=\"1\" fill=\"black\" />\n",
       "<rect x=\"92.0\" y=\"649.5\" width=\"8\" height=\"1\" fill=\"black\" />\n",
       "<text x=\"80.0\" y=\"127\" font-size=\"25\" fill=\"black\" text-anchor=\"end\" dominant-baseline=\"middle\" transform=\"rotate(0, 80.0, 127)\">-</text>\n",
       "<text x=\"80.0\" y=\"202\" font-size=\"25\" fill=\"black\" text-anchor=\"end\" dominant-baseline=\"middle\" transform=\"rotate(0, 80.0, 202)\">0</text>\n",
       "<text x=\"80.0\" y=\"327\" font-size=\"25\" fill=\"black\" text-anchor=\"end\" dominant-baseline=\"middle\" transform=\"rotate(0, 80.0, 327)\">1</text>\n",
       "<text x=\"80.0\" y=\"452\" font-size=\"25\" fill=\"black\" text-anchor=\"end\" dominant-baseline=\"middle\" transform=\"rotate(0, 80.0, 452)\">2</text>\n",
       "<text x=\"80.0\" y=\"577\" font-size=\"25\" fill=\"black\" text-anchor=\"end\" dominant-baseline=\"middle\" transform=\"rotate(0, 80.0, 577)\">3</text>\n",
       "<text x=\"80.0\" y=\"652\" font-size=\"25\" fill=\"black\" text-anchor=\"end\" dominant-baseline=\"middle\" transform=\"rotate(0, 80.0, 652)\">-</text>\n",
       "<rect x=\"199.95\" y=\"121.0\" width=\"50.1\" height=\"8\" fill=\"black\" />\n",
       "<rect x=\"149.95\" y=\"196.0\" width=\"100.1\" height=\"8\" fill=\"black\" />\n",
       "<rect x=\"149.95\" y=\"321.0\" width=\"100.1\" height=\"8\" fill=\"black\" />\n",
       "<rect x=\"149.95\" y=\"446.0\" width=\"100.1\" height=\"8\" fill=\"black\" />\n",
       "<rect x=\"149.95\" y=\"571.0\" width=\"100.1\" height=\"8\" fill=\"black\" />\n",
       "<rect x=\"199.95\" y=\"646.0\" width=\"50.1\" height=\"8\" fill=\"black\" />\n",
       "<rect x=\"250.0\" y=\"100.0\" width=\"100\" height=\"575\" fill=\"#1a0f36\" stroke=\"black\" rx=\"5\" ry=\"5\" />\n",
       "<text x=\"300.0\" y=\"387.5\" font-size=\"25\" fill=\"white\" text-anchor=\"middle\" dominant-baseline=\"middle\" transform=\"rotate(270, 300.0, 387.5)\">CNOT (0, 1)</text>\n",
       "<rect x=\"349.95\" y=\"121.0\" width=\"50.1\" height=\"8\" fill=\"black\" />\n",
       "<rect x=\"349.95\" y=\"196.0\" width=\"100.1\" height=\"8\" fill=\"black\" />\n",
       "<rect x=\"349.95\" y=\"321.0\" width=\"100.1\" height=\"8\" fill=\"black\" />\n",
       "<rect x=\"349.95\" y=\"446.0\" width=\"100.1\" height=\"8\" fill=\"black\" />\n",
       "<rect x=\"349.95\" y=\"571.0\" width=\"100.1\" height=\"8\" fill=\"black\" />\n",
       "<rect x=\"349.95\" y=\"646.0\" width=\"50.1\" height=\"8\" fill=\"black\" />\n",
       "<circle cx=\"200.0\" cy=\"125\" r=\"25\" fill=\"#3e368d\" stroke=\"black\" />\n",
       "<text x=\"200.0\" y=\"127.5\" font-size=\"30\" fill=\"white\" text-anchor=\"middle\" dominant-baseline=\"middle\" transform=\"rotate(0, 200.0, 127.5)\">0</text>\n",
       "<circle cx=\"200.0\" cy=\"650\" r=\"25\" fill=\"#3e368d\" stroke=\"black\" />\n",
       "<text x=\"200.0\" y=\"652.5\" font-size=\"30\" fill=\"white\" text-anchor=\"middle\" dominant-baseline=\"middle\" transform=\"rotate(0, 200.0, 652.5)\">0</text>\n",
       "<circle cx=\"400.0\" cy=\"125\" r=\"25\" fill=\"#3e368d\" stroke=\"black\" />\n",
       "<text x=\"400.0\" y=\"127.5\" font-size=\"30\" fill=\"white\" text-anchor=\"middle\" dominant-baseline=\"middle\" transform=\"rotate(0, 400.0, 127.5)\">0</text>\n",
       "<circle cx=\"400.0\" cy=\"650\" r=\"25\" fill=\"#3e368d\" stroke=\"black\" />\n",
       "<text x=\"400.0\" y=\"652.5\" font-size=\"30\" fill=\"white\" text-anchor=\"middle\" dominant-baseline=\"middle\" transform=\"rotate(0, 400.0, 652.5)\">0</text>\n",
       "<rect x=\"449.95\" y=\"196.0\" width=\"50.1\" height=\"8\" fill=\"black\" />\n",
       "<rect x=\"500.0\" y=\"175.0\" width=\"50\" height=\"50\" fill=\"grey\" stroke=\"black\" rx=\"5\" ry=\"5\" />\n",
       "<text x=\"525.0\" y=\"202\" font-size=\"25\" fill=\"white\" text-anchor=\"middle\" dominant-baseline=\"middle\" transform=\"rotate(0, 525.0, 202)\">L</text>\n",
       "<text x=\"525.0\" y=\"250\" font-size=\"18\" fill=\"black\" text-anchor=\"middle\" dominant-baseline=\"middle\" transform=\"rotate(0, 525.0, 250)\">loss = 0.9</text>\n",
       "<rect x=\"549.95\" y=\"196.0\" width=\"50.1\" height=\"8\" fill=\"black\" />\n",
       "<rect x=\"449.95\" y=\"321.0\" width=\"50.1\" height=\"8\" fill=\"black\" />\n",
       "<rect x=\"500.0\" y=\"300.0\" width=\"50\" height=\"50\" fill=\"grey\" stroke=\"black\" rx=\"5\" ry=\"5\" />\n",
       "<text x=\"525.0\" y=\"327\" font-size=\"25\" fill=\"white\" text-anchor=\"middle\" dominant-baseline=\"middle\" transform=\"rotate(0, 525.0, 327)\">L</text>\n",
       "<text x=\"525.0\" y=\"375\" font-size=\"18\" fill=\"black\" text-anchor=\"middle\" dominant-baseline=\"middle\" transform=\"rotate(0, 525.0, 375)\">loss = 0.9</text>\n",
       "<rect x=\"549.95\" y=\"321.0\" width=\"50.1\" height=\"8\" fill=\"black\" />\n",
       "<rect x=\"449.95\" y=\"446.0\" width=\"50.1\" height=\"8\" fill=\"black\" />\n",
       "<rect x=\"500.0\" y=\"425.0\" width=\"50\" height=\"50\" fill=\"grey\" stroke=\"black\" rx=\"5\" ry=\"5\" />\n",
       "<text x=\"525.0\" y=\"452\" font-size=\"25\" fill=\"white\" text-anchor=\"middle\" dominant-baseline=\"middle\" transform=\"rotate(0, 525.0, 452)\">L</text>\n",
       "<text x=\"525.0\" y=\"500\" font-size=\"18\" fill=\"black\" text-anchor=\"middle\" dominant-baseline=\"middle\" transform=\"rotate(0, 525.0, 500)\">loss = 0.9</text>\n",
       "<rect x=\"549.95\" y=\"446.0\" width=\"50.1\" height=\"8\" fill=\"black\" />\n",
       "<rect x=\"449.95\" y=\"571.0\" width=\"50.1\" height=\"8\" fill=\"black\" />\n",
       "<rect x=\"500.0\" y=\"550.0\" width=\"50\" height=\"50\" fill=\"grey\" stroke=\"black\" rx=\"5\" ry=\"5\" />\n",
       "<text x=\"525.0\" y=\"577\" font-size=\"25\" fill=\"white\" text-anchor=\"middle\" dominant-baseline=\"middle\" transform=\"rotate(0, 525.0, 577)\">L</text>\n",
       "<text x=\"525.0\" y=\"625\" font-size=\"18\" fill=\"black\" text-anchor=\"middle\" dominant-baseline=\"middle\" transform=\"rotate(0, 525.0, 625)\">loss = 0.9</text>\n",
       "<rect x=\"549.95\" y=\"571.0\" width=\"50.1\" height=\"8\" fill=\"black\" />\n",
       "</svg>"
      ],
      "text/plain": [
       "<drawsvg.drawing.Drawing at 0x26bf1001a10>"
      ]
     },
     "metadata": {},
     "output_type": "display_data"
    }
   ],
   "source": [
    "n_qubits = 2\n",
    "\n",
    "cnot = qubit.CNOT()\n",
    "for i in range(4):\n",
    "    cnot.loss(i, 0.9)\n",
    "cnot.display(display_loss=True)"
   ]
  },
  {
   "cell_type": "markdown",
   "metadata": {},
   "source": [
    "## Ideal System\n",
    "To measure the average gate fidelity, a new GateFidelity object is created with the required configuration. Initially, we want to test an ideal system, so the photon indistinguishability is set to 1. The experiment_args value needs to be an iterable such as a list, hence why this is supplied as [1]."
   ]
  },
  {
   "cell_type": "code",
   "execution_count": 4,
   "metadata": {},
   "outputs": [],
   "source": [
    "gate_f = GateFidelity(n_qubits, cnot, experiment, experiment_args=[1])"
   ]
  },
  {
   "cell_type": "markdown",
   "metadata": {},
   "source": [
    "The fidelity is then calculated with the process method. Unlike the other tomography approaches, the average gate fidelity requires knowledge of the expected unitary matrix for the gate. In the case of the CNOT gate, this is\n",
    "\n",
    "\\begin{equation} \\text{U}_\\text{cnot} = \\begin{bmatrix} 1 & 0 & 0 & 0 \\\\ 0 & 1 & 0 & 0 \\\\ 0 & 0 & 0 & 1 \\\\ 0 & 0 & 1 & 0 \\end{bmatrix},\\end{equation}\n",
    "\n",
    "which is encoded within the array below.\n",
    "\n",
    "As expected, the calculated fidelity with an ideal system is nearly 100%."
   ]
  },
  {
   "cell_type": "code",
   "execution_count": 5,
   "metadata": {},
   "outputs": [
    {
     "name": "stdout",
     "output_type": "stream",
     "text": [
      "Average gate fidelity = 99.844 %\n"
     ]
    }
   ],
   "source": [
    "u_cnot = np.array([[1, 0, 0, 0], [0, 1, 0, 0], [0, 0, 0, 1], [0, 0, 1, 0]])\n",
    "avg_fidelity = gate_f.process(u_cnot)\n",
    "\n",
    "print(f\"Average gate fidelity = {avg_fidelity * 100} %\")"
   ]
  },
  {
   "cell_type": "markdown",
   "metadata": {},
   "source": [
    "## Photon Distinguishability\n",
    "\n",
    "It is then possible to use the built-in noise modelling in Lightworks to simulate the likely effect that this has on the gate fidelity. A key limitation for gate fidelity is the extent to which photons are indistinguishable from each other, with distinguishability reducing overall fidelity.\n",
    "\n",
    "To examine this effect, we sweep the photon indistinguishability from 80 to 100% and calculate the fidelity at each point. This is then plotted to view the relationship between the two quantities.\n",
    "\n",
    ".. note:: This cell may take a while to execute (~1 min)."
   ]
  },
  {
   "cell_type": "code",
   "execution_count": 6,
   "metadata": {},
   "outputs": [
    {
     "data": {
      "image/png": "[encoded data removed]",
      "text/plain": [
       "<Figure size 640x480 with 1 Axes>"
      ]
     },
     "metadata": {},
     "output_type": "display_data"
    }
   ],
   "source": [
    "indistinguishability = range(80, 101, 2)\n",
    "\n",
    "fidelities = []\n",
    "for ind in indistinguishability:\n",
    "    # Modify experiment args with new value\n",
    "    gate_f.experiment_args = [ind / 100]\n",
    "    # Then re-calculate fidelity\n",
    "    fidelities.append(gate_f.process(u_cnot) * 100)\n",
    "\n",
    "plt.plot(indistinguishability, fidelities)\n",
    "plt.xlabel(\"Photon Indistinguishability (%)\")\n",
    "plt.ylabel(\"CNOT Fidelity (%)\")\n",
    "plt.show()"
   ]
  }
 ],
 "metadata": {
  "kernelspec": {
   "display_name": "venv",
   "language": "python",
   "name": "python3"
  },
  "language_info": {
   "codemirror_mode": {
    "name": "ipython",
    "version": 3
   },
   "file_extension": ".py",
   "mimetype": "text/x-python",
   "name": "python",
   "nbconvert_exporter": "python",
   "pygments_lexer": "ipython3",
   "version": "3.11.6"
  }
 },
 "nbformat": 4,
 "nbformat_minor": 2
}
