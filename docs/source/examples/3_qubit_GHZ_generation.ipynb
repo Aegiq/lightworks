{
 "cells": [
  {
   "cell_type": "markdown",
   "metadata": {},
   "source": [
    "# 3 Qubit GHZ Generation\n",
    "- This demo shows how Lightwords can be utilized for the qubit based paradigm of quantum computing."
   ]
  },
  {
   "cell_type": "code",
   "execution_count": 15,
   "metadata": {},
   "outputs": [],
   "source": [
    "import lightworks as lw\n",
    "from lightworks import emulator, State\n",
    "\n",
    "import numpy as np\n",
    "import matplotlib.pyplot as plt"
   ]
  },
  {
   "cell_type": "markdown",
   "metadata": {},
   "source": [
    "## Theory\n",
    "\n",
    "In the following we show a demonstration of the implementation of two successive CNOTs across 3 qubits to generate the 3 photon entangled GHZ state $\\frac{1}{\\sqrt{2}}(\\ket{000} + \\ket{111})$.\n",
    "\n",
    "In qubit language we start with the state $\\ket{000}$, a hadamard is then applied to the first qubit, this gives: \n",
    "\n",
    "\\begin{equation} H_1\\ket{000} = \\frac{1}{\\sqrt{2}}(\\ket{000} + \\ket{100}) \\tag{1} \\end{equation}\n",
    "\n",
    "On application of the first CNOT between qubits 1 and 2, the state is then transformed into:\n",
    "\n",
    "\\begin{equation} CNOT_{1,2}\\;\\frac{1}{\\sqrt{2}}(\\ket{000} + \\ket{100}) = \\frac{1}{\\sqrt{2}}(\\ket{000} + \\ket{110}) \\tag{2} \\end{equation}\n",
    "\n",
    "Then, on application of the second CNOT between qubits 2 and 3, we get the GHZ state:\n",
    "\n",
    "\\begin{equation} CNOT_{2,3}\\;\\frac{1}{\\sqrt{2}}(\\ket{000} + \\ket{110}) = \\frac{1}{\\sqrt{2}}(\\ket{000} + \\ket{111}) \\tag{3} \\end{equation}"
   ]
  },
  {
   "cell_type": "markdown",
   "metadata": {},
   "source": [
    "## Circuit\n",
    "- We can create the circuit described with the code in the cell below.\n",
    "- This cell also demonstrates some of the additional functionality included with the Circuit, such as the ability to combine circuits together and also group components to a singular object for clarity with the display method."
   ]
  },
  {
   "cell_type": "code",
   "execution_count": 16,
   "metadata": {},
   "outputs": [
    {
     "data": {
      "image/svg+xml": [
       "<?xml version=\"1.0\" encoding=\"UTF-8\"?>\n",
       "<svg xmlns=\"http://www.w3.org/2000/svg\" xmlns:xlink=\"http://www.w3.org/1999/xlink\"\n",
       "     width=\"539.6363636363636\" height=\"699.9999999999999\" viewBox=\"0 0 1060 1375\">\n",
       "<defs>\n",
       "</defs>\n",
       "<rect x=\"100\" y=\"25\" width=\"860\" height=\"1325\" fill=\"none\" stroke=\"black\" />\n",
       "<rect x=\"92\" y=\"124.5\" width=\"8\" height=\"1\" fill=\"black\" />\n",
       "<rect x=\"92\" y=\"249.5\" width=\"8\" height=\"1\" fill=\"black\" />\n",
       "<rect x=\"92\" y=\"374.5\" width=\"8\" height=\"1\" fill=\"black\" />\n",
       "<rect x=\"92\" y=\"499.5\" width=\"8\" height=\"1\" fill=\"black\" />\n",
       "<rect x=\"92\" y=\"624.5\" width=\"8\" height=\"1\" fill=\"black\" />\n",
       "<rect x=\"92\" y=\"749.5\" width=\"8\" height=\"1\" fill=\"black\" />\n",
       "<rect x=\"92\" y=\"874.5\" width=\"8\" height=\"1\" fill=\"black\" />\n",
       "<rect x=\"92\" y=\"999.5\" width=\"8\" height=\"1\" fill=\"black\" />\n",
       "<rect x=\"92\" y=\"1124.5\" width=\"8\" height=\"1\" fill=\"black\" />\n",
       "<rect x=\"92\" y=\"1249.5\" width=\"8\" height=\"1\" fill=\"black\" />\n",
       "<text x=\"80\" y=\"127\" font-size=\"25\" fill=\"black\" text-anchor=\"end\" dominant-baseline=\"middle\" transform=\"rotate(0, 80, 127)\">-</text>\n",
       "<text x=\"80\" y=\"252\" font-size=\"25\" fill=\"black\" text-anchor=\"end\" dominant-baseline=\"middle\" transform=\"rotate(0, 80, 252)\">|1&gt;</text>\n",
       "<text x=\"80\" y=\"377\" font-size=\"25\" fill=\"black\" text-anchor=\"end\" dominant-baseline=\"middle\" transform=\"rotate(0, 80, 377)\">-</text>\n",
       "<text x=\"80\" y=\"502\" font-size=\"25\" fill=\"black\" text-anchor=\"end\" dominant-baseline=\"middle\" transform=\"rotate(0, 80, 502)\">|1&gt;</text>\n",
       "<text x=\"80\" y=\"627\" font-size=\"25\" fill=\"black\" text-anchor=\"end\" dominant-baseline=\"middle\" transform=\"rotate(0, 80, 627)\">-</text>\n",
       "<text x=\"80\" y=\"752\" font-size=\"25\" fill=\"black\" text-anchor=\"end\" dominant-baseline=\"middle\" transform=\"rotate(0, 80, 752)\">-</text>\n",
       "<text x=\"80\" y=\"877\" font-size=\"25\" fill=\"black\" text-anchor=\"end\" dominant-baseline=\"middle\" transform=\"rotate(0, 80, 877)\">-</text>\n",
       "<text x=\"80\" y=\"1002\" font-size=\"25\" fill=\"black\" text-anchor=\"end\" dominant-baseline=\"middle\" transform=\"rotate(0, 80, 1002)\">|1&gt;</text>\n",
       "<text x=\"80\" y=\"1127\" font-size=\"25\" fill=\"black\" text-anchor=\"end\" dominant-baseline=\"middle\" transform=\"rotate(0, 80, 1127)\">-</text>\n",
       "<text x=\"80\" y=\"1252\" font-size=\"25\" fill=\"black\" text-anchor=\"end\" dominant-baseline=\"middle\" transform=\"rotate(0, 80, 1252)\">-</text>\n",
       "<rect x=\"149.95\" y=\"246.0\" width=\"50.1\" height=\"8\" fill=\"black\" />\n",
       "<rect x=\"149.95\" y=\"371.0\" width=\"50.1\" height=\"8\" fill=\"black\" />\n",
       "<rect x=\"200\" y=\"225.0\" width=\"100\" height=\"175\" fill=\"#1a0f36\" stroke=\"black\" rx=\"5\" ry=\"5\" />\n",
       "<text x=\"250.0\" y=\"312.5\" font-size=\"35\" fill=\"white\" text-anchor=\"middle\" dominant-baseline=\"middle\" transform=\"rotate(0, 250.0, 312.5)\">H</text>\n",
       "<rect x=\"299.95\" y=\"246.0\" width=\"50.1\" height=\"8\" fill=\"black\" />\n",
       "<rect x=\"299.95\" y=\"371.0\" width=\"50.1\" height=\"8\" fill=\"black\" />\n",
       "<rect x=\"149.95\" y=\"121.0\" width=\"200.1\" height=\"8\" fill=\"black\" />\n",
       "<rect x=\"149.95\" y=\"496.0\" width=\"200.1\" height=\"8\" fill=\"black\" />\n",
       "<rect x=\"149.95\" y=\"621.0\" width=\"200.1\" height=\"8\" fill=\"black\" />\n",
       "<rect x=\"149.95\" y=\"746.0\" width=\"200.1\" height=\"8\" fill=\"black\" />\n",
       "<rect x=\"349.95\" y=\"121.0\" width=\"50.1\" height=\"8\" fill=\"black\" />\n",
       "<rect x=\"349.95\" y=\"246.0\" width=\"50.1\" height=\"8\" fill=\"black\" />\n",
       "<rect x=\"349.95\" y=\"371.0\" width=\"50.1\" height=\"8\" fill=\"black\" />\n",
       "<rect x=\"349.95\" y=\"496.0\" width=\"50.1\" height=\"8\" fill=\"black\" />\n",
       "<rect x=\"349.95\" y=\"621.0\" width=\"50.1\" height=\"8\" fill=\"black\" />\n",
       "<rect x=\"349.95\" y=\"746.0\" width=\"50.1\" height=\"8\" fill=\"black\" />\n",
       "<rect x=\"400\" y=\"100.0\" width=\"100\" height=\"675\" fill=\"#1a0f36\" stroke=\"black\" rx=\"5\" ry=\"5\" />\n",
       "<text x=\"450.0\" y=\"437.5\" font-size=\"25\" fill=\"white\" text-anchor=\"middle\" dominant-baseline=\"middle\" transform=\"rotate(270, 450.0, 437.5)\">CNOT 1</text>\n",
       "<rect x=\"499.95\" y=\"121.0\" width=\"50.1\" height=\"8\" fill=\"black\" />\n",
       "<rect x=\"499.95\" y=\"246.0\" width=\"50.1\" height=\"8\" fill=\"black\" />\n",
       "<rect x=\"499.95\" y=\"371.0\" width=\"50.1\" height=\"8\" fill=\"black\" />\n",
       "<rect x=\"499.95\" y=\"496.0\" width=\"50.1\" height=\"8\" fill=\"black\" />\n",
       "<rect x=\"499.95\" y=\"621.0\" width=\"50.1\" height=\"8\" fill=\"black\" />\n",
       "<rect x=\"499.95\" y=\"746.0\" width=\"50.1\" height=\"8\" fill=\"black\" />\n",
       "<rect x=\"149.95\" y=\"871.0\" width=\"400.1\" height=\"8\" fill=\"black\" />\n",
       "<rect x=\"549.95\" y=\"496.0\" width=\"25.1\" height=\"8\" fill=\"black\" />\n",
       "<rect x=\"549.95\" y=\"621.0\" width=\"25.1\" height=\"8\" fill=\"black\" />\n",
       "<rect x=\"549.95\" y=\"746.0\" width=\"25.1\" height=\"8\" fill=\"black\" />\n",
       "<rect x=\"549.95\" y=\"871.0\" width=\"25.1\" height=\"8\" fill=\"black\" />\n",
       "<path d=\"M579.6251578088404,496.0 L575,496.0 L575,504.0 L575,504.0 L680.3748421911596,754.0 L685,754.0 L685,746.0 L685,746.0 Z\" fill=\"black\" />\n",
       "<path d=\"M579.6251578088404,621.0 L575,621.0 L575,629.0 L575,629.0 L680.3748421911596,879.0 L685,879.0 L685,871.0 L685,871.0 Z\" fill=\"black\" />\n",
       "<path d=\"M575,746.0 L575,746.0 L575,754.0 L579.6251578088404,754.0 L685,504.0 L685,504.0 L685,496.0 L680.3748421911596,496.0 Z\" fill=\"black\" />\n",
       "<path d=\"M575,871.0 L575,871.0 L575,879.0 L579.6251578088404,879.0 L685,629.0 L685,629.0 L685,621.0 L680.3748421911596,621.0 Z\" fill=\"black\" />\n",
       "<rect x=\"684.95\" y=\"496.0\" width=\"25.1\" height=\"8\" fill=\"black\" />\n",
       "<rect x=\"684.95\" y=\"621.0\" width=\"25.1\" height=\"8\" fill=\"black\" />\n",
       "<rect x=\"684.95\" y=\"746.0\" width=\"25.1\" height=\"8\" fill=\"black\" />\n",
       "<rect x=\"684.95\" y=\"871.0\" width=\"25.1\" height=\"8\" fill=\"black\" />\n",
       "<rect x=\"149.95\" y=\"996.0\" width=\"560.1\" height=\"8\" fill=\"black\" />\n",
       "<rect x=\"149.95\" y=\"1121.0\" width=\"560.1\" height=\"8\" fill=\"black\" />\n",
       "<rect x=\"149.95\" y=\"1246.0\" width=\"560.1\" height=\"8\" fill=\"black\" />\n",
       "<rect x=\"709.95\" y=\"621.0\" width=\"50.1\" height=\"8\" fill=\"black\" />\n",
       "<rect x=\"709.95\" y=\"746.0\" width=\"50.1\" height=\"8\" fill=\"black\" />\n",
       "<rect x=\"709.95\" y=\"871.0\" width=\"50.1\" height=\"8\" fill=\"black\" />\n",
       "<rect x=\"709.95\" y=\"996.0\" width=\"50.1\" height=\"8\" fill=\"black\" />\n",
       "<rect x=\"709.95\" y=\"1121.0\" width=\"50.1\" height=\"8\" fill=\"black\" />\n",
       "<rect x=\"709.95\" y=\"1246.0\" width=\"50.1\" height=\"8\" fill=\"black\" />\n",
       "<rect x=\"760\" y=\"600.0\" width=\"100\" height=\"675\" fill=\"#1a0f36\" stroke=\"black\" rx=\"5\" ry=\"5\" />\n",
       "<text x=\"810.0\" y=\"937.5\" font-size=\"25\" fill=\"white\" text-anchor=\"middle\" dominant-baseline=\"middle\" transform=\"rotate(270, 810.0, 937.5)\">CNOT 2</text>\n",
       "<rect x=\"859.95\" y=\"621.0\" width=\"50.1\" height=\"8\" fill=\"black\" />\n",
       "<rect x=\"859.95\" y=\"746.0\" width=\"50.1\" height=\"8\" fill=\"black\" />\n",
       "<rect x=\"859.95\" y=\"871.0\" width=\"50.1\" height=\"8\" fill=\"black\" />\n",
       "<rect x=\"859.95\" y=\"996.0\" width=\"50.1\" height=\"8\" fill=\"black\" />\n",
       "<rect x=\"859.95\" y=\"1121.0\" width=\"50.1\" height=\"8\" fill=\"black\" />\n",
       "<rect x=\"859.95\" y=\"1246.0\" width=\"50.1\" height=\"8\" fill=\"black\" />\n",
       "<rect x=\"549.95\" y=\"121.0\" width=\"360.1\" height=\"8\" fill=\"black\" />\n",
       "<rect x=\"549.95\" y=\"246.0\" width=\"360.1\" height=\"8\" fill=\"black\" />\n",
       "<rect x=\"549.95\" y=\"371.0\" width=\"360.1\" height=\"8\" fill=\"black\" />\n",
       "<rect x=\"709.95\" y=\"496.0\" width=\"200.1\" height=\"8\" fill=\"black\" />\n",
       "</svg>"
      ],
      "text/plain": [
       "<drawsvg.drawing.Drawing at 0x1e3cf9b7d90>"
      ]
     },
     "metadata": {},
     "output_type": "display_data"
    }
   ],
   "source": [
    "# Store some key parameters\n",
    "r = 1/3\n",
    "loss = 0.2\n",
    "theta = np.arccos(r)\n",
    "\n",
    "# We will first generate a smaller circuit which contains the circuitry \n",
    "# required to implement a photonic CNOT gate \n",
    "cnot_circuit = lw.Circuit(6)\n",
    "to_add = [(3, np.pi/2, 0), (0, theta, 0), (2, theta, np.pi), (4, theta, 0), \n",
    "          (3, np.pi/2, 0)]\n",
    "for m, t, p in to_add:\n",
    "    cnot_circuit.add_bs(m, loss = loss, reflectivity = 0.5)\n",
    "    cnot_circuit.add_ps(m+1, t)\n",
    "    cnot_circuit.add_bs(m, loss = loss, reflectivity = 0.5)\n",
    "    cnot_circuit.add_ps(m+1, p)\n",
    "    \n",
    "# Also define the circuit for the Hadamard gate\n",
    "h_circuit = lw.Circuit(2)\n",
    "h_circuit.add_bs(0, convention=\"H\")\n",
    "\n",
    "# We will then define the larger overall circuit\n",
    "circuit = lw.Circuit(10)\n",
    "\n",
    "# First add the initial Hadamard (H) gate which acts on qubit 1.\n",
    "# Note: the group variable is used to group all components from the sub-circuit\n",
    "# and it can be assigned a name\n",
    "circuit.add(h_circuit, 1, group = True, name = \"H\")\n",
    "# Then include the first CNOT, again grouping all components\n",
    "circuit.add(cnot_circuit, 0, group = True, name = f\"CNOT 1\")\n",
    "# We then used a mode swap to efficiently rearrange some of the modes in the QPU\n",
    "circuit.add_mode_swaps({3:5, 4:6, 5:3, 6:4})\n",
    "# Then add second CNOT\n",
    "circuit.add(cnot_circuit, 4, group = True, name = f\"CNOT 2\")\n",
    "\n",
    "# Use display method, we will assign mode labels which allow us to mark which\n",
    "# mode the photons should be input on\n",
    "circuit.display(display_type = \"svg\", \n",
    "                mode_labels = ['-','|1>','-','|1>','-', '-','-','|1>',\n",
    "                               '-','-'])"
   ]
  },
  {
   "cell_type": "markdown",
   "metadata": {},
   "source": [
    "## Simulation with perfect system\n",
    "- We can then simulate the system to check the expected output.\n",
    "- Before simulation, we will define a processing function to convert the results - the exact details of what this does are not too important, it just switches between the photon and qubit representations."
   ]
  },
  {
   "cell_type": "code",
   "execution_count": 17,
   "metadata": {},
   "outputs": [],
   "source": [
    "def process_cnot_data(data):\n",
    "    # Get relevant output modes from circuit\n",
    "    filtered_results = {}\n",
    "    for s, p in data.items():\n",
    "        if p > 1e-10:\n",
    "            new_s = s[1:3] + s[5:7] + s[7:9]\n",
    "            if new_s in filtered_results:\n",
    "                filtered_results[new_s] += p\n",
    "            else:\n",
    "                filtered_results[new_s] = p\n",
    "    # Convert mode data into qubit form\n",
    "    converted_results = {}\n",
    "    for s, p in filtered_results.items():\n",
    "        conv_state = \"\"\n",
    "        for i in range(0, len(s), 2):\n",
    "            if s[i:i+2] == State([1,0]):\n",
    "                conv_state += \"0\"\n",
    "            elif s[i:i+2] == State([0,1]):\n",
    "                conv_state += \"1\"\n",
    "            else:\n",
    "                conv_state += \"X\"\n",
    "        converted_results[conv_state] = p\n",
    "    return converted_results"
   ]
  },
  {
   "cell_type": "markdown",
   "metadata": {},
   "source": [
    "- As part of the simulation, we will define what is known as a heralding function. \n",
    "- This means that we will only accept outputs for which this particular rule is true.\n",
    "- We then use the Sampler again to find the outputs from the system."
   ]
  },
  {
   "cell_type": "code",
   "execution_count": 18,
   "metadata": {},
   "outputs": [],
   "source": [
    "sampler = emulator.Sampler(circuit, State([0,1,0,1,0,0,0,1,0,0]))\n",
    "\n",
    "# Define herald and get results\n",
    "herald = lambda s: (not s[0] and not s[3] and not s[4] and not s[9] \n",
    "                    and s[1:3].num() == 1 and s[5:7].num() == 1\n",
    "                    and s[7:9].num() == 1)\n",
    "results = sampler.sample_N_inputs(100000, herald = herald, seed = 1)\n",
    "# Process with function\n",
    "converted_results = process_cnot_data(results)"
   ]
  },
  {
   "cell_type": "markdown",
   "metadata": {},
   "source": [
    "- These results can then be plotted.\n",
    "- We see the two expected measurement outcomes for the state $\\frac{1}{\\sqrt{2}}(\\ket{000} + \\ket{111})$."
   ]
  },
  {
   "cell_type": "code",
   "execution_count": 19,
   "metadata": {},
   "outputs": [
    {
     "data": {
      "image/png": "[encoded data removed]",
      "text/plain": [
       "<Figure size 700x600 with 1 Axes>"
      ]
     },
     "metadata": {},
     "output_type": "display_data"
    }
   ],
   "source": [
    "plt.figure(figsize = (7,6))\n",
    "plt.bar(range(len(converted_results)), converted_results.values())\n",
    "plt.xticks(range(len(converted_results)), converted_results.keys())\n",
    "plt.xlabel(\"Output Qubit State\")\n",
    "plt.ylabel(\"Count\")\n",
    "plt.show()"
   ]
  },
  {
   "cell_type": "markdown",
   "metadata": {},
   "source": [
    "## Simulation with imperfect source and detectors\n",
    "- Unfortunately, the components of our system are not perfect, and these imperfections will alter the results we see.\n",
    "- Luckily, we can simulate and understand this with the emulator.\n",
    "- To do this we will modify some of the attributes of the Sampler object to account for imperfections in the single photon source and detector modules of the system."
   ]
  },
  {
   "cell_type": "code",
   "execution_count": 20,
   "metadata": {},
   "outputs": [],
   "source": [
    "sampler.source = emulator.Source(indistinguishability = 0.98, purity = 0.98)\n",
    "sampler.detector = emulator.Detector(efficiency = 0.8, p_dark = 1e-6)"
   ]
  },
  {
   "cell_type": "markdown",
   "metadata": {},
   "source": [
    "- Can then re-calculate the results. (This may take a few seconds.)"
   ]
  },
  {
   "cell_type": "code",
   "execution_count": 21,
   "metadata": {},
   "outputs": [],
   "source": [
    "# Define herald and get results\n",
    "herald = lambda s: (not s[0] and not s[3] and not s[4] and not s[9] \n",
    "                    and s[1:3].num() == 1 and s[5:7].num() == 1\n",
    "                    and s[7:9].num() == 1)\n",
    "results = sampler.sample_N_inputs(100000, herald = herald, seed = 1)\n",
    "# Process with function\n",
    "converted_results = process_cnot_data(results)"
   ]
  },
  {
   "cell_type": "markdown",
   "metadata": {},
   "source": [
    "- And plot. Here we see some states other than the 000 and 111 outputs we wanted, demonstrating the potential effect of errors within the system."
   ]
  },
  {
   "cell_type": "code",
   "execution_count": 22,
   "metadata": {},
   "outputs": [
    {
     "data": {
      "image/png": "[encoded data removed]",
      "text/plain": [
       "<Figure size 700x600 with 1 Axes>"
      ]
     },
     "metadata": {},
     "output_type": "display_data"
    }
   ],
   "source": [
    "plt.figure(figsize = (7,6))\n",
    "plt.bar(range(len(converted_results)), converted_results.values())\n",
    "plt.xticks(range(len(converted_results)), converted_results.keys())\n",
    "plt.xlabel(\"Output Qubit State\")\n",
    "plt.ylabel(\"Count\")\n",
    "plt.show()"
   ]
  }
 ],
 "metadata": {
  "kernelspec": {
   "display_name": "venv",
   "language": "python",
   "name": "python3"
  },
  "language_info": {
   "codemirror_mode": {
    "name": "ipython",
    "version": 3
   },
   "file_extension": ".py",
   "mimetype": "text/x-python",
   "name": "python",
   "nbconvert_exporter": "python",
   "pygments_lexer": "ipython3",
   "version": "3.11.6"
  }
 },
 "nbformat": 4,
 "nbformat_minor": 2
}
