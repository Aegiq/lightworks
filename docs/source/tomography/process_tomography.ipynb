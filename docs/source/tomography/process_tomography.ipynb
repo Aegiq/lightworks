{
 "cells": [
  {
   "cell_type": "markdown",
   "metadata": {},
   "source": [
    "# Process Tomography\n",
    "Process tomography allows for the characterisation of a quantum process $\\varepsilon$, where $\\varepsilon(\\rho) = \\rho^\\prime$. This is very useful when assessing the exact operation of different quantum gates and can be used for the assessment of gate fidelities.\n",
    "\n",
    "This notebook demonstates the utilisation of the different process tomography algorithms included within Lightworks. In each the choi matrix is found and used as a characterisation of the quantum process which occured."
   ]
  },
  {
   "cell_type": "code",
   "execution_count": 4,
   "metadata": {},
   "outputs": [],
   "source": [
    "import lightworks as lw\n",
    "from lightworks import emulator, qubit\n",
    "from lightworks.tomography import (\n",
    "    LIProcessTomography, \n",
    "    MLEProcessTomography, \n",
    "    choi_from_unitary\n",
    ")\n",
    "\n",
    "import matplotlib.pyplot as plt\n",
    "import numpy as np"
   ]
  },
  {
   "cell_type": "markdown",
   "metadata": {},
   "source": [
    "Before starting, a general function is defined to quickly perform the plotting of choi matrices. This takes a complex matrix and plots the real and imaginary parts separately."
   ]
  },
  {
   "cell_type": "code",
   "execution_count": 28,
   "metadata": {},
   "outputs": [],
   "source": [
    "def plot_choi_matrix(choi: np.ndarray) -> tuple:\n",
    "    \"\"\"\n",
    "    General function for plotting a choi matrix. It will split up and plot\n",
    "    the real and imaginary components using a common colorbar between them. \n",
    "    \"\"\"\n",
    "    # Find plot range\n",
    "    vmin = min(np.real(choi).min(), np.imag(choi).min())\n",
    "    vmax = max(np.real(choi).max(), np.imag(choi).max())\n",
    "    \n",
    "    # Create figure\n",
    "    fig, ax = plt.subplots(1, 2, figsize = (12, 5))\n",
    "    ax[0].imshow(np.real(choi), vmin=0, vmax=1)\n",
    "    ax[0].set_title(\"Re(C)\")\n",
    "    im = ax[1].imshow(np.imag(choi), vmin=0, vmax=1)\n",
    "    ax[1].set_title(\"Im(C)\")\n",
    "    fig.colorbar(im, ax=ax.ravel().tolist())\n",
    "    \n",
    "    # Set ticks as integer values and create state labels\n",
    "    ticks = range(choi.shape[0])\n",
    "    n_qubits = int(np.log2(len(ticks)))\n",
    "    basis = [\"0\", \"1\"]\n",
    "    labels = list(basis)\n",
    "    for i in range(n_qubits-1):\n",
    "        labels = [q1 + q2 for q1 in labels for q2 in basis]\n",
    "\n",
    "    return (fig, ax)"
   ]
  },
  {
   "cell_type": "markdown",
   "metadata": {},
   "source": [
    "## Setup\n",
    "To perform process tomography, two things are required:\n",
    "1) The experiment function. This needs to accept a list of circuit and a list of inputs, a list of corresponding results should then be returned. These results can either be the results objects returned within the emulator, or just dictionaries containing states and the corresponding photon counts.\n",
    "2) The circuit which is being analysed. This should be a Lightworks circuit object, where the number of available modes (excluding heralded) is equal to the number of qubits.\n",
    "\n",
    "These are both configured below."
   ]
  },
  {
   "cell_type": "code",
   "execution_count": 29,
   "metadata": {},
   "outputs": [],
   "source": [
    "def experiment(circuits: list[lw.Circuit], inputs: list[lw.State]) -> list:\n",
    "    \"\"\"\n",
    "    Experiment function which is required for performing state tomography on a\n",
    "    system. It takes a list of circuits and generates a corresponding list of \n",
    "    results for each of them. Only supports one qubit systems currently.\n",
    "    \"\"\"\n",
    "    # Post-select on 1 photon across each pair of qubit modes\n",
    "    post_select = lw.PostSelection()\n",
    "    post_select.add((0,1), 1)\n",
    "    post_select.add((2,3), 1)\n",
    "    \n",
    "    # Generate results and return\n",
    "    results = []\n",
    "    for circ, in_s in zip(circuits, inputs):\n",
    "        sampler = emulator.Sampler(circ, in_s)\n",
    "        results.append(sampler.sample_N_outputs(\n",
    "            10000, seed=14, post_select=post_select)\n",
    "        )\n",
    "    return results"
   ]
  },
  {
   "cell_type": "markdown",
   "metadata": {},
   "source": [
    "In this case, we'll examine the post-selected CNOT gate, which acts across two qubits."
   ]
  },
  {
   "cell_type": "code",
   "execution_count": 30,
   "metadata": {},
   "outputs": [
    {
     "data": {
      "image/svg+xml": [
       "<?xml version=\"1.0\" encoding=\"UTF-8\"?>\n",
       "<svg xmlns=\"http://www.w3.org/2000/svg\" xmlns:xlink=\"http://www.w3.org/1999/xlink\"\n",
       "     width=\"280.258064516129\" height=\"362.0\" viewBox=\"0 0 600.0 775\">\n",
       "<defs>\n",
       "</defs>\n",
       "<rect x=\"0\" y=\"0\" width=\"600.0\" height=\"775\" fill=\"white\" stroke=\"none\" />\n",
       "<rect x=\"100.0\" y=\"25\" width=\"400.0\" height=\"725\" fill=\"none\" stroke=\"black\" />\n",
       "<rect x=\"92.0\" y=\"124.5\" width=\"8\" height=\"1\" fill=\"black\" />\n",
       "<rect x=\"92.0\" y=\"199.5\" width=\"8\" height=\"1\" fill=\"black\" />\n",
       "<rect x=\"92.0\" y=\"324.5\" width=\"8\" height=\"1\" fill=\"black\" />\n",
       "<rect x=\"92.0\" y=\"449.5\" width=\"8\" height=\"1\" fill=\"black\" />\n",
       "<rect x=\"92.0\" y=\"574.5\" width=\"8\" height=\"1\" fill=\"black\" />\n",
       "<rect x=\"92.0\" y=\"649.5\" width=\"8\" height=\"1\" fill=\"black\" />\n",
       "<text x=\"80.0\" y=\"127\" font-size=\"25\" fill=\"black\" text-anchor=\"end\" dominant-baseline=\"middle\" transform=\"rotate(0, 80.0, 127)\">-</text>\n",
       "<text x=\"80.0\" y=\"202\" font-size=\"25\" fill=\"black\" text-anchor=\"end\" dominant-baseline=\"middle\" transform=\"rotate(0, 80.0, 202)\">0</text>\n",
       "<text x=\"80.0\" y=\"327\" font-size=\"25\" fill=\"black\" text-anchor=\"end\" dominant-baseline=\"middle\" transform=\"rotate(0, 80.0, 327)\">1</text>\n",
       "<text x=\"80.0\" y=\"452\" font-size=\"25\" fill=\"black\" text-anchor=\"end\" dominant-baseline=\"middle\" transform=\"rotate(0, 80.0, 452)\">2</text>\n",
       "<text x=\"80.0\" y=\"577\" font-size=\"25\" fill=\"black\" text-anchor=\"end\" dominant-baseline=\"middle\" transform=\"rotate(0, 80.0, 577)\">3</text>\n",
       "<text x=\"80.0\" y=\"652\" font-size=\"25\" fill=\"black\" text-anchor=\"end\" dominant-baseline=\"middle\" transform=\"rotate(0, 80.0, 652)\">-</text>\n",
       "<rect x=\"199.95\" y=\"121.0\" width=\"50.1\" height=\"8\" fill=\"black\" />\n",
       "<rect x=\"149.95\" y=\"196.0\" width=\"100.1\" height=\"8\" fill=\"black\" />\n",
       "<rect x=\"149.95\" y=\"321.0\" width=\"100.1\" height=\"8\" fill=\"black\" />\n",
       "<rect x=\"149.95\" y=\"446.0\" width=\"100.1\" height=\"8\" fill=\"black\" />\n",
       "<rect x=\"149.95\" y=\"571.0\" width=\"100.1\" height=\"8\" fill=\"black\" />\n",
       "<rect x=\"199.95\" y=\"646.0\" width=\"50.1\" height=\"8\" fill=\"black\" />\n",
       "<rect x=\"250.0\" y=\"100.0\" width=\"100\" height=\"575\" fill=\"#1a0f36\" stroke=\"black\" rx=\"5\" ry=\"5\" />\n",
       "<text x=\"300.0\" y=\"387.5\" font-size=\"25\" fill=\"white\" text-anchor=\"middle\" dominant-baseline=\"middle\" transform=\"rotate(270, 300.0, 387.5)\">CNOT (0, 1)</text>\n",
       "<rect x=\"349.95\" y=\"121.0\" width=\"50.1\" height=\"8\" fill=\"black\" />\n",
       "<rect x=\"349.95\" y=\"196.0\" width=\"100.1\" height=\"8\" fill=\"black\" />\n",
       "<rect x=\"349.95\" y=\"321.0\" width=\"100.1\" height=\"8\" fill=\"black\" />\n",
       "<rect x=\"349.95\" y=\"446.0\" width=\"100.1\" height=\"8\" fill=\"black\" />\n",
       "<rect x=\"349.95\" y=\"571.0\" width=\"100.1\" height=\"8\" fill=\"black\" />\n",
       "<rect x=\"349.95\" y=\"646.0\" width=\"50.1\" height=\"8\" fill=\"black\" />\n",
       "<circle cx=\"200.0\" cy=\"125\" r=\"25\" fill=\"#3e368d\" stroke=\"black\" />\n",
       "<text x=\"200.0\" y=\"127.5\" font-size=\"30\" fill=\"white\" text-anchor=\"middle\" dominant-baseline=\"middle\" transform=\"rotate(0, 200.0, 127.5)\">0</text>\n",
       "<circle cx=\"200.0\" cy=\"650\" r=\"25\" fill=\"#3e368d\" stroke=\"black\" />\n",
       "<text x=\"200.0\" y=\"652.5\" font-size=\"30\" fill=\"white\" text-anchor=\"middle\" dominant-baseline=\"middle\" transform=\"rotate(0, 200.0, 652.5)\">0</text>\n",
       "<circle cx=\"400.0\" cy=\"125\" r=\"25\" fill=\"#3e368d\" stroke=\"black\" />\n",
       "<text x=\"400.0\" y=\"127.5\" font-size=\"30\" fill=\"white\" text-anchor=\"middle\" dominant-baseline=\"middle\" transform=\"rotate(0, 400.0, 127.5)\">0</text>\n",
       "<circle cx=\"400.0\" cy=\"650\" r=\"25\" fill=\"#3e368d\" stroke=\"black\" />\n",
       "<text x=\"400.0\" y=\"652.5\" font-size=\"30\" fill=\"white\" text-anchor=\"middle\" dominant-baseline=\"middle\" transform=\"rotate(0, 400.0, 652.5)\">0</text>\n",
       "</svg>"
      ],
      "text/plain": [
       "<drawsvg.drawing.Drawing at 0x1a903ca6010>"
      ]
     },
     "metadata": {},
     "output_type": "display_data"
    }
   ],
   "source": [
    "n_qubits = 2\n",
    "\n",
    "cnot = qubit.CNOT()\n",
    "cnot.display()"
   ]
  },
  {
   "cell_type": "markdown",
   "metadata": {},
   "source": [
    "There is then a choice of algorithms that can be used for the calculation of the choi matrix for the process:\n",
    "1) Linear inversion - this is a simpler algorithm, but can produce non-physical process matrices.\n",
    "2) Maximum likelihood estimation - this uses a gradient-descent based optimisation, along with a set of projections to enforce conditions for a physical process matrix."
   ]
  },
  {
   "cell_type": "markdown",
   "metadata": {},
   "source": [
    "## Linear inversion\n",
    "This method is achieved with the LIProcessTomography object. To initialise this, the number of qubits, circuit & experiment function are provided. The choi matrix can then be calculated using the process method."
   ]
  },
  {
   "cell_type": "code",
   "execution_count": 31,
   "metadata": {},
   "outputs": [],
   "source": [
    "li_tomo = LIProcessTomography(n_qubits, cnot, experiment)\n",
    "\n",
    "choi = li_tomo.process()"
   ]
  },
  {
   "cell_type": "markdown",
   "metadata": {},
   "source": [
    "Once calculated, we plot this to view the structure of the density matrix."
   ]
  },
  {
   "cell_type": "code",
   "execution_count": 32,
   "metadata": {},
   "outputs": [
    {
     "data": {
      "image/png": "[encoded data removed]",
      "text/plain": [
       "<Figure size 1200x500 with 3 Axes>"
      ]
     },
     "metadata": {},
     "output_type": "display_data"
    }
   ],
   "source": [
    "plot_choi_matrix(choi)\n",
    "plt.show()"
   ]
  },
  {
   "cell_type": "markdown",
   "metadata": {},
   "source": [
    "The choi_from_untiary function can then be used to find the expected unitary for a CNOT gate and the fidelity calculate with the relevant fidelity method. As expected this is new to 100%>"
   ]
  },
  {
   "cell_type": "code",
   "execution_count": 33,
   "metadata": {},
   "outputs": [
    {
     "name": "stdout",
     "output_type": "stream",
     "text": [
      "Fidelity = 99.8787 %\n"
     ]
    }
   ],
   "source": [
    "choi_exp = choi_from_unitary([[1,0,0,0],[0,1,0,0],[0,0,0,1],[0,0,1,0]])\n",
    "print(f\"Fidelity = {round(li_tomo.fidelity(choi_exp)*100, 4)} %\")"
   ]
  },
  {
   "cell_type": "markdown",
   "metadata": {},
   "source": [
    "## Maximum Likelihood Estimation\n",
    "This method is implemented using the MLEProcessTomography object and utilised in the same way as above."
   ]
  },
  {
   "cell_type": "code",
   "execution_count": 34,
   "metadata": {},
   "outputs": [],
   "source": [
    "mle_tomo = MLEProcessTomography(n_qubits, cnot, experiment)\n",
    "\n",
    "choi = mle_tomo.process()"
   ]
  },
  {
   "cell_type": "markdown",
   "metadata": {},
   "source": [
    "Again, the fidelity can be calculated using the expected matrix and the results plotted to confirm the structure remains consistent."
   ]
  },
  {
   "cell_type": "code",
   "execution_count": 35,
   "metadata": {},
   "outputs": [
    {
     "name": "stdout",
     "output_type": "stream",
     "text": [
      "Fidelity = 100.003 %\n"
     ]
    },
    {
     "data": {
      "image/png": "[encoded data removed]",
      "text/plain": [
       "<Figure size 1200x500 with 3 Axes>"
      ]
     },
     "metadata": {},
     "output_type": "display_data"
    }
   ],
   "source": [
    "print(f\"Fidelity = {round(mle_tomo.fidelity(choi_exp)*100, 4)} %\")\n",
    "\n",
    "plot_choi_matrix(choi)\n",
    "plt.show()"
   ]
  },
  {
   "cell_type": "markdown",
   "metadata": {},
   "source": [
    "## Imperfect Experiment\n",
    "As with state tomography, it is also possible to introduce imperfections into the experimental simlation, for a better understanding of how these errors affect fidelity.\n",
    "\n",
    "Again, we'll use a class to create a parameterised experiment with optional single photon source noise."
   ]
  },
  {
   "cell_type": "code",
   "execution_count": 36,
   "metadata": {},
   "outputs": [],
   "source": [
    "class SamplerExperiment:\n",
    "    \"\"\"\n",
    "    Runs experiment using the emulator Sampler for a given n_qubits with an\n",
    "    optional imperfect single photon source.\n",
    "    \"\"\"\n",
    "    \n",
    "    def __init__(\n",
    "        self, n_qubits: int, source: emulator.Source | None = None\n",
    "    ) -> None:\n",
    "        \n",
    "        self.n_qubits = n_qubits\n",
    "        self.source = source\n",
    "        self.n_samples = 10000\n",
    "        self.random_seed = 22\n",
    "\n",
    "    def experiment(self, circuits: list[lw.Circuit], inputs: list[lw.State]) -> list:\n",
    "        \"\"\"\n",
    "        Generalised version of experiment function above, designed for any \n",
    "        number of qubits. It is assumes the provided circuits contain dual-rail\n",
    "        encoded qubits across pairs of adjacent modes.\n",
    "        \"\"\"\n",
    "        # Post-select on 1 photon across each pair of qubit modes\n",
    "        post_select = lw.PostSelection()\n",
    "        for i in range(self.n_qubits):\n",
    "            post_select.add((2*i, 2*i+1), 1)\n",
    "        \n",
    "        # Generate results and return\n",
    "        results = []\n",
    "        for circ, in_s in zip(circuits, inputs):\n",
    "            sampler = emulator.Sampler(\n",
    "                circ, in_s, source=self.source\n",
    "            )\n",
    "            results.append(sampler.sample_N_outputs(\n",
    "                self.n_samples, seed=self.random_seed, post_select=post_select)\n",
    "            )\n",
    "        return results"
   ]
  },
  {
   "cell_type": "markdown",
   "metadata": {},
   "source": [
    "The single photon source parameters are then configured and assigned below, setting the source indistinguishability to 95% and purity to 99%."
   ]
  },
  {
   "cell_type": "code",
   "execution_count": null,
   "metadata": {},
   "outputs": [],
   "source": [
    "source = emulator.Source(indistinguishability=0.95, purity=0.99)\n",
    "\n",
    "imperfect_exp = SamplerExperiment(2, source=source)"
   ]
  },
  {
   "cell_type": "markdown",
   "metadata": {},
   "source": [
    "Once the tomography is performed, as expected we see a drop in fidelity and the presence of additional erroneous elements in the choi matrix."
   ]
  },
  {
   "cell_type": "code",
   "execution_count": 44,
   "metadata": {},
   "outputs": [
    {
     "name": "stdout",
     "output_type": "stream",
     "text": [
      "Fidelity = 84.7221 %\n"
     ]
    },
    {
     "data": {
      "image/png": "[encoded data removed]",
      "text/plain": [
       "<Figure size 1200x500 with 3 Axes>"
      ]
     },
     "metadata": {},
     "output_type": "display_data"
    }
   ],
   "source": [
    "mle_tomo_2 = MLEProcessTomography(n_qubits, cnot, imperfect_exp.experiment)\n",
    "\n",
    "choi = mle_tomo_2.process()\n",
    "\n",
    "print(f\"Fidelity = {round(mle_tomo_2.fidelity(choi_exp)*100, 4)} %\")\n",
    "\n",
    "plot_choi_matrix(choi)\n",
    "plt.show()"
   ]
  }
 ],
 "metadata": {
  "kernelspec": {
   "display_name": "venv",
   "language": "python",
   "name": "python3"
  },
  "language_info": {
   "codemirror_mode": {
    "name": "ipython",
    "version": 3
   },
   "file_extension": ".py",
   "mimetype": "text/x-python",
   "name": "python",
   "nbconvert_exporter": "python",
   "pygments_lexer": "ipython3",
   "version": "3.11.6"
  }
 },
 "nbformat": 4,
 "nbformat_minor": 2
}
