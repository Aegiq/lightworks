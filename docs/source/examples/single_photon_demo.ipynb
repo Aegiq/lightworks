{
 "cells": [
  {
   "attachments": {},
   "cell_type": "markdown",
   "metadata": {},
   "source": [
    "# Single-photon Simulation\n",
    "The following notebook demonstrates the use of the emulator to simulate the propagation of a single photon in a quantum photonic processor. This can be used to find the unitary implemented by a system.\n",
    "\n",
    "First import required modules and some additional tools."
   ]
  },
  {
   "cell_type": "code",
   "execution_count": 12,
   "metadata": {},
   "outputs": [],
   "source": [
    "from collections import Counter\n",
    "\n",
    "import matplotlib.pyplot as plt\n",
    "\n",
    "import lightworks as lw\n",
    "from lightworks import State, emulator"
   ]
  },
  {
   "attachments": {},
   "cell_type": "markdown",
   "metadata": {},
   "source": [
    "A general N is then defined, which is used to adjust the number of modes used for the circuit throughout the notebook."
   ]
  },
  {
   "cell_type": "code",
   "execution_count": 13,
   "metadata": {},
   "outputs": [],
   "source": [
    "N = 8"
   ]
  },
  {
   "attachments": {},
   "cell_type": "markdown",
   "metadata": {},
   "source": [
    "Can then create a random unitary matrix which is programmed onto the chip."
   ]
  },
  {
   "cell_type": "code",
   "execution_count": 14,
   "metadata": {},
   "outputs": [],
   "source": [
    "U = lw.random_unitary(N)\n",
    "\n",
    "circuit = lw.Unitary(U)"
   ]
  },
  {
   "attachments": {},
   "cell_type": "markdown",
   "metadata": {},
   "source": [
    "## Simulator\n",
    "First we try using the simulation part of the emulator. This allows the simulation of a number of input states, finding the probability amplitudes for the given outputs. To set this up, we specify the generated circuit to the simulator class. "
   ]
  },
  {
   "cell_type": "code",
   "execution_count": 15,
   "metadata": {},
   "outputs": [],
   "source": [
    "sim = emulator.Simulator(circuit)"
   ]
  },
  {
   "attachments": {},
   "cell_type": "markdown",
   "metadata": {},
   "source": [
    "In this case we will choose to try to recreate the unitary matrix, which can be done by creating a list of all single photon input and output states."
   ]
  },
  {
   "cell_type": "code",
   "execution_count": 16,
   "metadata": {},
   "outputs": [],
   "source": [
    "# Create all single photon states by adding 1 to list when i=j, otherwise add 0\n",
    "states = [State([int(i == j) for j in range(N)]) for i in range(N)]\n",
    "\n",
    "# Calculate probability amplitude\n",
    "results = sim.simulate(states, states)\n",
    "U_calc = results.array"
   ]
  },
  {
   "attachments": {},
   "cell_type": "markdown",
   "metadata": {},
   "source": [
    "The resultant matrix probability amplitude matrix can be visualized below, and we see that the unitary is correctly replicated. Note that the unitary needs to be transposed for the plotting below to show identical matrices."
   ]
  },
  {
   "cell_type": "code",
   "execution_count": 17,
   "metadata": {},
   "outputs": [
    {
     "data": {
      "image/png": "[encoded data removed]",
      "text/plain": [
       "<Figure size 1200x600 with 2 Axes>"
      ]
     },
     "metadata": {},
     "output_type": "display_data"
    }
   ],
   "source": [
    "fig, ax = plt.subplots(1, 2, figsize=(12, 6))\n",
    "\n",
    "ax[0].imshow(abs(U.T))\n",
    "ax[1].imshow(abs(U_calc))\n",
    "ax[0].set_title(\"U\")\n",
    "ax[1].set_title(\"Calculated U\")\n",
    "\n",
    "plt.show()"
   ]
  },
  {
   "attachments": {},
   "cell_type": "markdown",
   "metadata": {},
   "source": [
    "It is also possible to directly view the probability amplitudes in a nicer form using the display_as_dataframe function included with the results object. In this case the values are converted to probabilities with the conv_to_probability keyword."
   ]
  },
  {
   "cell_type": "code",
   "execution_count": 18,
   "metadata": {},
   "outputs": [
    {
     "data": {
      "text/html": [
       "<div>\n",
       "<style scoped>\n",
       "    .dataframe tbody tr th:only-of-type {\n",
       "        vertical-align: middle;\n",
       "    }\n",
       "\n",
       "    .dataframe tbody tr th {\n",
       "        vertical-align: top;\n",
       "    }\n",
       "\n",
       "    .dataframe thead th {\n",
       "        text-align: right;\n",
       "    }\n",
       "</style>\n",
       "<table border=\"1\" class=\"dataframe\">\n",
       "  <thead>\n",
       "    <tr style=\"text-align: right;\">\n",
       "      <th></th>\n",
       "      <th>|1,0,0,0,0,0,0,0&gt;</th>\n",
       "      <th>|0,1,0,0,0,0,0,0&gt;</th>\n",
       "      <th>|0,0,1,0,0,0,0,0&gt;</th>\n",
       "      <th>|0,0,0,1,0,0,0,0&gt;</th>\n",
       "      <th>|0,0,0,0,1,0,0,0&gt;</th>\n",
       "      <th>|0,0,0,0,0,1,0,0&gt;</th>\n",
       "      <th>|0,0,0,0,0,0,1,0&gt;</th>\n",
       "      <th>|0,0,0,0,0,0,0,1&gt;</th>\n",
       "    </tr>\n",
       "  </thead>\n",
       "  <tbody>\n",
       "    <tr>\n",
       "      <th>|1,0,0,0,0,0,0,0&gt;</th>\n",
       "      <td>0.008267</td>\n",
       "      <td>0.220669</td>\n",
       "      <td>0.016274</td>\n",
       "      <td>0.335759</td>\n",
       "      <td>0.051861</td>\n",
       "      <td>0.186448</td>\n",
       "      <td>0.130950</td>\n",
       "      <td>0.049771</td>\n",
       "    </tr>\n",
       "    <tr>\n",
       "      <th>|0,1,0,0,0,0,0,0&gt;</th>\n",
       "      <td>0.016025</td>\n",
       "      <td>0.026119</td>\n",
       "      <td>0.581047</td>\n",
       "      <td>0.104819</td>\n",
       "      <td>0.051961</td>\n",
       "      <td>0.192064</td>\n",
       "      <td>0.001221</td>\n",
       "      <td>0.026745</td>\n",
       "    </tr>\n",
       "    <tr>\n",
       "      <th>|0,0,1,0,0,0,0,0&gt;</th>\n",
       "      <td>0.267416</td>\n",
       "      <td>0.110526</td>\n",
       "      <td>0.033271</td>\n",
       "      <td>0.044404</td>\n",
       "      <td>0.013904</td>\n",
       "      <td>0.148839</td>\n",
       "      <td>0.038617</td>\n",
       "      <td>0.343025</td>\n",
       "    </tr>\n",
       "    <tr>\n",
       "      <th>|0,0,0,1,0,0,0,0&gt;</th>\n",
       "      <td>0.221820</td>\n",
       "      <td>0.054020</td>\n",
       "      <td>0.109893</td>\n",
       "      <td>0.191548</td>\n",
       "      <td>0.233561</td>\n",
       "      <td>0.029992</td>\n",
       "      <td>0.092108</td>\n",
       "      <td>0.067057</td>\n",
       "    </tr>\n",
       "    <tr>\n",
       "      <th>|0,0,0,0,1,0,0,0&gt;</th>\n",
       "      <td>0.098175</td>\n",
       "      <td>0.135677</td>\n",
       "      <td>0.005205</td>\n",
       "      <td>0.130582</td>\n",
       "      <td>0.415610</td>\n",
       "      <td>0.091398</td>\n",
       "      <td>0.047821</td>\n",
       "      <td>0.075532</td>\n",
       "    </tr>\n",
       "    <tr>\n",
       "      <th>|0,0,0,0,0,1,0,0&gt;</th>\n",
       "      <td>0.198113</td>\n",
       "      <td>0.085971</td>\n",
       "      <td>0.121928</td>\n",
       "      <td>0.158516</td>\n",
       "      <td>0.005940</td>\n",
       "      <td>0.065088</td>\n",
       "      <td>0.096606</td>\n",
       "      <td>0.267839</td>\n",
       "    </tr>\n",
       "    <tr>\n",
       "      <th>|0,0,0,0,0,0,1,0&gt;</th>\n",
       "      <td>0.087117</td>\n",
       "      <td>0.198008</td>\n",
       "      <td>0.060852</td>\n",
       "      <td>0.000811</td>\n",
       "      <td>0.174549</td>\n",
       "      <td>0.179689</td>\n",
       "      <td>0.138738</td>\n",
       "      <td>0.160235</td>\n",
       "    </tr>\n",
       "    <tr>\n",
       "      <th>|0,0,0,0,0,0,0,1&gt;</th>\n",
       "      <td>0.103067</td>\n",
       "      <td>0.169009</td>\n",
       "      <td>0.071530</td>\n",
       "      <td>0.033561</td>\n",
       "      <td>0.052614</td>\n",
       "      <td>0.106482</td>\n",
       "      <td>0.453940</td>\n",
       "      <td>0.009795</td>\n",
       "    </tr>\n",
       "  </tbody>\n",
       "</table>\n",
       "</div>"
      ],
      "text/plain": [
       "                   |1,0,0,0,0,0,0,0>  |0,1,0,0,0,0,0,0>  |0,0,1,0,0,0,0,0>  \\\n",
       "|1,0,0,0,0,0,0,0>           0.008267           0.220669           0.016274   \n",
       "|0,1,0,0,0,0,0,0>           0.016025           0.026119           0.581047   \n",
       "|0,0,1,0,0,0,0,0>           0.267416           0.110526           0.033271   \n",
       "|0,0,0,1,0,0,0,0>           0.221820           0.054020           0.109893   \n",
       "|0,0,0,0,1,0,0,0>           0.098175           0.135677           0.005205   \n",
       "|0,0,0,0,0,1,0,0>           0.198113           0.085971           0.121928   \n",
       "|0,0,0,0,0,0,1,0>           0.087117           0.198008           0.060852   \n",
       "|0,0,0,0,0,0,0,1>           0.103067           0.169009           0.071530   \n",
       "\n",
       "                   |0,0,0,1,0,0,0,0>  |0,0,0,0,1,0,0,0>  |0,0,0,0,0,1,0,0>  \\\n",
       "|1,0,0,0,0,0,0,0>           0.335759           0.051861           0.186448   \n",
       "|0,1,0,0,0,0,0,0>           0.104819           0.051961           0.192064   \n",
       "|0,0,1,0,0,0,0,0>           0.044404           0.013904           0.148839   \n",
       "|0,0,0,1,0,0,0,0>           0.191548           0.233561           0.029992   \n",
       "|0,0,0,0,1,0,0,0>           0.130582           0.415610           0.091398   \n",
       "|0,0,0,0,0,1,0,0>           0.158516           0.005940           0.065088   \n",
       "|0,0,0,0,0,0,1,0>           0.000811           0.174549           0.179689   \n",
       "|0,0,0,0,0,0,0,1>           0.033561           0.052614           0.106482   \n",
       "\n",
       "                   |0,0,0,0,0,0,1,0>  |0,0,0,0,0,0,0,1>  \n",
       "|1,0,0,0,0,0,0,0>           0.130950           0.049771  \n",
       "|0,1,0,0,0,0,0,0>           0.001221           0.026745  \n",
       "|0,0,1,0,0,0,0,0>           0.038617           0.343025  \n",
       "|0,0,0,1,0,0,0,0>           0.092108           0.067057  \n",
       "|0,0,0,0,1,0,0,0>           0.047821           0.075532  \n",
       "|0,0,0,0,0,1,0,0>           0.096606           0.267839  \n",
       "|0,0,0,0,0,0,1,0>           0.138738           0.160235  \n",
       "|0,0,0,0,0,0,0,1>           0.453940           0.009795  "
      ]
     },
     "execution_count": 18,
     "metadata": {},
     "output_type": "execute_result"
    }
   ],
   "source": [
    "results.display_as_dataframe(conv_to_probability=True)"
   ]
  },
  {
   "attachments": {},
   "cell_type": "markdown",
   "metadata": {},
   "source": [
    "## Sampler\n",
    "Alternatively, the Sampler class can be used to emulate the process of measuring samples from the system. To initialise, this requires the generated circuit and the single input state that we want to look at. In this case we input a single photon on mode 0."
   ]
  },
  {
   "cell_type": "code",
   "execution_count": 19,
   "metadata": {},
   "outputs": [],
   "source": [
    "sampler = emulator.Sampler(circuit, State([1] + [0] * (N - 1)))"
   ]
  },
  {
   "attachments": {},
   "cell_type": "markdown",
   "metadata": {},
   "source": [
    "Once the sampler has been set up, we can then sample from it many times. The output state is returned by the sample method, and this is converted into a mode number."
   ]
  },
  {
   "cell_type": "code",
   "execution_count": 20,
   "metadata": {},
   "outputs": [],
   "source": [
    "N_rep = 100  # Set number of samples\n",
    "results = []\n",
    "\n",
    "for _ in range(N_rep):\n",
    "    state = sampler.sample()\n",
    "    # Get state from sampler and find which more the photon is on\n",
    "    loc = state.s.index(1)\n",
    "    results.append(loc)\n",
    "\n",
    "# Count number of times we measure a photon on each mode\n",
    "counted = Counter(results)"
   ]
  },
  {
   "attachments": {},
   "cell_type": "markdown",
   "metadata": {},
   "source": [
    "The counts can then be converted into probabilities and compared to the expected values from the unitary. As we only choose to look at 100 samples here, the measured and expected distributions tend to vary as not enough samples have been taken to see convergence."
   ]
  },
  {
   "cell_type": "code",
   "execution_count": 21,
   "metadata": {},
   "outputs": [
    {
     "data": {
      "image/png": "[encoded data removed]",
      "text/plain": [
       "<Figure size 700x600 with 1 Axes>"
      ]
     },
     "metadata": {},
     "output_type": "display_data"
    }
   ],
   "source": [
    "x = range(N)\n",
    "\n",
    "# Convert counts to a list and normalise to total count numbers\n",
    "p_calc = [counted[i] / sum(counted.values()) for i in x]\n",
    "\n",
    "# Find expected distribution\n",
    "p_exp = abs(U.T[0, :]) ** 2\n",
    "\n",
    "plt.figure(figsize=(7, 6))\n",
    "plt.bar(x, p_calc, label=\"Measured\", alpha=1)\n",
    "plt.bar(\n",
    "    x,\n",
    "    p_exp,\n",
    "    label=\"Expected\",\n",
    "    edgecolor=\"Black\",\n",
    "    fill=False,\n",
    "    linestyle=\"dashed\",\n",
    "    linewidth=1.5,\n",
    ")\n",
    "plt.xlabel(\"Output mode\")\n",
    "plt.ylabel(\"Counts\")\n",
    "plt.legend()\n",
    "plt.show()"
   ]
  }
 ],
 "metadata": {
  "kernelspec": {
   "display_name": "venv",
   "language": "python",
   "name": "python3"
  },
  "language_info": {
   "codemirror_mode": {
    "name": "ipython",
    "version": 3
   },
   "file_extension": ".py",
   "mimetype": "text/x-python",
   "name": "python",
   "nbconvert_exporter": "python",
   "pygments_lexer": "ipython3",
   "version": "3.11.6"
  },
  "orig_nbformat": 4
 },
 "nbformat": 4,
 "nbformat_minor": 2
}
