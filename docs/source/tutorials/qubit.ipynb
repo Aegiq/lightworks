{
 "cells": [
  {
   "cell_type": "markdown",
   "metadata": {},
   "source": [
    "# Using Qubit Components"
   ]
  },
  {
   "cell_type": "code",
   "execution_count": 2,
   "metadata": {},
   "outputs": [],
   "source": [
    "import lightworks as lw\n",
    "from lightworks import emulator"
   ]
  },
  {
   "cell_type": "markdown",
   "metadata": {},
   "source": [
    "## Single Qubit Gates"
   ]
  },
  {
   "cell_type": "code",
   "execution_count": null,
   "metadata": {},
   "outputs": [],
   "source": []
  },
  {
   "cell_type": "markdown",
   "metadata": {},
   "source": [
    "## Two Qubit Gates"
   ]
  },
  {
   "cell_type": "code",
   "execution_count": 3,
   "metadata": {},
   "outputs": [
    {
     "data": {
      "image/svg+xml": [
       "<?xml version=\"1.0\" encoding=\"UTF-8\"?>\n",
       "<svg xmlns=\"http://www.w3.org/2000/svg\" xmlns:xlink=\"http://www.w3.org/1999/xlink\"\n",
       "     width=\"240.0\" height=\"310.0\" viewBox=\"0 0 600 775\">\n",
       "<defs>\n",
       "</defs>\n",
       "<rect x=\"100\" y=\"25\" width=\"400\" height=\"725\" fill=\"none\" stroke=\"black\" />\n",
       "<rect x=\"92\" y=\"124.5\" width=\"8\" height=\"1\" fill=\"black\" />\n",
       "<rect x=\"92\" y=\"199.5\" width=\"8\" height=\"1\" fill=\"black\" />\n",
       "<rect x=\"92\" y=\"324.5\" width=\"8\" height=\"1\" fill=\"black\" />\n",
       "<rect x=\"92\" y=\"449.5\" width=\"8\" height=\"1\" fill=\"black\" />\n",
       "<rect x=\"92\" y=\"574.5\" width=\"8\" height=\"1\" fill=\"black\" />\n",
       "<rect x=\"92\" y=\"649.5\" width=\"8\" height=\"1\" fill=\"black\" />\n",
       "<text x=\"80\" y=\"127\" font-size=\"25\" fill=\"black\" text-anchor=\"end\" dominant-baseline=\"middle\" transform=\"rotate(0, 80, 127)\">-</text>\n",
       "<text x=\"80\" y=\"202\" font-size=\"25\" fill=\"black\" text-anchor=\"end\" dominant-baseline=\"middle\" transform=\"rotate(0, 80, 202)\">0</text>\n",
       "<text x=\"80\" y=\"327\" font-size=\"25\" fill=\"black\" text-anchor=\"end\" dominant-baseline=\"middle\" transform=\"rotate(0, 80, 327)\">1</text>\n",
       "<text x=\"80\" y=\"452\" font-size=\"25\" fill=\"black\" text-anchor=\"end\" dominant-baseline=\"middle\" transform=\"rotate(0, 80, 452)\">2</text>\n",
       "<text x=\"80\" y=\"577\" font-size=\"25\" fill=\"black\" text-anchor=\"end\" dominant-baseline=\"middle\" transform=\"rotate(0, 80, 577)\">3</text>\n",
       "<text x=\"80\" y=\"652\" font-size=\"25\" fill=\"black\" text-anchor=\"end\" dominant-baseline=\"middle\" transform=\"rotate(0, 80, 652)\">-</text>\n",
       "<rect x=\"199.95\" y=\"121.0\" width=\"50.1\" height=\"8\" fill=\"black\" />\n",
       "<rect x=\"149.95\" y=\"196.0\" width=\"100.1\" height=\"8\" fill=\"black\" />\n",
       "<rect x=\"149.95\" y=\"321.0\" width=\"100.1\" height=\"8\" fill=\"black\" />\n",
       "<rect x=\"149.95\" y=\"446.0\" width=\"100.1\" height=\"8\" fill=\"black\" />\n",
       "<rect x=\"149.95\" y=\"571.0\" width=\"100.1\" height=\"8\" fill=\"black\" />\n",
       "<rect x=\"199.95\" y=\"646.0\" width=\"50.1\" height=\"8\" fill=\"black\" />\n",
       "<rect x=\"250\" y=\"100.0\" width=\"100\" height=\"575\" fill=\"#1a0f36\" stroke=\"black\" rx=\"5\" ry=\"5\" />\n",
       "<text x=\"300.0\" y=\"387.5\" font-size=\"25\" fill=\"white\" text-anchor=\"middle\" dominant-baseline=\"middle\" transform=\"rotate(270, 300.0, 387.5)\">CNOT</text>\n",
       "<rect x=\"349.95\" y=\"121.0\" width=\"50.1\" height=\"8\" fill=\"black\" />\n",
       "<rect x=\"349.95\" y=\"196.0\" width=\"100.1\" height=\"8\" fill=\"black\" />\n",
       "<rect x=\"349.95\" y=\"321.0\" width=\"100.1\" height=\"8\" fill=\"black\" />\n",
       "<rect x=\"349.95\" y=\"446.0\" width=\"100.1\" height=\"8\" fill=\"black\" />\n",
       "<rect x=\"349.95\" y=\"571.0\" width=\"100.1\" height=\"8\" fill=\"black\" />\n",
       "<rect x=\"349.95\" y=\"646.0\" width=\"50.1\" height=\"8\" fill=\"black\" />\n",
       "<circle cx=\"200\" cy=\"125\" r=\"25\" fill=\"#3e368d\" stroke=\"black\" />\n",
       "<text x=\"200\" y=\"127.5\" font-size=\"30\" fill=\"white\" text-anchor=\"middle\" dominant-baseline=\"middle\" transform=\"rotate(0, 200, 127.5)\">0</text>\n",
       "<circle cx=\"200\" cy=\"650\" r=\"25\" fill=\"#3e368d\" stroke=\"black\" />\n",
       "<text x=\"200\" y=\"652.5\" font-size=\"30\" fill=\"white\" text-anchor=\"middle\" dominant-baseline=\"middle\" transform=\"rotate(0, 200, 652.5)\">0</text>\n",
       "<circle cx=\"400\" cy=\"125\" r=\"25\" fill=\"#3e368d\" stroke=\"black\" />\n",
       "<text x=\"400\" y=\"127.5\" font-size=\"30\" fill=\"white\" text-anchor=\"middle\" dominant-baseline=\"middle\" transform=\"rotate(0, 400, 127.5)\">0</text>\n",
       "<circle cx=\"400\" cy=\"650\" r=\"25\" fill=\"#3e368d\" stroke=\"black\" />\n",
       "<text x=\"400\" y=\"652.5\" font-size=\"30\" fill=\"white\" text-anchor=\"middle\" dominant-baseline=\"middle\" transform=\"rotate(0, 400, 652.5)\">0</text>\n",
       "</svg>"
      ],
      "text/plain": [
       "<drawsvg.drawing.Drawing at 0x199a55c07d0>"
      ]
     },
     "metadata": {},
     "output_type": "display_data"
    }
   ],
   "source": [
    "cnot = lw.qubit.CNOT()\n",
    "\n",
    "cnot.display()"
   ]
  },
  {
   "cell_type": "code",
   "execution_count": 12,
   "metadata": {},
   "outputs": [
    {
     "data": {
      "image/svg+xml": [
       "<?xml version=\"1.0\" encoding=\"UTF-8\"?>\n",
       "<svg xmlns=\"http://www.w3.org/2000/svg\" xmlns:xlink=\"http://www.w3.org/1999/xlink\"\n",
       "     width=\"361.02564102564105\" height=\"440.0\" viewBox=\"0 0 800 975\">\n",
       "<defs>\n",
       "</defs>\n",
       "<rect x=\"100\" y=\"25\" width=\"600\" height=\"925\" fill=\"none\" stroke=\"black\" />\n",
       "<rect x=\"92\" y=\"124.5\" width=\"8\" height=\"1\" fill=\"black\" />\n",
       "<rect x=\"92\" y=\"199.5\" width=\"8\" height=\"1\" fill=\"black\" />\n",
       "<rect x=\"92\" y=\"324.5\" width=\"8\" height=\"1\" fill=\"black\" />\n",
       "<rect x=\"92\" y=\"449.5\" width=\"8\" height=\"1\" fill=\"black\" />\n",
       "<rect x=\"92\" y=\"574.5\" width=\"8\" height=\"1\" fill=\"black\" />\n",
       "<rect x=\"92\" y=\"649.5\" width=\"8\" height=\"1\" fill=\"black\" />\n",
       "<rect x=\"92\" y=\"724.5\" width=\"8\" height=\"1\" fill=\"black\" />\n",
       "<rect x=\"92\" y=\"849.5\" width=\"8\" height=\"1\" fill=\"black\" />\n",
       "<text x=\"80\" y=\"127\" font-size=\"25\" fill=\"black\" text-anchor=\"end\" dominant-baseline=\"middle\" transform=\"rotate(0, 80, 127)\">-</text>\n",
       "<text x=\"80\" y=\"202\" font-size=\"25\" fill=\"black\" text-anchor=\"end\" dominant-baseline=\"middle\" transform=\"rotate(0, 80, 202)\">A0</text>\n",
       "<text x=\"80\" y=\"327\" font-size=\"25\" fill=\"black\" text-anchor=\"end\" dominant-baseline=\"middle\" transform=\"rotate(0, 80, 327)\">A1</text>\n",
       "<text x=\"80\" y=\"452\" font-size=\"25\" fill=\"black\" text-anchor=\"end\" dominant-baseline=\"middle\" transform=\"rotate(0, 80, 452)\">B0</text>\n",
       "<text x=\"80\" y=\"577\" font-size=\"25\" fill=\"black\" text-anchor=\"end\" dominant-baseline=\"middle\" transform=\"rotate(0, 80, 577)\">B1</text>\n",
       "<text x=\"80\" y=\"652\" font-size=\"25\" fill=\"black\" text-anchor=\"end\" dominant-baseline=\"middle\" transform=\"rotate(0, 80, 652)\">-</text>\n",
       "<text x=\"80\" y=\"727\" font-size=\"25\" fill=\"black\" text-anchor=\"end\" dominant-baseline=\"middle\" transform=\"rotate(0, 80, 727)\">C0</text>\n",
       "<text x=\"80\" y=\"852\" font-size=\"25\" fill=\"black\" text-anchor=\"end\" dominant-baseline=\"middle\" transform=\"rotate(0, 80, 852)\">C1</text>\n",
       "<rect x=\"149.95\" y=\"196.0\" width=\"50.1\" height=\"8\" fill=\"black\" />\n",
       "<rect x=\"149.95\" y=\"321.0\" width=\"50.1\" height=\"8\" fill=\"black\" />\n",
       "<rect x=\"200\" y=\"175.0\" width=\"100\" height=\"175\" fill=\"#1a0f36\" stroke=\"black\" rx=\"5\" ry=\"5\" />\n",
       "<text x=\"250.0\" y=\"262.5\" font-size=\"35\" fill=\"white\" text-anchor=\"middle\" dominant-baseline=\"middle\" transform=\"rotate(0, 250.0, 262.5)\">H</text>\n",
       "<rect x=\"299.95\" y=\"196.0\" width=\"50.1\" height=\"8\" fill=\"black\" />\n",
       "<rect x=\"299.95\" y=\"321.0\" width=\"50.1\" height=\"8\" fill=\"black\" />\n",
       "<rect x=\"149.95\" y=\"446.0\" width=\"200.1\" height=\"8\" fill=\"black\" />\n",
       "<rect x=\"149.95\" y=\"571.0\" width=\"200.1\" height=\"8\" fill=\"black\" />\n",
       "<rect x=\"399.95\" y=\"121.0\" width=\"50.1\" height=\"8\" fill=\"black\" />\n",
       "<rect x=\"349.95\" y=\"196.0\" width=\"100.1\" height=\"8\" fill=\"black\" />\n",
       "<rect x=\"349.95\" y=\"321.0\" width=\"100.1\" height=\"8\" fill=\"black\" />\n",
       "<rect x=\"349.95\" y=\"446.0\" width=\"100.1\" height=\"8\" fill=\"black\" />\n",
       "<rect x=\"349.95\" y=\"571.0\" width=\"100.1\" height=\"8\" fill=\"black\" />\n",
       "<rect x=\"399.95\" y=\"646.0\" width=\"50.1\" height=\"8\" fill=\"black\" />\n",
       "<rect x=\"450\" y=\"100.0\" width=\"100\" height=\"575\" fill=\"#1a0f36\" stroke=\"black\" rx=\"5\" ry=\"5\" />\n",
       "<text x=\"500.0\" y=\"387.5\" font-size=\"25\" fill=\"white\" text-anchor=\"middle\" dominant-baseline=\"middle\" transform=\"rotate(270, 500.0, 387.5)\">CNOT</text>\n",
       "<rect x=\"549.95\" y=\"121.0\" width=\"50.1\" height=\"8\" fill=\"black\" />\n",
       "<rect x=\"549.95\" y=\"196.0\" width=\"100.1\" height=\"8\" fill=\"black\" />\n",
       "<rect x=\"549.95\" y=\"321.0\" width=\"100.1\" height=\"8\" fill=\"black\" />\n",
       "<rect x=\"549.95\" y=\"446.0\" width=\"100.1\" height=\"8\" fill=\"black\" />\n",
       "<rect x=\"549.95\" y=\"571.0\" width=\"100.1\" height=\"8\" fill=\"black\" />\n",
       "<rect x=\"549.95\" y=\"646.0\" width=\"50.1\" height=\"8\" fill=\"black\" />\n",
       "<circle cx=\"400\" cy=\"125\" r=\"25\" fill=\"#3e368d\" stroke=\"black\" />\n",
       "<text x=\"400\" y=\"127.5\" font-size=\"30\" fill=\"white\" text-anchor=\"middle\" dominant-baseline=\"middle\" transform=\"rotate(0, 400, 127.5)\">0</text>\n",
       "<circle cx=\"400\" cy=\"650\" r=\"25\" fill=\"#3e368d\" stroke=\"black\" />\n",
       "<text x=\"400\" y=\"652.5\" font-size=\"30\" fill=\"white\" text-anchor=\"middle\" dominant-baseline=\"middle\" transform=\"rotate(0, 400, 652.5)\">0</text>\n",
       "<circle cx=\"600\" cy=\"125\" r=\"25\" fill=\"#3e368d\" stroke=\"black\" />\n",
       "<text x=\"600\" y=\"127.5\" font-size=\"30\" fill=\"white\" text-anchor=\"middle\" dominant-baseline=\"middle\" transform=\"rotate(0, 600, 127.5)\">0</text>\n",
       "<circle cx=\"600\" cy=\"650\" r=\"25\" fill=\"#3e368d\" stroke=\"black\" />\n",
       "<text x=\"600\" y=\"652.5\" font-size=\"30\" fill=\"white\" text-anchor=\"middle\" dominant-baseline=\"middle\" transform=\"rotate(0, 600, 652.5)\">0</text>\n",
       "<rect x=\"149.95\" y=\"721.0\" width=\"500.1\" height=\"8\" fill=\"black\" />\n",
       "<rect x=\"149.95\" y=\"846.0\" width=\"500.1\" height=\"8\" fill=\"black\" />\n",
       "</svg>"
      ],
      "text/plain": [
       "<drawsvg.drawing.Drawing at 0x199a76ece90>"
      ]
     },
     "metadata": {},
     "output_type": "display_data"
    }
   ],
   "source": [
    "circ = lw.Circuit(6)\n",
    "circ.add(lw.qubit.H(), 0)\n",
    "circ.add(cnot, 0)\n",
    "\n",
    "circ.display(mode_labels = [\"A0\", \"A1\", \"B0\", \"B1\", \"C0\", \"C1\"])"
   ]
  },
  {
   "cell_type": "code",
   "execution_count": 13,
   "metadata": {},
   "outputs": [
    {
     "data": {
      "image/svg+xml": [
       "<?xml version=\"1.0\" encoding=\"UTF-8\"?>\n",
       "<svg xmlns=\"http://www.w3.org/2000/svg\" xmlns:xlink=\"http://www.w3.org/1999/xlink\"\n",
       "     width=\"450.2325581395349\" height=\"440.0\" viewBox=\"0 0 1100 1075\">\n",
       "<defs>\n",
       "</defs>\n",
       "<rect x=\"100\" y=\"25\" width=\"900\" height=\"1025\" fill=\"none\" stroke=\"black\" />\n",
       "<rect x=\"92\" y=\"124.5\" width=\"8\" height=\"1\" fill=\"black\" />\n",
       "<rect x=\"92\" y=\"199.5\" width=\"8\" height=\"1\" fill=\"black\" />\n",
       "<rect x=\"92\" y=\"324.5\" width=\"8\" height=\"1\" fill=\"black\" />\n",
       "<rect x=\"92\" y=\"399.5\" width=\"8\" height=\"1\" fill=\"black\" />\n",
       "<rect x=\"92\" y=\"474.5\" width=\"8\" height=\"1\" fill=\"black\" />\n",
       "<rect x=\"92\" y=\"599.5\" width=\"8\" height=\"1\" fill=\"black\" />\n",
       "<rect x=\"92\" y=\"674.5\" width=\"8\" height=\"1\" fill=\"black\" />\n",
       "<rect x=\"92\" y=\"749.5\" width=\"8\" height=\"1\" fill=\"black\" />\n",
       "<rect x=\"92\" y=\"874.5\" width=\"8\" height=\"1\" fill=\"black\" />\n",
       "<rect x=\"92\" y=\"949.5\" width=\"8\" height=\"1\" fill=\"black\" />\n",
       "<text x=\"80\" y=\"127\" font-size=\"25\" fill=\"black\" text-anchor=\"end\" dominant-baseline=\"middle\" transform=\"rotate(0, 80, 127)\">-</text>\n",
       "<text x=\"80\" y=\"202\" font-size=\"25\" fill=\"black\" text-anchor=\"end\" dominant-baseline=\"middle\" transform=\"rotate(0, 80, 202)\">A0</text>\n",
       "<text x=\"80\" y=\"327\" font-size=\"25\" fill=\"black\" text-anchor=\"end\" dominant-baseline=\"middle\" transform=\"rotate(0, 80, 327)\">A1</text>\n",
       "<text x=\"80\" y=\"402\" font-size=\"25\" fill=\"black\" text-anchor=\"end\" dominant-baseline=\"middle\" transform=\"rotate(0, 80, 402)\">-</text>\n",
       "<text x=\"80\" y=\"477\" font-size=\"25\" fill=\"black\" text-anchor=\"end\" dominant-baseline=\"middle\" transform=\"rotate(0, 80, 477)\">B0</text>\n",
       "<text x=\"80\" y=\"602\" font-size=\"25\" fill=\"black\" text-anchor=\"end\" dominant-baseline=\"middle\" transform=\"rotate(0, 80, 602)\">B1</text>\n",
       "<text x=\"80\" y=\"677\" font-size=\"25\" fill=\"black\" text-anchor=\"end\" dominant-baseline=\"middle\" transform=\"rotate(0, 80, 677)\">-</text>\n",
       "<text x=\"80\" y=\"752\" font-size=\"25\" fill=\"black\" text-anchor=\"end\" dominant-baseline=\"middle\" transform=\"rotate(0, 80, 752)\">C0</text>\n",
       "<text x=\"80\" y=\"877\" font-size=\"25\" fill=\"black\" text-anchor=\"end\" dominant-baseline=\"middle\" transform=\"rotate(0, 80, 877)\">C1</text>\n",
       "<text x=\"80\" y=\"952\" font-size=\"25\" fill=\"black\" text-anchor=\"end\" dominant-baseline=\"middle\" transform=\"rotate(0, 80, 952)\">-</text>\n",
       "<rect x=\"149.95\" y=\"196.0\" width=\"50.1\" height=\"8\" fill=\"black\" />\n",
       "<rect x=\"149.95\" y=\"321.0\" width=\"50.1\" height=\"8\" fill=\"black\" />\n",
       "<rect x=\"200\" y=\"175.0\" width=\"100\" height=\"175\" fill=\"#1a0f36\" stroke=\"black\" rx=\"5\" ry=\"5\" />\n",
       "<text x=\"250.0\" y=\"262.5\" font-size=\"35\" fill=\"white\" text-anchor=\"middle\" dominant-baseline=\"middle\" transform=\"rotate(0, 250.0, 262.5)\">H</text>\n",
       "<rect x=\"299.95\" y=\"196.0\" width=\"50.1\" height=\"8\" fill=\"black\" />\n",
       "<rect x=\"299.95\" y=\"321.0\" width=\"50.1\" height=\"8\" fill=\"black\" />\n",
       "<rect x=\"149.95\" y=\"471.0\" width=\"200.1\" height=\"8\" fill=\"black\" />\n",
       "<rect x=\"149.95\" y=\"596.0\" width=\"200.1\" height=\"8\" fill=\"black\" />\n",
       "<rect x=\"399.95\" y=\"121.0\" width=\"50.1\" height=\"8\" fill=\"black\" />\n",
       "<rect x=\"349.95\" y=\"196.0\" width=\"100.1\" height=\"8\" fill=\"black\" />\n",
       "<rect x=\"349.95\" y=\"321.0\" width=\"100.1\" height=\"8\" fill=\"black\" />\n",
       "<rect x=\"349.95\" y=\"471.0\" width=\"100.1\" height=\"8\" fill=\"black\" />\n",
       "<rect x=\"349.95\" y=\"596.0\" width=\"100.1\" height=\"8\" fill=\"black\" />\n",
       "<rect x=\"399.95\" y=\"671.0\" width=\"50.1\" height=\"8\" fill=\"black\" />\n",
       "<rect x=\"450\" y=\"100.0\" width=\"100\" height=\"600\" fill=\"#1a0f36\" stroke=\"black\" rx=\"5\" ry=\"5\" />\n",
       "<text x=\"500.0\" y=\"400.0\" font-size=\"25\" fill=\"white\" text-anchor=\"middle\" dominant-baseline=\"middle\" transform=\"rotate(270, 500.0, 400.0)\">CNOT</text>\n",
       "<rect x=\"549.95\" y=\"121.0\" width=\"50.1\" height=\"8\" fill=\"black\" />\n",
       "<rect x=\"549.95\" y=\"196.0\" width=\"100.1\" height=\"8\" fill=\"black\" />\n",
       "<rect x=\"549.95\" y=\"321.0\" width=\"100.1\" height=\"8\" fill=\"black\" />\n",
       "<rect x=\"549.95\" y=\"471.0\" width=\"100.1\" height=\"8\" fill=\"black\" />\n",
       "<rect x=\"549.95\" y=\"596.0\" width=\"100.1\" height=\"8\" fill=\"black\" />\n",
       "<rect x=\"549.95\" y=\"671.0\" width=\"50.1\" height=\"8\" fill=\"black\" />\n",
       "<circle cx=\"400\" cy=\"125\" r=\"25\" fill=\"#3e368d\" stroke=\"black\" />\n",
       "<text x=\"400\" y=\"127.5\" font-size=\"30\" fill=\"white\" text-anchor=\"middle\" dominant-baseline=\"middle\" transform=\"rotate(0, 400, 127.5)\">0</text>\n",
       "<circle cx=\"400\" cy=\"675\" r=\"25\" fill=\"#3e368d\" stroke=\"black\" />\n",
       "<text x=\"400\" y=\"677.5\" font-size=\"30\" fill=\"white\" text-anchor=\"middle\" dominant-baseline=\"middle\" transform=\"rotate(0, 400, 677.5)\">0</text>\n",
       "<circle cx=\"600\" cy=\"125\" r=\"25\" fill=\"#3e368d\" stroke=\"black\" />\n",
       "<text x=\"600\" y=\"127.5\" font-size=\"30\" fill=\"white\" text-anchor=\"middle\" dominant-baseline=\"middle\" transform=\"rotate(0, 600, 127.5)\">0</text>\n",
       "<circle cx=\"600\" cy=\"675\" r=\"25\" fill=\"#3e368d\" stroke=\"black\" />\n",
       "<text x=\"600\" y=\"677.5\" font-size=\"30\" fill=\"white\" text-anchor=\"middle\" dominant-baseline=\"middle\" transform=\"rotate(0, 600, 677.5)\">0</text>\n",
       "<rect x=\"149.95\" y=\"746.0\" width=\"500.1\" height=\"8\" fill=\"black\" />\n",
       "<rect x=\"149.95\" y=\"871.0\" width=\"500.1\" height=\"8\" fill=\"black\" />\n",
       "<rect x=\"699.95\" y=\"396.0\" width=\"50.1\" height=\"8\" fill=\"black\" />\n",
       "<rect x=\"649.95\" y=\"471.0\" width=\"100.1\" height=\"8\" fill=\"black\" />\n",
       "<rect x=\"649.95\" y=\"596.0\" width=\"100.1\" height=\"8\" fill=\"black\" />\n",
       "<rect x=\"649.95\" y=\"746.0\" width=\"100.1\" height=\"8\" fill=\"black\" />\n",
       "<rect x=\"649.95\" y=\"871.0\" width=\"100.1\" height=\"8\" fill=\"black\" />\n",
       "<rect x=\"699.95\" y=\"946.0\" width=\"50.1\" height=\"8\" fill=\"black\" />\n",
       "<rect x=\"750\" y=\"375.0\" width=\"100\" height=\"600\" fill=\"#1a0f36\" stroke=\"black\" rx=\"5\" ry=\"5\" />\n",
       "<text x=\"800.0\" y=\"675.0\" font-size=\"25\" fill=\"white\" text-anchor=\"middle\" dominant-baseline=\"middle\" transform=\"rotate(270, 800.0, 675.0)\">CNOT</text>\n",
       "<rect x=\"849.95\" y=\"396.0\" width=\"50.1\" height=\"8\" fill=\"black\" />\n",
       "<rect x=\"849.95\" y=\"471.0\" width=\"100.1\" height=\"8\" fill=\"black\" />\n",
       "<rect x=\"849.95\" y=\"596.0\" width=\"100.1\" height=\"8\" fill=\"black\" />\n",
       "<rect x=\"849.95\" y=\"746.0\" width=\"100.1\" height=\"8\" fill=\"black\" />\n",
       "<rect x=\"849.95\" y=\"871.0\" width=\"100.1\" height=\"8\" fill=\"black\" />\n",
       "<rect x=\"849.95\" y=\"946.0\" width=\"50.1\" height=\"8\" fill=\"black\" />\n",
       "<circle cx=\"700\" cy=\"400\" r=\"25\" fill=\"#3e368d\" stroke=\"black\" />\n",
       "<text x=\"700\" y=\"402.5\" font-size=\"30\" fill=\"white\" text-anchor=\"middle\" dominant-baseline=\"middle\" transform=\"rotate(0, 700, 402.5)\">0</text>\n",
       "<circle cx=\"700\" cy=\"950\" r=\"25\" fill=\"#3e368d\" stroke=\"black\" />\n",
       "<text x=\"700\" y=\"952.5\" font-size=\"30\" fill=\"white\" text-anchor=\"middle\" dominant-baseline=\"middle\" transform=\"rotate(0, 700, 952.5)\">0</text>\n",
       "<circle cx=\"900\" cy=\"400\" r=\"25\" fill=\"#3e368d\" stroke=\"black\" />\n",
       "<text x=\"900\" y=\"402.5\" font-size=\"30\" fill=\"white\" text-anchor=\"middle\" dominant-baseline=\"middle\" transform=\"rotate(0, 900, 402.5)\">0</text>\n",
       "<circle cx=\"900\" cy=\"950\" r=\"25\" fill=\"#3e368d\" stroke=\"black\" />\n",
       "<text x=\"900\" y=\"952.5\" font-size=\"30\" fill=\"white\" text-anchor=\"middle\" dominant-baseline=\"middle\" transform=\"rotate(0, 900, 952.5)\">0</text>\n",
       "<rect x=\"649.95\" y=\"196.0\" width=\"300.1\" height=\"8\" fill=\"black\" />\n",
       "<rect x=\"649.95\" y=\"321.0\" width=\"300.1\" height=\"8\" fill=\"black\" />\n",
       "</svg>"
      ],
      "text/plain": [
       "<drawsvg.drawing.Drawing at 0x199a76ed650>"
      ]
     },
     "metadata": {},
     "output_type": "display_data"
    }
   ],
   "source": [
    "circ.add(cnot, 2)\n",
    "\n",
    "circ.display(mode_labels = [\"A0\", \"A1\", \"B0\", \"B1\", \"C0\", \"C1\"])"
   ]
  },
  {
   "cell_type": "code",
   "execution_count": 14,
   "metadata": {},
   "outputs": [],
   "source": [
    "sampler = emulator.Sampler(circ, lw.State([1,0,1,0,1,0]))"
   ]
  },
  {
   "cell_type": "code",
   "execution_count": 15,
   "metadata": {},
   "outputs": [],
   "source": [
    "post_select = lambda s: sum(s[0:2]) == 1 and sum(s[2:4]) == 1 and sum(s[4:]) == 1\n",
    "results = sampler.sample_N_inputs(10000, post_select = post_select)"
   ]
  },
  {
   "cell_type": "code",
   "execution_count": 17,
   "metadata": {},
   "outputs": [
    {
     "data": {
      "image/png": "[encoded data removed]",
      "text/plain": [
       "<Figure size 700x600 with 1 Axes>"
      ]
     },
     "metadata": {},
     "output_type": "display_data"
    }
   ],
   "source": [
    "results.plot(show = True)"
   ]
  },
  {
   "cell_type": "code",
   "execution_count": null,
   "metadata": {},
   "outputs": [],
   "source": []
  }
 ],
 "metadata": {
  "kernelspec": {
   "display_name": "venv",
   "language": "python",
   "name": "python3"
  },
  "language_info": {
   "codemirror_mode": {
    "name": "ipython",
    "version": 3
   },
   "file_extension": ".py",
   "mimetype": "text/x-python",
   "name": "python",
   "nbconvert_exporter": "python",
   "pygments_lexer": "ipython3",
   "version": "3.11.6"
  }
 },
 "nbformat": 4,
 "nbformat_minor": 2
}
