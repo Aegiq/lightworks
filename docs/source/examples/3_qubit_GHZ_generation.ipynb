{
 "cells": [
  {
   "cell_type": "markdown",
   "metadata": {},
   "source": [
    "# 3 Qubit GHZ Generation\n",
    "- This demo shows how Lightwords can be utilized for the qubit based paradigm of quantum computing."
   ]
  },
  {
   "cell_type": "code",
   "execution_count": 1,
   "metadata": {},
   "outputs": [],
   "source": [
    "import lightworks as lw\n",
    "from lightworks import emulator, State\n",
    "\n",
    "import numpy as np\n",
    "import matplotlib.pyplot as plt"
   ]
  },
  {
   "cell_type": "markdown",
   "metadata": {},
   "source": [
    "## Theory\n",
    "\n",
    "In the following we show a demonstration of the implementation of two successive CNOTs across 3 qubits to generate the 3 photon entangled GHZ state $\\frac{1}{\\sqrt{2}}(\\ket{000} + \\ket{111})$.\n",
    "\n",
    "In qubit language we start with the state $\\ket{000}$, a hadamard is then applied to the first qubit, this gives: \n",
    "\n",
    "\\begin{equation} H_1\\ket{000} = \\frac{1}{\\sqrt{2}}(\\ket{000} + \\ket{100}) \\tag{1} \\end{equation}\n",
    "\n",
    "On application of the first CNOT between qubits 1 and 2, the state is then transformed into:\n",
    "\n",
    "\\begin{equation} CNOT_{1,2}\\;\\frac{1}{\\sqrt{2}}(\\ket{000} + \\ket{100}) = \\frac{1}{\\sqrt{2}}(\\ket{000} + \\ket{110}) \\tag{2} \\end{equation}\n",
    "\n",
    "Then, on application of the second CNOT between qubits 2 and 3, we get the GHZ state:\n",
    "\n",
    "\\begin{equation} CNOT_{2,3}\\;\\frac{1}{\\sqrt{2}}(\\ket{000} + \\ket{110}) = \\frac{1}{\\sqrt{2}}(\\ket{000} + \\ket{111}) \\tag{3} \\end{equation}"
   ]
  },
  {
   "cell_type": "markdown",
   "metadata": {},
   "source": [
    "## Circuit\n",
    "- We can create the circuit described with the code in the cell below.\n",
    "- The included lightworks qubit components to simplify the construction, abstracting the required heralds of the circuit.."
   ]
  },
  {
   "cell_type": "code",
   "execution_count": 2,
   "metadata": {},
   "outputs": [
    {
     "data": {
      "image/svg+xml": [
       "<?xml version=\"1.0\" encoding=\"UTF-8\"?>\n",
       "<svg xmlns=\"http://www.w3.org/2000/svg\" xmlns:xlink=\"http://www.w3.org/1999/xlink\"\n",
       "     width=\"450.2325581395349\" height=\"440.0\" viewBox=\"0 0 1100 1075\">\n",
       "<defs>\n",
       "</defs>\n",
       "<rect x=\"0\" y=\"0\" width=\"1100\" height=\"1075\" fill=\"white\" stroke=\"none\" />\n",
       "<rect x=\"100\" y=\"25\" width=\"900\" height=\"1025\" fill=\"none\" stroke=\"black\" />\n",
       "<rect x=\"92\" y=\"124.5\" width=\"8\" height=\"1\" fill=\"black\" />\n",
       "<rect x=\"92\" y=\"199.5\" width=\"8\" height=\"1\" fill=\"black\" />\n",
       "<rect x=\"92\" y=\"324.5\" width=\"8\" height=\"1\" fill=\"black\" />\n",
       "<rect x=\"92\" y=\"399.5\" width=\"8\" height=\"1\" fill=\"black\" />\n",
       "<rect x=\"92\" y=\"474.5\" width=\"8\" height=\"1\" fill=\"black\" />\n",
       "<rect x=\"92\" y=\"599.5\" width=\"8\" height=\"1\" fill=\"black\" />\n",
       "<rect x=\"92\" y=\"674.5\" width=\"8\" height=\"1\" fill=\"black\" />\n",
       "<rect x=\"92\" y=\"749.5\" width=\"8\" height=\"1\" fill=\"black\" />\n",
       "<rect x=\"92\" y=\"874.5\" width=\"8\" height=\"1\" fill=\"black\" />\n",
       "<rect x=\"92\" y=\"949.5\" width=\"8\" height=\"1\" fill=\"black\" />\n",
       "<text x=\"80\" y=\"127\" font-size=\"25\" fill=\"black\" text-anchor=\"end\" dominant-baseline=\"middle\" transform=\"rotate(0, 80, 127)\">-</text>\n",
       "<text x=\"80\" y=\"202\" font-size=\"25\" fill=\"black\" text-anchor=\"end\" dominant-baseline=\"middle\" transform=\"rotate(0, 80, 202)\">|1&gt;</text>\n",
       "<text x=\"80\" y=\"327\" font-size=\"25\" fill=\"black\" text-anchor=\"end\" dominant-baseline=\"middle\" transform=\"rotate(0, 80, 327)\">-</text>\n",
       "<text x=\"80\" y=\"402\" font-size=\"25\" fill=\"black\" text-anchor=\"end\" dominant-baseline=\"middle\" transform=\"rotate(0, 80, 402)\">-</text>\n",
       "<text x=\"80\" y=\"477\" font-size=\"25\" fill=\"black\" text-anchor=\"end\" dominant-baseline=\"middle\" transform=\"rotate(0, 80, 477)\">|1&gt;</text>\n",
       "<text x=\"80\" y=\"602\" font-size=\"25\" fill=\"black\" text-anchor=\"end\" dominant-baseline=\"middle\" transform=\"rotate(0, 80, 602)\">-</text>\n",
       "<text x=\"80\" y=\"677\" font-size=\"25\" fill=\"black\" text-anchor=\"end\" dominant-baseline=\"middle\" transform=\"rotate(0, 80, 677)\">-</text>\n",
       "<text x=\"80\" y=\"752\" font-size=\"25\" fill=\"black\" text-anchor=\"end\" dominant-baseline=\"middle\" transform=\"rotate(0, 80, 752)\">|1&gt;</text>\n",
       "<text x=\"80\" y=\"877\" font-size=\"25\" fill=\"black\" text-anchor=\"end\" dominant-baseline=\"middle\" transform=\"rotate(0, 80, 877)\">-</text>\n",
       "<text x=\"80\" y=\"952\" font-size=\"25\" fill=\"black\" text-anchor=\"end\" dominant-baseline=\"middle\" transform=\"rotate(0, 80, 952)\">-</text>\n",
       "<rect x=\"149.95\" y=\"196.0\" width=\"50.1\" height=\"8\" fill=\"black\" />\n",
       "<rect x=\"149.95\" y=\"321.0\" width=\"50.1\" height=\"8\" fill=\"black\" />\n",
       "<rect x=\"200\" y=\"175.0\" width=\"100\" height=\"175\" fill=\"#1a0f36\" stroke=\"black\" rx=\"5\" ry=\"5\" />\n",
       "<text x=\"250.0\" y=\"262.5\" font-size=\"35\" fill=\"white\" text-anchor=\"middle\" dominant-baseline=\"middle\" transform=\"rotate(0, 250.0, 262.5)\">H</text>\n",
       "<rect x=\"299.95\" y=\"196.0\" width=\"50.1\" height=\"8\" fill=\"black\" />\n",
       "<rect x=\"299.95\" y=\"321.0\" width=\"50.1\" height=\"8\" fill=\"black\" />\n",
       "<rect x=\"149.95\" y=\"471.0\" width=\"200.1\" height=\"8\" fill=\"black\" />\n",
       "<rect x=\"149.95\" y=\"596.0\" width=\"200.1\" height=\"8\" fill=\"black\" />\n",
       "<rect x=\"399.95\" y=\"121.0\" width=\"50.1\" height=\"8\" fill=\"black\" />\n",
       "<rect x=\"349.95\" y=\"196.0\" width=\"100.1\" height=\"8\" fill=\"black\" />\n",
       "<rect x=\"349.95\" y=\"321.0\" width=\"100.1\" height=\"8\" fill=\"black\" />\n",
       "<rect x=\"349.95\" y=\"471.0\" width=\"100.1\" height=\"8\" fill=\"black\" />\n",
       "<rect x=\"349.95\" y=\"596.0\" width=\"100.1\" height=\"8\" fill=\"black\" />\n",
       "<rect x=\"399.95\" y=\"671.0\" width=\"50.1\" height=\"8\" fill=\"black\" />\n",
       "<rect x=\"450\" y=\"100.0\" width=\"100\" height=\"600\" fill=\"#1a0f36\" stroke=\"black\" rx=\"5\" ry=\"5\" />\n",
       "<text x=\"500.0\" y=\"400.0\" font-size=\"25\" fill=\"white\" text-anchor=\"middle\" dominant-baseline=\"middle\" transform=\"rotate(270, 500.0, 400.0)\">CNOT 1</text>\n",
       "<rect x=\"549.95\" y=\"121.0\" width=\"50.1\" height=\"8\" fill=\"black\" />\n",
       "<rect x=\"549.95\" y=\"196.0\" width=\"100.1\" height=\"8\" fill=\"black\" />\n",
       "<rect x=\"549.95\" y=\"321.0\" width=\"100.1\" height=\"8\" fill=\"black\" />\n",
       "<rect x=\"549.95\" y=\"471.0\" width=\"100.1\" height=\"8\" fill=\"black\" />\n",
       "<rect x=\"549.95\" y=\"596.0\" width=\"100.1\" height=\"8\" fill=\"black\" />\n",
       "<rect x=\"549.95\" y=\"671.0\" width=\"50.1\" height=\"8\" fill=\"black\" />\n",
       "<circle cx=\"400\" cy=\"125\" r=\"25\" fill=\"#3e368d\" stroke=\"black\" />\n",
       "<text x=\"400\" y=\"127.5\" font-size=\"30\" fill=\"white\" text-anchor=\"middle\" dominant-baseline=\"middle\" transform=\"rotate(0, 400, 127.5)\">0</text>\n",
       "<circle cx=\"400\" cy=\"675\" r=\"25\" fill=\"#3e368d\" stroke=\"black\" />\n",
       "<text x=\"400\" y=\"677.5\" font-size=\"30\" fill=\"white\" text-anchor=\"middle\" dominant-baseline=\"middle\" transform=\"rotate(0, 400, 677.5)\">0</text>\n",
       "<circle cx=\"600\" cy=\"125\" r=\"25\" fill=\"#3e368d\" stroke=\"black\" />\n",
       "<text x=\"600\" y=\"127.5\" font-size=\"30\" fill=\"white\" text-anchor=\"middle\" dominant-baseline=\"middle\" transform=\"rotate(0, 600, 127.5)\">0</text>\n",
       "<circle cx=\"600\" cy=\"675\" r=\"25\" fill=\"#3e368d\" stroke=\"black\" />\n",
       "<text x=\"600\" y=\"677.5\" font-size=\"30\" fill=\"white\" text-anchor=\"middle\" dominant-baseline=\"middle\" transform=\"rotate(0, 600, 677.5)\">0</text>\n",
       "<rect x=\"149.95\" y=\"746.0\" width=\"500.1\" height=\"8\" fill=\"black\" />\n",
       "<rect x=\"149.95\" y=\"871.0\" width=\"500.1\" height=\"8\" fill=\"black\" />\n",
       "<rect x=\"699.95\" y=\"396.0\" width=\"50.1\" height=\"8\" fill=\"black\" />\n",
       "<rect x=\"649.95\" y=\"471.0\" width=\"100.1\" height=\"8\" fill=\"black\" />\n",
       "<rect x=\"649.95\" y=\"596.0\" width=\"100.1\" height=\"8\" fill=\"black\" />\n",
       "<rect x=\"649.95\" y=\"746.0\" width=\"100.1\" height=\"8\" fill=\"black\" />\n",
       "<rect x=\"649.95\" y=\"871.0\" width=\"100.1\" height=\"8\" fill=\"black\" />\n",
       "<rect x=\"699.95\" y=\"946.0\" width=\"50.1\" height=\"8\" fill=\"black\" />\n",
       "<rect x=\"750\" y=\"375.0\" width=\"100\" height=\"600\" fill=\"#1a0f36\" stroke=\"black\" rx=\"5\" ry=\"5\" />\n",
       "<text x=\"800.0\" y=\"675.0\" font-size=\"25\" fill=\"white\" text-anchor=\"middle\" dominant-baseline=\"middle\" transform=\"rotate(270, 800.0, 675.0)\">CNOT 2</text>\n",
       "<rect x=\"849.95\" y=\"396.0\" width=\"50.1\" height=\"8\" fill=\"black\" />\n",
       "<rect x=\"849.95\" y=\"471.0\" width=\"100.1\" height=\"8\" fill=\"black\" />\n",
       "<rect x=\"849.95\" y=\"596.0\" width=\"100.1\" height=\"8\" fill=\"black\" />\n",
       "<rect x=\"849.95\" y=\"746.0\" width=\"100.1\" height=\"8\" fill=\"black\" />\n",
       "<rect x=\"849.95\" y=\"871.0\" width=\"100.1\" height=\"8\" fill=\"black\" />\n",
       "<rect x=\"849.95\" y=\"946.0\" width=\"50.1\" height=\"8\" fill=\"black\" />\n",
       "<circle cx=\"700\" cy=\"400\" r=\"25\" fill=\"#3e368d\" stroke=\"black\" />\n",
       "<text x=\"700\" y=\"402.5\" font-size=\"30\" fill=\"white\" text-anchor=\"middle\" dominant-baseline=\"middle\" transform=\"rotate(0, 700, 402.5)\">0</text>\n",
       "<circle cx=\"700\" cy=\"950\" r=\"25\" fill=\"#3e368d\" stroke=\"black\" />\n",
       "<text x=\"700\" y=\"952.5\" font-size=\"30\" fill=\"white\" text-anchor=\"middle\" dominant-baseline=\"middle\" transform=\"rotate(0, 700, 952.5)\">0</text>\n",
       "<circle cx=\"900\" cy=\"400\" r=\"25\" fill=\"#3e368d\" stroke=\"black\" />\n",
       "<text x=\"900\" y=\"402.5\" font-size=\"30\" fill=\"white\" text-anchor=\"middle\" dominant-baseline=\"middle\" transform=\"rotate(0, 900, 402.5)\">0</text>\n",
       "<circle cx=\"900\" cy=\"950\" r=\"25\" fill=\"#3e368d\" stroke=\"black\" />\n",
       "<text x=\"900\" y=\"952.5\" font-size=\"30\" fill=\"white\" text-anchor=\"middle\" dominant-baseline=\"middle\" transform=\"rotate(0, 900, 952.5)\">0</text>\n",
       "<rect x=\"649.95\" y=\"196.0\" width=\"300.1\" height=\"8\" fill=\"black\" />\n",
       "<rect x=\"649.95\" y=\"321.0\" width=\"300.1\" height=\"8\" fill=\"black\" />\n",
       "</svg>"
      ],
      "text/plain": [
       "<drawsvg.drawing.Drawing at 0x2d0ca06bc50>"
      ]
     },
     "metadata": {},
     "output_type": "display_data"
    }
   ],
   "source": [
    "# Define cnot and H components\n",
    "cnot_circuit = lw.qubit.CNOT()\n",
    "h_circuit = lw.qubit.H()\n",
    "\n",
    "# We will then define the larger overall circuit - 3 qubits so 6 modes\n",
    "circuit = lw.Circuit(6)\n",
    "\n",
    "# First add the initial Hadamard (H) gate which acts on qubit 1.\n",
    "circuit.add(h_circuit)\n",
    "# Then include the first CNOT, grouping all components\n",
    "circuit.add(cnot_circuit, 0, group = True, name = f\"CNOT 1\")\n",
    "# Then add second CNOT\n",
    "circuit.add(cnot_circuit, 2, group = True, name = f\"CNOT 2\")\n",
    "\n",
    "# Use display method, we will assign mode labels which allow us to mark which\n",
    "# mode the photons should be input on\n",
    "circuit.display(display_type = \"svg\", \n",
    "                mode_labels = ['|1>','-','|1>','-','|1>','-'])"
   ]
  },
  {
   "cell_type": "markdown",
   "metadata": {},
   "source": [
    "## Simulation with perfect system\n",
    "- We can then simulate the system to check the expected output.\n",
    "- Before simulation, we will define a processing function to convert the results - the exact details of what this does are not too important, it just switches between the photon and qubit representations."
   ]
  },
  {
   "cell_type": "code",
   "execution_count": 3,
   "metadata": {},
   "outputs": [],
   "source": [
    "def process_cnot_data(data):\n",
    "    # Convert mode data into qubit form\n",
    "    converted_results = {}\n",
    "    for s, p in data.items():\n",
    "        conv_state = \"\"\n",
    "        for i in range(0, len(s), 2):\n",
    "            if s[i:i+2] == State([1,0]):\n",
    "                conv_state += \"0\"\n",
    "            elif s[i:i+2] == State([0,1]):\n",
    "                conv_state += \"1\"\n",
    "            else:\n",
    "                conv_state += \"X\"\n",
    "        converted_results[conv_state] = p\n",
    "    return converted_results"
   ]
  },
  {
   "cell_type": "markdown",
   "metadata": {},
   "source": [
    "- As part of the simulation, we will define what is known as a post-slection function. \n",
    "- This means that we will only accept outputs for which this particular rule is true.\n",
    "- We then use the Sampler again to find the outputs from the system.\n",
    "- As heralds were included in the original circuit we do not need to specify these modes."
   ]
  },
  {
   "cell_type": "code",
   "execution_count": 4,
   "metadata": {},
   "outputs": [],
   "source": [
    "sampler = emulator.Sampler(circuit, State([1,0,1,0,1,0]))\n",
    "\n",
    "# Define post-selection and get results\n",
    "post_select = lambda s: sum(s[0:2]) == 1 and sum(s[2:4]) == 1 and sum(s[4:6]) == 1\n",
    "results = sampler.sample_N_inputs(100000, post_select = post_select, seed = 1)\n",
    "# Process with function\n",
    "converted_results = process_cnot_data(results)"
   ]
  },
  {
   "cell_type": "markdown",
   "metadata": {},
   "source": [
    "- These results can then be plotted.\n",
    "- We see the two expected measurement outcomes for the state $\\frac{1}{\\sqrt{2}}(\\ket{000} + \\ket{111})$."
   ]
  },
  {
   "cell_type": "code",
   "execution_count": 5,
   "metadata": {},
   "outputs": [
    {
     "data": {
      "image/png": "[encoded data removed]",
      "text/plain": [
       "<Figure size 700x600 with 1 Axes>"
      ]
     },
     "metadata": {},
     "output_type": "display_data"
    }
   ],
   "source": [
    "plt.figure(figsize = (7,6))\n",
    "plt.bar(range(len(converted_results)), converted_results.values())\n",
    "plt.xticks(range(len(converted_results)), converted_results.keys())\n",
    "plt.xlabel(\"Output Qubit State\")\n",
    "plt.ylabel(\"Count\")\n",
    "plt.show()"
   ]
  },
  {
   "cell_type": "markdown",
   "metadata": {},
   "source": [
    "## Simulation with imperfect source and detectors\n",
    "- Unfortunately, the components of our system are not perfect, and these imperfections will alter the results we see.\n",
    "- Luckily, we can simulate and understand this with the emulator.\n",
    "- To do this we will modify some of the attributes of the Sampler object to account for imperfections in the single photon source and detector modules of the system."
   ]
  },
  {
   "cell_type": "code",
   "execution_count": 6,
   "metadata": {},
   "outputs": [],
   "source": [
    "sampler.source = emulator.Source(indistinguishability = 0.98, purity = 0.98)\n",
    "sampler.detector = emulator.Detector(efficiency = 0.8, p_dark = 1e-6)"
   ]
  },
  {
   "cell_type": "markdown",
   "metadata": {},
   "source": [
    "- Can then re-calculate the results. (This may take a few seconds.)"
   ]
  },
  {
   "cell_type": "code",
   "execution_count": 7,
   "metadata": {},
   "outputs": [],
   "source": [
    "# Define post-selection and get results\n",
    "post_select = lambda s: sum(s[0:2]) == 1 and sum(s[2:4]) == 1 and sum(s[4:6]) == 1\n",
    "results = sampler.sample_N_inputs(100000, post_select = post_select, seed = 1)\n",
    "# Process with function\n",
    "converted_results = process_cnot_data(results)"
   ]
  },
  {
   "cell_type": "markdown",
   "metadata": {},
   "source": [
    "- And plot. Here we see some states other than the 000 and 111 outputs we wanted, demonstrating the potential effect of errors within the system."
   ]
  },
  {
   "cell_type": "code",
   "execution_count": 8,
   "metadata": {},
   "outputs": [
    {
     "data": {
      "image/png": "[encoded data removed]",
      "text/plain": [
       "<Figure size 700x600 with 1 Axes>"
      ]
     },
     "metadata": {},
     "output_type": "display_data"
    }
   ],
   "source": [
    "plt.figure(figsize = (7,6))\n",
    "plt.bar(range(len(converted_results)), converted_results.values())\n",
    "plt.xticks(range(len(converted_results)), converted_results.keys())\n",
    "plt.xlabel(\"Output Qubit State\")\n",
    "plt.ylabel(\"Count\")\n",
    "plt.show()"
   ]
  }
 ],
 "metadata": {
  "kernelspec": {
   "display_name": "venv",
   "language": "python",
   "name": "python3"
  },
  "language_info": {
   "codemirror_mode": {
    "name": "ipython",
    "version": 3
   },
   "file_extension": ".py",
   "mimetype": "text/x-python",
   "name": "python",
   "nbconvert_exporter": "python",
   "pygments_lexer": "ipython3",
   "version": "3.11.6"
  }
 },
 "nbformat": 4,
 "nbformat_minor": 2
}
