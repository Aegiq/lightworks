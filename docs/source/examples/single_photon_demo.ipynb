{
 "cells": [
  {
   "attachments": {},
   "cell_type": "markdown",
   "metadata": {},
   "source": [
    "# Single-photon Simulation\n",
    "- The following notebook demonstrates the use of the emulator to simulate the propagation of a single photon in a quantum photonic processor.\n",
    "- This can be used to find the unitary implemented by a system.\n",
    "- First import required modules and some additional tools."
   ]
  },
  {
   "cell_type": "code",
   "execution_count": 1,
   "metadata": {},
   "outputs": [],
   "source": [
    "import lightworks as lw\n",
    "from lightworks import emulator, State\n",
    "\n",
    "from scipy.stats import unitary_group\n",
    "import matplotlib.pyplot as plt\n",
    "from collections import Counter"
   ]
  },
  {
   "attachments": {},
   "cell_type": "markdown",
   "metadata": {},
   "source": [
    "- A general N is then defined, which is used to adjust the number of modes used for the circuit throughout the notebook."
   ]
  },
  {
   "cell_type": "code",
   "execution_count": 2,
   "metadata": {},
   "outputs": [],
   "source": [
    "N = 8"
   ]
  },
  {
   "attachments": {},
   "cell_type": "markdown",
   "metadata": {},
   "source": [
    "- Can then create a random unitary matrix which is programmed onto the chip."
   ]
  },
  {
   "cell_type": "code",
   "execution_count": 3,
   "metadata": {},
   "outputs": [],
   "source": [
    "U = lw.random_unitary(N)\n",
    "\n",
    "circuit = lw.Unitary(U)"
   ]
  },
  {
   "attachments": {},
   "cell_type": "markdown",
   "metadata": {},
   "source": [
    "## Simulator\n",
    "- First we try using the simulation part of the emulator. This allows the simulation of a number of input states, finding the probability amplitudes for the given outputs.\n",
    "- To set this up, we specify the generated circuit to the simulator class. "
   ]
  },
  {
   "cell_type": "code",
   "execution_count": 4,
   "metadata": {},
   "outputs": [],
   "source": [
    "sim = emulator.Simulator(circuit)"
   ]
  },
  {
   "attachments": {},
   "cell_type": "markdown",
   "metadata": {},
   "source": [
    "- In this case we will choose to try to recreate the unitary matrix, which can be done by creating a list of all single photon input and output states."
   ]
  },
  {
   "cell_type": "code",
   "execution_count": 5,
   "metadata": {},
   "outputs": [],
   "source": [
    "states = []\n",
    "\n",
    "# Create all single photon states by adding 1 to list when i=j, otherwise add 0\n",
    "for i in range(N):\n",
    "    state = []\n",
    "    for j in range(N):\n",
    "        if i == j:\n",
    "            state += [1]\n",
    "        else:\n",
    "            state += [0]\n",
    "    states.append(State(state))\n",
    "\n",
    "# Calculate probability amplitude\n",
    "results = sim.simulate(states, states)\n",
    "U_calc = results.array"
   ]
  },
  {
   "attachments": {},
   "cell_type": "markdown",
   "metadata": {},
   "source": [
    "- The resultant matrix probability amplitude matrix can be visualized below, and we see that the unitary is correctly replicated.\n",
    "- Note that the unitary needs to be transposed for the plotting below to show identical matrices."
   ]
  },
  {
   "cell_type": "code",
   "execution_count": 6,
   "metadata": {},
   "outputs": [
    {
     "data": {
      "image/png": "[encoded data removed]",
      "text/plain": [
       "<Figure size 1200x600 with 2 Axes>"
      ]
     },
     "metadata": {},
     "output_type": "display_data"
    }
   ],
   "source": [
    "fig, ax = plt.subplots(1, 2, figsize = (12, 6))\n",
    "\n",
    "ax[0].imshow(abs(U.T))\n",
    "ax[1].imshow(abs(U_calc))\n",
    "ax[0].set_title(\"U\")\n",
    "ax[1].set_title(\"Calculated U\")\n",
    "\n",
    "plt.show()"
   ]
  },
  {
   "attachments": {},
   "cell_type": "markdown",
   "metadata": {},
   "source": [
    "- It is also possible to directly view the probability amplitudes in a nicer form using the display_as_dataframe function included with the results object. \n",
    "- In this case the values are converted to probabilities with the conv_to_probability keyword."
   ]
  },
  {
   "cell_type": "code",
   "execution_count": 7,
   "metadata": {},
   "outputs": [
    {
     "data": {
      "text/html": [
       "<div>\n",
       "<style scoped>\n",
       "    .dataframe tbody tr th:only-of-type {\n",
       "        vertical-align: middle;\n",
       "    }\n",
       "\n",
       "    .dataframe tbody tr th {\n",
       "        vertical-align: top;\n",
       "    }\n",
       "\n",
       "    .dataframe thead th {\n",
       "        text-align: right;\n",
       "    }\n",
       "</style>\n",
       "<table border=\"1\" class=\"dataframe\">\n",
       "  <thead>\n",
       "    <tr style=\"text-align: right;\">\n",
       "      <th></th>\n",
       "      <th>|1,0,0,0,0,0,0,0&gt;</th>\n",
       "      <th>|0,1,0,0,0,0,0,0&gt;</th>\n",
       "      <th>|0,0,1,0,0,0,0,0&gt;</th>\n",
       "      <th>|0,0,0,1,0,0,0,0&gt;</th>\n",
       "      <th>|0,0,0,0,1,0,0,0&gt;</th>\n",
       "      <th>|0,0,0,0,0,1,0,0&gt;</th>\n",
       "      <th>|0,0,0,0,0,0,1,0&gt;</th>\n",
       "      <th>|0,0,0,0,0,0,0,1&gt;</th>\n",
       "    </tr>\n",
       "  </thead>\n",
       "  <tbody>\n",
       "    <tr>\n",
       "      <th>|1,0,0,0,0,0,0,0&gt;</th>\n",
       "      <td>0.082867</td>\n",
       "      <td>0.015616</td>\n",
       "      <td>0.133246</td>\n",
       "      <td>0.076227</td>\n",
       "      <td>0.027334</td>\n",
       "      <td>0.178656</td>\n",
       "      <td>0.218299</td>\n",
       "      <td>0.267756</td>\n",
       "    </tr>\n",
       "    <tr>\n",
       "      <th>|0,1,0,0,0,0,0,0&gt;</th>\n",
       "      <td>0.384796</td>\n",
       "      <td>0.091305</td>\n",
       "      <td>0.084469</td>\n",
       "      <td>0.126601</td>\n",
       "      <td>0.068287</td>\n",
       "      <td>0.110716</td>\n",
       "      <td>0.112783</td>\n",
       "      <td>0.021042</td>\n",
       "    </tr>\n",
       "    <tr>\n",
       "      <th>|0,0,1,0,0,0,0,0&gt;</th>\n",
       "      <td>0.053426</td>\n",
       "      <td>0.276756</td>\n",
       "      <td>0.072420</td>\n",
       "      <td>0.010603</td>\n",
       "      <td>0.492763</td>\n",
       "      <td>0.022015</td>\n",
       "      <td>0.026387</td>\n",
       "      <td>0.045631</td>\n",
       "    </tr>\n",
       "    <tr>\n",
       "      <th>|0,0,0,1,0,0,0,0&gt;</th>\n",
       "      <td>0.224205</td>\n",
       "      <td>0.003599</td>\n",
       "      <td>0.052206</td>\n",
       "      <td>0.066889</td>\n",
       "      <td>0.010553</td>\n",
       "      <td>0.262829</td>\n",
       "      <td>0.079654</td>\n",
       "      <td>0.300064</td>\n",
       "    </tr>\n",
       "    <tr>\n",
       "      <th>|0,0,0,0,1,0,0,0&gt;</th>\n",
       "      <td>0.087511</td>\n",
       "      <td>0.268052</td>\n",
       "      <td>0.419386</td>\n",
       "      <td>0.026313</td>\n",
       "      <td>0.086093</td>\n",
       "      <td>0.011575</td>\n",
       "      <td>0.092602</td>\n",
       "      <td>0.008467</td>\n",
       "    </tr>\n",
       "    <tr>\n",
       "      <th>|0,0,0,0,0,1,0,0&gt;</th>\n",
       "      <td>0.035932</td>\n",
       "      <td>0.132267</td>\n",
       "      <td>0.118647</td>\n",
       "      <td>0.255044</td>\n",
       "      <td>0.096606</td>\n",
       "      <td>0.220393</td>\n",
       "      <td>0.056893</td>\n",
       "      <td>0.084218</td>\n",
       "    </tr>\n",
       "    <tr>\n",
       "      <th>|0,0,0,0,0,0,1,0&gt;</th>\n",
       "      <td>0.098895</td>\n",
       "      <td>0.158772</td>\n",
       "      <td>0.050003</td>\n",
       "      <td>0.400225</td>\n",
       "      <td>0.155965</td>\n",
       "      <td>0.043470</td>\n",
       "      <td>0.031889</td>\n",
       "      <td>0.060781</td>\n",
       "    </tr>\n",
       "    <tr>\n",
       "      <th>|0,0,0,0,0,0,0,1&gt;</th>\n",
       "      <td>0.032370</td>\n",
       "      <td>0.053634</td>\n",
       "      <td>0.069623</td>\n",
       "      <td>0.038096</td>\n",
       "      <td>0.062399</td>\n",
       "      <td>0.150345</td>\n",
       "      <td>0.381492</td>\n",
       "      <td>0.212041</td>\n",
       "    </tr>\n",
       "  </tbody>\n",
       "</table>\n",
       "</div>"
      ],
      "text/plain": [
       "                   |1,0,0,0,0,0,0,0>  |0,1,0,0,0,0,0,0>  |0,0,1,0,0,0,0,0>  \\\n",
       "|1,0,0,0,0,0,0,0>           0.082867           0.015616           0.133246   \n",
       "|0,1,0,0,0,0,0,0>           0.384796           0.091305           0.084469   \n",
       "|0,0,1,0,0,0,0,0>           0.053426           0.276756           0.072420   \n",
       "|0,0,0,1,0,0,0,0>           0.224205           0.003599           0.052206   \n",
       "|0,0,0,0,1,0,0,0>           0.087511           0.268052           0.419386   \n",
       "|0,0,0,0,0,1,0,0>           0.035932           0.132267           0.118647   \n",
       "|0,0,0,0,0,0,1,0>           0.098895           0.158772           0.050003   \n",
       "|0,0,0,0,0,0,0,1>           0.032370           0.053634           0.069623   \n",
       "\n",
       "                   |0,0,0,1,0,0,0,0>  |0,0,0,0,1,0,0,0>  |0,0,0,0,0,1,0,0>  \\\n",
       "|1,0,0,0,0,0,0,0>           0.076227           0.027334           0.178656   \n",
       "|0,1,0,0,0,0,0,0>           0.126601           0.068287           0.110716   \n",
       "|0,0,1,0,0,0,0,0>           0.010603           0.492763           0.022015   \n",
       "|0,0,0,1,0,0,0,0>           0.066889           0.010553           0.262829   \n",
       "|0,0,0,0,1,0,0,0>           0.026313           0.086093           0.011575   \n",
       "|0,0,0,0,0,1,0,0>           0.255044           0.096606           0.220393   \n",
       "|0,0,0,0,0,0,1,0>           0.400225           0.155965           0.043470   \n",
       "|0,0,0,0,0,0,0,1>           0.038096           0.062399           0.150345   \n",
       "\n",
       "                   |0,0,0,0,0,0,1,0>  |0,0,0,0,0,0,0,1>  \n",
       "|1,0,0,0,0,0,0,0>           0.218299           0.267756  \n",
       "|0,1,0,0,0,0,0,0>           0.112783           0.021042  \n",
       "|0,0,1,0,0,0,0,0>           0.026387           0.045631  \n",
       "|0,0,0,1,0,0,0,0>           0.079654           0.300064  \n",
       "|0,0,0,0,1,0,0,0>           0.092602           0.008467  \n",
       "|0,0,0,0,0,1,0,0>           0.056893           0.084218  \n",
       "|0,0,0,0,0,0,1,0>           0.031889           0.060781  \n",
       "|0,0,0,0,0,0,0,1>           0.381492           0.212041  "
      ]
     },
     "execution_count": 7,
     "metadata": {},
     "output_type": "execute_result"
    }
   ],
   "source": [
    "results.display_as_dataframe(conv_to_probability = True)"
   ]
  },
  {
   "attachments": {},
   "cell_type": "markdown",
   "metadata": {},
   "source": [
    "## Sampler\n",
    "- The other way to use the emulator is as a sampler.\n",
    "- This is achieved using the Sampler class, to which we provide the generated circuit and single input state that we want to look at. In this case we input a single photon on mode 0."
   ]
  },
  {
   "cell_type": "code",
   "execution_count": 8,
   "metadata": {},
   "outputs": [],
   "source": [
    "sampler = emulator.Sampler(circuit, State([1]+[0]*(N-1)))"
   ]
  },
  {
   "attachments": {},
   "cell_type": "markdown",
   "metadata": {},
   "source": [
    "- Once the sampler has been set up, we can then sample from it many times.\n",
    "- The probability distribution was pre-calculated in the last step, so the sampling procedure takes place very quickly.\n",
    "- We get the output state from the sample, and convert this into a mode number which is stored."
   ]
  },
  {
   "cell_type": "code",
   "execution_count": 9,
   "metadata": {},
   "outputs": [],
   "source": [
    "N_rep = 100 # Set number of samples\n",
    "results = []\n",
    "\n",
    "for i in range(N_rep):\n",
    "    state = sampler.sample()\n",
    "    # Get state from sampler and find which more the photon is on\n",
    "    loc = state.s.index(1)\n",
    "    results.append(loc)\n",
    "\n",
    "# Count number of times we measure a photon on each mode\n",
    "counted = Counter(results)"
   ]
  },
  {
   "attachments": {},
   "cell_type": "markdown",
   "metadata": {},
   "source": [
    "- The counts can then be converted into probabilities and compared to the expected values from the unitary.\n",
    "- As we only choose to look at 100 samples here, the measured and expected distributions tend to vary as not enough samples have been taken to see convergence."
   ]
  },
  {
   "cell_type": "code",
   "execution_count": 10,
   "metadata": {},
   "outputs": [
    {
     "data": {
      "image/png": "[encoded data removed]",
      "text/plain": [
       "<Figure size 700x600 with 1 Axes>"
      ]
     },
     "metadata": {},
     "output_type": "display_data"
    }
   ],
   "source": [
    "x = range(N)\n",
    "\n",
    "# Convert counts to a list and normalise to total count numbers\n",
    "p_calc = []\n",
    "for i in x:\n",
    "    p_calc.append(counted[i]/sum(counted.values()))\n",
    "\n",
    "# Find expected distribution\n",
    "p_exp = abs(U.T[0,:])**2\n",
    "\n",
    "plt.figure(figsize = (7,6))\n",
    "plt.bar(x, p_calc, label = \"Measured\", alpha = 1)\n",
    "plt.bar(x, p_exp, label = \"Expected\", edgecolor = \"Black\", fill = False,\n",
    "        linestyle = \"dashed\", linewidth = 1.5)\n",
    "plt.xlabel(\"Output mode\")\n",
    "plt.ylabel(\"Counts\")\n",
    "plt.legend()\n",
    "plt.show()"
   ]
  }
 ],
 "metadata": {
  "kernelspec": {
   "display_name": "Python 3",
   "language": "python",
   "name": "python3"
  },
  "language_info": {
   "codemirror_mode": {
    "name": "ipython",
    "version": 3
   },
   "file_extension": ".py",
   "mimetype": "text/x-python",
   "name": "python",
   "nbconvert_exporter": "python",
   "pygments_lexer": "ipython3",
   "version": "3.11.6"
  },
  "orig_nbformat": 4
 },
 "nbformat": 4,
 "nbformat_minor": 2
}
