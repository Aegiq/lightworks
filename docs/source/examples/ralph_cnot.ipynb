{
 "cells": [
  {
   "attachments": {},
   "cell_type": "markdown",
   "metadata": {},
   "source": [
    "# Ralph CNOT\n",
    "- This notebook contains a recreation of the Ralph CNOT gate from https://arxiv.org/abs/quant-ph/0112088 and demonstrates the application of different simulation objects."
   ]
  },
  {
   "cell_type": "code",
   "execution_count": 26,
   "metadata": {},
   "outputs": [],
   "source": [
    "import lightworks as lw\n",
    "from lightworks import emulator, State\n",
    "\n",
    "import matplotlib.pyplot as plt\n",
    "import numpy as np\n",
    "from time import perf_counter"
   ]
  },
  {
   "attachments": {},
   "cell_type": "markdown",
   "metadata": {},
   "source": [
    "- Encode the gate below, with the following mode structure: [a0, c0, c1, t0, t1, a1], where a, c and t are the ancillary, control and target modes respectively.\n",
    "- This is a heralded gate, which requires measurements to ensure it works correctly. The input should contain 1 photon in either c0 or c1 and 1 photon in either t0 or t1. The output requires this same criteria and we should also measure 0 photons across modes a0 and a1."
   ]
  },
  {
   "cell_type": "code",
   "execution_count": 27,
   "metadata": {},
   "outputs": [],
   "source": [
    "r = 1/3\n",
    "loss = 0.35\n",
    "theta = np.arccos(r)\n",
    "p = np.pi\n",
    "\n",
    "cnot_circuit = lw.Circuit(6)\n",
    "to_add = [(3, p/2, 0), (0, theta, 0), (2, theta, p), (4, theta, 0), \n",
    "          (3, p/2, 0)]\n",
    "\n",
    "for m, t, p in to_add:\n",
    "    cnot_circuit.add_bs(m, loss = loss, reflectivity = 0.5)\n",
    "    cnot_circuit.add_ps(m+1, t)\n",
    "    cnot_circuit.add_bs(m, loss = loss, reflectivity = 0.5)\n",
    "    cnot_circuit.add_ps(m+1, p)\n",
    "    if m in [3,4,3]:\n",
    "        cnot_circuit.add_separation()"
   ]
  },
  {
   "cell_type": "code",
   "execution_count": 28,
   "metadata": {},
   "outputs": [
    {
     "data": {
      "image/svg+xml": [
       "<?xml version=\"1.0\" encoding=\"UTF-8\"?>\n",
       "<svg xmlns=\"http://www.w3.org/2000/svg\" xmlns:xlink=\"http://www.w3.org/1999/xlink\"\n",
       "     width=\"1056.0\" height=\"440.00000000000006\" viewBox=\"0 0 2100 875\">\n",
       "<defs>\n",
       "</defs>\n",
       "<rect x=\"100\" y=\"25\" width=\"1900\" height=\"825\" fill=\"none\" stroke=\"black\" />\n",
       "<rect x=\"92\" y=\"124.5\" width=\"8\" height=\"1\" fill=\"black\" />\n",
       "<rect x=\"92\" y=\"249.5\" width=\"8\" height=\"1\" fill=\"black\" />\n",
       "<rect x=\"92\" y=\"374.5\" width=\"8\" height=\"1\" fill=\"black\" />\n",
       "<rect x=\"92\" y=\"499.5\" width=\"8\" height=\"1\" fill=\"black\" />\n",
       "<rect x=\"92\" y=\"624.5\" width=\"8\" height=\"1\" fill=\"black\" />\n",
       "<rect x=\"92\" y=\"749.5\" width=\"8\" height=\"1\" fill=\"black\" />\n",
       "<text x=\"80\" y=\"127\" font-size=\"25\" fill=\"black\" text-anchor=\"end\" dominant-baseline=\"middle\" transform=\"rotate(0, 80, 127)\">a0</text>\n",
       "<text x=\"80\" y=\"252\" font-size=\"25\" fill=\"black\" text-anchor=\"end\" dominant-baseline=\"middle\" transform=\"rotate(0, 80, 252)\">c0</text>\n",
       "<text x=\"80\" y=\"377\" font-size=\"25\" fill=\"black\" text-anchor=\"end\" dominant-baseline=\"middle\" transform=\"rotate(0, 80, 377)\">c1</text>\n",
       "<text x=\"80\" y=\"502\" font-size=\"25\" fill=\"black\" text-anchor=\"end\" dominant-baseline=\"middle\" transform=\"rotate(0, 80, 502)\">t0</text>\n",
       "<text x=\"80\" y=\"627\" font-size=\"25\" fill=\"black\" text-anchor=\"end\" dominant-baseline=\"middle\" transform=\"rotate(0, 80, 627)\">t1</text>\n",
       "<text x=\"80\" y=\"752\" font-size=\"25\" fill=\"black\" text-anchor=\"end\" dominant-baseline=\"middle\" transform=\"rotate(0, 80, 752)\">a1</text>\n",
       "<rect x=\"149.95\" y=\"496.0\" width=\"50.1\" height=\"8\" fill=\"black\" />\n",
       "<rect x=\"149.95\" y=\"621.0\" width=\"50.1\" height=\"8\" fill=\"black\" />\n",
       "<rect x=\"200\" y=\"475.0\" width=\"50\" height=\"175\" fill=\"#3e368d\" stroke=\"black\" rx=\"5\" ry=\"5\" />\n",
       "<text x=\"225.0\" y=\"562.5\" font-size=\"25\" fill=\"white\" text-anchor=\"middle\" dominant-baseline=\"middle\" transform=\"rotate(0, 225.0, 562.5)\">BS</text>\n",
       "<text x=\"225.0\" y=\"675\" font-size=\"18\" fill=\"black\" text-anchor=\"middle\" dominant-baseline=\"middle\" transform=\"rotate(0, 225.0, 675)\">r = 0.5</text>\n",
       "<rect x=\"249.95\" y=\"496.0\" width=\"50.1\" height=\"8\" fill=\"black\" />\n",
       "<rect x=\"249.95\" y=\"621.0\" width=\"50.1\" height=\"8\" fill=\"black\" />\n",
       "<rect x=\"299.95\" y=\"621.0\" width=\"50.1\" height=\"8\" fill=\"black\" />\n",
       "<rect x=\"350\" y=\"600.0\" width=\"50\" height=\"50\" fill=\"#e8532b\" stroke=\"black\" rx=\"5\" ry=\"5\" />\n",
       "<text x=\"375.0\" y=\"627\" font-size=\"25\" fill=\"white\" text-anchor=\"middle\" dominant-baseline=\"middle\" transform=\"rotate(0, 375.0, 627)\">PS</text>\n",
       "<text x=\"375.0\" y=\"675\" font-size=\"18\" fill=\"black\" text-anchor=\"middle\" dominant-baseline=\"middle\" transform=\"rotate(0, 375.0, 675)\">φ = π/2</text>\n",
       "<rect x=\"399.95\" y=\"621.0\" width=\"50.1\" height=\"8\" fill=\"black\" />\n",
       "<rect x=\"299.95\" y=\"496.0\" width=\"150.1\" height=\"8\" fill=\"black\" />\n",
       "<rect x=\"449.95\" y=\"496.0\" width=\"50.1\" height=\"8\" fill=\"black\" />\n",
       "<rect x=\"449.95\" y=\"621.0\" width=\"50.1\" height=\"8\" fill=\"black\" />\n",
       "<rect x=\"500\" y=\"475.0\" width=\"50\" height=\"175\" fill=\"#3e368d\" stroke=\"black\" rx=\"5\" ry=\"5\" />\n",
       "<text x=\"525.0\" y=\"562.5\" font-size=\"25\" fill=\"white\" text-anchor=\"middle\" dominant-baseline=\"middle\" transform=\"rotate(0, 525.0, 562.5)\">BS</text>\n",
       "<text x=\"525.0\" y=\"675\" font-size=\"18\" fill=\"black\" text-anchor=\"middle\" dominant-baseline=\"middle\" transform=\"rotate(0, 525.0, 675)\">r = 0.5</text>\n",
       "<rect x=\"549.95\" y=\"496.0\" width=\"50.1\" height=\"8\" fill=\"black\" />\n",
       "<rect x=\"549.95\" y=\"621.0\" width=\"50.1\" height=\"8\" fill=\"black\" />\n",
       "<rect x=\"599.95\" y=\"621.0\" width=\"50.1\" height=\"8\" fill=\"black\" />\n",
       "<rect x=\"650\" y=\"600.0\" width=\"50\" height=\"50\" fill=\"#e8532b\" stroke=\"black\" rx=\"5\" ry=\"5\" />\n",
       "<text x=\"675.0\" y=\"627\" font-size=\"25\" fill=\"white\" text-anchor=\"middle\" dominant-baseline=\"middle\" transform=\"rotate(0, 675.0, 627)\">PS</text>\n",
       "<text x=\"675.0\" y=\"675\" font-size=\"18\" fill=\"black\" text-anchor=\"middle\" dominant-baseline=\"middle\" transform=\"rotate(0, 675.0, 675)\">φ = 0</text>\n",
       "<rect x=\"699.95\" y=\"621.0\" width=\"50.1\" height=\"8\" fill=\"black\" />\n",
       "<rect x=\"149.95\" y=\"121.0\" width=\"600.1\" height=\"8\" fill=\"black\" />\n",
       "<rect x=\"149.95\" y=\"246.0\" width=\"600.1\" height=\"8\" fill=\"black\" />\n",
       "<rect x=\"149.95\" y=\"371.0\" width=\"600.1\" height=\"8\" fill=\"black\" />\n",
       "<rect x=\"599.95\" y=\"496.0\" width=\"150.1\" height=\"8\" fill=\"black\" />\n",
       "<rect x=\"149.95\" y=\"746.0\" width=\"600.1\" height=\"8\" fill=\"black\" />\n",
       "<rect x=\"749.95\" y=\"121.0\" width=\"50.1\" height=\"8\" fill=\"black\" />\n",
       "<rect x=\"749.95\" y=\"246.0\" width=\"50.1\" height=\"8\" fill=\"black\" />\n",
       "<rect x=\"800\" y=\"100.0\" width=\"50\" height=\"175\" fill=\"#3e368d\" stroke=\"black\" rx=\"5\" ry=\"5\" />\n",
       "<text x=\"825.0\" y=\"187.5\" font-size=\"25\" fill=\"white\" text-anchor=\"middle\" dominant-baseline=\"middle\" transform=\"rotate(0, 825.0, 187.5)\">BS</text>\n",
       "<text x=\"825.0\" y=\"300\" font-size=\"18\" fill=\"black\" text-anchor=\"middle\" dominant-baseline=\"middle\" transform=\"rotate(0, 825.0, 300)\">r = 0.5</text>\n",
       "<rect x=\"849.95\" y=\"121.0\" width=\"50.1\" height=\"8\" fill=\"black\" />\n",
       "<rect x=\"849.95\" y=\"246.0\" width=\"50.1\" height=\"8\" fill=\"black\" />\n",
       "<rect x=\"899.95\" y=\"246.0\" width=\"50.1\" height=\"8\" fill=\"black\" />\n",
       "<rect x=\"950\" y=\"225.0\" width=\"50\" height=\"50\" fill=\"#e8532b\" stroke=\"black\" rx=\"5\" ry=\"5\" />\n",
       "<text x=\"975.0\" y=\"252\" font-size=\"25\" fill=\"white\" text-anchor=\"middle\" dominant-baseline=\"middle\" transform=\"rotate(0, 975.0, 252)\">PS</text>\n",
       "<text x=\"975.0\" y=\"300\" font-size=\"18\" fill=\"black\" text-anchor=\"middle\" dominant-baseline=\"middle\" transform=\"rotate(0, 975.0, 300)\">φ = 1.231</text>\n",
       "<rect x=\"999.95\" y=\"246.0\" width=\"50.1\" height=\"8\" fill=\"black\" />\n",
       "<rect x=\"899.95\" y=\"121.0\" width=\"150.1\" height=\"8\" fill=\"black\" />\n",
       "<rect x=\"1049.95\" y=\"121.0\" width=\"50.1\" height=\"8\" fill=\"black\" />\n",
       "<rect x=\"1049.95\" y=\"246.0\" width=\"50.1\" height=\"8\" fill=\"black\" />\n",
       "<rect x=\"1100\" y=\"100.0\" width=\"50\" height=\"175\" fill=\"#3e368d\" stroke=\"black\" rx=\"5\" ry=\"5\" />\n",
       "<text x=\"1125.0\" y=\"187.5\" font-size=\"25\" fill=\"white\" text-anchor=\"middle\" dominant-baseline=\"middle\" transform=\"rotate(0, 1125.0, 187.5)\">BS</text>\n",
       "<text x=\"1125.0\" y=\"300\" font-size=\"18\" fill=\"black\" text-anchor=\"middle\" dominant-baseline=\"middle\" transform=\"rotate(0, 1125.0, 300)\">r = 0.5</text>\n",
       "<rect x=\"1149.95\" y=\"121.0\" width=\"50.1\" height=\"8\" fill=\"black\" />\n",
       "<rect x=\"1149.95\" y=\"246.0\" width=\"50.1\" height=\"8\" fill=\"black\" />\n",
       "<rect x=\"1199.95\" y=\"246.0\" width=\"50.1\" height=\"8\" fill=\"black\" />\n",
       "<rect x=\"1250\" y=\"225.0\" width=\"50\" height=\"50\" fill=\"#e8532b\" stroke=\"black\" rx=\"5\" ry=\"5\" />\n",
       "<text x=\"1275.0\" y=\"252\" font-size=\"25\" fill=\"white\" text-anchor=\"middle\" dominant-baseline=\"middle\" transform=\"rotate(0, 1275.0, 252)\">PS</text>\n",
       "<text x=\"1275.0\" y=\"300\" font-size=\"18\" fill=\"black\" text-anchor=\"middle\" dominant-baseline=\"middle\" transform=\"rotate(0, 1275.0, 300)\">φ = 0</text>\n",
       "<rect x=\"1299.95\" y=\"246.0\" width=\"50.1\" height=\"8\" fill=\"black\" />\n",
       "<rect x=\"749.95\" y=\"371.0\" width=\"50.1\" height=\"8\" fill=\"black\" />\n",
       "<rect x=\"749.95\" y=\"496.0\" width=\"50.1\" height=\"8\" fill=\"black\" />\n",
       "<rect x=\"800\" y=\"350.0\" width=\"50\" height=\"175\" fill=\"#3e368d\" stroke=\"black\" rx=\"5\" ry=\"5\" />\n",
       "<text x=\"825.0\" y=\"437.5\" font-size=\"25\" fill=\"white\" text-anchor=\"middle\" dominant-baseline=\"middle\" transform=\"rotate(0, 825.0, 437.5)\">BS</text>\n",
       "<text x=\"825.0\" y=\"550\" font-size=\"18\" fill=\"black\" text-anchor=\"middle\" dominant-baseline=\"middle\" transform=\"rotate(0, 825.0, 550)\">r = 0.5</text>\n",
       "<rect x=\"849.95\" y=\"371.0\" width=\"50.1\" height=\"8\" fill=\"black\" />\n",
       "<rect x=\"849.95\" y=\"496.0\" width=\"50.1\" height=\"8\" fill=\"black\" />\n",
       "<rect x=\"899.95\" y=\"496.0\" width=\"50.1\" height=\"8\" fill=\"black\" />\n",
       "<rect x=\"950\" y=\"475.0\" width=\"50\" height=\"50\" fill=\"#e8532b\" stroke=\"black\" rx=\"5\" ry=\"5\" />\n",
       "<text x=\"975.0\" y=\"502\" font-size=\"25\" fill=\"white\" text-anchor=\"middle\" dominant-baseline=\"middle\" transform=\"rotate(0, 975.0, 502)\">PS</text>\n",
       "<text x=\"975.0\" y=\"550\" font-size=\"18\" fill=\"black\" text-anchor=\"middle\" dominant-baseline=\"middle\" transform=\"rotate(0, 975.0, 550)\">φ = 1.231</text>\n",
       "<rect x=\"999.95\" y=\"496.0\" width=\"50.1\" height=\"8\" fill=\"black\" />\n",
       "<rect x=\"899.95\" y=\"371.0\" width=\"150.1\" height=\"8\" fill=\"black\" />\n",
       "<rect x=\"1049.95\" y=\"371.0\" width=\"50.1\" height=\"8\" fill=\"black\" />\n",
       "<rect x=\"1049.95\" y=\"496.0\" width=\"50.1\" height=\"8\" fill=\"black\" />\n",
       "<rect x=\"1100\" y=\"350.0\" width=\"50\" height=\"175\" fill=\"#3e368d\" stroke=\"black\" rx=\"5\" ry=\"5\" />\n",
       "<text x=\"1125.0\" y=\"437.5\" font-size=\"25\" fill=\"white\" text-anchor=\"middle\" dominant-baseline=\"middle\" transform=\"rotate(0, 1125.0, 437.5)\">BS</text>\n",
       "<text x=\"1125.0\" y=\"550\" font-size=\"18\" fill=\"black\" text-anchor=\"middle\" dominant-baseline=\"middle\" transform=\"rotate(0, 1125.0, 550)\">r = 0.5</text>\n",
       "<rect x=\"1149.95\" y=\"371.0\" width=\"50.1\" height=\"8\" fill=\"black\" />\n",
       "<rect x=\"1149.95\" y=\"496.0\" width=\"50.1\" height=\"8\" fill=\"black\" />\n",
       "<rect x=\"1199.95\" y=\"496.0\" width=\"50.1\" height=\"8\" fill=\"black\" />\n",
       "<rect x=\"1250\" y=\"475.0\" width=\"50\" height=\"50\" fill=\"#e8532b\" stroke=\"black\" rx=\"5\" ry=\"5\" />\n",
       "<text x=\"1275.0\" y=\"502\" font-size=\"25\" fill=\"white\" text-anchor=\"middle\" dominant-baseline=\"middle\" transform=\"rotate(0, 1275.0, 502)\">PS</text>\n",
       "<text x=\"1275.0\" y=\"550\" font-size=\"18\" fill=\"black\" text-anchor=\"middle\" dominant-baseline=\"middle\" transform=\"rotate(0, 1275.0, 550)\">φ = π</text>\n",
       "<rect x=\"1299.95\" y=\"496.0\" width=\"50.1\" height=\"8\" fill=\"black\" />\n",
       "<rect x=\"749.95\" y=\"621.0\" width=\"50.1\" height=\"8\" fill=\"black\" />\n",
       "<rect x=\"749.95\" y=\"746.0\" width=\"50.1\" height=\"8\" fill=\"black\" />\n",
       "<rect x=\"800\" y=\"600.0\" width=\"50\" height=\"175\" fill=\"#3e368d\" stroke=\"black\" rx=\"5\" ry=\"5\" />\n",
       "<text x=\"825.0\" y=\"687.5\" font-size=\"25\" fill=\"white\" text-anchor=\"middle\" dominant-baseline=\"middle\" transform=\"rotate(0, 825.0, 687.5)\">BS</text>\n",
       "<text x=\"825.0\" y=\"800\" font-size=\"18\" fill=\"black\" text-anchor=\"middle\" dominant-baseline=\"middle\" transform=\"rotate(0, 825.0, 800)\">r = 0.5</text>\n",
       "<rect x=\"849.95\" y=\"621.0\" width=\"50.1\" height=\"8\" fill=\"black\" />\n",
       "<rect x=\"849.95\" y=\"746.0\" width=\"50.1\" height=\"8\" fill=\"black\" />\n",
       "<rect x=\"899.95\" y=\"746.0\" width=\"50.1\" height=\"8\" fill=\"black\" />\n",
       "<rect x=\"950\" y=\"725.0\" width=\"50\" height=\"50\" fill=\"#e8532b\" stroke=\"black\" rx=\"5\" ry=\"5\" />\n",
       "<text x=\"975.0\" y=\"752\" font-size=\"25\" fill=\"white\" text-anchor=\"middle\" dominant-baseline=\"middle\" transform=\"rotate(0, 975.0, 752)\">PS</text>\n",
       "<text x=\"975.0\" y=\"800\" font-size=\"18\" fill=\"black\" text-anchor=\"middle\" dominant-baseline=\"middle\" transform=\"rotate(0, 975.0, 800)\">φ = 1.231</text>\n",
       "<rect x=\"999.95\" y=\"746.0\" width=\"50.1\" height=\"8\" fill=\"black\" />\n",
       "<rect x=\"899.95\" y=\"621.0\" width=\"150.1\" height=\"8\" fill=\"black\" />\n",
       "<rect x=\"1049.95\" y=\"621.0\" width=\"50.1\" height=\"8\" fill=\"black\" />\n",
       "<rect x=\"1049.95\" y=\"746.0\" width=\"50.1\" height=\"8\" fill=\"black\" />\n",
       "<rect x=\"1100\" y=\"600.0\" width=\"50\" height=\"175\" fill=\"#3e368d\" stroke=\"black\" rx=\"5\" ry=\"5\" />\n",
       "<text x=\"1125.0\" y=\"687.5\" font-size=\"25\" fill=\"white\" text-anchor=\"middle\" dominant-baseline=\"middle\" transform=\"rotate(0, 1125.0, 687.5)\">BS</text>\n",
       "<text x=\"1125.0\" y=\"800\" font-size=\"18\" fill=\"black\" text-anchor=\"middle\" dominant-baseline=\"middle\" transform=\"rotate(0, 1125.0, 800)\">r = 0.5</text>\n",
       "<rect x=\"1149.95\" y=\"621.0\" width=\"50.1\" height=\"8\" fill=\"black\" />\n",
       "<rect x=\"1149.95\" y=\"746.0\" width=\"50.1\" height=\"8\" fill=\"black\" />\n",
       "<rect x=\"1199.95\" y=\"746.0\" width=\"50.1\" height=\"8\" fill=\"black\" />\n",
       "<rect x=\"1250\" y=\"725.0\" width=\"50\" height=\"50\" fill=\"#e8532b\" stroke=\"black\" rx=\"5\" ry=\"5\" />\n",
       "<text x=\"1275.0\" y=\"752\" font-size=\"25\" fill=\"white\" text-anchor=\"middle\" dominant-baseline=\"middle\" transform=\"rotate(0, 1275.0, 752)\">PS</text>\n",
       "<text x=\"1275.0\" y=\"800\" font-size=\"18\" fill=\"black\" text-anchor=\"middle\" dominant-baseline=\"middle\" transform=\"rotate(0, 1275.0, 800)\">φ = 0</text>\n",
       "<rect x=\"1299.95\" y=\"746.0\" width=\"50.1\" height=\"8\" fill=\"black\" />\n",
       "<rect x=\"1199.95\" y=\"121.0\" width=\"150.1\" height=\"8\" fill=\"black\" />\n",
       "<rect x=\"1199.95\" y=\"371.0\" width=\"150.1\" height=\"8\" fill=\"black\" />\n",
       "<rect x=\"1199.95\" y=\"621.0\" width=\"150.1\" height=\"8\" fill=\"black\" />\n",
       "<rect x=\"1349.95\" y=\"496.0\" width=\"50.1\" height=\"8\" fill=\"black\" />\n",
       "<rect x=\"1349.95\" y=\"621.0\" width=\"50.1\" height=\"8\" fill=\"black\" />\n",
       "<rect x=\"1400\" y=\"475.0\" width=\"50\" height=\"175\" fill=\"#3e368d\" stroke=\"black\" rx=\"5\" ry=\"5\" />\n",
       "<text x=\"1425.0\" y=\"562.5\" font-size=\"25\" fill=\"white\" text-anchor=\"middle\" dominant-baseline=\"middle\" transform=\"rotate(0, 1425.0, 562.5)\">BS</text>\n",
       "<text x=\"1425.0\" y=\"675\" font-size=\"18\" fill=\"black\" text-anchor=\"middle\" dominant-baseline=\"middle\" transform=\"rotate(0, 1425.0, 675)\">r = 0.5</text>\n",
       "<rect x=\"1449.95\" y=\"496.0\" width=\"50.1\" height=\"8\" fill=\"black\" />\n",
       "<rect x=\"1449.95\" y=\"621.0\" width=\"50.1\" height=\"8\" fill=\"black\" />\n",
       "<rect x=\"1499.95\" y=\"621.0\" width=\"50.1\" height=\"8\" fill=\"black\" />\n",
       "<rect x=\"1550\" y=\"600.0\" width=\"50\" height=\"50\" fill=\"#e8532b\" stroke=\"black\" rx=\"5\" ry=\"5\" />\n",
       "<text x=\"1575.0\" y=\"627\" font-size=\"25\" fill=\"white\" text-anchor=\"middle\" dominant-baseline=\"middle\" transform=\"rotate(0, 1575.0, 627)\">PS</text>\n",
       "<text x=\"1575.0\" y=\"675\" font-size=\"18\" fill=\"black\" text-anchor=\"middle\" dominant-baseline=\"middle\" transform=\"rotate(0, 1575.0, 675)\">φ = π/2</text>\n",
       "<rect x=\"1599.95\" y=\"621.0\" width=\"50.1\" height=\"8\" fill=\"black\" />\n",
       "<rect x=\"1499.95\" y=\"496.0\" width=\"150.1\" height=\"8\" fill=\"black\" />\n",
       "<rect x=\"1649.95\" y=\"496.0\" width=\"50.1\" height=\"8\" fill=\"black\" />\n",
       "<rect x=\"1649.95\" y=\"621.0\" width=\"50.1\" height=\"8\" fill=\"black\" />\n",
       "<rect x=\"1700\" y=\"475.0\" width=\"50\" height=\"175\" fill=\"#3e368d\" stroke=\"black\" rx=\"5\" ry=\"5\" />\n",
       "<text x=\"1725.0\" y=\"562.5\" font-size=\"25\" fill=\"white\" text-anchor=\"middle\" dominant-baseline=\"middle\" transform=\"rotate(0, 1725.0, 562.5)\">BS</text>\n",
       "<text x=\"1725.0\" y=\"675\" font-size=\"18\" fill=\"black\" text-anchor=\"middle\" dominant-baseline=\"middle\" transform=\"rotate(0, 1725.0, 675)\">r = 0.5</text>\n",
       "<rect x=\"1749.95\" y=\"496.0\" width=\"50.1\" height=\"8\" fill=\"black\" />\n",
       "<rect x=\"1749.95\" y=\"621.0\" width=\"50.1\" height=\"8\" fill=\"black\" />\n",
       "<rect x=\"1799.95\" y=\"621.0\" width=\"50.1\" height=\"8\" fill=\"black\" />\n",
       "<rect x=\"1850\" y=\"600.0\" width=\"50\" height=\"50\" fill=\"#e8532b\" stroke=\"black\" rx=\"5\" ry=\"5\" />\n",
       "<text x=\"1875.0\" y=\"627\" font-size=\"25\" fill=\"white\" text-anchor=\"middle\" dominant-baseline=\"middle\" transform=\"rotate(0, 1875.0, 627)\">PS</text>\n",
       "<text x=\"1875.0\" y=\"675\" font-size=\"18\" fill=\"black\" text-anchor=\"middle\" dominant-baseline=\"middle\" transform=\"rotate(0, 1875.0, 675)\">φ = 0</text>\n",
       "<rect x=\"1899.95\" y=\"621.0\" width=\"50.1\" height=\"8\" fill=\"black\" />\n",
       "<rect x=\"1349.95\" y=\"121.0\" width=\"600.1\" height=\"8\" fill=\"black\" />\n",
       "<rect x=\"1349.95\" y=\"246.0\" width=\"600.1\" height=\"8\" fill=\"black\" />\n",
       "<rect x=\"1349.95\" y=\"371.0\" width=\"600.1\" height=\"8\" fill=\"black\" />\n",
       "<rect x=\"1799.95\" y=\"496.0\" width=\"150.1\" height=\"8\" fill=\"black\" />\n",
       "<rect x=\"1349.95\" y=\"746.0\" width=\"600.1\" height=\"8\" fill=\"black\" />\n",
       "</svg>"
      ],
      "text/plain": [
       "<drawsvg.drawing.Drawing at 0x252d4d1b010>"
      ]
     },
     "metadata": {},
     "output_type": "display_data"
    }
   ],
   "source": [
    "cnot_circuit.display(mode_labels = [\"a0\", \"c0\", \"c1\", \"t0\", \"t1\", \"a1\"])"
   ]
  },
  {
   "cell_type": "markdown",
   "metadata": {},
   "source": [
    "## Simulator\n",
    "- First use simulator to directly calculate the probability amplitudes.\n",
    "- Can simulate all possible inputs without specifying outputs to get all state combinations."
   ]
  },
  {
   "cell_type": "code",
   "execution_count": 29,
   "metadata": {},
   "outputs": [],
   "source": [
    "states = [State([0, 1, 0, 1, 0, 0]), State([0, 1, 0, 0, 1, 0]),\n",
    "          State([0, 0, 1, 1, 0, 0]), State([0, 0, 1, 0, 1, 0])]\n",
    "\n",
    "sim = emulator.Simulator(cnot_circuit)\n",
    "\n",
    "results = sim.simulate(states)"
   ]
  },
  {
   "cell_type": "markdown",
   "metadata": {},
   "source": [
    "- It can be seen that the result is a superposition of many different outputs, the majority of which are not valid according to the usual post-selection rules which would be applied."
   ]
  },
  {
   "cell_type": "code",
   "execution_count": 30,
   "metadata": {},
   "outputs": [
    {
     "data": {
      "text/html": [
       "<div>\n",
       "<style scoped>\n",
       "    .dataframe tbody tr th:only-of-type {\n",
       "        vertical-align: middle;\n",
       "    }\n",
       "\n",
       "    .dataframe tbody tr th {\n",
       "        vertical-align: top;\n",
       "    }\n",
       "\n",
       "    .dataframe thead th {\n",
       "        text-align: right;\n",
       "    }\n",
       "</style>\n",
       "<table border=\"1\" class=\"dataframe\">\n",
       "  <thead>\n",
       "    <tr style=\"text-align: right;\">\n",
       "      <th></th>\n",
       "      <th>|2,0,0,0,0,0&gt;</th>\n",
       "      <th>|1,1,0,0,0,0&gt;</th>\n",
       "      <th>|0,2,0,0,0,0&gt;</th>\n",
       "      <th>|1,0,1,0,0,0&gt;</th>\n",
       "      <th>|0,1,1,0,0,0&gt;</th>\n",
       "      <th>|0,0,2,0,0,0&gt;</th>\n",
       "      <th>|1,0,0,1,0,0&gt;</th>\n",
       "      <th>|0,1,0,1,0,0&gt;</th>\n",
       "      <th>|0,0,1,1,0,0&gt;</th>\n",
       "      <th>|0,0,0,2,0,0&gt;</th>\n",
       "      <th>...</th>\n",
       "      <th>|0,1,0,0,1,0&gt;</th>\n",
       "      <th>|0,0,1,0,1,0&gt;</th>\n",
       "      <th>|0,0,0,1,1,0&gt;</th>\n",
       "      <th>|0,0,0,0,2,0&gt;</th>\n",
       "      <th>|1,0,0,0,0,1&gt;</th>\n",
       "      <th>|0,1,0,0,0,1&gt;</th>\n",
       "      <th>|0,0,1,0,0,1&gt;</th>\n",
       "      <th>|0,0,0,1,0,1&gt;</th>\n",
       "      <th>|0,0,0,0,1,1&gt;</th>\n",
       "      <th>|0,0,0,0,0,2&gt;</th>\n",
       "    </tr>\n",
       "  </thead>\n",
       "  <tbody>\n",
       "    <tr>\n",
       "      <th>|0,1,0,1,0,0&gt;</th>\n",
       "      <td>0.0+0.0j</td>\n",
       "      <td>0.0+0.0j</td>\n",
       "      <td>0.0+0.0j</td>\n",
       "      <td>-0.334024-0.159527j</td>\n",
       "      <td>-0.236191-0.112803j</td>\n",
       "      <td>0.000000+0.000000j</td>\n",
       "      <td>0.321972-0.113834j</td>\n",
       "      <td>0.227668-0.080493j</td>\n",
       "      <td>0.000000+0.000000j</td>\n",
       "      <td>0.000000+0.000000j</td>\n",
       "      <td>...</td>\n",
       "      <td>0.000000+0.000000j</td>\n",
       "      <td>0.000000+0.000000j</td>\n",
       "      <td>0.000000+0.000000j</td>\n",
       "      <td>0.000000+0.000000j</td>\n",
       "      <td>0.334024+0.159527j</td>\n",
       "      <td>0.236191+0.112803j</td>\n",
       "      <td>0.000000+0.000000j</td>\n",
       "      <td>0.000000+0.000000j</td>\n",
       "      <td>0.000000+0.000000j</td>\n",
       "      <td>0.0+0.0j</td>\n",
       "    </tr>\n",
       "    <tr>\n",
       "      <th>|0,1,0,0,1,0&gt;</th>\n",
       "      <td>0.0+0.0j</td>\n",
       "      <td>0.0+0.0j</td>\n",
       "      <td>0.0+0.0j</td>\n",
       "      <td>0.334024+0.159527j</td>\n",
       "      <td>0.236191+0.112803j</td>\n",
       "      <td>0.000000+0.000000j</td>\n",
       "      <td>0.000000+0.000000j</td>\n",
       "      <td>0.000000+0.000000j</td>\n",
       "      <td>0.000000+0.000000j</td>\n",
       "      <td>0.000000+0.000000j</td>\n",
       "      <td>...</td>\n",
       "      <td>0.227668-0.080493j</td>\n",
       "      <td>0.000000+0.000000j</td>\n",
       "      <td>0.000000+0.000000j</td>\n",
       "      <td>0.000000+0.000000j</td>\n",
       "      <td>0.334024+0.159527j</td>\n",
       "      <td>0.236191+0.112803j</td>\n",
       "      <td>0.000000+0.000000j</td>\n",
       "      <td>0.000000+0.000000j</td>\n",
       "      <td>0.000000+0.000000j</td>\n",
       "      <td>0.0+0.0j</td>\n",
       "    </tr>\n",
       "    <tr>\n",
       "      <th>|0,0,1,1,0,0&gt;</th>\n",
       "      <td>0.0+0.0j</td>\n",
       "      <td>0.0+0.0j</td>\n",
       "      <td>0.0+0.0j</td>\n",
       "      <td>0.000000+0.000000j</td>\n",
       "      <td>0.000000+0.000000j</td>\n",
       "      <td>0.334024+0.159527j</td>\n",
       "      <td>0.000000+0.000000j</td>\n",
       "      <td>0.000000+0.000000j</td>\n",
       "      <td>0.000000+0.000000j</td>\n",
       "      <td>-0.135780+0.284301j</td>\n",
       "      <td>...</td>\n",
       "      <td>0.000000+0.000000j</td>\n",
       "      <td>-0.227668+0.080493j</td>\n",
       "      <td>0.096011-0.201031j</td>\n",
       "      <td>0.000000+0.000000j</td>\n",
       "      <td>0.000000+0.000000j</td>\n",
       "      <td>0.000000+0.000000j</td>\n",
       "      <td>-0.236191-0.112803j</td>\n",
       "      <td>-0.227668+0.080493j</td>\n",
       "      <td>0.227668-0.080493j</td>\n",
       "      <td>0.0+0.0j</td>\n",
       "    </tr>\n",
       "    <tr>\n",
       "      <th>|0,0,1,0,1,0&gt;</th>\n",
       "      <td>0.0+0.0j</td>\n",
       "      <td>0.0+0.0j</td>\n",
       "      <td>0.0+0.0j</td>\n",
       "      <td>0.000000+0.000000j</td>\n",
       "      <td>0.000000+0.000000j</td>\n",
       "      <td>-0.334024-0.159527j</td>\n",
       "      <td>0.000000+0.000000j</td>\n",
       "      <td>0.000000+0.000000j</td>\n",
       "      <td>-0.227668+0.080493j</td>\n",
       "      <td>0.000000+0.000000j</td>\n",
       "      <td>...</td>\n",
       "      <td>0.000000+0.000000j</td>\n",
       "      <td>0.000000+0.000000j</td>\n",
       "      <td>-0.096011+0.201031j</td>\n",
       "      <td>0.135780-0.284301j</td>\n",
       "      <td>0.000000+0.000000j</td>\n",
       "      <td>0.000000+0.000000j</td>\n",
       "      <td>-0.236191-0.112803j</td>\n",
       "      <td>-0.227668+0.080493j</td>\n",
       "      <td>0.227668-0.080493j</td>\n",
       "      <td>0.0+0.0j</td>\n",
       "    </tr>\n",
       "  </tbody>\n",
       "</table>\n",
       "<p>4 rows × 21 columns</p>\n",
       "</div>"
      ],
      "text/plain": [
       "               |2,0,0,0,0,0>  |1,1,0,0,0,0>  |0,2,0,0,0,0>  \\\n",
       "|0,1,0,1,0,0>       0.0+0.0j       0.0+0.0j       0.0+0.0j   \n",
       "|0,1,0,0,1,0>       0.0+0.0j       0.0+0.0j       0.0+0.0j   \n",
       "|0,0,1,1,0,0>       0.0+0.0j       0.0+0.0j       0.0+0.0j   \n",
       "|0,0,1,0,1,0>       0.0+0.0j       0.0+0.0j       0.0+0.0j   \n",
       "\n",
       "                    |1,0,1,0,0,0>       |0,1,1,0,0,0>       |0,0,2,0,0,0>  \\\n",
       "|0,1,0,1,0,0> -0.334024-0.159527j -0.236191-0.112803j  0.000000+0.000000j   \n",
       "|0,1,0,0,1,0>  0.334024+0.159527j  0.236191+0.112803j  0.000000+0.000000j   \n",
       "|0,0,1,1,0,0>  0.000000+0.000000j  0.000000+0.000000j  0.334024+0.159527j   \n",
       "|0,0,1,0,1,0>  0.000000+0.000000j  0.000000+0.000000j -0.334024-0.159527j   \n",
       "\n",
       "                    |1,0,0,1,0,0>       |0,1,0,1,0,0>       |0,0,1,1,0,0>  \\\n",
       "|0,1,0,1,0,0>  0.321972-0.113834j  0.227668-0.080493j  0.000000+0.000000j   \n",
       "|0,1,0,0,1,0>  0.000000+0.000000j  0.000000+0.000000j  0.000000+0.000000j   \n",
       "|0,0,1,1,0,0>  0.000000+0.000000j  0.000000+0.000000j  0.000000+0.000000j   \n",
       "|0,0,1,0,1,0>  0.000000+0.000000j  0.000000+0.000000j -0.227668+0.080493j   \n",
       "\n",
       "                    |0,0,0,2,0,0>  ...       |0,1,0,0,1,0>  \\\n",
       "|0,1,0,1,0,0>  0.000000+0.000000j  ...  0.000000+0.000000j   \n",
       "|0,1,0,0,1,0>  0.000000+0.000000j  ...  0.227668-0.080493j   \n",
       "|0,0,1,1,0,0> -0.135780+0.284301j  ...  0.000000+0.000000j   \n",
       "|0,0,1,0,1,0>  0.000000+0.000000j  ...  0.000000+0.000000j   \n",
       "\n",
       "                    |0,0,1,0,1,0>       |0,0,0,1,1,0>       |0,0,0,0,2,0>  \\\n",
       "|0,1,0,1,0,0>  0.000000+0.000000j  0.000000+0.000000j  0.000000+0.000000j   \n",
       "|0,1,0,0,1,0>  0.000000+0.000000j  0.000000+0.000000j  0.000000+0.000000j   \n",
       "|0,0,1,1,0,0> -0.227668+0.080493j  0.096011-0.201031j  0.000000+0.000000j   \n",
       "|0,0,1,0,1,0>  0.000000+0.000000j -0.096011+0.201031j  0.135780-0.284301j   \n",
       "\n",
       "                    |1,0,0,0,0,1>       |0,1,0,0,0,1>       |0,0,1,0,0,1>  \\\n",
       "|0,1,0,1,0,0>  0.334024+0.159527j  0.236191+0.112803j  0.000000+0.000000j   \n",
       "|0,1,0,0,1,0>  0.334024+0.159527j  0.236191+0.112803j  0.000000+0.000000j   \n",
       "|0,0,1,1,0,0>  0.000000+0.000000j  0.000000+0.000000j -0.236191-0.112803j   \n",
       "|0,0,1,0,1,0>  0.000000+0.000000j  0.000000+0.000000j -0.236191-0.112803j   \n",
       "\n",
       "                    |0,0,0,1,0,1>       |0,0,0,0,1,1>  |0,0,0,0,0,2>  \n",
       "|0,1,0,1,0,0>  0.000000+0.000000j  0.000000+0.000000j       0.0+0.0j  \n",
       "|0,1,0,0,1,0>  0.000000+0.000000j  0.000000+0.000000j       0.0+0.0j  \n",
       "|0,0,1,1,0,0> -0.227668+0.080493j  0.227668-0.080493j       0.0+0.0j  \n",
       "|0,0,1,0,1,0> -0.227668+0.080493j  0.227668-0.080493j       0.0+0.0j  \n",
       "\n",
       "[4 rows x 21 columns]"
      ]
     },
     "execution_count": 30,
     "metadata": {},
     "output_type": "execute_result"
    }
   ],
   "source": [
    "results.display_as_dataframe()"
   ]
  },
  {
   "cell_type": "markdown",
   "metadata": {},
   "source": [
    "- Alternatively we can specify the outputs which we know to be valid."
   ]
  },
  {
   "cell_type": "code",
   "execution_count": 31,
   "metadata": {},
   "outputs": [],
   "source": [
    "results = sim.simulate(states, states)"
   ]
  },
  {
   "cell_type": "markdown",
   "metadata": {},
   "source": [
    "- We then get the expected transitions between two qubit states."
   ]
  },
  {
   "cell_type": "code",
   "execution_count": 32,
   "metadata": {},
   "outputs": [
    {
     "data": {
      "text/html": [
       "<div>\n",
       "<style scoped>\n",
       "    .dataframe tbody tr th:only-of-type {\n",
       "        vertical-align: middle;\n",
       "    }\n",
       "\n",
       "    .dataframe tbody tr th {\n",
       "        vertical-align: top;\n",
       "    }\n",
       "\n",
       "    .dataframe thead th {\n",
       "        text-align: right;\n",
       "    }\n",
       "</style>\n",
       "<table border=\"1\" class=\"dataframe\">\n",
       "  <thead>\n",
       "    <tr style=\"text-align: right;\">\n",
       "      <th></th>\n",
       "      <th>|0,1,0,1,0,0&gt;</th>\n",
       "      <th>|0,1,0,0,1,0&gt;</th>\n",
       "      <th>|0,0,1,1,0,0&gt;</th>\n",
       "      <th>|0,0,1,0,1,0&gt;</th>\n",
       "    </tr>\n",
       "  </thead>\n",
       "  <tbody>\n",
       "    <tr>\n",
       "      <th>|0,1,0,1,0,0&gt;</th>\n",
       "      <td>0.058312</td>\n",
       "      <td>0.000000</td>\n",
       "      <td>0.000000</td>\n",
       "      <td>0.000000</td>\n",
       "    </tr>\n",
       "    <tr>\n",
       "      <th>|0,1,0,0,1,0&gt;</th>\n",
       "      <td>0.000000</td>\n",
       "      <td>0.058312</td>\n",
       "      <td>0.000000</td>\n",
       "      <td>0.000000</td>\n",
       "    </tr>\n",
       "    <tr>\n",
       "      <th>|0,0,1,1,0,0&gt;</th>\n",
       "      <td>0.000000</td>\n",
       "      <td>0.000000</td>\n",
       "      <td>0.000000</td>\n",
       "      <td>0.058312</td>\n",
       "    </tr>\n",
       "    <tr>\n",
       "      <th>|0,0,1,0,1,0&gt;</th>\n",
       "      <td>0.000000</td>\n",
       "      <td>0.000000</td>\n",
       "      <td>0.058312</td>\n",
       "      <td>0.000000</td>\n",
       "    </tr>\n",
       "  </tbody>\n",
       "</table>\n",
       "</div>"
      ],
      "text/plain": [
       "               |0,1,0,1,0,0>  |0,1,0,0,1,0>  |0,0,1,1,0,0>  |0,0,1,0,1,0>\n",
       "|0,1,0,1,0,0>       0.058312       0.000000       0.000000       0.000000\n",
       "|0,1,0,0,1,0>       0.000000       0.058312       0.000000       0.000000\n",
       "|0,0,1,1,0,0>       0.000000       0.000000       0.000000       0.058312\n",
       "|0,0,1,0,1,0>       0.000000       0.000000       0.058312       0.000000"
      ]
     },
     "execution_count": 32,
     "metadata": {},
     "output_type": "execute_result"
    }
   ],
   "source": [
    "results.display_as_dataframe(conv_to_probability = True)"
   ]
  },
  {
   "cell_type": "markdown",
   "metadata": {},
   "source": [
    "## Sampler\n",
    "- Use the sampler to sample from all possible outputs for one of the possible input states."
   ]
  },
  {
   "cell_type": "code",
   "execution_count": 33,
   "metadata": {},
   "outputs": [],
   "source": [
    "sampler = emulator.Sampler(cnot_circuit, State([0,0,1,1,0,0]))\n",
    "\n",
    "results = sampler.sample_N_inputs(10000)"
   ]
  },
  {
   "cell_type": "markdown",
   "metadata": {},
   "source": [
    "- The output distribution can then be plot to view the number of times each state is measured."
   ]
  },
  {
   "cell_type": "code",
   "execution_count": 34,
   "metadata": {},
   "outputs": [
    {
     "data": {
      "image/png": "[encoded data removed]",
      "text/plain": [
       "<Figure size 700x600 with 1 Axes>"
      ]
     },
     "metadata": {},
     "output_type": "display_data"
    }
   ],
   "source": [
    "fig, ax = results.plot()"
   ]
  },
  {
   "cell_type": "markdown",
   "metadata": {},
   "source": [
    "- Can then also apply an imperfect source and detectors."
   ]
  },
  {
   "cell_type": "code",
   "execution_count": 35,
   "metadata": {},
   "outputs": [],
   "source": [
    "source = emulator.Source(purity = 0.98, brightness = 0.5, \n",
    "                         indistinguishability = 0.94)\n",
    "detector = emulator.Detector(efficiency = 0.9, p_dark = 1e-5,\n",
    "                             photon_counting = False)\n",
    "\n",
    "sampler = emulator.Sampler(cnot_circuit, State([0,0,1,1,0,0]), \n",
    "                           source = source, detector = detector)\n",
    "\n",
    "results = sampler.sample_N_inputs(10000)"
   ]
  },
  {
   "cell_type": "markdown",
   "metadata": {},
   "source": [
    "- This introduces a significant number of additional possible states."
   ]
  },
  {
   "cell_type": "code",
   "execution_count": 36,
   "metadata": {},
   "outputs": [
    {
     "data": {
      "image/png": "[encoded data removed]",
      "text/plain": [
       "<Figure size 700x600 with 1 Axes>"
      ]
     },
     "metadata": {},
     "output_type": "display_data"
    }
   ],
   "source": [
    "fig, ax = results.plot()"
   ]
  },
  {
   "cell_type": "markdown",
   "metadata": {},
   "source": [
    "- However we can clean this up by heralding/post-selection on the number of photons across the modes.\n",
    "- We don't need to re-create the sampler object and find the probability distribution for this, and instead just pass the heralding function to the sample_N_inputs function."
   ]
  },
  {
   "cell_type": "code",
   "execution_count": 37,
   "metadata": {},
   "outputs": [],
   "source": [
    "herald = lambda s: (s[0] == 0 and s[5] == 0 and s[1] + s[2] == 1 and \n",
    "                    s[3] + s[4] == 1)\n",
    "\n",
    "results = sampler.sample_N_inputs(10000, herald = herald)"
   ]
  },
  {
   "cell_type": "markdown",
   "metadata": {},
   "source": [
    "- We can see that this significantly cleans up the output states measured and with the exception of a few erroneous states we see the expected output of |0,0,1,0,1,0>"
   ]
  },
  {
   "cell_type": "code",
   "execution_count": 38,
   "metadata": {},
   "outputs": [
    {
     "data": {
      "image/png": "[encoded data removed]",
      "text/plain": [
       "<Figure size 700x600 with 1 Axes>"
      ]
     },
     "metadata": {},
     "output_type": "display_data"
    }
   ],
   "source": [
    "fig, ax = results.plot()"
   ]
  },
  {
   "cell_type": "markdown",
   "metadata": {},
   "source": [
    "## QuickSampler\n",
    "- The QuickSampler enables faster sampling from a state in situations where we know photon number should be preserved and do not require imperfect sources or detectors.\n",
    "- This can be significantly quicker in the cases of larger photon number.\n",
    "- Below it can be seen that the correct output is produced and the QuickSampler is able to performing the calculation significantly faster."
   ]
  },
  {
   "cell_type": "code",
   "execution_count": 39,
   "metadata": {},
   "outputs": [
    {
     "name": "stdout",
     "output_type": "stream",
     "text": [
      "QuickSampler output {State(|0,0,1,1,0,0>): 10000}\n",
      "QuickSampler time: 0.01598210001247935 seconds\n",
      "Sampler time: 0.021337500016670674 seconds\n"
     ]
    }
   ],
   "source": [
    "herald = lambda s: (s[0] == 0 and s[5] == 0 and s[1] + s[2] == 1 and \n",
    "                    s[3] + s[4] == 1)\n",
    "\n",
    "t0 = perf_counter()\n",
    "# QuickSampler code\n",
    "sampler = emulator.QuickSampler(cnot_circuit, State([0,0,1,0,1,0]), \n",
    "                                photon_counting = False, herald = herald)\n",
    "results = sampler.sample_N_outputs(10000)\n",
    "\n",
    "t1 = perf_counter()\n",
    "\n",
    "print(\"QuickSampler output\", results)\n",
    "\n",
    "t2 = perf_counter()\n",
    "# Equivalent code when using normal sampler\n",
    "detector = emulator.Detector(photon_counting = False)\n",
    "sampler = emulator.Sampler(cnot_circuit, State([0,0,1,1,0,0]),\n",
    "                           detector = detector)\n",
    "results = sampler.sample_N_outputs(10000, herald = herald, min_detection = 2)\n",
    "t3 = perf_counter()\n",
    "\n",
    "print(f\"QuickSampler time: {t1-t0} seconds\")\n",
    "print(f\"Sampler time: {t3-t2} seconds\")"
   ]
  },
  {
   "attachments": {},
   "cell_type": "markdown",
   "metadata": {},
   "source": [
    "## Analyzer\n",
    "- The Analyzer will determine all possible outputs under a given set of conditions (such as post-selection and heralding) and return the probability of each.\n",
    "- First create the analyzer object."
   ]
  },
  {
   "cell_type": "code",
   "execution_count": 40,
   "metadata": {},
   "outputs": [],
   "source": [
    "analyzer = emulator.Analyzer(cnot_circuit)"
   ]
  },
  {
   "cell_type": "markdown",
   "metadata": {},
   "source": [
    "- Then add two heralded modes with zero photons on mode 0 and 5."
   ]
  },
  {
   "cell_type": "code",
   "execution_count": 41,
   "metadata": {},
   "outputs": [],
   "source": [
    "analyzer.set_herald(0, 0)\n",
    "analyzer.set_herald(5, 0)"
   ]
  },
  {
   "cell_type": "markdown",
   "metadata": {},
   "source": [
    "- Also include post-selection of only one photon measured across modes 1/2 and 3/4. "
   ]
  },
  {
   "cell_type": "code",
   "execution_count": 42,
   "metadata": {},
   "outputs": [],
   "source": [
    "analyzer.set_post_selection(lambda s: s[1] + s[2] == 1)\n",
    "analyzer.set_post_selection(lambda s: s[3] + s[4] == 1)"
   ]
  },
  {
   "cell_type": "markdown",
   "metadata": {},
   "source": [
    "- Then we process each possible input for the circuit, providing the expected transformations between states.\n",
    "- This is used to calculate an error rate. \n",
    "- It is also possible to determine an average performance, which is the defined as the probability that one of the provided outputs is produced for a given input."
   ]
  },
  {
   "cell_type": "code",
   "execution_count": 43,
   "metadata": {},
   "outputs": [
    {
     "name": "stdout",
     "output_type": "stream",
     "text": [
      "Performance = 5.831 %\n",
      "Error rate: 0.0 %\n"
     ]
    }
   ],
   "source": [
    "inputs = {\"00\" : State([1,0,1,0]),\n",
    "          \"01\" : State([1,0,0,1]),\n",
    "          \"10\" : State([0,1,1,0]),\n",
    "          \"11\" : State([0,1,0,1])}\n",
    "states = list(inputs.values())\n",
    "\n",
    "expected = {inputs[\"00\"] : inputs[\"00\"],\n",
    "            inputs[\"01\"] : inputs[\"01\"],\n",
    "            inputs[\"10\"] : inputs[\"11\"],\n",
    "            inputs[\"11\"] : inputs[\"10\"],}\n",
    "\n",
    "#analyzer = emulator.Analyzer(cnot_circuit)\n",
    "results = analyzer.analyze(states, expected = expected)\n",
    "\n",
    "print(f\"Performance = {round(results.performance*100,3)} %\")\n",
    "print(f\"Error rate: {round(results.error_rate*100,3)} %\")"
   ]
  },
  {
   "attachments": {},
   "cell_type": "markdown",
   "metadata": {},
   "source": [
    "- These results can then also be plotted as a heatmap."
   ]
  },
  {
   "cell_type": "code",
   "execution_count": 44,
   "metadata": {},
   "outputs": [
    {
     "data": {
      "image/png": "[encoded data removed]",
      "text/plain": [
       "<Figure size 700x600 with 1 Axes>"
      ]
     },
     "metadata": {},
     "output_type": "display_data"
    }
   ],
   "source": [
    "plot_array = np.zeros((len(inputs), len(inputs)))\n",
    "for i, istate in enumerate(inputs.values()):\n",
    "    for j, ostate in enumerate(inputs.values()):\n",
    "        plot_array[i,j] = results[istate:ostate]\n",
    "\n",
    "in_labels = list(inputs.keys())\n",
    "out_labels = in_labels\n",
    "\n",
    "plt.figure(figsize = (7,6))\n",
    "plt.imshow(plot_array)\n",
    "plt.xticks(range(len(out_labels)), labels = out_labels)\n",
    "plt.yticks(range(len(in_labels)), labels = in_labels)\n",
    "plt.xlabel(\"Output\")\n",
    "plt.ylabel(\"Input\")\n",
    "plt.show()"
   ]
  }
 ],
 "metadata": {
  "kernelspec": {
   "display_name": "venv",
   "language": "python",
   "name": "python3"
  },
  "language_info": {
   "codemirror_mode": {
    "name": "ipython",
    "version": 3
   },
   "file_extension": ".py",
   "mimetype": "text/x-python",
   "name": "python",
   "nbconvert_exporter": "python",
   "pygments_lexer": "ipython3",
   "version": "3.11.6"
  },
  "orig_nbformat": 4
 },
 "nbformat": 4,
 "nbformat_minor": 2
}
