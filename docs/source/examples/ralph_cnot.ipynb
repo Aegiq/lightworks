{
 "cells": [
  {
   "attachments": {},
   "cell_type": "markdown",
   "metadata": {},
   "source": [
    "# Ralph CNOT - All Simulators\n",
    "- This notebook contains a recreation of the Ralph CNOT gate from https://arxiv.org/abs/quant-ph/0112088 and demonstrates the application of different simulation objects."
   ]
  },
  {
   "cell_type": "code",
   "execution_count": 1,
   "metadata": {},
   "outputs": [],
   "source": [
    "import lightworks as lw\n",
    "from lightworks import emulator, State\n",
    "\n",
    "import matplotlib.pyplot as plt\n",
    "import numpy as np\n",
    "from time import perf_counter"
   ]
  },
  {
   "attachments": {},
   "cell_type": "markdown",
   "metadata": {},
   "source": [
    "- Encode the gate below, with the following mode structure: [a0, c0, c1, t0, t1, a1], where a, c and t are the ancillary, control and target modes respectively.\n",
    "- This is a heralded gate, which requires measurements to ensure it works correctly. The input should contain 1 photon in either c0 or c1 and 1 photon in either t0 or t1. The output requires this same criteria and we should also measure 0 photons across modes a0 and a1. This can be included using the add_herald method."
   ]
  },
  {
   "cell_type": "code",
   "execution_count": 2,
   "metadata": {},
   "outputs": [],
   "source": [
    "r = 1/3\n",
    "loss = 0.35\n",
    "theta = np.arccos(r)\n",
    "p = np.pi\n",
    "\n",
    "cnot_circuit = lw.Circuit(6)\n",
    "to_add = [(3, p/2, 0), (0, theta, 0), (2, theta, p), (4, theta, 0), \n",
    "          (3, p/2, 0)]\n",
    "\n",
    "for m, t, p in to_add:\n",
    "    cnot_circuit.add_bs(m, loss = loss, reflectivity = 0.5)\n",
    "    cnot_circuit.add_ps(m+1, t)\n",
    "    cnot_circuit.add_bs(m, loss = loss, reflectivity = 0.5)\n",
    "    cnot_circuit.add_ps(m+1, p)\n",
    "    if m in [3,4,3]:\n",
    "        cnot_circuit.add_barrier()\n",
    "        \n",
    "# Then add required heralds\n",
    "cnot_circuit.add_herald(0, 0, 0)\n",
    "cnot_circuit.add_herald(0, 5, 5)"
   ]
  },
  {
   "cell_type": "code",
   "execution_count": 3,
   "metadata": {},
   "outputs": [
    {
     "data": {
      "image/svg+xml": [
       "<?xml version=\"1.0\" encoding=\"UTF-8\"?>\n",
       "<svg xmlns=\"http://www.w3.org/2000/svg\" xmlns:xlink=\"http://www.w3.org/1999/xlink\"\n",
       "     width=\"1106.2857142857144\" height=\"440.00000000000006\" viewBox=\"0 0 2200.0 875\">\n",
       "<defs>\n",
       "</defs>\n",
       "<rect x=\"0\" y=\"0\" width=\"2200.0\" height=\"875\" fill=\"white\" stroke=\"none\" />\n",
       "<rect x=\"100.0\" y=\"25\" width=\"2000.0\" height=\"825\" fill=\"none\" stroke=\"black\" />\n",
       "<rect x=\"92.0\" y=\"124.5\" width=\"8\" height=\"1\" fill=\"black\" />\n",
       "<rect x=\"92.0\" y=\"249.5\" width=\"8\" height=\"1\" fill=\"black\" />\n",
       "<rect x=\"92.0\" y=\"374.5\" width=\"8\" height=\"1\" fill=\"black\" />\n",
       "<rect x=\"92.0\" y=\"499.5\" width=\"8\" height=\"1\" fill=\"black\" />\n",
       "<rect x=\"92.0\" y=\"624.5\" width=\"8\" height=\"1\" fill=\"black\" />\n",
       "<rect x=\"92.0\" y=\"749.5\" width=\"8\" height=\"1\" fill=\"black\" />\n",
       "<text x=\"80.0\" y=\"127\" font-size=\"25\" fill=\"black\" text-anchor=\"end\" dominant-baseline=\"middle\" transform=\"rotate(0, 80.0, 127)\">a0</text>\n",
       "<text x=\"80.0\" y=\"252\" font-size=\"25\" fill=\"black\" text-anchor=\"end\" dominant-baseline=\"middle\" transform=\"rotate(0, 80.0, 252)\">c0</text>\n",
       "<text x=\"80.0\" y=\"377\" font-size=\"25\" fill=\"black\" text-anchor=\"end\" dominant-baseline=\"middle\" transform=\"rotate(0, 80.0, 377)\">c1</text>\n",
       "<text x=\"80.0\" y=\"502\" font-size=\"25\" fill=\"black\" text-anchor=\"end\" dominant-baseline=\"middle\" transform=\"rotate(0, 80.0, 502)\">t0</text>\n",
       "<text x=\"80.0\" y=\"627\" font-size=\"25\" fill=\"black\" text-anchor=\"end\" dominant-baseline=\"middle\" transform=\"rotate(0, 80.0, 627)\">t1</text>\n",
       "<text x=\"80.0\" y=\"752\" font-size=\"25\" fill=\"black\" text-anchor=\"end\" dominant-baseline=\"middle\" transform=\"rotate(0, 80.0, 752)\">a1</text>\n",
       "<rect x=\"149.95\" y=\"121.0\" width=\"50.1\" height=\"8\" fill=\"black\" />\n",
       "<rect x=\"149.95\" y=\"246.0\" width=\"50.1\" height=\"8\" fill=\"black\" />\n",
       "<rect x=\"149.95\" y=\"371.0\" width=\"50.1\" height=\"8\" fill=\"black\" />\n",
       "<rect x=\"149.95\" y=\"496.0\" width=\"50.1\" height=\"8\" fill=\"black\" />\n",
       "<rect x=\"149.95\" y=\"621.0\" width=\"50.1\" height=\"8\" fill=\"black\" />\n",
       "<rect x=\"149.95\" y=\"746.0\" width=\"50.1\" height=\"8\" fill=\"black\" />\n",
       "<rect x=\"199.95\" y=\"496.0\" width=\"50.1\" height=\"8\" fill=\"black\" />\n",
       "<rect x=\"199.95\" y=\"621.0\" width=\"50.1\" height=\"8\" fill=\"black\" />\n",
       "<rect x=\"250.0\" y=\"475.0\" width=\"50\" height=\"175\" fill=\"#3e368d\" stroke=\"black\" rx=\"5\" ry=\"5\" />\n",
       "<text x=\"275.0\" y=\"562.5\" font-size=\"25\" fill=\"white\" text-anchor=\"middle\" dominant-baseline=\"middle\" transform=\"rotate(0, 275.0, 562.5)\">BS</text>\n",
       "<text x=\"275.0\" y=\"675\" font-size=\"18\" fill=\"black\" text-anchor=\"middle\" dominant-baseline=\"middle\" transform=\"rotate(0, 275.0, 675)\">r = 0.5</text>\n",
       "<rect x=\"299.95\" y=\"496.0\" width=\"50.1\" height=\"8\" fill=\"black\" />\n",
       "<rect x=\"299.95\" y=\"621.0\" width=\"50.1\" height=\"8\" fill=\"black\" />\n",
       "<rect x=\"349.95\" y=\"621.0\" width=\"50.1\" height=\"8\" fill=\"black\" />\n",
       "<rect x=\"400.0\" y=\"600.0\" width=\"50\" height=\"50\" fill=\"#e8532b\" stroke=\"black\" rx=\"5\" ry=\"5\" />\n",
       "<text x=\"425.0\" y=\"627\" font-size=\"25\" fill=\"white\" text-anchor=\"middle\" dominant-baseline=\"middle\" transform=\"rotate(0, 425.0, 627)\">PS</text>\n",
       "<text x=\"425.0\" y=\"675\" font-size=\"18\" fill=\"black\" text-anchor=\"middle\" dominant-baseline=\"middle\" transform=\"rotate(0, 425.0, 675)\">φ = π/2</text>\n",
       "<rect x=\"449.95\" y=\"621.0\" width=\"50.1\" height=\"8\" fill=\"black\" />\n",
       "<rect x=\"349.95\" y=\"496.0\" width=\"150.1\" height=\"8\" fill=\"black\" />\n",
       "<rect x=\"499.95\" y=\"496.0\" width=\"50.1\" height=\"8\" fill=\"black\" />\n",
       "<rect x=\"499.95\" y=\"621.0\" width=\"50.1\" height=\"8\" fill=\"black\" />\n",
       "<rect x=\"550.0\" y=\"475.0\" width=\"50\" height=\"175\" fill=\"#3e368d\" stroke=\"black\" rx=\"5\" ry=\"5\" />\n",
       "<text x=\"575.0\" y=\"562.5\" font-size=\"25\" fill=\"white\" text-anchor=\"middle\" dominant-baseline=\"middle\" transform=\"rotate(0, 575.0, 562.5)\">BS</text>\n",
       "<text x=\"575.0\" y=\"675\" font-size=\"18\" fill=\"black\" text-anchor=\"middle\" dominant-baseline=\"middle\" transform=\"rotate(0, 575.0, 675)\">r = 0.5</text>\n",
       "<rect x=\"599.95\" y=\"496.0\" width=\"50.1\" height=\"8\" fill=\"black\" />\n",
       "<rect x=\"599.95\" y=\"621.0\" width=\"50.1\" height=\"8\" fill=\"black\" />\n",
       "<rect x=\"649.95\" y=\"621.0\" width=\"50.1\" height=\"8\" fill=\"black\" />\n",
       "<rect x=\"700.0\" y=\"600.0\" width=\"50\" height=\"50\" fill=\"#e8532b\" stroke=\"black\" rx=\"5\" ry=\"5\" />\n",
       "<text x=\"725.0\" y=\"627\" font-size=\"25\" fill=\"white\" text-anchor=\"middle\" dominant-baseline=\"middle\" transform=\"rotate(0, 725.0, 627)\">PS</text>\n",
       "<text x=\"725.0\" y=\"675\" font-size=\"18\" fill=\"black\" text-anchor=\"middle\" dominant-baseline=\"middle\" transform=\"rotate(0, 725.0, 675)\">φ = 0</text>\n",
       "<rect x=\"749.95\" y=\"621.0\" width=\"50.1\" height=\"8\" fill=\"black\" />\n",
       "<rect x=\"199.95\" y=\"121.0\" width=\"600.1\" height=\"8\" fill=\"black\" />\n",
       "<rect x=\"199.95\" y=\"246.0\" width=\"600.1\" height=\"8\" fill=\"black\" />\n",
       "<rect x=\"199.95\" y=\"371.0\" width=\"600.1\" height=\"8\" fill=\"black\" />\n",
       "<rect x=\"649.95\" y=\"496.0\" width=\"150.1\" height=\"8\" fill=\"black\" />\n",
       "<rect x=\"199.95\" y=\"746.0\" width=\"600.1\" height=\"8\" fill=\"black\" />\n",
       "<rect x=\"799.95\" y=\"121.0\" width=\"50.1\" height=\"8\" fill=\"black\" />\n",
       "<rect x=\"799.95\" y=\"246.0\" width=\"50.1\" height=\"8\" fill=\"black\" />\n",
       "<rect x=\"850.0\" y=\"100.0\" width=\"50\" height=\"175\" fill=\"#3e368d\" stroke=\"black\" rx=\"5\" ry=\"5\" />\n",
       "<text x=\"875.0\" y=\"187.5\" font-size=\"25\" fill=\"white\" text-anchor=\"middle\" dominant-baseline=\"middle\" transform=\"rotate(0, 875.0, 187.5)\">BS</text>\n",
       "<text x=\"875.0\" y=\"300\" font-size=\"18\" fill=\"black\" text-anchor=\"middle\" dominant-baseline=\"middle\" transform=\"rotate(0, 875.0, 300)\">r = 0.5</text>\n",
       "<rect x=\"899.95\" y=\"121.0\" width=\"50.1\" height=\"8\" fill=\"black\" />\n",
       "<rect x=\"899.95\" y=\"246.0\" width=\"50.1\" height=\"8\" fill=\"black\" />\n",
       "<rect x=\"949.95\" y=\"246.0\" width=\"50.1\" height=\"8\" fill=\"black\" />\n",
       "<rect x=\"1000.0\" y=\"225.0\" width=\"50\" height=\"50\" fill=\"#e8532b\" stroke=\"black\" rx=\"5\" ry=\"5\" />\n",
       "<text x=\"1025.0\" y=\"252\" font-size=\"25\" fill=\"white\" text-anchor=\"middle\" dominant-baseline=\"middle\" transform=\"rotate(0, 1025.0, 252)\">PS</text>\n",
       "<text x=\"1025.0\" y=\"300\" font-size=\"18\" fill=\"black\" text-anchor=\"middle\" dominant-baseline=\"middle\" transform=\"rotate(0, 1025.0, 300)\">φ = 1.231</text>\n",
       "<rect x=\"1049.95\" y=\"246.0\" width=\"50.1\" height=\"8\" fill=\"black\" />\n",
       "<rect x=\"949.95\" y=\"121.0\" width=\"150.1\" height=\"8\" fill=\"black\" />\n",
       "<rect x=\"1099.95\" y=\"121.0\" width=\"50.1\" height=\"8\" fill=\"black\" />\n",
       "<rect x=\"1099.95\" y=\"246.0\" width=\"50.1\" height=\"8\" fill=\"black\" />\n",
       "<rect x=\"1150.0\" y=\"100.0\" width=\"50\" height=\"175\" fill=\"#3e368d\" stroke=\"black\" rx=\"5\" ry=\"5\" />\n",
       "<text x=\"1175.0\" y=\"187.5\" font-size=\"25\" fill=\"white\" text-anchor=\"middle\" dominant-baseline=\"middle\" transform=\"rotate(0, 1175.0, 187.5)\">BS</text>\n",
       "<text x=\"1175.0\" y=\"300\" font-size=\"18\" fill=\"black\" text-anchor=\"middle\" dominant-baseline=\"middle\" transform=\"rotate(0, 1175.0, 300)\">r = 0.5</text>\n",
       "<rect x=\"1199.95\" y=\"121.0\" width=\"50.1\" height=\"8\" fill=\"black\" />\n",
       "<rect x=\"1199.95\" y=\"246.0\" width=\"50.1\" height=\"8\" fill=\"black\" />\n",
       "<rect x=\"1249.95\" y=\"246.0\" width=\"50.1\" height=\"8\" fill=\"black\" />\n",
       "<rect x=\"1300.0\" y=\"225.0\" width=\"50\" height=\"50\" fill=\"#e8532b\" stroke=\"black\" rx=\"5\" ry=\"5\" />\n",
       "<text x=\"1325.0\" y=\"252\" font-size=\"25\" fill=\"white\" text-anchor=\"middle\" dominant-baseline=\"middle\" transform=\"rotate(0, 1325.0, 252)\">PS</text>\n",
       "<text x=\"1325.0\" y=\"300\" font-size=\"18\" fill=\"black\" text-anchor=\"middle\" dominant-baseline=\"middle\" transform=\"rotate(0, 1325.0, 300)\">φ = 0</text>\n",
       "<rect x=\"1349.95\" y=\"246.0\" width=\"50.1\" height=\"8\" fill=\"black\" />\n",
       "<rect x=\"799.95\" y=\"371.0\" width=\"50.1\" height=\"8\" fill=\"black\" />\n",
       "<rect x=\"799.95\" y=\"496.0\" width=\"50.1\" height=\"8\" fill=\"black\" />\n",
       "<rect x=\"850.0\" y=\"350.0\" width=\"50\" height=\"175\" fill=\"#3e368d\" stroke=\"black\" rx=\"5\" ry=\"5\" />\n",
       "<text x=\"875.0\" y=\"437.5\" font-size=\"25\" fill=\"white\" text-anchor=\"middle\" dominant-baseline=\"middle\" transform=\"rotate(0, 875.0, 437.5)\">BS</text>\n",
       "<text x=\"875.0\" y=\"550\" font-size=\"18\" fill=\"black\" text-anchor=\"middle\" dominant-baseline=\"middle\" transform=\"rotate(0, 875.0, 550)\">r = 0.5</text>\n",
       "<rect x=\"899.95\" y=\"371.0\" width=\"50.1\" height=\"8\" fill=\"black\" />\n",
       "<rect x=\"899.95\" y=\"496.0\" width=\"50.1\" height=\"8\" fill=\"black\" />\n",
       "<rect x=\"949.95\" y=\"496.0\" width=\"50.1\" height=\"8\" fill=\"black\" />\n",
       "<rect x=\"1000.0\" y=\"475.0\" width=\"50\" height=\"50\" fill=\"#e8532b\" stroke=\"black\" rx=\"5\" ry=\"5\" />\n",
       "<text x=\"1025.0\" y=\"502\" font-size=\"25\" fill=\"white\" text-anchor=\"middle\" dominant-baseline=\"middle\" transform=\"rotate(0, 1025.0, 502)\">PS</text>\n",
       "<text x=\"1025.0\" y=\"550\" font-size=\"18\" fill=\"black\" text-anchor=\"middle\" dominant-baseline=\"middle\" transform=\"rotate(0, 1025.0, 550)\">φ = 1.231</text>\n",
       "<rect x=\"1049.95\" y=\"496.0\" width=\"50.1\" height=\"8\" fill=\"black\" />\n",
       "<rect x=\"949.95\" y=\"371.0\" width=\"150.1\" height=\"8\" fill=\"black\" />\n",
       "<rect x=\"1099.95\" y=\"371.0\" width=\"50.1\" height=\"8\" fill=\"black\" />\n",
       "<rect x=\"1099.95\" y=\"496.0\" width=\"50.1\" height=\"8\" fill=\"black\" />\n",
       "<rect x=\"1150.0\" y=\"350.0\" width=\"50\" height=\"175\" fill=\"#3e368d\" stroke=\"black\" rx=\"5\" ry=\"5\" />\n",
       "<text x=\"1175.0\" y=\"437.5\" font-size=\"25\" fill=\"white\" text-anchor=\"middle\" dominant-baseline=\"middle\" transform=\"rotate(0, 1175.0, 437.5)\">BS</text>\n",
       "<text x=\"1175.0\" y=\"550\" font-size=\"18\" fill=\"black\" text-anchor=\"middle\" dominant-baseline=\"middle\" transform=\"rotate(0, 1175.0, 550)\">r = 0.5</text>\n",
       "<rect x=\"1199.95\" y=\"371.0\" width=\"50.1\" height=\"8\" fill=\"black\" />\n",
       "<rect x=\"1199.95\" y=\"496.0\" width=\"50.1\" height=\"8\" fill=\"black\" />\n",
       "<rect x=\"1249.95\" y=\"496.0\" width=\"50.1\" height=\"8\" fill=\"black\" />\n",
       "<rect x=\"1300.0\" y=\"475.0\" width=\"50\" height=\"50\" fill=\"#e8532b\" stroke=\"black\" rx=\"5\" ry=\"5\" />\n",
       "<text x=\"1325.0\" y=\"502\" font-size=\"25\" fill=\"white\" text-anchor=\"middle\" dominant-baseline=\"middle\" transform=\"rotate(0, 1325.0, 502)\">PS</text>\n",
       "<text x=\"1325.0\" y=\"550\" font-size=\"18\" fill=\"black\" text-anchor=\"middle\" dominant-baseline=\"middle\" transform=\"rotate(0, 1325.0, 550)\">φ = π</text>\n",
       "<rect x=\"1349.95\" y=\"496.0\" width=\"50.1\" height=\"8\" fill=\"black\" />\n",
       "<rect x=\"799.95\" y=\"621.0\" width=\"50.1\" height=\"8\" fill=\"black\" />\n",
       "<rect x=\"799.95\" y=\"746.0\" width=\"50.1\" height=\"8\" fill=\"black\" />\n",
       "<rect x=\"850.0\" y=\"600.0\" width=\"50\" height=\"175\" fill=\"#3e368d\" stroke=\"black\" rx=\"5\" ry=\"5\" />\n",
       "<text x=\"875.0\" y=\"687.5\" font-size=\"25\" fill=\"white\" text-anchor=\"middle\" dominant-baseline=\"middle\" transform=\"rotate(0, 875.0, 687.5)\">BS</text>\n",
       "<text x=\"875.0\" y=\"800\" font-size=\"18\" fill=\"black\" text-anchor=\"middle\" dominant-baseline=\"middle\" transform=\"rotate(0, 875.0, 800)\">r = 0.5</text>\n",
       "<rect x=\"899.95\" y=\"621.0\" width=\"50.1\" height=\"8\" fill=\"black\" />\n",
       "<rect x=\"899.95\" y=\"746.0\" width=\"50.1\" height=\"8\" fill=\"black\" />\n",
       "<rect x=\"949.95\" y=\"746.0\" width=\"50.1\" height=\"8\" fill=\"black\" />\n",
       "<rect x=\"1000.0\" y=\"725.0\" width=\"50\" height=\"50\" fill=\"#e8532b\" stroke=\"black\" rx=\"5\" ry=\"5\" />\n",
       "<text x=\"1025.0\" y=\"752\" font-size=\"25\" fill=\"white\" text-anchor=\"middle\" dominant-baseline=\"middle\" transform=\"rotate(0, 1025.0, 752)\">PS</text>\n",
       "<text x=\"1025.0\" y=\"800\" font-size=\"18\" fill=\"black\" text-anchor=\"middle\" dominant-baseline=\"middle\" transform=\"rotate(0, 1025.0, 800)\">φ = 1.231</text>\n",
       "<rect x=\"1049.95\" y=\"746.0\" width=\"50.1\" height=\"8\" fill=\"black\" />\n",
       "<rect x=\"949.95\" y=\"621.0\" width=\"150.1\" height=\"8\" fill=\"black\" />\n",
       "<rect x=\"1099.95\" y=\"621.0\" width=\"50.1\" height=\"8\" fill=\"black\" />\n",
       "<rect x=\"1099.95\" y=\"746.0\" width=\"50.1\" height=\"8\" fill=\"black\" />\n",
       "<rect x=\"1150.0\" y=\"600.0\" width=\"50\" height=\"175\" fill=\"#3e368d\" stroke=\"black\" rx=\"5\" ry=\"5\" />\n",
       "<text x=\"1175.0\" y=\"687.5\" font-size=\"25\" fill=\"white\" text-anchor=\"middle\" dominant-baseline=\"middle\" transform=\"rotate(0, 1175.0, 687.5)\">BS</text>\n",
       "<text x=\"1175.0\" y=\"800\" font-size=\"18\" fill=\"black\" text-anchor=\"middle\" dominant-baseline=\"middle\" transform=\"rotate(0, 1175.0, 800)\">r = 0.5</text>\n",
       "<rect x=\"1199.95\" y=\"621.0\" width=\"50.1\" height=\"8\" fill=\"black\" />\n",
       "<rect x=\"1199.95\" y=\"746.0\" width=\"50.1\" height=\"8\" fill=\"black\" />\n",
       "<rect x=\"1249.95\" y=\"746.0\" width=\"50.1\" height=\"8\" fill=\"black\" />\n",
       "<rect x=\"1300.0\" y=\"725.0\" width=\"50\" height=\"50\" fill=\"#e8532b\" stroke=\"black\" rx=\"5\" ry=\"5\" />\n",
       "<text x=\"1325.0\" y=\"752\" font-size=\"25\" fill=\"white\" text-anchor=\"middle\" dominant-baseline=\"middle\" transform=\"rotate(0, 1325.0, 752)\">PS</text>\n",
       "<text x=\"1325.0\" y=\"800\" font-size=\"18\" fill=\"black\" text-anchor=\"middle\" dominant-baseline=\"middle\" transform=\"rotate(0, 1325.0, 800)\">φ = 0</text>\n",
       "<rect x=\"1349.95\" y=\"746.0\" width=\"50.1\" height=\"8\" fill=\"black\" />\n",
       "<rect x=\"1249.95\" y=\"121.0\" width=\"150.1\" height=\"8\" fill=\"black\" />\n",
       "<rect x=\"1249.95\" y=\"371.0\" width=\"150.1\" height=\"8\" fill=\"black\" />\n",
       "<rect x=\"1249.95\" y=\"621.0\" width=\"150.1\" height=\"8\" fill=\"black\" />\n",
       "<rect x=\"1399.95\" y=\"496.0\" width=\"50.1\" height=\"8\" fill=\"black\" />\n",
       "<rect x=\"1399.95\" y=\"621.0\" width=\"50.1\" height=\"8\" fill=\"black\" />\n",
       "<rect x=\"1450.0\" y=\"475.0\" width=\"50\" height=\"175\" fill=\"#3e368d\" stroke=\"black\" rx=\"5\" ry=\"5\" />\n",
       "<text x=\"1475.0\" y=\"562.5\" font-size=\"25\" fill=\"white\" text-anchor=\"middle\" dominant-baseline=\"middle\" transform=\"rotate(0, 1475.0, 562.5)\">BS</text>\n",
       "<text x=\"1475.0\" y=\"675\" font-size=\"18\" fill=\"black\" text-anchor=\"middle\" dominant-baseline=\"middle\" transform=\"rotate(0, 1475.0, 675)\">r = 0.5</text>\n",
       "<rect x=\"1499.95\" y=\"496.0\" width=\"50.1\" height=\"8\" fill=\"black\" />\n",
       "<rect x=\"1499.95\" y=\"621.0\" width=\"50.1\" height=\"8\" fill=\"black\" />\n",
       "<rect x=\"1549.95\" y=\"621.0\" width=\"50.1\" height=\"8\" fill=\"black\" />\n",
       "<rect x=\"1600.0\" y=\"600.0\" width=\"50\" height=\"50\" fill=\"#e8532b\" stroke=\"black\" rx=\"5\" ry=\"5\" />\n",
       "<text x=\"1625.0\" y=\"627\" font-size=\"25\" fill=\"white\" text-anchor=\"middle\" dominant-baseline=\"middle\" transform=\"rotate(0, 1625.0, 627)\">PS</text>\n",
       "<text x=\"1625.0\" y=\"675\" font-size=\"18\" fill=\"black\" text-anchor=\"middle\" dominant-baseline=\"middle\" transform=\"rotate(0, 1625.0, 675)\">φ = π/2</text>\n",
       "<rect x=\"1649.95\" y=\"621.0\" width=\"50.1\" height=\"8\" fill=\"black\" />\n",
       "<rect x=\"1549.95\" y=\"496.0\" width=\"150.1\" height=\"8\" fill=\"black\" />\n",
       "<rect x=\"1699.95\" y=\"496.0\" width=\"50.1\" height=\"8\" fill=\"black\" />\n",
       "<rect x=\"1699.95\" y=\"621.0\" width=\"50.1\" height=\"8\" fill=\"black\" />\n",
       "<rect x=\"1750.0\" y=\"475.0\" width=\"50\" height=\"175\" fill=\"#3e368d\" stroke=\"black\" rx=\"5\" ry=\"5\" />\n",
       "<text x=\"1775.0\" y=\"562.5\" font-size=\"25\" fill=\"white\" text-anchor=\"middle\" dominant-baseline=\"middle\" transform=\"rotate(0, 1775.0, 562.5)\">BS</text>\n",
       "<text x=\"1775.0\" y=\"675\" font-size=\"18\" fill=\"black\" text-anchor=\"middle\" dominant-baseline=\"middle\" transform=\"rotate(0, 1775.0, 675)\">r = 0.5</text>\n",
       "<rect x=\"1799.95\" y=\"496.0\" width=\"50.1\" height=\"8\" fill=\"black\" />\n",
       "<rect x=\"1799.95\" y=\"621.0\" width=\"50.1\" height=\"8\" fill=\"black\" />\n",
       "<rect x=\"1849.95\" y=\"621.0\" width=\"50.1\" height=\"8\" fill=\"black\" />\n",
       "<rect x=\"1900.0\" y=\"600.0\" width=\"50\" height=\"50\" fill=\"#e8532b\" stroke=\"black\" rx=\"5\" ry=\"5\" />\n",
       "<text x=\"1925.0\" y=\"627\" font-size=\"25\" fill=\"white\" text-anchor=\"middle\" dominant-baseline=\"middle\" transform=\"rotate(0, 1925.0, 627)\">PS</text>\n",
       "<text x=\"1925.0\" y=\"675\" font-size=\"18\" fill=\"black\" text-anchor=\"middle\" dominant-baseline=\"middle\" transform=\"rotate(0, 1925.0, 675)\">φ = 0</text>\n",
       "<rect x=\"1949.95\" y=\"621.0\" width=\"50.1\" height=\"8\" fill=\"black\" />\n",
       "<rect x=\"1399.95\" y=\"121.0\" width=\"600.1\" height=\"8\" fill=\"black\" />\n",
       "<rect x=\"1399.95\" y=\"246.0\" width=\"600.1\" height=\"8\" fill=\"black\" />\n",
       "<rect x=\"1399.95\" y=\"371.0\" width=\"600.1\" height=\"8\" fill=\"black\" />\n",
       "<rect x=\"1849.95\" y=\"496.0\" width=\"150.1\" height=\"8\" fill=\"black\" />\n",
       "<rect x=\"1399.95\" y=\"746.0\" width=\"600.1\" height=\"8\" fill=\"black\" />\n",
       "<rect x=\"1999.95\" y=\"121.0\" width=\"50.1\" height=\"8\" fill=\"black\" />\n",
       "<rect x=\"1999.95\" y=\"246.0\" width=\"50.1\" height=\"8\" fill=\"black\" />\n",
       "<rect x=\"1999.95\" y=\"371.0\" width=\"50.1\" height=\"8\" fill=\"black\" />\n",
       "<rect x=\"1999.95\" y=\"496.0\" width=\"50.1\" height=\"8\" fill=\"black\" />\n",
       "<rect x=\"1999.95\" y=\"621.0\" width=\"50.1\" height=\"8\" fill=\"black\" />\n",
       "<rect x=\"1999.95\" y=\"746.0\" width=\"50.1\" height=\"8\" fill=\"black\" />\n",
       "<circle cx=\"150.0\" cy=\"125\" r=\"25\" fill=\"#3e368d\" stroke=\"black\" />\n",
       "<text x=\"150.0\" y=\"127.5\" font-size=\"30\" fill=\"white\" text-anchor=\"middle\" dominant-baseline=\"middle\" transform=\"rotate(0, 150.0, 127.5)\">0</text>\n",
       "<circle cx=\"150.0\" cy=\"750\" r=\"25\" fill=\"#3e368d\" stroke=\"black\" />\n",
       "<text x=\"150.0\" y=\"752.5\" font-size=\"30\" fill=\"white\" text-anchor=\"middle\" dominant-baseline=\"middle\" transform=\"rotate(0, 150.0, 752.5)\">0</text>\n",
       "<circle cx=\"2050.0\" cy=\"125\" r=\"25\" fill=\"#3e368d\" stroke=\"black\" />\n",
       "<text x=\"2050.0\" y=\"127.5\" font-size=\"30\" fill=\"white\" text-anchor=\"middle\" dominant-baseline=\"middle\" transform=\"rotate(0, 2050.0, 127.5)\">0</text>\n",
       "<circle cx=\"2050.0\" cy=\"750\" r=\"25\" fill=\"#3e368d\" stroke=\"black\" />\n",
       "<text x=\"2050.0\" y=\"752.5\" font-size=\"30\" fill=\"white\" text-anchor=\"middle\" dominant-baseline=\"middle\" transform=\"rotate(0, 2050.0, 752.5)\">0</text>\n",
       "</svg>"
      ],
      "text/plain": [
       "<drawsvg.drawing.Drawing at 0x1a6b6ad2b50>"
      ]
     },
     "metadata": {},
     "output_type": "display_data"
    }
   ],
   "source": [
    "cnot_circuit.display(mode_labels = [\"a0\", \"c0\", \"c1\", \"t0\", \"t1\", \"a1\"])"
   ]
  },
  {
   "cell_type": "markdown",
   "metadata": {},
   "source": [
    "## Simulator\n",
    "- First use simulator to directly calculate the probability amplitudes.\n",
    "- Can simulate all possible inputs without specifying outputs to get all state combinations."
   ]
  },
  {
   "cell_type": "code",
   "execution_count": 4,
   "metadata": {},
   "outputs": [],
   "source": [
    "states = [State([1, 0, 1, 0]), State([1, 0, 0, 1]),\n",
    "          State([0, 1, 1, 0]), State([0, 1, 0, 1])]\n",
    "\n",
    "sim = emulator.Simulator(cnot_circuit)\n",
    "\n",
    "results = sim.simulate(states)"
   ]
  },
  {
   "cell_type": "markdown",
   "metadata": {},
   "source": [
    "- It can be seen that the result is a superposition of many different outputs, the majority of which are not valid according to the usual post-selection rules which would be applied."
   ]
  },
  {
   "cell_type": "code",
   "execution_count": 5,
   "metadata": {},
   "outputs": [
    {
     "data": {
      "text/html": [
       "<div>\n",
       "<style scoped>\n",
       "    .dataframe tbody tr th:only-of-type {\n",
       "        vertical-align: middle;\n",
       "    }\n",
       "\n",
       "    .dataframe tbody tr th {\n",
       "        vertical-align: top;\n",
       "    }\n",
       "\n",
       "    .dataframe thead th {\n",
       "        text-align: right;\n",
       "    }\n",
       "</style>\n",
       "<table border=\"1\" class=\"dataframe\">\n",
       "  <thead>\n",
       "    <tr style=\"text-align: right;\">\n",
       "      <th></th>\n",
       "      <th>|2,0,0,0&gt;</th>\n",
       "      <th>|1,1,0,0&gt;</th>\n",
       "      <th>|0,2,0,0&gt;</th>\n",
       "      <th>|1,0,1,0&gt;</th>\n",
       "      <th>|0,1,1,0&gt;</th>\n",
       "      <th>|0,0,2,0&gt;</th>\n",
       "      <th>|1,0,0,1&gt;</th>\n",
       "      <th>|0,1,0,1&gt;</th>\n",
       "      <th>|0,0,1,1&gt;</th>\n",
       "      <th>|0,0,0,2&gt;</th>\n",
       "    </tr>\n",
       "  </thead>\n",
       "  <tbody>\n",
       "    <tr>\n",
       "      <th>|1,0,1,0&gt;</th>\n",
       "      <td>0.0+0.0j</td>\n",
       "      <td>-0.236191-0.112803j</td>\n",
       "      <td>0.000000+0.000000j</td>\n",
       "      <td>0.227668-0.080493j</td>\n",
       "      <td>0.000000+0.000000j</td>\n",
       "      <td>0.000000+0.000000j</td>\n",
       "      <td>0.000000+0.000000j</td>\n",
       "      <td>0.000000+0.000000j</td>\n",
       "      <td>0.000000+0.000000j</td>\n",
       "      <td>0.000000+0.000000j</td>\n",
       "    </tr>\n",
       "    <tr>\n",
       "      <th>|1,0,0,1&gt;</th>\n",
       "      <td>0.0+0.0j</td>\n",
       "      <td>0.236191+0.112803j</td>\n",
       "      <td>0.000000+0.000000j</td>\n",
       "      <td>0.000000+0.000000j</td>\n",
       "      <td>0.000000+0.000000j</td>\n",
       "      <td>0.000000+0.000000j</td>\n",
       "      <td>0.227668-0.080493j</td>\n",
       "      <td>0.000000+0.000000j</td>\n",
       "      <td>0.000000+0.000000j</td>\n",
       "      <td>0.000000+0.000000j</td>\n",
       "    </tr>\n",
       "    <tr>\n",
       "      <th>|0,1,1,0&gt;</th>\n",
       "      <td>0.0+0.0j</td>\n",
       "      <td>0.000000+0.000000j</td>\n",
       "      <td>0.334024+0.159527j</td>\n",
       "      <td>0.000000+0.000000j</td>\n",
       "      <td>0.000000+0.000000j</td>\n",
       "      <td>-0.135780+0.284301j</td>\n",
       "      <td>0.000000+0.000000j</td>\n",
       "      <td>-0.227668+0.080493j</td>\n",
       "      <td>0.096011-0.201031j</td>\n",
       "      <td>0.000000+0.000000j</td>\n",
       "    </tr>\n",
       "    <tr>\n",
       "      <th>|0,1,0,1&gt;</th>\n",
       "      <td>0.0+0.0j</td>\n",
       "      <td>0.000000+0.000000j</td>\n",
       "      <td>-0.334024-0.159527j</td>\n",
       "      <td>0.000000+0.000000j</td>\n",
       "      <td>-0.227668+0.080493j</td>\n",
       "      <td>0.000000+0.000000j</td>\n",
       "      <td>0.000000+0.000000j</td>\n",
       "      <td>0.000000+0.000000j</td>\n",
       "      <td>-0.096011+0.201031j</td>\n",
       "      <td>0.135780-0.284301j</td>\n",
       "    </tr>\n",
       "  </tbody>\n",
       "</table>\n",
       "</div>"
      ],
      "text/plain": [
       "           |2,0,0,0>           |1,1,0,0>           |0,2,0,0>  \\\n",
       "|1,0,1,0>   0.0+0.0j -0.236191-0.112803j  0.000000+0.000000j   \n",
       "|1,0,0,1>   0.0+0.0j  0.236191+0.112803j  0.000000+0.000000j   \n",
       "|0,1,1,0>   0.0+0.0j  0.000000+0.000000j  0.334024+0.159527j   \n",
       "|0,1,0,1>   0.0+0.0j  0.000000+0.000000j -0.334024-0.159527j   \n",
       "\n",
       "                    |1,0,1,0>           |0,1,1,0>           |0,0,2,0>  \\\n",
       "|1,0,1,0>  0.227668-0.080493j  0.000000+0.000000j  0.000000+0.000000j   \n",
       "|1,0,0,1>  0.000000+0.000000j  0.000000+0.000000j  0.000000+0.000000j   \n",
       "|0,1,1,0>  0.000000+0.000000j  0.000000+0.000000j -0.135780+0.284301j   \n",
       "|0,1,0,1>  0.000000+0.000000j -0.227668+0.080493j  0.000000+0.000000j   \n",
       "\n",
       "                    |1,0,0,1>           |0,1,0,1>           |0,0,1,1>  \\\n",
       "|1,0,1,0>  0.000000+0.000000j  0.000000+0.000000j  0.000000+0.000000j   \n",
       "|1,0,0,1>  0.227668-0.080493j  0.000000+0.000000j  0.000000+0.000000j   \n",
       "|0,1,1,0>  0.000000+0.000000j -0.227668+0.080493j  0.096011-0.201031j   \n",
       "|0,1,0,1>  0.000000+0.000000j  0.000000+0.000000j -0.096011+0.201031j   \n",
       "\n",
       "                    |0,0,0,2>  \n",
       "|1,0,1,0>  0.000000+0.000000j  \n",
       "|1,0,0,1>  0.000000+0.000000j  \n",
       "|0,1,1,0>  0.000000+0.000000j  \n",
       "|0,1,0,1>  0.135780-0.284301j  "
      ]
     },
     "execution_count": 5,
     "metadata": {},
     "output_type": "execute_result"
    }
   ],
   "source": [
    "results.display_as_dataframe()"
   ]
  },
  {
   "cell_type": "markdown",
   "metadata": {},
   "source": [
    "- Alternatively we can specify the outputs which we know to be valid."
   ]
  },
  {
   "cell_type": "code",
   "execution_count": 6,
   "metadata": {},
   "outputs": [],
   "source": [
    "results = sim.simulate(states, states)"
   ]
  },
  {
   "cell_type": "markdown",
   "metadata": {},
   "source": [
    "- We then get the expected transitions between two qubit states."
   ]
  },
  {
   "cell_type": "code",
   "execution_count": 7,
   "metadata": {},
   "outputs": [
    {
     "data": {
      "text/html": [
       "<div>\n",
       "<style scoped>\n",
       "    .dataframe tbody tr th:only-of-type {\n",
       "        vertical-align: middle;\n",
       "    }\n",
       "\n",
       "    .dataframe tbody tr th {\n",
       "        vertical-align: top;\n",
       "    }\n",
       "\n",
       "    .dataframe thead th {\n",
       "        text-align: right;\n",
       "    }\n",
       "</style>\n",
       "<table border=\"1\" class=\"dataframe\">\n",
       "  <thead>\n",
       "    <tr style=\"text-align: right;\">\n",
       "      <th></th>\n",
       "      <th>|1,0,1,0&gt;</th>\n",
       "      <th>|1,0,0,1&gt;</th>\n",
       "      <th>|0,1,1,0&gt;</th>\n",
       "      <th>|0,1,0,1&gt;</th>\n",
       "    </tr>\n",
       "  </thead>\n",
       "  <tbody>\n",
       "    <tr>\n",
       "      <th>|1,0,1,0&gt;</th>\n",
       "      <td>0.058312</td>\n",
       "      <td>0.000000</td>\n",
       "      <td>0.000000</td>\n",
       "      <td>0.000000</td>\n",
       "    </tr>\n",
       "    <tr>\n",
       "      <th>|1,0,0,1&gt;</th>\n",
       "      <td>0.000000</td>\n",
       "      <td>0.058312</td>\n",
       "      <td>0.000000</td>\n",
       "      <td>0.000000</td>\n",
       "    </tr>\n",
       "    <tr>\n",
       "      <th>|0,1,1,0&gt;</th>\n",
       "      <td>0.000000</td>\n",
       "      <td>0.000000</td>\n",
       "      <td>0.000000</td>\n",
       "      <td>0.058312</td>\n",
       "    </tr>\n",
       "    <tr>\n",
       "      <th>|0,1,0,1&gt;</th>\n",
       "      <td>0.000000</td>\n",
       "      <td>0.000000</td>\n",
       "      <td>0.058312</td>\n",
       "      <td>0.000000</td>\n",
       "    </tr>\n",
       "  </tbody>\n",
       "</table>\n",
       "</div>"
      ],
      "text/plain": [
       "           |1,0,1,0>  |1,0,0,1>  |0,1,1,0>  |0,1,0,1>\n",
       "|1,0,1,0>   0.058312   0.000000   0.000000   0.000000\n",
       "|1,0,0,1>   0.000000   0.058312   0.000000   0.000000\n",
       "|0,1,1,0>   0.000000   0.000000   0.000000   0.058312\n",
       "|0,1,0,1>   0.000000   0.000000   0.058312   0.000000"
      ]
     },
     "execution_count": 7,
     "metadata": {},
     "output_type": "execute_result"
    }
   ],
   "source": [
    "results.display_as_dataframe(conv_to_probability = True)"
   ]
  },
  {
   "cell_type": "markdown",
   "metadata": {},
   "source": [
    "## Sampler\n",
    "- Use the sampler to sample from all possible outputs for one of the possible input states."
   ]
  },
  {
   "cell_type": "code",
   "execution_count": 8,
   "metadata": {},
   "outputs": [],
   "source": [
    "sampler = emulator.Sampler(cnot_circuit, State([0,1,1,0]))\n",
    "\n",
    "results = sampler.sample_N_inputs(10000)"
   ]
  },
  {
   "cell_type": "markdown",
   "metadata": {},
   "source": [
    "- The output distribution can then be plot to view the number of times each state is measured."
   ]
  },
  {
   "cell_type": "code",
   "execution_count": 10,
   "metadata": {},
   "outputs": [
    {
     "data": {
      "image/png": "[encoded data removed]",
      "text/plain": [
       "<Figure size 700x600 with 1 Axes>"
      ]
     },
     "metadata": {},
     "output_type": "display_data"
    }
   ],
   "source": [
    "results.plot()"
   ]
  },
  {
   "cell_type": "markdown",
   "metadata": {},
   "source": [
    "- Can then also apply an imperfect source and detectors."
   ]
  },
  {
   "cell_type": "code",
   "execution_count": 11,
   "metadata": {},
   "outputs": [],
   "source": [
    "source = emulator.Source(purity = 0.98, brightness = 0.5, \n",
    "                         indistinguishability = 0.94)\n",
    "detector = emulator.Detector(efficiency = 0.9, p_dark = 1e-5,\n",
    "                             photon_counting = False)\n",
    "\n",
    "sampler = emulator.Sampler(cnot_circuit, State([0,1,1,0]), \n",
    "                           source = source, detector = detector)\n",
    "\n",
    "results = sampler.sample_N_inputs(10000)"
   ]
  },
  {
   "cell_type": "markdown",
   "metadata": {},
   "source": [
    "- This introduces a significant number of additional possible states."
   ]
  },
  {
   "cell_type": "code",
   "execution_count": 12,
   "metadata": {},
   "outputs": [
    {
     "data": {
      "image/png": "[encoded data removed]",
      "text/plain": [
       "<Figure size 700x600 with 1 Axes>"
      ]
     },
     "metadata": {},
     "output_type": "display_data"
    }
   ],
   "source": [
    "results.plot()"
   ]
  },
  {
   "cell_type": "markdown",
   "metadata": {},
   "source": [
    "- However we can clean this up by post-selection on the number of photons across the modes.\n",
    "- We don't need to re-create the sampler object and find the probability distribution for this, and instead just pass the post-selection function to the sample_N_inputs function."
   ]
  },
  {
   "cell_type": "code",
   "execution_count": 13,
   "metadata": {},
   "outputs": [],
   "source": [
    "post_select = lambda s: s[0] + s[1] == 1 and s[2] + s[3] == 1\n",
    "\n",
    "results = sampler.sample_N_inputs(10000, post_select = post_select)"
   ]
  },
  {
   "cell_type": "markdown",
   "metadata": {},
   "source": [
    "- We can see that this significantly cleans up the output states measured and with the exception of a few erroneous states we see the expected output of |0,0,1,0,1,0>"
   ]
  },
  {
   "cell_type": "code",
   "execution_count": 15,
   "metadata": {},
   "outputs": [
    {
     "data": {
      "image/png": "[encoded data removed]",
      "text/plain": [
       "<Figure size 700x600 with 1 Axes>"
      ]
     },
     "metadata": {},
     "output_type": "display_data"
    }
   ],
   "source": [
    "results.plot()"
   ]
  },
  {
   "cell_type": "markdown",
   "metadata": {},
   "source": [
    "## QuickSampler\n",
    "- The QuickSampler enables faster sampling from a state in situations where we know photon number should be preserved and do not require imperfect sources or detectors.\n",
    "- This can be significantly quicker in the cases of larger photon number.\n",
    "- Below it can be seen that the correct output is produced and the QuickSampler is able to performing the calculation significantly faster."
   ]
  },
  {
   "cell_type": "code",
   "execution_count": 16,
   "metadata": {},
   "outputs": [
    {
     "name": "stdout",
     "output_type": "stream",
     "text": [
      "QuickSampler output {lightworks.State(|0,1,1,0>): 10000}\n",
      "QuickSampler time: 0.018960299999889685 seconds\n",
      "Sampler time: 0.02043520000006538 seconds\n"
     ]
    }
   ],
   "source": [
    "post_select = lambda s: s[0] + s[1] == 1 and s[2] + s[3] == 1\n",
    "\n",
    "t0 = perf_counter()\n",
    "# QuickSampler code\n",
    "sampler = emulator.QuickSampler(cnot_circuit, State([0,1,0,1]), \n",
    "                                photon_counting = False, \n",
    "                                post_select = post_select)\n",
    "results = sampler.sample_N_outputs(10000)\n",
    "\n",
    "t1 = perf_counter()\n",
    "\n",
    "print(\"QuickSampler output\", results)\n",
    "\n",
    "t2 = perf_counter()\n",
    "# Equivalent code when using normal sampler\n",
    "detector = emulator.Detector(photon_counting = False)\n",
    "sampler = emulator.Sampler(cnot_circuit, State([0,1,1,0]),\n",
    "                           detector = detector)\n",
    "results = sampler.sample_N_outputs(10000, post_select = post_select, \n",
    "                                   min_detection = 2)\n",
    "t3 = perf_counter()\n",
    "\n",
    "print(f\"QuickSampler time: {t1-t0} seconds\")\n",
    "print(f\"Sampler time: {t3-t2} seconds\")"
   ]
  },
  {
   "attachments": {},
   "cell_type": "markdown",
   "metadata": {},
   "source": [
    "## Analyzer\n",
    "- The Analyzer will determine all possible outputs under a given set of conditions (such as post-selection and heralding) and return the probability of each.\n",
    "- First create the analyzer object."
   ]
  },
  {
   "cell_type": "code",
   "execution_count": 17,
   "metadata": {},
   "outputs": [],
   "source": [
    "analyzer = emulator.Analyzer(cnot_circuit)"
   ]
  },
  {
   "cell_type": "markdown",
   "metadata": {},
   "source": [
    "- Then include post-selection of only one photon measured across modes 1/2 and 3/4. "
   ]
  },
  {
   "cell_type": "code",
   "execution_count": 18,
   "metadata": {},
   "outputs": [],
   "source": [
    "analyzer.set_post_selection(lambda s: s[0] + s[1] == 1)\n",
    "analyzer.set_post_selection(lambda s: s[2] + s[3] == 1)"
   ]
  },
  {
   "cell_type": "markdown",
   "metadata": {},
   "source": [
    "- Then we process each possible input for the circuit, providing the expected transformations between states.\n",
    "- This is used to calculate an error rate. \n",
    "- It is also possible to determine an average performance, which is the defined as the probability that one of the provided outputs is produced for a given input."
   ]
  },
  {
   "cell_type": "code",
   "execution_count": 19,
   "metadata": {},
   "outputs": [
    {
     "name": "stdout",
     "output_type": "stream",
     "text": [
      "Performance = 5.831 %\n",
      "Error rate: 0.0 %\n"
     ]
    }
   ],
   "source": [
    "inputs = {\"00\" : State([1,0,1,0]),\n",
    "          \"01\" : State([1,0,0,1]),\n",
    "          \"10\" : State([0,1,1,0]),\n",
    "          \"11\" : State([0,1,0,1])}\n",
    "states = list(inputs.values())\n",
    "\n",
    "expected = {inputs[\"00\"] : inputs[\"00\"],\n",
    "            inputs[\"01\"] : inputs[\"01\"],\n",
    "            inputs[\"10\"] : inputs[\"11\"],\n",
    "            inputs[\"11\"] : inputs[\"10\"],}\n",
    "\n",
    "#analyzer = emulator.Analyzer(cnot_circuit)\n",
    "results = analyzer.analyze(states, expected = expected)\n",
    "\n",
    "print(f\"Performance = {round(results.performance*100,3)} %\")\n",
    "print(f\"Error rate: {round(results.error_rate*100,3)} %\")"
   ]
  },
  {
   "attachments": {},
   "cell_type": "markdown",
   "metadata": {},
   "source": [
    "- These results can then also be plotted as a heatmap."
   ]
  },
  {
   "cell_type": "code",
   "execution_count": 20,
   "metadata": {},
   "outputs": [
    {
     "data": {
      "image/png": "[encoded data removed]",
      "text/plain": [
       "<Figure size 700x600 with 1 Axes>"
      ]
     },
     "metadata": {},
     "output_type": "display_data"
    }
   ],
   "source": [
    "plot_array = np.zeros((len(inputs), len(inputs)))\n",
    "for i, istate in enumerate(inputs.values()):\n",
    "    for j, ostate in enumerate(inputs.values()):\n",
    "        plot_array[i,j] = results[istate,ostate]\n",
    "\n",
    "in_labels = list(inputs.keys())\n",
    "out_labels = in_labels\n",
    "\n",
    "plt.figure(figsize = (7,6))\n",
    "plt.imshow(plot_array)\n",
    "plt.xticks(range(len(out_labels)), labels = out_labels)\n",
    "plt.yticks(range(len(in_labels)), labels = in_labels)\n",
    "plt.xlabel(\"Output\")\n",
    "plt.ylabel(\"Input\")\n",
    "plt.show()"
   ]
  }
 ],
 "metadata": {
  "kernelspec": {
   "display_name": "venv",
   "language": "python",
   "name": "python3"
  },
  "language_info": {
   "codemirror_mode": {
    "name": "ipython",
    "version": 3
   },
   "file_extension": ".py",
   "mimetype": "text/x-python",
   "name": "python",
   "nbconvert_exporter": "python",
   "pygments_lexer": "ipython3",
   "version": "3.11.6"
  },
  "orig_nbformat": 4
 },
 "nbformat": 4,
 "nbformat_minor": 2
}
