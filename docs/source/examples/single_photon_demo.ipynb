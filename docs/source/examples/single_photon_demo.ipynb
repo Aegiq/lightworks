{
 "cells": [
  {
   "attachments": {},
   "cell_type": "markdown",
   "metadata": {},
   "source": [
    "# Single-photon Simulation\n",
    "- The following notebook demonstrates the use of the emulator to simulate the propagation of a single photon in a quantum photonic processor.\n",
    "- This can be used to find the unitary implemented by a system.\n",
    "- First import required modules and some additional tools."
   ]
  },
  {
   "cell_type": "code",
   "execution_count": 3,
   "metadata": {},
   "outputs": [],
   "source": [
    "import lightworks as lw\n",
    "from lightworks import emulator, State\n",
    "\n",
    "from scipy.stats import unitary_group\n",
    "import matplotlib.pyplot as plt\n",
    "from collections import Counter"
   ]
  },
  {
   "attachments": {},
   "cell_type": "markdown",
   "metadata": {},
   "source": [
    "- A general N is then defined, which is used to adjust the number of modes used for the circuit throughout the notebook."
   ]
  },
  {
   "cell_type": "code",
   "execution_count": 4,
   "metadata": {},
   "outputs": [],
   "source": [
    "N = 8"
   ]
  },
  {
   "attachments": {},
   "cell_type": "markdown",
   "metadata": {},
   "source": [
    "- Can then create a random unitary matrix which is programmed onto the chip."
   ]
  },
  {
   "cell_type": "code",
   "execution_count": 5,
   "metadata": {},
   "outputs": [],
   "source": [
    "U = lw.random_unitary(N)\n",
    "\n",
    "circuit = lw.Unitary(U)"
   ]
  },
  {
   "attachments": {},
   "cell_type": "markdown",
   "metadata": {},
   "source": [
    "## Simulator\n",
    "- First we try using the simulation part of the emulator. This allows the simulation of a number of input states, finding the probability amplitudes for the given outputs.\n",
    "- To set this up, we specify the generated circuit to the simulator class. "
   ]
  },
  {
   "cell_type": "code",
   "execution_count": 6,
   "metadata": {},
   "outputs": [],
   "source": [
    "sim = emulator.Simulator(circuit)"
   ]
  },
  {
   "attachments": {},
   "cell_type": "markdown",
   "metadata": {},
   "source": [
    "- In this case we will choose to try to recreate the unitary matrix, which can be done by creating a list of all single photon input and output states."
   ]
  },
  {
   "cell_type": "code",
   "execution_count": 7,
   "metadata": {},
   "outputs": [],
   "source": [
    "states = []\n",
    "\n",
    "# Create all single photon states by adding 1 to list when i=j, otherwise add 0\n",
    "for i in range(N):\n",
    "    state = []\n",
    "    for j in range(N):\n",
    "        if i == j:\n",
    "            state += [1]\n",
    "        else:\n",
    "            state += [0]\n",
    "    states.append(State(state))\n",
    "\n",
    "# Calculate probability amplitude\n",
    "results = sim.simulate(states, states)\n",
    "U_calc = results.array"
   ]
  },
  {
   "attachments": {},
   "cell_type": "markdown",
   "metadata": {},
   "source": [
    "- The resultant matrix probability amplitude matrix can be visualized below, and we see that the unitary is correctly replicated.\n",
    "- Note that the unitary needs to be transposed for the plotting below to show identical matrices."
   ]
  },
  {
   "cell_type": "code",
   "execution_count": 8,
   "metadata": {},
   "outputs": [
    {
     "data": {
      "image/png": "[encoded data removed]",
      "text/plain": [
       "<Figure size 1200x600 with 2 Axes>"
      ]
     },
     "metadata": {},
     "output_type": "display_data"
    }
   ],
   "source": [
    "fig, ax = plt.subplots(1, 2, figsize = (12, 6))\n",
    "\n",
    "ax[0].imshow(abs(U.T))\n",
    "ax[1].imshow(abs(U_calc))\n",
    "ax[0].set_title(\"U\")\n",
    "ax[1].set_title(\"Calculated U\")\n",
    "\n",
    "plt.show()"
   ]
  },
  {
   "attachments": {},
   "cell_type": "markdown",
   "metadata": {},
   "source": [
    "- It is also possible to directly view the probability amplitudes in a nicer form using the display_as_dataframe function included with the results object. \n",
    "- In this case the values are converted to probabilities with the conv_to_probability keyword."
   ]
  },
  {
   "cell_type": "code",
   "execution_count": 9,
   "metadata": {},
   "outputs": [
    {
     "data": {
      "text/html": [
       "<div>\n",
       "<style scoped>\n",
       "    .dataframe tbody tr th:only-of-type {\n",
       "        vertical-align: middle;\n",
       "    }\n",
       "\n",
       "    .dataframe tbody tr th {\n",
       "        vertical-align: top;\n",
       "    }\n",
       "\n",
       "    .dataframe thead th {\n",
       "        text-align: right;\n",
       "    }\n",
       "</style>\n",
       "<table border=\"1\" class=\"dataframe\">\n",
       "  <thead>\n",
       "    <tr style=\"text-align: right;\">\n",
       "      <th></th>\n",
       "      <th>|1,0,0,0,0,0,0,0&gt;</th>\n",
       "      <th>|0,1,0,0,0,0,0,0&gt;</th>\n",
       "      <th>|0,0,1,0,0,0,0,0&gt;</th>\n",
       "      <th>|0,0,0,1,0,0,0,0&gt;</th>\n",
       "      <th>|0,0,0,0,1,0,0,0&gt;</th>\n",
       "      <th>|0,0,0,0,0,1,0,0&gt;</th>\n",
       "      <th>|0,0,0,0,0,0,1,0&gt;</th>\n",
       "      <th>|0,0,0,0,0,0,0,1&gt;</th>\n",
       "    </tr>\n",
       "  </thead>\n",
       "  <tbody>\n",
       "    <tr>\n",
       "      <th>|1,0,0,0,0,0,0,0&gt;</th>\n",
       "      <td>0.040417</td>\n",
       "      <td>0.054398</td>\n",
       "      <td>0.058416</td>\n",
       "      <td>0.301151</td>\n",
       "      <td>0.029615</td>\n",
       "      <td>0.096082</td>\n",
       "      <td>0.397790</td>\n",
       "      <td>0.022130</td>\n",
       "    </tr>\n",
       "    <tr>\n",
       "      <th>|0,1,0,0,0,0,0,0&gt;</th>\n",
       "      <td>0.070790</td>\n",
       "      <td>0.345645</td>\n",
       "      <td>0.053577</td>\n",
       "      <td>0.061405</td>\n",
       "      <td>0.097163</td>\n",
       "      <td>0.194927</td>\n",
       "      <td>0.139690</td>\n",
       "      <td>0.036803</td>\n",
       "    </tr>\n",
       "    <tr>\n",
       "      <th>|0,0,1,0,0,0,0,0&gt;</th>\n",
       "      <td>0.079618</td>\n",
       "      <td>0.050848</td>\n",
       "      <td>0.313626</td>\n",
       "      <td>0.036889</td>\n",
       "      <td>0.145682</td>\n",
       "      <td>0.067756</td>\n",
       "      <td>0.210733</td>\n",
       "      <td>0.094847</td>\n",
       "    </tr>\n",
       "    <tr>\n",
       "      <th>|0,0,0,1,0,0,0,0&gt;</th>\n",
       "      <td>0.168537</td>\n",
       "      <td>0.046177</td>\n",
       "      <td>0.127506</td>\n",
       "      <td>0.173937</td>\n",
       "      <td>0.054078</td>\n",
       "      <td>0.190859</td>\n",
       "      <td>0.025003</td>\n",
       "      <td>0.213903</td>\n",
       "    </tr>\n",
       "    <tr>\n",
       "      <th>|0,0,0,0,1,0,0,0&gt;</th>\n",
       "      <td>0.253490</td>\n",
       "      <td>0.282689</td>\n",
       "      <td>0.013153</td>\n",
       "      <td>0.218183</td>\n",
       "      <td>0.019303</td>\n",
       "      <td>0.016356</td>\n",
       "      <td>0.132609</td>\n",
       "      <td>0.064217</td>\n",
       "    </tr>\n",
       "    <tr>\n",
       "      <th>|0,0,0,0,0,1,0,0&gt;</th>\n",
       "      <td>0.003803</td>\n",
       "      <td>0.094172</td>\n",
       "      <td>0.122923</td>\n",
       "      <td>0.154767</td>\n",
       "      <td>0.211269</td>\n",
       "      <td>0.162326</td>\n",
       "      <td>0.055071</td>\n",
       "      <td>0.195668</td>\n",
       "    </tr>\n",
       "    <tr>\n",
       "      <th>|0,0,0,0,0,0,1,0&gt;</th>\n",
       "      <td>0.056958</td>\n",
       "      <td>0.065868</td>\n",
       "      <td>0.143830</td>\n",
       "      <td>0.036508</td>\n",
       "      <td>0.327090</td>\n",
       "      <td>0.183070</td>\n",
       "      <td>0.015233</td>\n",
       "      <td>0.171443</td>\n",
       "    </tr>\n",
       "    <tr>\n",
       "      <th>|0,0,0,0,0,0,0,1&gt;</th>\n",
       "      <td>0.326386</td>\n",
       "      <td>0.060203</td>\n",
       "      <td>0.166969</td>\n",
       "      <td>0.017160</td>\n",
       "      <td>0.115801</td>\n",
       "      <td>0.088622</td>\n",
       "      <td>0.023871</td>\n",
       "      <td>0.200988</td>\n",
       "    </tr>\n",
       "  </tbody>\n",
       "</table>\n",
       "</div>"
      ],
      "text/plain": [
       "                   |1,0,0,0,0,0,0,0>  |0,1,0,0,0,0,0,0>  |0,0,1,0,0,0,0,0>  \\\n",
       "|1,0,0,0,0,0,0,0>           0.040417           0.054398           0.058416   \n",
       "|0,1,0,0,0,0,0,0>           0.070790           0.345645           0.053577   \n",
       "|0,0,1,0,0,0,0,0>           0.079618           0.050848           0.313626   \n",
       "|0,0,0,1,0,0,0,0>           0.168537           0.046177           0.127506   \n",
       "|0,0,0,0,1,0,0,0>           0.253490           0.282689           0.013153   \n",
       "|0,0,0,0,0,1,0,0>           0.003803           0.094172           0.122923   \n",
       "|0,0,0,0,0,0,1,0>           0.056958           0.065868           0.143830   \n",
       "|0,0,0,0,0,0,0,1>           0.326386           0.060203           0.166969   \n",
       "\n",
       "                   |0,0,0,1,0,0,0,0>  |0,0,0,0,1,0,0,0>  |0,0,0,0,0,1,0,0>  \\\n",
       "|1,0,0,0,0,0,0,0>           0.301151           0.029615           0.096082   \n",
       "|0,1,0,0,0,0,0,0>           0.061405           0.097163           0.194927   \n",
       "|0,0,1,0,0,0,0,0>           0.036889           0.145682           0.067756   \n",
       "|0,0,0,1,0,0,0,0>           0.173937           0.054078           0.190859   \n",
       "|0,0,0,0,1,0,0,0>           0.218183           0.019303           0.016356   \n",
       "|0,0,0,0,0,1,0,0>           0.154767           0.211269           0.162326   \n",
       "|0,0,0,0,0,0,1,0>           0.036508           0.327090           0.183070   \n",
       "|0,0,0,0,0,0,0,1>           0.017160           0.115801           0.088622   \n",
       "\n",
       "                   |0,0,0,0,0,0,1,0>  |0,0,0,0,0,0,0,1>  \n",
       "|1,0,0,0,0,0,0,0>           0.397790           0.022130  \n",
       "|0,1,0,0,0,0,0,0>           0.139690           0.036803  \n",
       "|0,0,1,0,0,0,0,0>           0.210733           0.094847  \n",
       "|0,0,0,1,0,0,0,0>           0.025003           0.213903  \n",
       "|0,0,0,0,1,0,0,0>           0.132609           0.064217  \n",
       "|0,0,0,0,0,1,0,0>           0.055071           0.195668  \n",
       "|0,0,0,0,0,0,1,0>           0.015233           0.171443  \n",
       "|0,0,0,0,0,0,0,1>           0.023871           0.200988  "
      ]
     },
     "execution_count": 9,
     "metadata": {},
     "output_type": "execute_result"
    }
   ],
   "source": [
    "results.display_as_dataframe(conv_to_probability = True)"
   ]
  },
  {
   "attachments": {},
   "cell_type": "markdown",
   "metadata": {},
   "source": [
    "## Sampler\n",
    "- The other way to use the emulator is as a sampler.\n",
    "- This is achieved using the Sampler class, to which we provide the generated circuit and single input state that we want to look at. In this case we input a single photon on mode 0."
   ]
  },
  {
   "cell_type": "code",
   "execution_count": 10,
   "metadata": {},
   "outputs": [],
   "source": [
    "sampler = emulator.Sampler(circuit, State([1]+[0]*(N-1)))"
   ]
  },
  {
   "attachments": {},
   "cell_type": "markdown",
   "metadata": {},
   "source": [
    "- Once the sampler has been set up, we can then sample from it many times.\n",
    "- The probability distribution was pre-calculated in the last step, so the sampling procedure takes place very quickly.\n",
    "- We get the output state from the sample, and convert this into a mode number which is stored."
   ]
  },
  {
   "cell_type": "code",
   "execution_count": 11,
   "metadata": {},
   "outputs": [],
   "source": [
    "N_rep = 100 # Set number of samples\n",
    "results = []\n",
    "\n",
    "for i in range(N_rep):\n",
    "    state = sampler.sample()\n",
    "    # Get state from sampler and find which more the photon is on\n",
    "    loc = state.s.index(1)\n",
    "    results.append(loc)\n",
    "\n",
    "# Count number of times we measure a photon on each mode\n",
    "counted = Counter(results)"
   ]
  },
  {
   "attachments": {},
   "cell_type": "markdown",
   "metadata": {},
   "source": [
    "- The counts can then be converted into probabilities and compared to the expected values from the unitary.\n",
    "- As we only choose to look at 100 samples here, the measured and expected distributions tend to vary as not enough samples have been taken to see convergence."
   ]
  },
  {
   "cell_type": "code",
   "execution_count": 12,
   "metadata": {},
   "outputs": [
    {
     "data": {
      "image/png": "[encoded data removed]",
      "text/plain": [
       "<Figure size 700x600 with 1 Axes>"
      ]
     },
     "metadata": {},
     "output_type": "display_data"
    }
   ],
   "source": [
    "x = range(N)\n",
    "\n",
    "# Convert counts to a list and normalise to total count numbers\n",
    "p_calc = []\n",
    "for i in x:\n",
    "    p_calc.append(counted[i]/sum(counted.values()))\n",
    "\n",
    "# Find expected distribution\n",
    "p_exp = abs(U.T[0,:])**2\n",
    "\n",
    "plt.figure(figsize = (7,6))\n",
    "plt.bar(x, p_calc, label = \"Measured\", alpha = 1)\n",
    "plt.bar(x, p_exp, label = \"Expected\", edgecolor = \"Black\", fill = False,\n",
    "        linestyle = \"dashed\", linewidth = 1.5)\n",
    "plt.xlabel(\"Output mode\")\n",
    "plt.ylabel(\"Counts\")\n",
    "plt.legend()\n",
    "plt.show()"
   ]
  }
 ],
 "metadata": {
  "kernelspec": {
   "display_name": "Python 3",
   "language": "python",
   "name": "python3"
  },
  "language_info": {
   "codemirror_mode": {
    "name": "ipython",
    "version": 3
   },
   "file_extension": ".py",
   "mimetype": "text/x-python",
   "name": "python",
   "nbconvert_exporter": "python",
   "pygments_lexer": "ipython3",
   "version": "3.11.6"
  },
  "orig_nbformat": 4
 },
 "nbformat": 4,
 "nbformat_minor": 2
}
