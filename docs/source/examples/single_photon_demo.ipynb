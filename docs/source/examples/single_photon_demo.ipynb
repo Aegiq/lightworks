{
 "cells": [
  {
   "attachments": {},
   "cell_type": "markdown",
   "metadata": {},
   "source": [
    "# Single-photon Simulation\n",
    "The following notebook demonstrates the use of the emulator to simulate the propagation of a single photon in a quantum photonic processor. This can be used to find the unitary implemented by a system.\n",
    "\n",
    "First import required modules and some additional tools."
   ]
  },
  {
   "cell_type": "code",
   "execution_count": 1,
   "metadata": {},
   "outputs": [],
   "source": [
    "from collections import Counter\n",
    "\n",
    "import matplotlib.pyplot as plt\n",
    "\n",
    "import lightworks as lw\n",
    "from lightworks import State, emulator"
   ]
  },
  {
   "attachments": {},
   "cell_type": "markdown",
   "metadata": {},
   "source": [
    "A general N is then defined, which is used to adjust the number of modes used for the circuit throughout the notebook."
   ]
  },
  {
   "cell_type": "code",
   "execution_count": 2,
   "metadata": {},
   "outputs": [],
   "source": [
    "N = 8"
   ]
  },
  {
   "attachments": {},
   "cell_type": "markdown",
   "metadata": {},
   "source": [
    "Can then create a random unitary matrix which is programmed onto the chip."
   ]
  },
  {
   "cell_type": "code",
   "execution_count": 3,
   "metadata": {},
   "outputs": [],
   "source": [
    "U = lw.random_unitary(N)\n",
    "\n",
    "circuit = lw.Unitary(U)"
   ]
  },
  {
   "attachments": {},
   "cell_type": "markdown",
   "metadata": {},
   "source": [
    "## Simulator\n",
    "First we try using the simulation part of the emulator. This allows the simulation of a number of input states, finding the probability amplitudes for the given outputs. To set this up, we specify the generated circuit to the simulator class. "
   ]
  },
  {
   "cell_type": "code",
   "execution_count": 4,
   "metadata": {},
   "outputs": [],
   "source": [
    "sim = emulator.Simulator(circuit)"
   ]
  },
  {
   "attachments": {},
   "cell_type": "markdown",
   "metadata": {},
   "source": [
    "In this case we will choose to try to recreate the unitary matrix, which can be done by creating a list of all single photon input and output states."
   ]
  },
  {
   "cell_type": "code",
   "execution_count": 5,
   "metadata": {},
   "outputs": [],
   "source": [
    "# Create all single photon states by adding 1 to list when i=j, otherwise add 0\n",
    "states = [State([int(i == j) for j in range(N)]) for i in range(N)]\n",
    "\n",
    "# Calculate probability amplitude\n",
    "results = sim.simulate(states, states)\n",
    "U_calc = results.array"
   ]
  },
  {
   "attachments": {},
   "cell_type": "markdown",
   "metadata": {},
   "source": [
    "The resultant matrix probability amplitude matrix can be visualized below, and we see that the unitary is correctly replicated. Note that the unitary needs to be transposed for the plotting below to show identical matrices."
   ]
  },
  {
   "cell_type": "code",
   "execution_count": 6,
   "metadata": {},
   "outputs": [
    {
     "data": {
      "image/png": "[encoded data removed]",
      "text/plain": [
       "<Figure size 1200x600 with 2 Axes>"
      ]
     },
     "metadata": {},
     "output_type": "display_data"
    }
   ],
   "source": [
    "fig, ax = plt.subplots(1, 2, figsize=(12, 6))\n",
    "\n",
    "ax[0].imshow(abs(U.T))\n",
    "ax[1].imshow(abs(U_calc))\n",
    "ax[0].set_title(\"U\")\n",
    "ax[1].set_title(\"Calculated U\")\n",
    "\n",
    "plt.show()"
   ]
  },
  {
   "attachments": {},
   "cell_type": "markdown",
   "metadata": {},
   "source": [
    "It is also possible to directly view the probability amplitudes in a nicer form using the display_as_dataframe function included with the results object. In this case the values are converted to probabilities with the conv_to_probability keyword."
   ]
  },
  {
   "cell_type": "code",
   "execution_count": 7,
   "metadata": {},
   "outputs": [
    {
     "data": {
      "text/html": [
       "<div>\n",
       "<style scoped>\n",
       "    .dataframe tbody tr th:only-of-type {\n",
       "        vertical-align: middle;\n",
       "    }\n",
       "\n",
       "    .dataframe tbody tr th {\n",
       "        vertical-align: top;\n",
       "    }\n",
       "\n",
       "    .dataframe thead th {\n",
       "        text-align: right;\n",
       "    }\n",
       "</style>\n",
       "<table border=\"1\" class=\"dataframe\">\n",
       "  <thead>\n",
       "    <tr style=\"text-align: right;\">\n",
       "      <th></th>\n",
       "      <th>|1,0,0,0,0,0,0,0&gt;</th>\n",
       "      <th>|0,1,0,0,0,0,0,0&gt;</th>\n",
       "      <th>|0,0,1,0,0,0,0,0&gt;</th>\n",
       "      <th>|0,0,0,1,0,0,0,0&gt;</th>\n",
       "      <th>|0,0,0,0,1,0,0,0&gt;</th>\n",
       "      <th>|0,0,0,0,0,1,0,0&gt;</th>\n",
       "      <th>|0,0,0,0,0,0,1,0&gt;</th>\n",
       "      <th>|0,0,0,0,0,0,0,1&gt;</th>\n",
       "    </tr>\n",
       "  </thead>\n",
       "  <tbody>\n",
       "    <tr>\n",
       "      <th>|1,0,0,0,0,0,0,0&gt;</th>\n",
       "      <td>0.142253</td>\n",
       "      <td>0.102133</td>\n",
       "      <td>0.104609</td>\n",
       "      <td>0.311970</td>\n",
       "      <td>0.016647</td>\n",
       "      <td>0.078416</td>\n",
       "      <td>0.237595</td>\n",
       "      <td>0.006376</td>\n",
       "    </tr>\n",
       "    <tr>\n",
       "      <th>|0,1,0,0,0,0,0,0&gt;</th>\n",
       "      <td>0.010018</td>\n",
       "      <td>0.575422</td>\n",
       "      <td>0.205367</td>\n",
       "      <td>0.018195</td>\n",
       "      <td>0.013565</td>\n",
       "      <td>0.033307</td>\n",
       "      <td>0.069481</td>\n",
       "      <td>0.074646</td>\n",
       "    </tr>\n",
       "    <tr>\n",
       "      <th>|0,0,1,0,0,0,0,0&gt;</th>\n",
       "      <td>0.050591</td>\n",
       "      <td>0.098165</td>\n",
       "      <td>0.149375</td>\n",
       "      <td>0.068191</td>\n",
       "      <td>0.102044</td>\n",
       "      <td>0.076716</td>\n",
       "      <td>0.099755</td>\n",
       "      <td>0.355163</td>\n",
       "    </tr>\n",
       "    <tr>\n",
       "      <th>|0,0,0,1,0,0,0,0&gt;</th>\n",
       "      <td>0.269314</td>\n",
       "      <td>0.170334</td>\n",
       "      <td>0.093259</td>\n",
       "      <td>0.095770</td>\n",
       "      <td>0.096200</td>\n",
       "      <td>0.055854</td>\n",
       "      <td>0.170402</td>\n",
       "      <td>0.048867</td>\n",
       "    </tr>\n",
       "    <tr>\n",
       "      <th>|0,0,0,0,1,0,0,0&gt;</th>\n",
       "      <td>0.003836</td>\n",
       "      <td>0.011900</td>\n",
       "      <td>0.046348</td>\n",
       "      <td>0.107381</td>\n",
       "      <td>0.014887</td>\n",
       "      <td>0.443283</td>\n",
       "      <td>0.255216</td>\n",
       "      <td>0.117148</td>\n",
       "    </tr>\n",
       "    <tr>\n",
       "      <th>|0,0,0,0,0,1,0,0&gt;</th>\n",
       "      <td>0.007282</td>\n",
       "      <td>0.003564</td>\n",
       "      <td>0.268918</td>\n",
       "      <td>0.247446</td>\n",
       "      <td>0.125045</td>\n",
       "      <td>0.219167</td>\n",
       "      <td>0.025815</td>\n",
       "      <td>0.102763</td>\n",
       "    </tr>\n",
       "    <tr>\n",
       "      <th>|0,0,0,0,0,0,1,0&gt;</th>\n",
       "      <td>0.265889</td>\n",
       "      <td>0.026925</td>\n",
       "      <td>0.062998</td>\n",
       "      <td>0.058470</td>\n",
       "      <td>0.437467</td>\n",
       "      <td>0.033727</td>\n",
       "      <td>0.000764</td>\n",
       "      <td>0.113759</td>\n",
       "    </tr>\n",
       "    <tr>\n",
       "      <th>|0,0,0,0,0,0,0,1&gt;</th>\n",
       "      <td>0.250816</td>\n",
       "      <td>0.011557</td>\n",
       "      <td>0.069126</td>\n",
       "      <td>0.092577</td>\n",
       "      <td>0.194145</td>\n",
       "      <td>0.059529</td>\n",
       "      <td>0.140972</td>\n",
       "      <td>0.181277</td>\n",
       "    </tr>\n",
       "  </tbody>\n",
       "</table>\n",
       "</div>"
      ],
      "text/plain": [
       "                   |1,0,0,0,0,0,0,0>  |0,1,0,0,0,0,0,0>  |0,0,1,0,0,0,0,0>  \\\n",
       "|1,0,0,0,0,0,0,0>           0.142253           0.102133           0.104609   \n",
       "|0,1,0,0,0,0,0,0>           0.010018           0.575422           0.205367   \n",
       "|0,0,1,0,0,0,0,0>           0.050591           0.098165           0.149375   \n",
       "|0,0,0,1,0,0,0,0>           0.269314           0.170334           0.093259   \n",
       "|0,0,0,0,1,0,0,0>           0.003836           0.011900           0.046348   \n",
       "|0,0,0,0,0,1,0,0>           0.007282           0.003564           0.268918   \n",
       "|0,0,0,0,0,0,1,0>           0.265889           0.026925           0.062998   \n",
       "|0,0,0,0,0,0,0,1>           0.250816           0.011557           0.069126   \n",
       "\n",
       "                   |0,0,0,1,0,0,0,0>  |0,0,0,0,1,0,0,0>  |0,0,0,0,0,1,0,0>  \\\n",
       "|1,0,0,0,0,0,0,0>           0.311970           0.016647           0.078416   \n",
       "|0,1,0,0,0,0,0,0>           0.018195           0.013565           0.033307   \n",
       "|0,0,1,0,0,0,0,0>           0.068191           0.102044           0.076716   \n",
       "|0,0,0,1,0,0,0,0>           0.095770           0.096200           0.055854   \n",
       "|0,0,0,0,1,0,0,0>           0.107381           0.014887           0.443283   \n",
       "|0,0,0,0,0,1,0,0>           0.247446           0.125045           0.219167   \n",
       "|0,0,0,0,0,0,1,0>           0.058470           0.437467           0.033727   \n",
       "|0,0,0,0,0,0,0,1>           0.092577           0.194145           0.059529   \n",
       "\n",
       "                   |0,0,0,0,0,0,1,0>  |0,0,0,0,0,0,0,1>  \n",
       "|1,0,0,0,0,0,0,0>           0.237595           0.006376  \n",
       "|0,1,0,0,0,0,0,0>           0.069481           0.074646  \n",
       "|0,0,1,0,0,0,0,0>           0.099755           0.355163  \n",
       "|0,0,0,1,0,0,0,0>           0.170402           0.048867  \n",
       "|0,0,0,0,1,0,0,0>           0.255216           0.117148  \n",
       "|0,0,0,0,0,1,0,0>           0.025815           0.102763  \n",
       "|0,0,0,0,0,0,1,0>           0.000764           0.113759  \n",
       "|0,0,0,0,0,0,0,1>           0.140972           0.181277  "
      ]
     },
     "execution_count": 7,
     "metadata": {},
     "output_type": "execute_result"
    }
   ],
   "source": [
    "results.display_as_dataframe(conv_to_probability=True)"
   ]
  },
  {
   "attachments": {},
   "cell_type": "markdown",
   "metadata": {},
   "source": [
    "## Sampler\n",
    "Alternatively, the Sampler class can be used to emulate the process of measuring samples from the system. To initialise, this requires the generated circuit and the single input state that we want to look at. In this case we input a single photon on mode 0."
   ]
  },
  {
   "cell_type": "code",
   "execution_count": 8,
   "metadata": {},
   "outputs": [],
   "source": [
    "sampler = emulator.Sampler(circuit, State([1] + [0] * (N - 1)))"
   ]
  },
  {
   "attachments": {},
   "cell_type": "markdown",
   "metadata": {},
   "source": [
    "Once the sampler has been set up, we can then sample from it many times. The output state is returned by the sample method, and this is converted into a mode number."
   ]
  },
  {
   "cell_type": "code",
   "execution_count": 9,
   "metadata": {},
   "outputs": [],
   "source": [
    "N_rep = 100  # Set number of samples\n",
    "results = []\n",
    "\n",
    "for _ in range(N_rep):\n",
    "    state = sampler.sample()\n",
    "    # Get state from sampler and find which more the photon is on\n",
    "    loc = state.s.index(1)\n",
    "    results.append(loc)\n",
    "\n",
    "# Count number of times we measure a photon on each mode\n",
    "counted = Counter(results)"
   ]
  },
  {
   "attachments": {},
   "cell_type": "markdown",
   "metadata": {},
   "source": [
    "The counts can then be converted into probabilities and compared to the expected values from the unitary. As we only choose to look at 100 samples here, the measured and expected distributions tend to vary as not enough samples have been taken to see convergence."
   ]
  },
  {
   "cell_type": "code",
   "execution_count": 10,
   "metadata": {},
   "outputs": [
    {
     "data": {
      "image/png": "[encoded data removed]",
      "text/plain": [
       "<Figure size 700x600 with 1 Axes>"
      ]
     },
     "metadata": {},
     "output_type": "display_data"
    }
   ],
   "source": [
    "x = range(N)\n",
    "\n",
    "# Convert counts to a list and normalise to total count numbers\n",
    "p_calc = [counted[i] / sum(counted.values()) for i in x]\n",
    "\n",
    "# Find expected distribution\n",
    "p_exp = abs(U.T[0, :]) ** 2\n",
    "\n",
    "plt.figure(figsize=(7, 6))\n",
    "plt.bar(x, p_calc, label=\"Measured\", alpha=1)\n",
    "plt.bar(\n",
    "    x,\n",
    "    p_exp,\n",
    "    label=\"Expected\",\n",
    "    edgecolor=\"Black\",\n",
    "    fill=False,\n",
    "    linestyle=\"dashed\",\n",
    "    linewidth=1.5,\n",
    ")\n",
    "plt.xlabel(\"Output mode\")\n",
    "plt.ylabel(\"Counts\")\n",
    "plt.legend()\n",
    "plt.show()"
   ]
  }
 ],
 "metadata": {
  "kernelspec": {
   "display_name": "venv",
   "language": "python",
   "name": "python3"
  },
  "language_info": {
   "codemirror_mode": {
    "name": "ipython",
    "version": 3
   },
   "file_extension": ".py",
   "mimetype": "text/x-python",
   "name": "python",
   "nbconvert_exporter": "python",
   "pygments_lexer": "ipython3",
   "version": "3.11.6"
  },
  "orig_nbformat": 4
 },
 "nbformat": 4,
 "nbformat_minor": 2
}
