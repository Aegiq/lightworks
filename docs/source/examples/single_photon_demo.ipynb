{
 "cells": [
  {
   "attachments": {},
   "cell_type": "markdown",
   "metadata": {},
   "source": [
    "# Single-photon Simulation\n",
    "- The following notebook demonstrates the use of the emulator to simulate the propagation of a single photon in a quantum photonic processor.\n",
    "- This can be used to find the unitary implemented by a system.\n",
    "- First import required modules and some additional tools."
   ]
  },
  {
   "cell_type": "code",
   "execution_count": 1,
   "metadata": {},
   "outputs": [],
   "source": [
    "import lightworks as lw\n",
    "from lightworks import emulator, State\n",
    "\n",
    "from scipy.stats import unitary_group\n",
    "import matplotlib.pyplot as plt\n",
    "from collections import Counter"
   ]
  },
  {
   "attachments": {},
   "cell_type": "markdown",
   "metadata": {},
   "source": [
    "- A general N is then defined, which is used to adjust the number of modes used for the circuit throughout the notebook."
   ]
  },
  {
   "cell_type": "code",
   "execution_count": 2,
   "metadata": {},
   "outputs": [],
   "source": [
    "N = 8"
   ]
  },
  {
   "attachments": {},
   "cell_type": "markdown",
   "metadata": {},
   "source": [
    "- Can then create a random unitary matrix which is programmed onto the chip."
   ]
  },
  {
   "cell_type": "code",
   "execution_count": 3,
   "metadata": {},
   "outputs": [],
   "source": [
    "U = lw.random_unitary(N)\n",
    "\n",
    "circuit = lw.Unitary(U)"
   ]
  },
  {
   "attachments": {},
   "cell_type": "markdown",
   "metadata": {},
   "source": [
    "## Simulator\n",
    "- First we try using the simulation part of the emulator. This allows the simulation of a number of input states, finding the probability amplitudes for the given outputs.\n",
    "- To set this up, we specify the generated circuit to the simulator class. "
   ]
  },
  {
   "cell_type": "code",
   "execution_count": 4,
   "metadata": {},
   "outputs": [],
   "source": [
    "sim = emulator.Simulator(circuit)"
   ]
  },
  {
   "attachments": {},
   "cell_type": "markdown",
   "metadata": {},
   "source": [
    "- In this case we will choose to try to recreate the unitary matrix, which can be done by creating a list of all single photon input and output states."
   ]
  },
  {
   "cell_type": "code",
   "execution_count": 5,
   "metadata": {},
   "outputs": [],
   "source": [
    "states = []\n",
    "\n",
    "# Create all single photon states by adding 1 to list when i=j, otherwise add 0\n",
    "for i in range(N):\n",
    "    state = []\n",
    "    for j in range(N):\n",
    "        if i == j:\n",
    "            state += [1]\n",
    "        else:\n",
    "            state += [0]\n",
    "    states.append(State(state))\n",
    "\n",
    "# Calculate probability amplitude\n",
    "results = sim.simulate(states, states)\n",
    "U_calc = results.array"
   ]
  },
  {
   "attachments": {},
   "cell_type": "markdown",
   "metadata": {},
   "source": [
    "- The resultant matrix probability amplitude matrix can be visualized below, and we see that the unitary is correctly replicated.\n",
    "- Note that the unitary needs to be transposed for the plotting below to show identical matrices."
   ]
  },
  {
   "cell_type": "code",
   "execution_count": 6,
   "metadata": {},
   "outputs": [
    {
     "data": {
      "image/png": "[encoded data removed]",
      "text/plain": [
       "<Figure size 1200x600 with 2 Axes>"
      ]
     },
     "metadata": {},
     "output_type": "display_data"
    }
   ],
   "source": [
    "fig, ax = plt.subplots(1, 2, figsize = (12, 6))\n",
    "\n",
    "ax[0].imshow(abs(U.T))\n",
    "ax[1].imshow(abs(U_calc))\n",
    "ax[0].set_title(\"U\")\n",
    "ax[1].set_title(\"Calculated U\")\n",
    "\n",
    "plt.show()"
   ]
  },
  {
   "attachments": {},
   "cell_type": "markdown",
   "metadata": {},
   "source": [
    "- It is also possible to directly view the probability amplitudes in a nicer form using the display_as_dataframe function included with the results object. \n",
    "- In this case the values are converted to probabilities with the conv_to_probability keyword."
   ]
  },
  {
   "cell_type": "code",
   "execution_count": 7,
   "metadata": {},
   "outputs": [
    {
     "data": {
      "text/html": [
       "<div>\n",
       "<style scoped>\n",
       "    .dataframe tbody tr th:only-of-type {\n",
       "        vertical-align: middle;\n",
       "    }\n",
       "\n",
       "    .dataframe tbody tr th {\n",
       "        vertical-align: top;\n",
       "    }\n",
       "\n",
       "    .dataframe thead th {\n",
       "        text-align: right;\n",
       "    }\n",
       "</style>\n",
       "<table border=\"1\" class=\"dataframe\">\n",
       "  <thead>\n",
       "    <tr style=\"text-align: right;\">\n",
       "      <th></th>\n",
       "      <th>|1,0,0,0,0,0,0,0&gt;</th>\n",
       "      <th>|0,1,0,0,0,0,0,0&gt;</th>\n",
       "      <th>|0,0,1,0,0,0,0,0&gt;</th>\n",
       "      <th>|0,0,0,1,0,0,0,0&gt;</th>\n",
       "      <th>|0,0,0,0,1,0,0,0&gt;</th>\n",
       "      <th>|0,0,0,0,0,1,0,0&gt;</th>\n",
       "      <th>|0,0,0,0,0,0,1,0&gt;</th>\n",
       "      <th>|0,0,0,0,0,0,0,1&gt;</th>\n",
       "    </tr>\n",
       "  </thead>\n",
       "  <tbody>\n",
       "    <tr>\n",
       "      <th>|1,0,0,0,0,0,0,0&gt;</th>\n",
       "      <td>0.138204</td>\n",
       "      <td>0.358251</td>\n",
       "      <td>0.002295</td>\n",
       "      <td>0.029167</td>\n",
       "      <td>0.125760</td>\n",
       "      <td>0.040588</td>\n",
       "      <td>0.158404</td>\n",
       "      <td>0.147330</td>\n",
       "    </tr>\n",
       "    <tr>\n",
       "      <th>|0,1,0,0,0,0,0,0&gt;</th>\n",
       "      <td>0.185356</td>\n",
       "      <td>0.000750</td>\n",
       "      <td>0.044298</td>\n",
       "      <td>0.130362</td>\n",
       "      <td>0.103770</td>\n",
       "      <td>0.173856</td>\n",
       "      <td>0.202189</td>\n",
       "      <td>0.159419</td>\n",
       "    </tr>\n",
       "    <tr>\n",
       "      <th>|0,0,1,0,0,0,0,0&gt;</th>\n",
       "      <td>0.052491</td>\n",
       "      <td>0.001593</td>\n",
       "      <td>0.340971</td>\n",
       "      <td>0.061876</td>\n",
       "      <td>0.130302</td>\n",
       "      <td>0.223436</td>\n",
       "      <td>0.111656</td>\n",
       "      <td>0.077675</td>\n",
       "    </tr>\n",
       "    <tr>\n",
       "      <th>|0,0,0,1,0,0,0,0&gt;</th>\n",
       "      <td>0.057373</td>\n",
       "      <td>0.113068</td>\n",
       "      <td>0.080097</td>\n",
       "      <td>0.116093</td>\n",
       "      <td>0.153351</td>\n",
       "      <td>0.227661</td>\n",
       "      <td>0.231934</td>\n",
       "      <td>0.020422</td>\n",
       "    </tr>\n",
       "    <tr>\n",
       "      <th>|0,0,0,0,1,0,0,0&gt;</th>\n",
       "      <td>0.228206</td>\n",
       "      <td>0.260037</td>\n",
       "      <td>0.065955</td>\n",
       "      <td>0.191119</td>\n",
       "      <td>0.016255</td>\n",
       "      <td>0.011574</td>\n",
       "      <td>0.051436</td>\n",
       "      <td>0.175417</td>\n",
       "    </tr>\n",
       "    <tr>\n",
       "      <th>|0,0,0,0,0,1,0,0&gt;</th>\n",
       "      <td>0.320363</td>\n",
       "      <td>0.036100</td>\n",
       "      <td>0.029072</td>\n",
       "      <td>0.015140</td>\n",
       "      <td>0.416913</td>\n",
       "      <td>0.046351</td>\n",
       "      <td>0.052866</td>\n",
       "      <td>0.083194</td>\n",
       "    </tr>\n",
       "    <tr>\n",
       "      <th>|0,0,0,0,0,0,1,0&gt;</th>\n",
       "      <td>0.005412</td>\n",
       "      <td>0.217625</td>\n",
       "      <td>0.152327</td>\n",
       "      <td>0.012250</td>\n",
       "      <td>0.007842</td>\n",
       "      <td>0.270643</td>\n",
       "      <td>0.179307</td>\n",
       "      <td>0.154593</td>\n",
       "    </tr>\n",
       "    <tr>\n",
       "      <th>|0,0,0,0,0,0,0,1&gt;</th>\n",
       "      <td>0.012595</td>\n",
       "      <td>0.012576</td>\n",
       "      <td>0.284984</td>\n",
       "      <td>0.443991</td>\n",
       "      <td>0.045806</td>\n",
       "      <td>0.005890</td>\n",
       "      <td>0.012208</td>\n",
       "      <td>0.181951</td>\n",
       "    </tr>\n",
       "  </tbody>\n",
       "</table>\n",
       "</div>"
      ],
      "text/plain": [
       "                   |1,0,0,0,0,0,0,0>  |0,1,0,0,0,0,0,0>  |0,0,1,0,0,0,0,0>  \\\n",
       "|1,0,0,0,0,0,0,0>           0.138204           0.358251           0.002295   \n",
       "|0,1,0,0,0,0,0,0>           0.185356           0.000750           0.044298   \n",
       "|0,0,1,0,0,0,0,0>           0.052491           0.001593           0.340971   \n",
       "|0,0,0,1,0,0,0,0>           0.057373           0.113068           0.080097   \n",
       "|0,0,0,0,1,0,0,0>           0.228206           0.260037           0.065955   \n",
       "|0,0,0,0,0,1,0,0>           0.320363           0.036100           0.029072   \n",
       "|0,0,0,0,0,0,1,0>           0.005412           0.217625           0.152327   \n",
       "|0,0,0,0,0,0,0,1>           0.012595           0.012576           0.284984   \n",
       "\n",
       "                   |0,0,0,1,0,0,0,0>  |0,0,0,0,1,0,0,0>  |0,0,0,0,0,1,0,0>  \\\n",
       "|1,0,0,0,0,0,0,0>           0.029167           0.125760           0.040588   \n",
       "|0,1,0,0,0,0,0,0>           0.130362           0.103770           0.173856   \n",
       "|0,0,1,0,0,0,0,0>           0.061876           0.130302           0.223436   \n",
       "|0,0,0,1,0,0,0,0>           0.116093           0.153351           0.227661   \n",
       "|0,0,0,0,1,0,0,0>           0.191119           0.016255           0.011574   \n",
       "|0,0,0,0,0,1,0,0>           0.015140           0.416913           0.046351   \n",
       "|0,0,0,0,0,0,1,0>           0.012250           0.007842           0.270643   \n",
       "|0,0,0,0,0,0,0,1>           0.443991           0.045806           0.005890   \n",
       "\n",
       "                   |0,0,0,0,0,0,1,0>  |0,0,0,0,0,0,0,1>  \n",
       "|1,0,0,0,0,0,0,0>           0.158404           0.147330  \n",
       "|0,1,0,0,0,0,0,0>           0.202189           0.159419  \n",
       "|0,0,1,0,0,0,0,0>           0.111656           0.077675  \n",
       "|0,0,0,1,0,0,0,0>           0.231934           0.020422  \n",
       "|0,0,0,0,1,0,0,0>           0.051436           0.175417  \n",
       "|0,0,0,0,0,1,0,0>           0.052866           0.083194  \n",
       "|0,0,0,0,0,0,1,0>           0.179307           0.154593  \n",
       "|0,0,0,0,0,0,0,1>           0.012208           0.181951  "
      ]
     },
     "execution_count": 7,
     "metadata": {},
     "output_type": "execute_result"
    }
   ],
   "source": [
    "results.display_as_dataframe(conv_to_probability = True)"
   ]
  },
  {
   "attachments": {},
   "cell_type": "markdown",
   "metadata": {},
   "source": [
    "## Sampler\n",
    "- The other way to use the emulator is as a sampler.\n",
    "- This is achieved using the Sampler class, to which we provide the generated circuit and single input state that we want to look at. In this case we input a single photon on mode 0."
   ]
  },
  {
   "cell_type": "code",
   "execution_count": 8,
   "metadata": {},
   "outputs": [],
   "source": [
    "sampler = emulator.Sampler(circuit, State([1]+[0]*(N-1)))"
   ]
  },
  {
   "attachments": {},
   "cell_type": "markdown",
   "metadata": {},
   "source": [
    "- Once the sampler has been set up, we can then sample from it many times.\n",
    "- The probability distribution was pre-calculated in the last step, so the sampling procedure takes place very quickly.\n",
    "- We get the output state from the sample, and convert this into a mode number which is stored."
   ]
  },
  {
   "cell_type": "code",
   "execution_count": 9,
   "metadata": {},
   "outputs": [],
   "source": [
    "N_rep = 100 # Set number of samples\n",
    "results = []\n",
    "\n",
    "for i in range(N_rep):\n",
    "    state = sampler.sample()\n",
    "    # Get state from sampler and find which more the photon is on\n",
    "    loc = state.s.index(1)\n",
    "    results.append(loc)\n",
    "\n",
    "# Count number of times we measure a photon on each mode\n",
    "counted = Counter(results)"
   ]
  },
  {
   "attachments": {},
   "cell_type": "markdown",
   "metadata": {},
   "source": [
    "- The counts can then be converted into probabilities and compared to the expected values from the unitary.\n",
    "- As we only choose to look at 100 samples here, the measured and expected distributions tend to vary as not enough samples have been taken to see convergence."
   ]
  },
  {
   "cell_type": "code",
   "execution_count": 10,
   "metadata": {},
   "outputs": [
    {
     "data": {
      "image/png": "[encoded data removed]",
      "text/plain": [
       "<Figure size 700x600 with 1 Axes>"
      ]
     },
     "metadata": {},
     "output_type": "display_data"
    }
   ],
   "source": [
    "x = range(N)\n",
    "\n",
    "# Convert counts to a list and normalise to total count numbers\n",
    "p_calc = []\n",
    "for i in x:\n",
    "    p_calc.append(counted[i]/sum(counted.values()))\n",
    "\n",
    "# Find expected distribution\n",
    "p_exp = abs(U.T[0,:])**2\n",
    "\n",
    "plt.figure(figsize = (7,6))\n",
    "plt.bar(x, p_calc, label = \"Measured\", alpha = 1)\n",
    "plt.bar(x, p_exp, label = \"Expected\", edgecolor = \"Black\", fill = False,\n",
    "        linestyle = \"dashed\", linewidth = 1.5)\n",
    "plt.xlabel(\"Output mode\")\n",
    "plt.ylabel(\"Counts\")\n",
    "plt.legend()\n",
    "plt.show()"
   ]
  }
 ],
 "metadata": {
  "kernelspec": {
   "display_name": "Python 3",
   "language": "python",
   "name": "python3"
  },
  "language_info": {
   "codemirror_mode": {
    "name": "ipython",
    "version": 3
   },
   "file_extension": ".py",
   "mimetype": "text/x-python",
   "name": "python",
   "nbconvert_exporter": "python",
   "pygments_lexer": "ipython3",
   "version": "3.11.6"
  },
  "orig_nbformat": 4
 },
 "nbformat": 4,
 "nbformat_minor": 2
}
