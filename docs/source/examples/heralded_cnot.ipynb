{
 "cells": [
  {
   "cell_type": "markdown",
   "metadata": {},
   "source": [
    "# Heralded CNOT\n",
    "- This notebook demonstrates the operation of the Heralded CNOT gate from https://doi.org/10.1038/35051009."
   ]
  },
  {
   "cell_type": "code",
   "execution_count": 3,
   "metadata": {},
   "outputs": [],
   "source": [
    "import lightworks as lw\n",
    "from lightworks import emulator, State\n",
    "\n",
    "import numpy as np"
   ]
  },
  {
   "cell_type": "markdown",
   "metadata": {},
   "source": [
    "## Initial version\n",
    "- Build an initial version of the CNOT circuit. Note that the settings as provided below requires a special convention for the beam splitters, which we access with the convention = \"H\" setting."
   ]
  },
  {
   "cell_type": "code",
   "execution_count": 6,
   "metadata": {},
   "outputs": [],
   "source": [
    "# Set required element reflectivity\n",
    "n1 = 2*np.arccos(1/(4-2*2**0.5)**0.5)\n",
    "n2 = 2*np.arccos(2**0.5 - 1)\n",
    "\n",
    "cnot_circuit = lw.Circuit(8)\n",
    "\n",
    "# Loop over required elements, the format here is:\n",
    "# (mode, [bs reflectivity, phase 1, phase 2])\n",
    "data = [(0, [n1, np.pi, np.pi]), (4, [np.pi/2, 0, 0]), (6, [n1, 0, 0]),\n",
    "        (1, [np.pi, 0, 0]), (3, [np.pi/2, 0, 0]), (5, [np.pi, 0, 0]),\n",
    "        (2, [n2, 0, 0]), (4, [n2, np.pi, np.pi]), (1, [np.pi, 0, 0]), \n",
    "        (3, [np.pi/2, 0, 0]), (5, [np.pi, 0, 0]), (0, [n1, np.pi, np.pi]), \n",
    "        (4, [np.pi/2, 0, 0]), (6, [n1, 0, 0])]\n",
    "\n",
    "# Loop over each element and add\n",
    "for mode, d in data:\n",
    "    theta, phi1, phi2 = d\n",
    "    if phi1 > 0:\n",
    "        cnot_circuit.add_ps(mode+1, phi1)\n",
    "    cnot_circuit.add_bs(mode, reflectivity=np.cos(theta/2)**2, convention = \"H\")\n",
    "    if phi2 > 0:\n",
    "        cnot_circuit.add_ps(mode, phi2)"
   ]
  },
  {
   "cell_type": "markdown",
   "metadata": {},
   "source": [
    "- View circuit with labelled modes. The c and t mode are the control and target qubit modes respectively, and the a and b modes are the ancillary modes required for implementation of the gate."
   ]
  },
  {
   "cell_type": "code",
   "execution_count": 9,
   "metadata": {},
   "outputs": [
    {
     "data": {
      "image/svg+xml": [
       "<?xml version=\"1.0\" encoding=\"UTF-8\"?>\n",
       "<svg xmlns=\"http://www.w3.org/2000/svg\" xmlns:xlink=\"http://www.w3.org/1999/xlink\"\n",
       "     width=\"760.0000000000001\" height=\"570.0\" viewBox=\"0 0 1500 1125\">\n",
       "<defs>\n",
       "</defs>\n",
       "<rect x=\"100\" y=\"25\" width=\"1300\" height=\"1075\" fill=\"none\" stroke=\"black\" />\n",
       "<rect x=\"92\" y=\"124.5\" width=\"8\" height=\"1\" fill=\"black\" />\n",
       "<rect x=\"92\" y=\"249.5\" width=\"8\" height=\"1\" fill=\"black\" />\n",
       "<rect x=\"92\" y=\"374.5\" width=\"8\" height=\"1\" fill=\"black\" />\n",
       "<rect x=\"92\" y=\"499.5\" width=\"8\" height=\"1\" fill=\"black\" />\n",
       "<rect x=\"92\" y=\"624.5\" width=\"8\" height=\"1\" fill=\"black\" />\n",
       "<rect x=\"92\" y=\"749.5\" width=\"8\" height=\"1\" fill=\"black\" />\n",
       "<rect x=\"92\" y=\"874.5\" width=\"8\" height=\"1\" fill=\"black\" />\n",
       "<rect x=\"92\" y=\"999.5\" width=\"8\" height=\"1\" fill=\"black\" />\n",
       "<text x=\"80\" y=\"127\" font-size=\"25\" fill=\"black\" text-anchor=\"end\" dominant-baseline=\"middle\" transform=\"rotate(0, 80, 127)\">a0</text>\n",
       "<text x=\"80\" y=\"252\" font-size=\"25\" fill=\"black\" text-anchor=\"end\" dominant-baseline=\"middle\" transform=\"rotate(0, 80, 252)\">a1</text>\n",
       "<text x=\"80\" y=\"377\" font-size=\"25\" fill=\"black\" text-anchor=\"end\" dominant-baseline=\"middle\" transform=\"rotate(0, 80, 377)\">c0</text>\n",
       "<text x=\"80\" y=\"502\" font-size=\"25\" fill=\"black\" text-anchor=\"end\" dominant-baseline=\"middle\" transform=\"rotate(0, 80, 502)\">c1</text>\n",
       "<text x=\"80\" y=\"627\" font-size=\"25\" fill=\"black\" text-anchor=\"end\" dominant-baseline=\"middle\" transform=\"rotate(0, 80, 627)\">t0</text>\n",
       "<text x=\"80\" y=\"752\" font-size=\"25\" fill=\"black\" text-anchor=\"end\" dominant-baseline=\"middle\" transform=\"rotate(0, 80, 752)\">t1</text>\n",
       "<text x=\"80\" y=\"877\" font-size=\"25\" fill=\"black\" text-anchor=\"end\" dominant-baseline=\"middle\" transform=\"rotate(0, 80, 877)\">b1</text>\n",
       "<text x=\"80\" y=\"1002\" font-size=\"25\" fill=\"black\" text-anchor=\"end\" dominant-baseline=\"middle\" transform=\"rotate(0, 80, 1002)\">b0</text>\n",
       "<rect x=\"149.95\" y=\"246.0\" width=\"50.1\" height=\"8\" fill=\"black\" />\n",
       "<rect x=\"200\" y=\"225.0\" width=\"50\" height=\"50\" fill=\"#e8532b\" stroke=\"black\" rx=\"5\" ry=\"5\" />\n",
       "<text x=\"225.0\" y=\"252\" font-size=\"25\" fill=\"white\" text-anchor=\"middle\" dominant-baseline=\"middle\" transform=\"rotate(0, 225.0, 252)\">PS</text>\n",
       "<text x=\"225.0\" y=\"300\" font-size=\"18\" fill=\"black\" text-anchor=\"middle\" dominant-baseline=\"middle\" transform=\"rotate(0, 225.0, 300)\">φ = π</text>\n",
       "<rect x=\"249.95\" y=\"246.0\" width=\"50.1\" height=\"8\" fill=\"black\" />\n",
       "<rect x=\"149.95\" y=\"121.0\" width=\"150.1\" height=\"8\" fill=\"black\" />\n",
       "<rect x=\"299.95\" y=\"121.0\" width=\"50.1\" height=\"8\" fill=\"black\" />\n",
       "<rect x=\"299.95\" y=\"246.0\" width=\"50.1\" height=\"8\" fill=\"black\" />\n",
       "<rect x=\"350\" y=\"100.0\" width=\"50\" height=\"175\" fill=\"#3e368d\" stroke=\"black\" rx=\"5\" ry=\"5\" />\n",
       "<text x=\"375.0\" y=\"187.5\" font-size=\"25\" fill=\"white\" text-anchor=\"middle\" dominant-baseline=\"middle\" transform=\"rotate(0, 375.0, 187.5)\">BS</text>\n",
       "<text x=\"375.0\" y=\"300\" font-size=\"18\" fill=\"black\" text-anchor=\"middle\" dominant-baseline=\"middle\" transform=\"rotate(0, 375.0, 300)\">r = 0.8536</text>\n",
       "<rect x=\"399.95\" y=\"121.0\" width=\"50.1\" height=\"8\" fill=\"black\" />\n",
       "<rect x=\"399.95\" y=\"246.0\" width=\"50.1\" height=\"8\" fill=\"black\" />\n",
       "<rect x=\"449.95\" y=\"121.0\" width=\"50.1\" height=\"8\" fill=\"black\" />\n",
       "<rect x=\"500\" y=\"100.0\" width=\"50\" height=\"50\" fill=\"#e8532b\" stroke=\"black\" rx=\"5\" ry=\"5\" />\n",
       "<text x=\"525.0\" y=\"127\" font-size=\"25\" fill=\"white\" text-anchor=\"middle\" dominant-baseline=\"middle\" transform=\"rotate(0, 525.0, 127)\">PS</text>\n",
       "<text x=\"525.0\" y=\"175\" font-size=\"18\" fill=\"black\" text-anchor=\"middle\" dominant-baseline=\"middle\" transform=\"rotate(0, 525.0, 175)\">φ = π</text>\n",
       "<rect x=\"549.95\" y=\"121.0\" width=\"50.1\" height=\"8\" fill=\"black\" />\n",
       "<rect x=\"149.95\" y=\"621.0\" width=\"50.1\" height=\"8\" fill=\"black\" />\n",
       "<rect x=\"149.95\" y=\"746.0\" width=\"50.1\" height=\"8\" fill=\"black\" />\n",
       "<rect x=\"200\" y=\"600.0\" width=\"50\" height=\"175\" fill=\"#3e368d\" stroke=\"black\" rx=\"5\" ry=\"5\" />\n",
       "<text x=\"225.0\" y=\"687.5\" font-size=\"25\" fill=\"white\" text-anchor=\"middle\" dominant-baseline=\"middle\" transform=\"rotate(0, 225.0, 687.5)\">BS</text>\n",
       "<text x=\"225.0\" y=\"800\" font-size=\"18\" fill=\"black\" text-anchor=\"middle\" dominant-baseline=\"middle\" transform=\"rotate(0, 225.0, 800)\">r = 0.5</text>\n",
       "<rect x=\"249.95\" y=\"621.0\" width=\"50.1\" height=\"8\" fill=\"black\" />\n",
       "<rect x=\"249.95\" y=\"746.0\" width=\"50.1\" height=\"8\" fill=\"black\" />\n",
       "<rect x=\"149.95\" y=\"871.0\" width=\"50.1\" height=\"8\" fill=\"black\" />\n",
       "<rect x=\"149.95\" y=\"996.0\" width=\"50.1\" height=\"8\" fill=\"black\" />\n",
       "<rect x=\"200\" y=\"850.0\" width=\"50\" height=\"175\" fill=\"#3e368d\" stroke=\"black\" rx=\"5\" ry=\"5\" />\n",
       "<text x=\"225.0\" y=\"937.5\" font-size=\"25\" fill=\"white\" text-anchor=\"middle\" dominant-baseline=\"middle\" transform=\"rotate(0, 225.0, 937.5)\">BS</text>\n",
       "<text x=\"225.0\" y=\"1050\" font-size=\"18\" fill=\"black\" text-anchor=\"middle\" dominant-baseline=\"middle\" transform=\"rotate(0, 225.0, 1050)\">r = 0.8536</text>\n",
       "<rect x=\"249.95\" y=\"871.0\" width=\"50.1\" height=\"8\" fill=\"black\" />\n",
       "<rect x=\"249.95\" y=\"996.0\" width=\"50.1\" height=\"8\" fill=\"black\" />\n",
       "<rect x=\"149.95\" y=\"371.0\" width=\"300.1\" height=\"8\" fill=\"black\" />\n",
       "<rect x=\"449.95\" y=\"246.0\" width=\"50.1\" height=\"8\" fill=\"black\" />\n",
       "<rect x=\"449.95\" y=\"371.0\" width=\"50.1\" height=\"8\" fill=\"black\" />\n",
       "<rect x=\"500\" y=\"225.0\" width=\"50\" height=\"175\" fill=\"#3e368d\" stroke=\"black\" rx=\"5\" ry=\"5\" />\n",
       "<text x=\"525.0\" y=\"312.5\" font-size=\"25\" fill=\"white\" text-anchor=\"middle\" dominant-baseline=\"middle\" transform=\"rotate(0, 525.0, 312.5)\">BS</text>\n",
       "<text x=\"525.0\" y=\"425\" font-size=\"18\" fill=\"black\" text-anchor=\"middle\" dominant-baseline=\"middle\" transform=\"rotate(0, 525.0, 425)\">r = 0.0</text>\n",
       "<rect x=\"549.95\" y=\"246.0\" width=\"50.1\" height=\"8\" fill=\"black\" />\n",
       "<rect x=\"549.95\" y=\"371.0\" width=\"50.1\" height=\"8\" fill=\"black\" />\n",
       "<rect x=\"149.95\" y=\"496.0\" width=\"150.1\" height=\"8\" fill=\"black\" />\n",
       "<rect x=\"299.95\" y=\"496.0\" width=\"50.1\" height=\"8\" fill=\"black\" />\n",
       "<rect x=\"299.95\" y=\"621.0\" width=\"50.1\" height=\"8\" fill=\"black\" />\n",
       "<rect x=\"350\" y=\"475.0\" width=\"50\" height=\"175\" fill=\"#3e368d\" stroke=\"black\" rx=\"5\" ry=\"5\" />\n",
       "<text x=\"375.0\" y=\"562.5\" font-size=\"25\" fill=\"white\" text-anchor=\"middle\" dominant-baseline=\"middle\" transform=\"rotate(0, 375.0, 562.5)\">BS</text>\n",
       "<text x=\"375.0\" y=\"675\" font-size=\"18\" fill=\"black\" text-anchor=\"middle\" dominant-baseline=\"middle\" transform=\"rotate(0, 375.0, 675)\">r = 0.5</text>\n",
       "<rect x=\"399.95\" y=\"496.0\" width=\"50.1\" height=\"8\" fill=\"black\" />\n",
       "<rect x=\"399.95\" y=\"621.0\" width=\"50.1\" height=\"8\" fill=\"black\" />\n",
       "<rect x=\"299.95\" y=\"746.0\" width=\"50.1\" height=\"8\" fill=\"black\" />\n",
       "<rect x=\"299.95\" y=\"871.0\" width=\"50.1\" height=\"8\" fill=\"black\" />\n",
       "<rect x=\"350\" y=\"725.0\" width=\"50\" height=\"175\" fill=\"#3e368d\" stroke=\"black\" rx=\"5\" ry=\"5\" />\n",
       "<text x=\"375.0\" y=\"812.5\" font-size=\"25\" fill=\"white\" text-anchor=\"middle\" dominant-baseline=\"middle\" transform=\"rotate(0, 375.0, 812.5)\">BS</text>\n",
       "<text x=\"375.0\" y=\"925\" font-size=\"18\" fill=\"black\" text-anchor=\"middle\" dominant-baseline=\"middle\" transform=\"rotate(0, 375.0, 925)\">r = 0.0</text>\n",
       "<rect x=\"399.95\" y=\"746.0\" width=\"50.1\" height=\"8\" fill=\"black\" />\n",
       "<rect x=\"399.95\" y=\"871.0\" width=\"50.1\" height=\"8\" fill=\"black\" />\n",
       "<rect x=\"449.95\" y=\"496.0\" width=\"150.1\" height=\"8\" fill=\"black\" />\n",
       "<rect x=\"599.95\" y=\"371.0\" width=\"50.1\" height=\"8\" fill=\"black\" />\n",
       "<rect x=\"599.95\" y=\"496.0\" width=\"50.1\" height=\"8\" fill=\"black\" />\n",
       "<rect x=\"650\" y=\"350.0\" width=\"50\" height=\"175\" fill=\"#3e368d\" stroke=\"black\" rx=\"5\" ry=\"5\" />\n",
       "<text x=\"675.0\" y=\"437.5\" font-size=\"25\" fill=\"white\" text-anchor=\"middle\" dominant-baseline=\"middle\" transform=\"rotate(0, 675.0, 437.5)\">BS</text>\n",
       "<text x=\"675.0\" y=\"550\" font-size=\"18\" fill=\"black\" text-anchor=\"middle\" dominant-baseline=\"middle\" transform=\"rotate(0, 675.0, 550)\">r = 0.1716</text>\n",
       "<rect x=\"699.95\" y=\"371.0\" width=\"50.1\" height=\"8\" fill=\"black\" />\n",
       "<rect x=\"699.95\" y=\"496.0\" width=\"50.1\" height=\"8\" fill=\"black\" />\n",
       "<rect x=\"449.95\" y=\"746.0\" width=\"50.1\" height=\"8\" fill=\"black\" />\n",
       "<rect x=\"500\" y=\"725.0\" width=\"50\" height=\"50\" fill=\"#e8532b\" stroke=\"black\" rx=\"5\" ry=\"5\" />\n",
       "<text x=\"525.0\" y=\"752\" font-size=\"25\" fill=\"white\" text-anchor=\"middle\" dominant-baseline=\"middle\" transform=\"rotate(0, 525.0, 752)\">PS</text>\n",
       "<text x=\"525.0\" y=\"800\" font-size=\"18\" fill=\"black\" text-anchor=\"middle\" dominant-baseline=\"middle\" transform=\"rotate(0, 525.0, 800)\">φ = π</text>\n",
       "<rect x=\"549.95\" y=\"746.0\" width=\"50.1\" height=\"8\" fill=\"black\" />\n",
       "<rect x=\"449.95\" y=\"621.0\" width=\"150.1\" height=\"8\" fill=\"black\" />\n",
       "<rect x=\"599.95\" y=\"621.0\" width=\"50.1\" height=\"8\" fill=\"black\" />\n",
       "<rect x=\"599.95\" y=\"746.0\" width=\"50.1\" height=\"8\" fill=\"black\" />\n",
       "<rect x=\"650\" y=\"600.0\" width=\"50\" height=\"175\" fill=\"#3e368d\" stroke=\"black\" rx=\"5\" ry=\"5\" />\n",
       "<text x=\"675.0\" y=\"687.5\" font-size=\"25\" fill=\"white\" text-anchor=\"middle\" dominant-baseline=\"middle\" transform=\"rotate(0, 675.0, 687.5)\">BS</text>\n",
       "<text x=\"675.0\" y=\"800\" font-size=\"18\" fill=\"black\" text-anchor=\"middle\" dominant-baseline=\"middle\" transform=\"rotate(0, 675.0, 800)\">r = 0.1716</text>\n",
       "<rect x=\"699.95\" y=\"621.0\" width=\"50.1\" height=\"8\" fill=\"black\" />\n",
       "<rect x=\"699.95\" y=\"746.0\" width=\"50.1\" height=\"8\" fill=\"black\" />\n",
       "<rect x=\"749.95\" y=\"621.0\" width=\"50.1\" height=\"8\" fill=\"black\" />\n",
       "<rect x=\"800\" y=\"600.0\" width=\"50\" height=\"50\" fill=\"#e8532b\" stroke=\"black\" rx=\"5\" ry=\"5\" />\n",
       "<text x=\"825.0\" y=\"627\" font-size=\"25\" fill=\"white\" text-anchor=\"middle\" dominant-baseline=\"middle\" transform=\"rotate(0, 825.0, 627)\">PS</text>\n",
       "<text x=\"825.0\" y=\"675\" font-size=\"18\" fill=\"black\" text-anchor=\"middle\" dominant-baseline=\"middle\" transform=\"rotate(0, 825.0, 675)\">φ = π</text>\n",
       "<rect x=\"849.95\" y=\"621.0\" width=\"50.1\" height=\"8\" fill=\"black\" />\n",
       "<rect x=\"599.95\" y=\"246.0\" width=\"150.1\" height=\"8\" fill=\"black\" />\n",
       "<rect x=\"749.95\" y=\"246.0\" width=\"50.1\" height=\"8\" fill=\"black\" />\n",
       "<rect x=\"749.95\" y=\"371.0\" width=\"50.1\" height=\"8\" fill=\"black\" />\n",
       "<rect x=\"800\" y=\"225.0\" width=\"50\" height=\"175\" fill=\"#3e368d\" stroke=\"black\" rx=\"5\" ry=\"5\" />\n",
       "<text x=\"825.0\" y=\"312.5\" font-size=\"25\" fill=\"white\" text-anchor=\"middle\" dominant-baseline=\"middle\" transform=\"rotate(0, 825.0, 312.5)\">BS</text>\n",
       "<text x=\"825.0\" y=\"425\" font-size=\"18\" fill=\"black\" text-anchor=\"middle\" dominant-baseline=\"middle\" transform=\"rotate(0, 825.0, 425)\">r = 0.0</text>\n",
       "<rect x=\"849.95\" y=\"246.0\" width=\"50.1\" height=\"8\" fill=\"black\" />\n",
       "<rect x=\"849.95\" y=\"371.0\" width=\"50.1\" height=\"8\" fill=\"black\" />\n",
       "<rect x=\"749.95\" y=\"496.0\" width=\"150.1\" height=\"8\" fill=\"black\" />\n",
       "<rect x=\"899.95\" y=\"496.0\" width=\"50.1\" height=\"8\" fill=\"black\" />\n",
       "<rect x=\"899.95\" y=\"621.0\" width=\"50.1\" height=\"8\" fill=\"black\" />\n",
       "<rect x=\"950\" y=\"475.0\" width=\"50\" height=\"175\" fill=\"#3e368d\" stroke=\"black\" rx=\"5\" ry=\"5\" />\n",
       "<text x=\"975.0\" y=\"562.5\" font-size=\"25\" fill=\"white\" text-anchor=\"middle\" dominant-baseline=\"middle\" transform=\"rotate(0, 975.0, 562.5)\">BS</text>\n",
       "<text x=\"975.0\" y=\"675\" font-size=\"18\" fill=\"black\" text-anchor=\"middle\" dominant-baseline=\"middle\" transform=\"rotate(0, 975.0, 675)\">r = 0.5</text>\n",
       "<rect x=\"999.95\" y=\"496.0\" width=\"50.1\" height=\"8\" fill=\"black\" />\n",
       "<rect x=\"999.95\" y=\"621.0\" width=\"50.1\" height=\"8\" fill=\"black\" />\n",
       "<rect x=\"449.95\" y=\"871.0\" width=\"300.1\" height=\"8\" fill=\"black\" />\n",
       "<rect x=\"749.95\" y=\"746.0\" width=\"50.1\" height=\"8\" fill=\"black\" />\n",
       "<rect x=\"749.95\" y=\"871.0\" width=\"50.1\" height=\"8\" fill=\"black\" />\n",
       "<rect x=\"800\" y=\"725.0\" width=\"50\" height=\"175\" fill=\"#3e368d\" stroke=\"black\" rx=\"5\" ry=\"5\" />\n",
       "<text x=\"825.0\" y=\"812.5\" font-size=\"25\" fill=\"white\" text-anchor=\"middle\" dominant-baseline=\"middle\" transform=\"rotate(0, 825.0, 812.5)\">BS</text>\n",
       "<text x=\"825.0\" y=\"925\" font-size=\"18\" fill=\"black\" text-anchor=\"middle\" dominant-baseline=\"middle\" transform=\"rotate(0, 825.0, 925)\">r = 0.0</text>\n",
       "<rect x=\"849.95\" y=\"746.0\" width=\"50.1\" height=\"8\" fill=\"black\" />\n",
       "<rect x=\"849.95\" y=\"871.0\" width=\"50.1\" height=\"8\" fill=\"black\" />\n",
       "<rect x=\"899.95\" y=\"246.0\" width=\"50.1\" height=\"8\" fill=\"black\" />\n",
       "<rect x=\"950\" y=\"225.0\" width=\"50\" height=\"50\" fill=\"#e8532b\" stroke=\"black\" rx=\"5\" ry=\"5\" />\n",
       "<text x=\"975.0\" y=\"252\" font-size=\"25\" fill=\"white\" text-anchor=\"middle\" dominant-baseline=\"middle\" transform=\"rotate(0, 975.0, 252)\">PS</text>\n",
       "<text x=\"975.0\" y=\"300\" font-size=\"18\" fill=\"black\" text-anchor=\"middle\" dominant-baseline=\"middle\" transform=\"rotate(0, 975.0, 300)\">φ = π</text>\n",
       "<rect x=\"999.95\" y=\"246.0\" width=\"50.1\" height=\"8\" fill=\"black\" />\n",
       "<rect x=\"599.95\" y=\"121.0\" width=\"450.1\" height=\"8\" fill=\"black\" />\n",
       "<rect x=\"1049.95\" y=\"121.0\" width=\"50.1\" height=\"8\" fill=\"black\" />\n",
       "<rect x=\"1049.95\" y=\"246.0\" width=\"50.1\" height=\"8\" fill=\"black\" />\n",
       "<rect x=\"1100\" y=\"100.0\" width=\"50\" height=\"175\" fill=\"#3e368d\" stroke=\"black\" rx=\"5\" ry=\"5\" />\n",
       "<text x=\"1125.0\" y=\"187.5\" font-size=\"25\" fill=\"white\" text-anchor=\"middle\" dominant-baseline=\"middle\" transform=\"rotate(0, 1125.0, 187.5)\">BS</text>\n",
       "<text x=\"1125.0\" y=\"300\" font-size=\"18\" fill=\"black\" text-anchor=\"middle\" dominant-baseline=\"middle\" transform=\"rotate(0, 1125.0, 300)\">r = 0.8536</text>\n",
       "<rect x=\"1149.95\" y=\"121.0\" width=\"50.1\" height=\"8\" fill=\"black\" />\n",
       "<rect x=\"1149.95\" y=\"246.0\" width=\"50.1\" height=\"8\" fill=\"black\" />\n",
       "<rect x=\"1199.95\" y=\"121.0\" width=\"50.1\" height=\"8\" fill=\"black\" />\n",
       "<rect x=\"1250\" y=\"100.0\" width=\"50\" height=\"50\" fill=\"#e8532b\" stroke=\"black\" rx=\"5\" ry=\"5\" />\n",
       "<text x=\"1275.0\" y=\"127\" font-size=\"25\" fill=\"white\" text-anchor=\"middle\" dominant-baseline=\"middle\" transform=\"rotate(0, 1275.0, 127)\">PS</text>\n",
       "<text x=\"1275.0\" y=\"175\" font-size=\"18\" fill=\"black\" text-anchor=\"middle\" dominant-baseline=\"middle\" transform=\"rotate(0, 1275.0, 175)\">φ = π</text>\n",
       "<rect x=\"1299.95\" y=\"121.0\" width=\"50.1\" height=\"8\" fill=\"black\" />\n",
       "<rect x=\"899.95\" y=\"746.0\" width=\"150.1\" height=\"8\" fill=\"black\" />\n",
       "<rect x=\"1049.95\" y=\"621.0\" width=\"50.1\" height=\"8\" fill=\"black\" />\n",
       "<rect x=\"1049.95\" y=\"746.0\" width=\"50.1\" height=\"8\" fill=\"black\" />\n",
       "<rect x=\"1100\" y=\"600.0\" width=\"50\" height=\"175\" fill=\"#3e368d\" stroke=\"black\" rx=\"5\" ry=\"5\" />\n",
       "<text x=\"1125.0\" y=\"687.5\" font-size=\"25\" fill=\"white\" text-anchor=\"middle\" dominant-baseline=\"middle\" transform=\"rotate(0, 1125.0, 687.5)\">BS</text>\n",
       "<text x=\"1125.0\" y=\"800\" font-size=\"18\" fill=\"black\" text-anchor=\"middle\" dominant-baseline=\"middle\" transform=\"rotate(0, 1125.0, 800)\">r = 0.5</text>\n",
       "<rect x=\"1149.95\" y=\"621.0\" width=\"50.1\" height=\"8\" fill=\"black\" />\n",
       "<rect x=\"1149.95\" y=\"746.0\" width=\"50.1\" height=\"8\" fill=\"black\" />\n",
       "<rect x=\"299.95\" y=\"996.0\" width=\"600.1\" height=\"8\" fill=\"black\" />\n",
       "<rect x=\"899.95\" y=\"871.0\" width=\"50.1\" height=\"8\" fill=\"black\" />\n",
       "<rect x=\"899.95\" y=\"996.0\" width=\"50.1\" height=\"8\" fill=\"black\" />\n",
       "<rect x=\"950\" y=\"850.0\" width=\"50\" height=\"175\" fill=\"#3e368d\" stroke=\"black\" rx=\"5\" ry=\"5\" />\n",
       "<text x=\"975.0\" y=\"937.5\" font-size=\"25\" fill=\"white\" text-anchor=\"middle\" dominant-baseline=\"middle\" transform=\"rotate(0, 975.0, 937.5)\">BS</text>\n",
       "<text x=\"975.0\" y=\"1050\" font-size=\"18\" fill=\"black\" text-anchor=\"middle\" dominant-baseline=\"middle\" transform=\"rotate(0, 975.0, 1050)\">r = 0.8536</text>\n",
       "<rect x=\"999.95\" y=\"871.0\" width=\"50.1\" height=\"8\" fill=\"black\" />\n",
       "<rect x=\"999.95\" y=\"996.0\" width=\"50.1\" height=\"8\" fill=\"black\" />\n",
       "<rect x=\"1199.95\" y=\"246.0\" width=\"150.1\" height=\"8\" fill=\"black\" />\n",
       "<rect x=\"899.95\" y=\"371.0\" width=\"450.1\" height=\"8\" fill=\"black\" />\n",
       "<rect x=\"1049.95\" y=\"496.0\" width=\"300.1\" height=\"8\" fill=\"black\" />\n",
       "<rect x=\"1199.95\" y=\"621.0\" width=\"150.1\" height=\"8\" fill=\"black\" />\n",
       "<rect x=\"1199.95\" y=\"746.0\" width=\"150.1\" height=\"8\" fill=\"black\" />\n",
       "<rect x=\"1049.95\" y=\"871.0\" width=\"300.1\" height=\"8\" fill=\"black\" />\n",
       "<rect x=\"1049.95\" y=\"996.0\" width=\"300.1\" height=\"8\" fill=\"black\" />\n",
       "</svg>"
      ],
      "text/plain": [
       "<drawsvg.drawing.Drawing at 0x1fe9e089e10>"
      ]
     },
     "metadata": {},
     "output_type": "display_data"
    }
   ],
   "source": [
    "cnot_circuit.display(mode_labels = [\"a0\", \"a1\", \"c0\", \"c1\", \"t0\", \"t1\", \"b1\", \"b0\"])"
   ]
  },
  {
   "cell_type": "markdown",
   "metadata": {},
   "source": [
    "## Sampling"
   ]
  },
  {
   "cell_type": "code",
   "execution_count": 10,
   "metadata": {},
   "outputs": [],
   "source": [
    "# Set qubit input here\n",
    "in_qubits = \"10\"\n",
    "\n",
    "# This is then converted into modes\n",
    "c, t = in_qubits\n",
    "c, t = int(c), int(t)\n",
    "in_state = State([0, 1, 1-c, c, 1-t, t, 1, 0])\n",
    "\n",
    "# Run sampler with imperfect properties\n",
    "source = emulator.Source(indistinguishability = 0.93, purity = 0.98)\n",
    "detector = emulator.Detector(photon_counting = False)\n",
    "\n",
    "sampler = emulator.Sampler(cnot_circuit, in_state, source = source,\n",
    "                           detector = detector)\n",
    "\n",
    "# Apply heralding rules and sample\n",
    "N_rep = 10000\n",
    "herald = lambda s: s[0] == 0 and s[1] == 1 and s[6] == 1 and s[7] == 0\n",
    "\n",
    "results = sampler.sample_N_outputs(N_rep, herald = herald, min_detection = 4)"
   ]
  },
  {
   "cell_type": "markdown",
   "metadata": {},
   "source": [
    "- It can be seen that in the case of a 10 input, the most likely output is 11 (|0,1,0,1> in mode language), as expected."
   ]
  },
  {
   "cell_type": "code",
   "execution_count": null,
   "metadata": {},
   "outputs": [
    {
     "data": {
      "image/png": "[encoded data removed]",
      "text/plain": [
       "<Figure size 700x600 with 1 Axes>"
      ]
     },
     "metadata": {},
     "output_type": "display_data"
    }
   ],
   "source": [
    "# Remove heralded modes\n",
    "state_labels = {s:State([s[2],s[3],s[4],s[5]]) for s in results.outputs}\n",
    "\n",
    "results.plot(show = True, state_labels = state_labels)"
   ]
  }
 ],
 "metadata": {
  "kernelspec": {
   "display_name": "venv",
   "language": "python",
   "name": "python3"
  },
  "language_info": {
   "codemirror_mode": {
    "name": "ipython",
    "version": 3
   },
   "file_extension": ".py",
   "mimetype": "text/x-python",
   "name": "python",
   "nbconvert_exporter": "python",
   "pygments_lexer": "ipython3",
   "version": "3.11.6"
  },
  "orig_nbformat": 4
 },
 "nbformat": 4,
 "nbformat_minor": 2
}
