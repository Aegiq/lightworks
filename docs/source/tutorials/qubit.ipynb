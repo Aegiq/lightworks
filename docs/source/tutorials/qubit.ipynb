{
 "cells": [
  {
   "cell_type": "markdown",
   "metadata": {},
   "source": [
    "# Using Qubit Components"
   ]
  },
  {
   "cell_type": "code",
   "execution_count": 1,
   "metadata": {},
   "outputs": [],
   "source": [
    "import lightworks as lw\n",
    "from lightworks import emulator\n",
    "\n",
    "import numpy as np\n",
    "import matplotlib.pyplot as plt"
   ]
  },
  {
   "cell_type": "markdown",
   "metadata": {},
   "source": [
    "## Utilising Qubit Gates\n",
    "All qubit components are in a dedicated 'qubit' sub-module of Lightworks. To access these, we can either use the existing Lightworks import or perform a dedicated import of the qubit module. As an example, to create a hadamard gate, either of the following would be valid."
   ]
  },
  {
   "cell_type": "code",
   "execution_count": 2,
   "metadata": {},
   "outputs": [],
   "source": [
    "hadamard = lw.qubit.H()\n",
    "\n",
    "from lightworks import qubit # Could go at the top of the notebook\n",
    "hadamard = qubit.H()"
   ]
  },
  {
   "cell_type": "markdown",
   "metadata": {},
   "source": [
    "Within this notebook we will use the latter for simplicity.\n",
    "\n",
    "All qubit components are designed to act on dual-rail encoded qubits, where a photon in the upper mode is the $\\ket{0}$ state and the $\\ket{1}$ mode is the lower state. This means for single qubit gates they act across two modes, dual qubit gates act across 4 modes etc... . It is assumed that the modes that the gate is acting on are adjacent to each other, so mode swaps may be required if this is not the case.\n",
    "\n",
    "Below, a circuit is created to support a single qubit, with each mode labelled, and the Hadamard gate is applied. This is then simulated to check the expected outputs, and it can be seen how this varies depending on whether the $\\ket{0}$ or $\\ket{1}$ state is input into the system."
   ]
  },
  {
   "cell_type": "code",
   "execution_count": 3,
   "metadata": {},
   "outputs": [
    {
     "data": {
      "image/svg+xml": [
       "<?xml version=\"1.0\" encoding=\"UTF-8\"?>\n",
       "<svg xmlns=\"http://www.w3.org/2000/svg\" xmlns:xlink=\"http://www.w3.org/1999/xlink\"\n",
       "     width=\"240.0\" height=\"180.0\" viewBox=\"0 0 500.0 375\">\n",
       "<defs>\n",
       "</defs>\n",
       "<rect x=\"0\" y=\"0\" width=\"500.0\" height=\"375\" fill=\"white\" stroke=\"none\" />\n",
       "<rect x=\"100.0\" y=\"25\" width=\"300.0\" height=\"325\" fill=\"none\" stroke=\"black\" />\n",
       "<rect x=\"92.0\" y=\"124.5\" width=\"8\" height=\"1\" fill=\"black\" />\n",
       "<rect x=\"92.0\" y=\"249.5\" width=\"8\" height=\"1\" fill=\"black\" />\n",
       "<text x=\"80.0\" y=\"127\" font-size=\"25\" fill=\"black\" text-anchor=\"end\" dominant-baseline=\"middle\" transform=\"rotate(0, 80.0, 127)\">|0&gt;</text>\n",
       "<text x=\"80.0\" y=\"252\" font-size=\"25\" fill=\"black\" text-anchor=\"end\" dominant-baseline=\"middle\" transform=\"rotate(0, 80.0, 252)\">|1&gt;</text>\n",
       "<rect x=\"149.95\" y=\"121.0\" width=\"50.1\" height=\"8\" fill=\"black\" />\n",
       "<rect x=\"149.95\" y=\"246.0\" width=\"50.1\" height=\"8\" fill=\"black\" />\n",
       "<rect x=\"200.0\" y=\"100.0\" width=\"100\" height=\"175\" fill=\"#1a0f36\" stroke=\"black\" rx=\"5\" ry=\"5\" />\n",
       "<text x=\"250.0\" y=\"187.5\" font-size=\"35\" fill=\"white\" text-anchor=\"middle\" dominant-baseline=\"middle\" transform=\"rotate(0, 250.0, 187.5)\">H</text>\n",
       "<rect x=\"299.95\" y=\"121.0\" width=\"50.1\" height=\"8\" fill=\"black\" />\n",
       "<rect x=\"299.95\" y=\"246.0\" width=\"50.1\" height=\"8\" fill=\"black\" />\n",
       "</svg>"
      ],
      "text/plain": [
       "<drawsvg.drawing.Drawing at 0x2adf5dd1290>"
      ]
     },
     "metadata": {},
     "output_type": "display_data"
    },
    {
     "data": {
      "text/html": [
       "<div>\n",
       "<style scoped>\n",
       "    .dataframe tbody tr th:only-of-type {\n",
       "        vertical-align: middle;\n",
       "    }\n",
       "\n",
       "    .dataframe tbody tr th {\n",
       "        vertical-align: top;\n",
       "    }\n",
       "\n",
       "    .dataframe thead th {\n",
       "        text-align: right;\n",
       "    }\n",
       "</style>\n",
       "<table border=\"1\" class=\"dataframe\">\n",
       "  <thead>\n",
       "    <tr style=\"text-align: right;\">\n",
       "      <th></th>\n",
       "      <th>|1,0&gt;</th>\n",
       "      <th>|0,1&gt;</th>\n",
       "    </tr>\n",
       "  </thead>\n",
       "  <tbody>\n",
       "    <tr>\n",
       "      <th>|1,0&gt;</th>\n",
       "      <td>0.707107+0.000000j</td>\n",
       "      <td>0.707107+0.000000j</td>\n",
       "    </tr>\n",
       "    <tr>\n",
       "      <th>|0,1&gt;</th>\n",
       "      <td>0.707107+0.000000j</td>\n",
       "      <td>-0.707107+0.000000j</td>\n",
       "    </tr>\n",
       "  </tbody>\n",
       "</table>\n",
       "</div>"
      ],
      "text/plain": [
       "                    |1,0>               |0,1>\n",
       "|1,0>  0.707107+0.000000j  0.707107+0.000000j\n",
       "|0,1>  0.707107+0.000000j -0.707107+0.000000j"
      ]
     },
     "execution_count": 3,
     "metadata": {},
     "output_type": "execute_result"
    }
   ],
   "source": [
    "circuit = lw.Circuit(2) # Dual rail circuit\n",
    "\n",
    "circuit.add(hadamard, 0) # Add hadamard\n",
    "\n",
    "circuit.display(mode_labels = [\"|0>\", \"|1>\"])\n",
    "\n",
    "sim = emulator.Simulator(circuit)\n",
    "#                                 |0>              |1>\n",
    "results = sim.simulate([lw.State([1,0]), lw.State([0,1])])\n",
    "\n",
    "results.display_as_dataframe()"
   ]
  },
  {
   "cell_type": "markdown",
   "metadata": {},
   "source": [
    "## Single Qubit Gates\n",
    "As mentioned, single qubit gates act across a pair of modes which encode a dual-rail encoded qubit. When adding these gates, it is important they are not used to mix modes which encode two different qubits as this creates an invalid result. \n",
    "\n",
    "The gates currently included in Lightworks are H, X, Y, Z, T and S, below these are applied across 3 different qubits, labelled A, B & C."
   ]
  },
  {
   "cell_type": "code",
   "execution_count": 4,
   "metadata": {},
   "outputs": [
    {
     "data": {
      "image/svg+xml": [
       "<?xml version=\"1.0\" encoding=\"UTF-8\"?>\n",
       "<svg xmlns=\"http://www.w3.org/2000/svg\" xmlns:xlink=\"http://www.w3.org/1999/xlink\"\n",
       "     width=\"378.40000000000003\" height=\"440.00000000000006\" viewBox=\"0 0 752.5 875\">\n",
       "<defs>\n",
       "</defs>\n",
       "<rect x=\"0\" y=\"0\" width=\"752.5\" height=\"875\" fill=\"white\" stroke=\"none\" />\n",
       "<rect x=\"152.5\" y=\"25\" width=\"500.0\" height=\"825\" fill=\"none\" stroke=\"black\" />\n",
       "<rect x=\"144.5\" y=\"124.5\" width=\"8\" height=\"1\" fill=\"black\" />\n",
       "<rect x=\"144.5\" y=\"249.5\" width=\"8\" height=\"1\" fill=\"black\" />\n",
       "<rect x=\"144.5\" y=\"374.5\" width=\"8\" height=\"1\" fill=\"black\" />\n",
       "<rect x=\"144.5\" y=\"499.5\" width=\"8\" height=\"1\" fill=\"black\" />\n",
       "<rect x=\"144.5\" y=\"624.5\" width=\"8\" height=\"1\" fill=\"black\" />\n",
       "<rect x=\"144.5\" y=\"749.5\" width=\"8\" height=\"1\" fill=\"black\" />\n",
       "<text x=\"132.5\" y=\"127\" font-size=\"25\" fill=\"black\" text-anchor=\"end\" dominant-baseline=\"middle\" transform=\"rotate(0, 132.5, 127)\">A : |0&gt;</text>\n",
       "<text x=\"132.5\" y=\"252\" font-size=\"25\" fill=\"black\" text-anchor=\"end\" dominant-baseline=\"middle\" transform=\"rotate(0, 132.5, 252)\">A : |1&gt;</text>\n",
       "<text x=\"132.5\" y=\"377\" font-size=\"25\" fill=\"black\" text-anchor=\"end\" dominant-baseline=\"middle\" transform=\"rotate(0, 132.5, 377)\">B : |0&gt;</text>\n",
       "<text x=\"132.5\" y=\"502\" font-size=\"25\" fill=\"black\" text-anchor=\"end\" dominant-baseline=\"middle\" transform=\"rotate(0, 132.5, 502)\">B : |1&gt;</text>\n",
       "<text x=\"132.5\" y=\"627\" font-size=\"25\" fill=\"black\" text-anchor=\"end\" dominant-baseline=\"middle\" transform=\"rotate(0, 132.5, 627)\">C : |0&gt;</text>\n",
       "<text x=\"132.5\" y=\"752\" font-size=\"25\" fill=\"black\" text-anchor=\"end\" dominant-baseline=\"middle\" transform=\"rotate(0, 132.5, 752)\">C : |1&gt;</text>\n",
       "<rect x=\"202.45\" y=\"121.0\" width=\"50.1\" height=\"8\" fill=\"black\" />\n",
       "<rect x=\"202.45\" y=\"246.0\" width=\"50.1\" height=\"8\" fill=\"black\" />\n",
       "<rect x=\"252.5\" y=\"100.0\" width=\"100\" height=\"175\" fill=\"#1a0f36\" stroke=\"black\" rx=\"5\" ry=\"5\" />\n",
       "<text x=\"302.5\" y=\"187.5\" font-size=\"35\" fill=\"white\" text-anchor=\"middle\" dominant-baseline=\"middle\" transform=\"rotate(0, 302.5, 187.5)\">H</text>\n",
       "<rect x=\"352.45\" y=\"121.0\" width=\"50.1\" height=\"8\" fill=\"black\" />\n",
       "<rect x=\"352.45\" y=\"246.0\" width=\"50.1\" height=\"8\" fill=\"black\" />\n",
       "<rect x=\"402.45\" y=\"121.0\" width=\"50.1\" height=\"8\" fill=\"black\" />\n",
       "<rect x=\"402.45\" y=\"246.0\" width=\"50.1\" height=\"8\" fill=\"black\" />\n",
       "<rect x=\"452.5\" y=\"100.0\" width=\"100\" height=\"175\" fill=\"#1a0f36\" stroke=\"black\" rx=\"5\" ry=\"5\" />\n",
       "<text x=\"502.5\" y=\"187.5\" font-size=\"35\" fill=\"white\" text-anchor=\"middle\" dominant-baseline=\"middle\" transform=\"rotate(0, 502.5, 187.5)\">X</text>\n",
       "<rect x=\"552.45\" y=\"121.0\" width=\"50.1\" height=\"8\" fill=\"black\" />\n",
       "<rect x=\"552.45\" y=\"246.0\" width=\"50.1\" height=\"8\" fill=\"black\" />\n",
       "<rect x=\"202.45\" y=\"371.0\" width=\"50.1\" height=\"8\" fill=\"black\" />\n",
       "<rect x=\"202.45\" y=\"496.0\" width=\"50.1\" height=\"8\" fill=\"black\" />\n",
       "<rect x=\"252.5\" y=\"350.0\" width=\"100\" height=\"175\" fill=\"#1a0f36\" stroke=\"black\" rx=\"5\" ry=\"5\" />\n",
       "<text x=\"302.5\" y=\"437.5\" font-size=\"35\" fill=\"white\" text-anchor=\"middle\" dominant-baseline=\"middle\" transform=\"rotate(0, 302.5, 437.5)\">Y</text>\n",
       "<rect x=\"352.45\" y=\"371.0\" width=\"50.1\" height=\"8\" fill=\"black\" />\n",
       "<rect x=\"352.45\" y=\"496.0\" width=\"50.1\" height=\"8\" fill=\"black\" />\n",
       "<rect x=\"402.45\" y=\"371.0\" width=\"50.1\" height=\"8\" fill=\"black\" />\n",
       "<rect x=\"402.45\" y=\"496.0\" width=\"50.1\" height=\"8\" fill=\"black\" />\n",
       "<rect x=\"452.5\" y=\"350.0\" width=\"100\" height=\"175\" fill=\"#1a0f36\" stroke=\"black\" rx=\"5\" ry=\"5\" />\n",
       "<text x=\"502.5\" y=\"437.5\" font-size=\"35\" fill=\"white\" text-anchor=\"middle\" dominant-baseline=\"middle\" transform=\"rotate(0, 502.5, 437.5)\">Z</text>\n",
       "<rect x=\"552.45\" y=\"371.0\" width=\"50.1\" height=\"8\" fill=\"black\" />\n",
       "<rect x=\"552.45\" y=\"496.0\" width=\"50.1\" height=\"8\" fill=\"black\" />\n",
       "<rect x=\"202.45\" y=\"621.0\" width=\"50.1\" height=\"8\" fill=\"black\" />\n",
       "<rect x=\"202.45\" y=\"746.0\" width=\"50.1\" height=\"8\" fill=\"black\" />\n",
       "<rect x=\"252.5\" y=\"600.0\" width=\"100\" height=\"175\" fill=\"#1a0f36\" stroke=\"black\" rx=\"5\" ry=\"5\" />\n",
       "<text x=\"302.5\" y=\"687.5\" font-size=\"35\" fill=\"white\" text-anchor=\"middle\" dominant-baseline=\"middle\" transform=\"rotate(0, 302.5, 687.5)\">S</text>\n",
       "<rect x=\"352.45\" y=\"621.0\" width=\"50.1\" height=\"8\" fill=\"black\" />\n",
       "<rect x=\"352.45\" y=\"746.0\" width=\"50.1\" height=\"8\" fill=\"black\" />\n",
       "<rect x=\"402.45\" y=\"621.0\" width=\"50.1\" height=\"8\" fill=\"black\" />\n",
       "<rect x=\"402.45\" y=\"746.0\" width=\"50.1\" height=\"8\" fill=\"black\" />\n",
       "<rect x=\"452.5\" y=\"600.0\" width=\"100\" height=\"175\" fill=\"#1a0f36\" stroke=\"black\" rx=\"5\" ry=\"5\" />\n",
       "<text x=\"502.5\" y=\"687.5\" font-size=\"35\" fill=\"white\" text-anchor=\"middle\" dominant-baseline=\"middle\" transform=\"rotate(0, 502.5, 687.5)\">T</text>\n",
       "<rect x=\"552.45\" y=\"621.0\" width=\"50.1\" height=\"8\" fill=\"black\" />\n",
       "<rect x=\"552.45\" y=\"746.0\" width=\"50.1\" height=\"8\" fill=\"black\" />\n",
       "</svg>"
      ],
      "text/plain": [
       "<drawsvg.drawing.Drawing at 0x2adf5de4490>"
      ]
     },
     "metadata": {},
     "output_type": "display_data"
    }
   ],
   "source": [
    "circuit = lw.Circuit(6)\n",
    "\n",
    "# Qubit A\n",
    "circuit.add(qubit.H(), 0)\n",
    "circuit.add(qubit.X(), 0)\n",
    "\n",
    "# Qubit B\n",
    "circuit.add(qubit.Y(), 2)\n",
    "circuit.add(qubit.Z(), 2)\n",
    "\n",
    "# Qubit C\n",
    "circuit.add(qubit.S(), 4)\n",
    "circuit.add(qubit.T(), 4)\n",
    "\n",
    "circuit.display(mode_labels = [\n",
    "    \"A : |0>\", \"A : |1>\", \"B : |0>\", \"B : |1>\", \"C : |0>\", \"C : |1>\"])"
   ]
  },
  {
   "cell_type": "markdown",
   "metadata": {},
   "source": [
    "## Two Qubit Gates\n",
    "With two qubit gates, it is often more complicated as they typically require some sort of post-selection or heralding. Lightworks aims to make this easier by including integration of the heralding modes/photons within the circuit, meaning these can automatically be applied to simulation inputs and routed around when adding new components to the circuit. Depending on the component, however, some additional post-selection may still be required, information on this can be found in the documentation or the component docstring.\n",
    "\n",
    "To get started, below we create a 2 qubit CNOT gate. It can be seen how the heralds are shown on the upper and lower parts of the component, but not included within the main circuit modes. This particular gate requires post-selection on measuring 1 photon across the control qubit modes (0 & 1) and 1 photon across the target qubit modes (2 & 3)."
   ]
  },
  {
   "cell_type": "code",
   "execution_count": 5,
   "metadata": {},
   "outputs": [
    {
     "data": {
      "image/svg+xml": [
       "<?xml version=\"1.0\" encoding=\"UTF-8\"?>\n",
       "<svg xmlns=\"http://www.w3.org/2000/svg\" xmlns:xlink=\"http://www.w3.org/1999/xlink\"\n",
       "     width=\"240.0\" height=\"310.0\" viewBox=\"0 0 600.0 775\">\n",
       "<defs>\n",
       "</defs>\n",
       "<rect x=\"0\" y=\"0\" width=\"600.0\" height=\"775\" fill=\"white\" stroke=\"none\" />\n",
       "<rect x=\"100.0\" y=\"25\" width=\"400.0\" height=\"725\" fill=\"none\" stroke=\"black\" />\n",
       "<rect x=\"92.0\" y=\"124.5\" width=\"8\" height=\"1\" fill=\"black\" />\n",
       "<rect x=\"92.0\" y=\"199.5\" width=\"8\" height=\"1\" fill=\"black\" />\n",
       "<rect x=\"92.0\" y=\"324.5\" width=\"8\" height=\"1\" fill=\"black\" />\n",
       "<rect x=\"92.0\" y=\"449.5\" width=\"8\" height=\"1\" fill=\"black\" />\n",
       "<rect x=\"92.0\" y=\"574.5\" width=\"8\" height=\"1\" fill=\"black\" />\n",
       "<rect x=\"92.0\" y=\"649.5\" width=\"8\" height=\"1\" fill=\"black\" />\n",
       "<text x=\"80.0\" y=\"127\" font-size=\"25\" fill=\"black\" text-anchor=\"end\" dominant-baseline=\"middle\" transform=\"rotate(0, 80.0, 127)\">-</text>\n",
       "<text x=\"80.0\" y=\"202\" font-size=\"25\" fill=\"black\" text-anchor=\"end\" dominant-baseline=\"middle\" transform=\"rotate(0, 80.0, 202)\">0</text>\n",
       "<text x=\"80.0\" y=\"327\" font-size=\"25\" fill=\"black\" text-anchor=\"end\" dominant-baseline=\"middle\" transform=\"rotate(0, 80.0, 327)\">1</text>\n",
       "<text x=\"80.0\" y=\"452\" font-size=\"25\" fill=\"black\" text-anchor=\"end\" dominant-baseline=\"middle\" transform=\"rotate(0, 80.0, 452)\">2</text>\n",
       "<text x=\"80.0\" y=\"577\" font-size=\"25\" fill=\"black\" text-anchor=\"end\" dominant-baseline=\"middle\" transform=\"rotate(0, 80.0, 577)\">3</text>\n",
       "<text x=\"80.0\" y=\"652\" font-size=\"25\" fill=\"black\" text-anchor=\"end\" dominant-baseline=\"middle\" transform=\"rotate(0, 80.0, 652)\">-</text>\n",
       "<rect x=\"199.95\" y=\"121.0\" width=\"50.1\" height=\"8\" fill=\"black\" />\n",
       "<rect x=\"149.95\" y=\"196.0\" width=\"100.1\" height=\"8\" fill=\"black\" />\n",
       "<rect x=\"149.95\" y=\"321.0\" width=\"100.1\" height=\"8\" fill=\"black\" />\n",
       "<rect x=\"149.95\" y=\"446.0\" width=\"100.1\" height=\"8\" fill=\"black\" />\n",
       "<rect x=\"149.95\" y=\"571.0\" width=\"100.1\" height=\"8\" fill=\"black\" />\n",
       "<rect x=\"199.95\" y=\"646.0\" width=\"50.1\" height=\"8\" fill=\"black\" />\n",
       "<rect x=\"250.0\" y=\"100.0\" width=\"100\" height=\"575\" fill=\"#1a0f36\" stroke=\"black\" rx=\"5\" ry=\"5\" />\n",
       "<text x=\"300.0\" y=\"387.5\" font-size=\"25\" fill=\"white\" text-anchor=\"middle\" dominant-baseline=\"middle\" transform=\"rotate(270, 300.0, 387.5)\">CNOT</text>\n",
       "<rect x=\"349.95\" y=\"121.0\" width=\"50.1\" height=\"8\" fill=\"black\" />\n",
       "<rect x=\"349.95\" y=\"196.0\" width=\"100.1\" height=\"8\" fill=\"black\" />\n",
       "<rect x=\"349.95\" y=\"321.0\" width=\"100.1\" height=\"8\" fill=\"black\" />\n",
       "<rect x=\"349.95\" y=\"446.0\" width=\"100.1\" height=\"8\" fill=\"black\" />\n",
       "<rect x=\"349.95\" y=\"571.0\" width=\"100.1\" height=\"8\" fill=\"black\" />\n",
       "<rect x=\"349.95\" y=\"646.0\" width=\"50.1\" height=\"8\" fill=\"black\" />\n",
       "<circle cx=\"200.0\" cy=\"125\" r=\"25\" fill=\"#3e368d\" stroke=\"black\" />\n",
       "<text x=\"200.0\" y=\"127.5\" font-size=\"30\" fill=\"white\" text-anchor=\"middle\" dominant-baseline=\"middle\" transform=\"rotate(0, 200.0, 127.5)\">0</text>\n",
       "<circle cx=\"200.0\" cy=\"650\" r=\"25\" fill=\"#3e368d\" stroke=\"black\" />\n",
       "<text x=\"200.0\" y=\"652.5\" font-size=\"30\" fill=\"white\" text-anchor=\"middle\" dominant-baseline=\"middle\" transform=\"rotate(0, 200.0, 652.5)\">0</text>\n",
       "<circle cx=\"400.0\" cy=\"125\" r=\"25\" fill=\"#3e368d\" stroke=\"black\" />\n",
       "<text x=\"400.0\" y=\"127.5\" font-size=\"30\" fill=\"white\" text-anchor=\"middle\" dominant-baseline=\"middle\" transform=\"rotate(0, 400.0, 127.5)\">0</text>\n",
       "<circle cx=\"400.0\" cy=\"650\" r=\"25\" fill=\"#3e368d\" stroke=\"black\" />\n",
       "<text x=\"400.0\" y=\"652.5\" font-size=\"30\" fill=\"white\" text-anchor=\"middle\" dominant-baseline=\"middle\" transform=\"rotate(0, 400.0, 652.5)\">0</text>\n",
       "</svg>"
      ],
      "text/plain": [
       "<drawsvg.drawing.Drawing at 0x2adf5dd3990>"
      ]
     },
     "metadata": {},
     "output_type": "display_data"
    }
   ],
   "source": [
    "cnot = lw.qubit.CNOT()\n",
    "\n",
    "cnot.display()"
   ]
  },
  {
   "cell_type": "markdown",
   "metadata": {},
   "source": [
    "This CNOT gate can then be added to a circuit. In the following example, we'll aim to create the 3 qubit GHZ using a hadamard and 2 CNOTs. To start, we create the circuit, as it is a 3 qubit circuit it should have 6 modes. The H gate and CNOT are then added, it can be seen below how only the non-heralded modes of the CNOT are attached to the circuit modes."
   ]
  },
  {
   "cell_type": "code",
   "execution_count": 6,
   "metadata": {},
   "outputs": [
    {
     "data": {
      "image/svg+xml": [
       "<?xml version=\"1.0\" encoding=\"UTF-8\"?>\n",
       "<svg xmlns=\"http://www.w3.org/2000/svg\" xmlns:xlink=\"http://www.w3.org/1999/xlink\"\n",
       "     width=\"384.71794871794873\" height=\"440.0\" viewBox=\"0 0 852.5 975\">\n",
       "<defs>\n",
       "</defs>\n",
       "<rect x=\"0\" y=\"0\" width=\"852.5\" height=\"975\" fill=\"white\" stroke=\"none\" />\n",
       "<rect x=\"152.5\" y=\"25\" width=\"600.0\" height=\"925\" fill=\"none\" stroke=\"black\" />\n",
       "<rect x=\"144.5\" y=\"124.5\" width=\"8\" height=\"1\" fill=\"black\" />\n",
       "<rect x=\"144.5\" y=\"199.5\" width=\"8\" height=\"1\" fill=\"black\" />\n",
       "<rect x=\"144.5\" y=\"324.5\" width=\"8\" height=\"1\" fill=\"black\" />\n",
       "<rect x=\"144.5\" y=\"449.5\" width=\"8\" height=\"1\" fill=\"black\" />\n",
       "<rect x=\"144.5\" y=\"574.5\" width=\"8\" height=\"1\" fill=\"black\" />\n",
       "<rect x=\"144.5\" y=\"649.5\" width=\"8\" height=\"1\" fill=\"black\" />\n",
       "<rect x=\"144.5\" y=\"724.5\" width=\"8\" height=\"1\" fill=\"black\" />\n",
       "<rect x=\"144.5\" y=\"849.5\" width=\"8\" height=\"1\" fill=\"black\" />\n",
       "<text x=\"132.5\" y=\"127\" font-size=\"25\" fill=\"black\" text-anchor=\"end\" dominant-baseline=\"middle\" transform=\"rotate(0, 132.5, 127)\">-</text>\n",
       "<text x=\"132.5\" y=\"202\" font-size=\"25\" fill=\"black\" text-anchor=\"end\" dominant-baseline=\"middle\" transform=\"rotate(0, 132.5, 202)\">A : |0&gt;</text>\n",
       "<text x=\"132.5\" y=\"327\" font-size=\"25\" fill=\"black\" text-anchor=\"end\" dominant-baseline=\"middle\" transform=\"rotate(0, 132.5, 327)\">A : |1&gt;</text>\n",
       "<text x=\"132.5\" y=\"452\" font-size=\"25\" fill=\"black\" text-anchor=\"end\" dominant-baseline=\"middle\" transform=\"rotate(0, 132.5, 452)\">B : |0&gt;</text>\n",
       "<text x=\"132.5\" y=\"577\" font-size=\"25\" fill=\"black\" text-anchor=\"end\" dominant-baseline=\"middle\" transform=\"rotate(0, 132.5, 577)\">B : |1&gt;</text>\n",
       "<text x=\"132.5\" y=\"652\" font-size=\"25\" fill=\"black\" text-anchor=\"end\" dominant-baseline=\"middle\" transform=\"rotate(0, 132.5, 652)\">-</text>\n",
       "<text x=\"132.5\" y=\"727\" font-size=\"25\" fill=\"black\" text-anchor=\"end\" dominant-baseline=\"middle\" transform=\"rotate(0, 132.5, 727)\">C : |0&gt;</text>\n",
       "<text x=\"132.5\" y=\"852\" font-size=\"25\" fill=\"black\" text-anchor=\"end\" dominant-baseline=\"middle\" transform=\"rotate(0, 132.5, 852)\">C : |1&gt;</text>\n",
       "<rect x=\"202.45\" y=\"196.0\" width=\"50.1\" height=\"8\" fill=\"black\" />\n",
       "<rect x=\"202.45\" y=\"321.0\" width=\"50.1\" height=\"8\" fill=\"black\" />\n",
       "<rect x=\"252.5\" y=\"175.0\" width=\"100\" height=\"175\" fill=\"#1a0f36\" stroke=\"black\" rx=\"5\" ry=\"5\" />\n",
       "<text x=\"302.5\" y=\"262.5\" font-size=\"35\" fill=\"white\" text-anchor=\"middle\" dominant-baseline=\"middle\" transform=\"rotate(0, 302.5, 262.5)\">H</text>\n",
       "<rect x=\"352.45\" y=\"196.0\" width=\"50.1\" height=\"8\" fill=\"black\" />\n",
       "<rect x=\"352.45\" y=\"321.0\" width=\"50.1\" height=\"8\" fill=\"black\" />\n",
       "<rect x=\"202.45\" y=\"446.0\" width=\"200.1\" height=\"8\" fill=\"black\" />\n",
       "<rect x=\"202.45\" y=\"571.0\" width=\"200.1\" height=\"8\" fill=\"black\" />\n",
       "<rect x=\"452.45\" y=\"121.0\" width=\"50.1\" height=\"8\" fill=\"black\" />\n",
       "<rect x=\"402.45\" y=\"196.0\" width=\"100.1\" height=\"8\" fill=\"black\" />\n",
       "<rect x=\"402.45\" y=\"321.0\" width=\"100.1\" height=\"8\" fill=\"black\" />\n",
       "<rect x=\"402.45\" y=\"446.0\" width=\"100.1\" height=\"8\" fill=\"black\" />\n",
       "<rect x=\"402.45\" y=\"571.0\" width=\"100.1\" height=\"8\" fill=\"black\" />\n",
       "<rect x=\"452.45\" y=\"646.0\" width=\"50.1\" height=\"8\" fill=\"black\" />\n",
       "<rect x=\"502.5\" y=\"100.0\" width=\"100\" height=\"575\" fill=\"#1a0f36\" stroke=\"black\" rx=\"5\" ry=\"5\" />\n",
       "<text x=\"552.5\" y=\"387.5\" font-size=\"25\" fill=\"white\" text-anchor=\"middle\" dominant-baseline=\"middle\" transform=\"rotate(270, 552.5, 387.5)\">CNOT</text>\n",
       "<rect x=\"602.45\" y=\"121.0\" width=\"50.1\" height=\"8\" fill=\"black\" />\n",
       "<rect x=\"602.45\" y=\"196.0\" width=\"100.1\" height=\"8\" fill=\"black\" />\n",
       "<rect x=\"602.45\" y=\"321.0\" width=\"100.1\" height=\"8\" fill=\"black\" />\n",
       "<rect x=\"602.45\" y=\"446.0\" width=\"100.1\" height=\"8\" fill=\"black\" />\n",
       "<rect x=\"602.45\" y=\"571.0\" width=\"100.1\" height=\"8\" fill=\"black\" />\n",
       "<rect x=\"602.45\" y=\"646.0\" width=\"50.1\" height=\"8\" fill=\"black\" />\n",
       "<circle cx=\"452.5\" cy=\"125\" r=\"25\" fill=\"#3e368d\" stroke=\"black\" />\n",
       "<text x=\"452.5\" y=\"127.5\" font-size=\"30\" fill=\"white\" text-anchor=\"middle\" dominant-baseline=\"middle\" transform=\"rotate(0, 452.5, 127.5)\">0</text>\n",
       "<circle cx=\"452.5\" cy=\"650\" r=\"25\" fill=\"#3e368d\" stroke=\"black\" />\n",
       "<text x=\"452.5\" y=\"652.5\" font-size=\"30\" fill=\"white\" text-anchor=\"middle\" dominant-baseline=\"middle\" transform=\"rotate(0, 452.5, 652.5)\">0</text>\n",
       "<circle cx=\"652.5\" cy=\"125\" r=\"25\" fill=\"#3e368d\" stroke=\"black\" />\n",
       "<text x=\"652.5\" y=\"127.5\" font-size=\"30\" fill=\"white\" text-anchor=\"middle\" dominant-baseline=\"middle\" transform=\"rotate(0, 652.5, 127.5)\">0</text>\n",
       "<circle cx=\"652.5\" cy=\"650\" r=\"25\" fill=\"#3e368d\" stroke=\"black\" />\n",
       "<text x=\"652.5\" y=\"652.5\" font-size=\"30\" fill=\"white\" text-anchor=\"middle\" dominant-baseline=\"middle\" transform=\"rotate(0, 652.5, 652.5)\">0</text>\n",
       "<rect x=\"202.45\" y=\"721.0\" width=\"500.1\" height=\"8\" fill=\"black\" />\n",
       "<rect x=\"202.45\" y=\"846.0\" width=\"500.1\" height=\"8\" fill=\"black\" />\n",
       "</svg>"
      ],
      "text/plain": [
       "<drawsvg.drawing.Drawing at 0x2adf5dd2290>"
      ]
     },
     "metadata": {},
     "output_type": "display_data"
    }
   ],
   "source": [
    "circ = lw.Circuit(6)\n",
    "circ.add(lw.qubit.H(), 0)\n",
    "circ.add(cnot, 0)\n",
    "\n",
    "circ.display(mode_labels = [\n",
    "    \"A : |0>\", \"A : |1>\", \"B : |0>\", \"B : |1>\", \"C : |0>\", \"C : |1>\"])"
   ]
  },
  {
   "cell_type": "markdown",
   "metadata": {},
   "source": [
    "A second CNOT is then integrated into the system, again this is automatically reconfigured to include the heralding requirements without these needing to be accounted for.\n",
    "\n",
    "One question you may have is if the CNOT above requires post-selection on the output, then why are we able to cascade the CNOTs without performing post-selection between each one. This works because we only interact the A and B qubits once, meaning at the output if we measure 1 photon across A0 & A1 then we can be sure that as long as the other photon is not lost and is not on the heralding modes then the gate worked correctly."
   ]
  },
  {
   "cell_type": "code",
   "execution_count": 7,
   "metadata": {},
   "outputs": [
    {
     "data": {
      "image/svg+xml": [
       "<?xml version=\"1.0\" encoding=\"UTF-8\"?>\n",
       "<svg xmlns=\"http://www.w3.org/2000/svg\" xmlns:xlink=\"http://www.w3.org/1999/xlink\"\n",
       "     width=\"471.72093023255815\" height=\"440.0\" viewBox=\"0 0 1152.5 1075\">\n",
       "<defs>\n",
       "</defs>\n",
       "<rect x=\"0\" y=\"0\" width=\"1152.5\" height=\"1075\" fill=\"white\" stroke=\"none\" />\n",
       "<rect x=\"152.5\" y=\"25\" width=\"900.0\" height=\"1025\" fill=\"none\" stroke=\"black\" />\n",
       "<rect x=\"144.5\" y=\"124.5\" width=\"8\" height=\"1\" fill=\"black\" />\n",
       "<rect x=\"144.5\" y=\"199.5\" width=\"8\" height=\"1\" fill=\"black\" />\n",
       "<rect x=\"144.5\" y=\"324.5\" width=\"8\" height=\"1\" fill=\"black\" />\n",
       "<rect x=\"144.5\" y=\"399.5\" width=\"8\" height=\"1\" fill=\"black\" />\n",
       "<rect x=\"144.5\" y=\"474.5\" width=\"8\" height=\"1\" fill=\"black\" />\n",
       "<rect x=\"144.5\" y=\"599.5\" width=\"8\" height=\"1\" fill=\"black\" />\n",
       "<rect x=\"144.5\" y=\"674.5\" width=\"8\" height=\"1\" fill=\"black\" />\n",
       "<rect x=\"144.5\" y=\"749.5\" width=\"8\" height=\"1\" fill=\"black\" />\n",
       "<rect x=\"144.5\" y=\"874.5\" width=\"8\" height=\"1\" fill=\"black\" />\n",
       "<rect x=\"144.5\" y=\"949.5\" width=\"8\" height=\"1\" fill=\"black\" />\n",
       "<text x=\"132.5\" y=\"127\" font-size=\"25\" fill=\"black\" text-anchor=\"end\" dominant-baseline=\"middle\" transform=\"rotate(0, 132.5, 127)\">-</text>\n",
       "<text x=\"132.5\" y=\"202\" font-size=\"25\" fill=\"black\" text-anchor=\"end\" dominant-baseline=\"middle\" transform=\"rotate(0, 132.5, 202)\">A : |0&gt;</text>\n",
       "<text x=\"132.5\" y=\"327\" font-size=\"25\" fill=\"black\" text-anchor=\"end\" dominant-baseline=\"middle\" transform=\"rotate(0, 132.5, 327)\">A : |1&gt;</text>\n",
       "<text x=\"132.5\" y=\"402\" font-size=\"25\" fill=\"black\" text-anchor=\"end\" dominant-baseline=\"middle\" transform=\"rotate(0, 132.5, 402)\">-</text>\n",
       "<text x=\"132.5\" y=\"477\" font-size=\"25\" fill=\"black\" text-anchor=\"end\" dominant-baseline=\"middle\" transform=\"rotate(0, 132.5, 477)\">B : |0&gt;</text>\n",
       "<text x=\"132.5\" y=\"602\" font-size=\"25\" fill=\"black\" text-anchor=\"end\" dominant-baseline=\"middle\" transform=\"rotate(0, 132.5, 602)\">B : |1&gt;</text>\n",
       "<text x=\"132.5\" y=\"677\" font-size=\"25\" fill=\"black\" text-anchor=\"end\" dominant-baseline=\"middle\" transform=\"rotate(0, 132.5, 677)\">-</text>\n",
       "<text x=\"132.5\" y=\"752\" font-size=\"25\" fill=\"black\" text-anchor=\"end\" dominant-baseline=\"middle\" transform=\"rotate(0, 132.5, 752)\">C : |0&gt;</text>\n",
       "<text x=\"132.5\" y=\"877\" font-size=\"25\" fill=\"black\" text-anchor=\"end\" dominant-baseline=\"middle\" transform=\"rotate(0, 132.5, 877)\">C : |1&gt;</text>\n",
       "<text x=\"132.5\" y=\"952\" font-size=\"25\" fill=\"black\" text-anchor=\"end\" dominant-baseline=\"middle\" transform=\"rotate(0, 132.5, 952)\">-</text>\n",
       "<rect x=\"202.45\" y=\"196.0\" width=\"50.1\" height=\"8\" fill=\"black\" />\n",
       "<rect x=\"202.45\" y=\"321.0\" width=\"50.1\" height=\"8\" fill=\"black\" />\n",
       "<rect x=\"252.5\" y=\"175.0\" width=\"100\" height=\"175\" fill=\"#1a0f36\" stroke=\"black\" rx=\"5\" ry=\"5\" />\n",
       "<text x=\"302.5\" y=\"262.5\" font-size=\"35\" fill=\"white\" text-anchor=\"middle\" dominant-baseline=\"middle\" transform=\"rotate(0, 302.5, 262.5)\">H</text>\n",
       "<rect x=\"352.45\" y=\"196.0\" width=\"50.1\" height=\"8\" fill=\"black\" />\n",
       "<rect x=\"352.45\" y=\"321.0\" width=\"50.1\" height=\"8\" fill=\"black\" />\n",
       "<rect x=\"202.45\" y=\"471.0\" width=\"200.1\" height=\"8\" fill=\"black\" />\n",
       "<rect x=\"202.45\" y=\"596.0\" width=\"200.1\" height=\"8\" fill=\"black\" />\n",
       "<rect x=\"452.45\" y=\"121.0\" width=\"50.1\" height=\"8\" fill=\"black\" />\n",
       "<rect x=\"402.45\" y=\"196.0\" width=\"100.1\" height=\"8\" fill=\"black\" />\n",
       "<rect x=\"402.45\" y=\"321.0\" width=\"100.1\" height=\"8\" fill=\"black\" />\n",
       "<rect x=\"402.45\" y=\"471.0\" width=\"100.1\" height=\"8\" fill=\"black\" />\n",
       "<rect x=\"402.45\" y=\"596.0\" width=\"100.1\" height=\"8\" fill=\"black\" />\n",
       "<rect x=\"452.45\" y=\"671.0\" width=\"50.1\" height=\"8\" fill=\"black\" />\n",
       "<rect x=\"502.5\" y=\"100.0\" width=\"100\" height=\"600\" fill=\"#1a0f36\" stroke=\"black\" rx=\"5\" ry=\"5\" />\n",
       "<text x=\"552.5\" y=\"400.0\" font-size=\"25\" fill=\"white\" text-anchor=\"middle\" dominant-baseline=\"middle\" transform=\"rotate(270, 552.5, 400.0)\">CNOT</text>\n",
       "<rect x=\"602.45\" y=\"121.0\" width=\"50.1\" height=\"8\" fill=\"black\" />\n",
       "<rect x=\"602.45\" y=\"196.0\" width=\"100.1\" height=\"8\" fill=\"black\" />\n",
       "<rect x=\"602.45\" y=\"321.0\" width=\"100.1\" height=\"8\" fill=\"black\" />\n",
       "<rect x=\"602.45\" y=\"471.0\" width=\"100.1\" height=\"8\" fill=\"black\" />\n",
       "<rect x=\"602.45\" y=\"596.0\" width=\"100.1\" height=\"8\" fill=\"black\" />\n",
       "<rect x=\"602.45\" y=\"671.0\" width=\"50.1\" height=\"8\" fill=\"black\" />\n",
       "<circle cx=\"452.5\" cy=\"125\" r=\"25\" fill=\"#3e368d\" stroke=\"black\" />\n",
       "<text x=\"452.5\" y=\"127.5\" font-size=\"30\" fill=\"white\" text-anchor=\"middle\" dominant-baseline=\"middle\" transform=\"rotate(0, 452.5, 127.5)\">0</text>\n",
       "<circle cx=\"452.5\" cy=\"675\" r=\"25\" fill=\"#3e368d\" stroke=\"black\" />\n",
       "<text x=\"452.5\" y=\"677.5\" font-size=\"30\" fill=\"white\" text-anchor=\"middle\" dominant-baseline=\"middle\" transform=\"rotate(0, 452.5, 677.5)\">0</text>\n",
       "<circle cx=\"652.5\" cy=\"125\" r=\"25\" fill=\"#3e368d\" stroke=\"black\" />\n",
       "<text x=\"652.5\" y=\"127.5\" font-size=\"30\" fill=\"white\" text-anchor=\"middle\" dominant-baseline=\"middle\" transform=\"rotate(0, 652.5, 127.5)\">0</text>\n",
       "<circle cx=\"652.5\" cy=\"675\" r=\"25\" fill=\"#3e368d\" stroke=\"black\" />\n",
       "<text x=\"652.5\" y=\"677.5\" font-size=\"30\" fill=\"white\" text-anchor=\"middle\" dominant-baseline=\"middle\" transform=\"rotate(0, 652.5, 677.5)\">0</text>\n",
       "<rect x=\"202.45\" y=\"746.0\" width=\"500.1\" height=\"8\" fill=\"black\" />\n",
       "<rect x=\"202.45\" y=\"871.0\" width=\"500.1\" height=\"8\" fill=\"black\" />\n",
       "<rect x=\"752.45\" y=\"396.0\" width=\"50.1\" height=\"8\" fill=\"black\" />\n",
       "<rect x=\"702.45\" y=\"471.0\" width=\"100.1\" height=\"8\" fill=\"black\" />\n",
       "<rect x=\"702.45\" y=\"596.0\" width=\"100.1\" height=\"8\" fill=\"black\" />\n",
       "<rect x=\"702.45\" y=\"746.0\" width=\"100.1\" height=\"8\" fill=\"black\" />\n",
       "<rect x=\"702.45\" y=\"871.0\" width=\"100.1\" height=\"8\" fill=\"black\" />\n",
       "<rect x=\"752.45\" y=\"946.0\" width=\"50.1\" height=\"8\" fill=\"black\" />\n",
       "<rect x=\"802.5\" y=\"375.0\" width=\"100\" height=\"600\" fill=\"#1a0f36\" stroke=\"black\" rx=\"5\" ry=\"5\" />\n",
       "<text x=\"852.5\" y=\"675.0\" font-size=\"25\" fill=\"white\" text-anchor=\"middle\" dominant-baseline=\"middle\" transform=\"rotate(270, 852.5, 675.0)\">CNOT</text>\n",
       "<rect x=\"902.45\" y=\"396.0\" width=\"50.1\" height=\"8\" fill=\"black\" />\n",
       "<rect x=\"902.45\" y=\"471.0\" width=\"100.1\" height=\"8\" fill=\"black\" />\n",
       "<rect x=\"902.45\" y=\"596.0\" width=\"100.1\" height=\"8\" fill=\"black\" />\n",
       "<rect x=\"902.45\" y=\"746.0\" width=\"100.1\" height=\"8\" fill=\"black\" />\n",
       "<rect x=\"902.45\" y=\"871.0\" width=\"100.1\" height=\"8\" fill=\"black\" />\n",
       "<rect x=\"902.45\" y=\"946.0\" width=\"50.1\" height=\"8\" fill=\"black\" />\n",
       "<circle cx=\"752.5\" cy=\"400\" r=\"25\" fill=\"#3e368d\" stroke=\"black\" />\n",
       "<text x=\"752.5\" y=\"402.5\" font-size=\"30\" fill=\"white\" text-anchor=\"middle\" dominant-baseline=\"middle\" transform=\"rotate(0, 752.5, 402.5)\">0</text>\n",
       "<circle cx=\"752.5\" cy=\"950\" r=\"25\" fill=\"#3e368d\" stroke=\"black\" />\n",
       "<text x=\"752.5\" y=\"952.5\" font-size=\"30\" fill=\"white\" text-anchor=\"middle\" dominant-baseline=\"middle\" transform=\"rotate(0, 752.5, 952.5)\">0</text>\n",
       "<circle cx=\"952.5\" cy=\"400\" r=\"25\" fill=\"#3e368d\" stroke=\"black\" />\n",
       "<text x=\"952.5\" y=\"402.5\" font-size=\"30\" fill=\"white\" text-anchor=\"middle\" dominant-baseline=\"middle\" transform=\"rotate(0, 952.5, 402.5)\">0</text>\n",
       "<circle cx=\"952.5\" cy=\"950\" r=\"25\" fill=\"#3e368d\" stroke=\"black\" />\n",
       "<text x=\"952.5\" y=\"952.5\" font-size=\"30\" fill=\"white\" text-anchor=\"middle\" dominant-baseline=\"middle\" transform=\"rotate(0, 952.5, 952.5)\">0</text>\n",
       "<rect x=\"702.45\" y=\"196.0\" width=\"300.1\" height=\"8\" fill=\"black\" />\n",
       "<rect x=\"702.45\" y=\"321.0\" width=\"300.1\" height=\"8\" fill=\"black\" />\n",
       "</svg>"
      ],
      "text/plain": [
       "<drawsvg.drawing.Drawing at 0x2adf5de9d90>"
      ]
     },
     "metadata": {},
     "output_type": "display_data"
    }
   ],
   "source": [
    "circ.add(cnot, 2)\n",
    "\n",
    "circ.display(mode_labels = [\n",
    "    \"A : |0>\", \"A : |1>\", \"B : |0>\", \"B : |1>\", \"C : |0>\", \"C : |1>\"])"
   ]
  },
  {
   "cell_type": "markdown",
   "metadata": {},
   "source": [
    "Once the system has been configured, it can be simulated through creation of a new Sampler object."
   ]
  },
  {
   "cell_type": "code",
   "execution_count": 8,
   "metadata": {},
   "outputs": [],
   "source": [
    "sampler = emulator.Sampler(circ, lw.State([1,0,1,0,1,0]))"
   ]
  },
  {
   "cell_type": "markdown",
   "metadata": {},
   "source": [
    "A number of samples are then measured from the system, and we apply a post-selection function to require only 1 photon is measured across each pair of photons corresponding to a qubit."
   ]
  },
  {
   "cell_type": "code",
   "execution_count": 9,
   "metadata": {},
   "outputs": [],
   "source": [
    "post_select = lambda s: sum(s[0:2]) == 1 and sum(s[2:4]) == 1 and sum(s[4:]) == 1\n",
    "results = sampler.sample_N_inputs(10000, post_select = post_select)"
   ]
  },
  {
   "cell_type": "markdown",
   "metadata": {},
   "source": [
    "The results can then be viewed, as expected only the states $\\ket{1,0,1,0,1,0}$ and $\\ket{0,1,0,1,0,1}$ are measured, which correspond to the two expected measurements of the GHZ state, $\\ket{0,0,0}$ and $\\ket{1,1,1}$ respectively. "
   ]
  },
  {
   "cell_type": "code",
   "execution_count": 10,
   "metadata": {},
   "outputs": [
    {
     "data": {
      "image/png": "[encoded data removed]",
      "text/plain": [
       "<Figure size 700x600 with 1 Axes>"
      ]
     },
     "metadata": {},
     "output_type": "display_data"
    }
   ],
   "source": [
    "results.plot(show = True)"
   ]
  },
  {
   "cell_type": "markdown",
   "metadata": {},
   "source": [
    "## Three Qubit Gates\n",
    "\n",
    "The Toffoli (CCNOT) & CCZ three qubit gates are also included within Lightworks. Similar to the two qubit gates above these require post-selection on measuring one photon across each of the qubit modes.\n",
    "\n",
    "In this tutorial we will look at the action of the CCNOT gate, which is created and displayed below."
   ]
  },
  {
   "cell_type": "code",
   "execution_count": 11,
   "metadata": {},
   "outputs": [
    {
     "data": {
      "image/svg+xml": [
       "<?xml version=\"1.0\" encoding=\"UTF-8\"?>\n",
       "<svg xmlns=\"http://www.w3.org/2000/svg\" xmlns:xlink=\"http://www.w3.org/1999/xlink\"\n",
       "     width=\"224.68085106382978\" height=\"440.0\" viewBox=\"0 0 600.0 1175\">\n",
       "<defs>\n",
       "</defs>\n",
       "<rect x=\"0\" y=\"0\" width=\"600.0\" height=\"1175\" fill=\"white\" stroke=\"none\" />\n",
       "<rect x=\"100.0\" y=\"25\" width=\"400.0\" height=\"1125\" fill=\"none\" stroke=\"black\" />\n",
       "<rect x=\"92.0\" y=\"124.5\" width=\"8\" height=\"1\" fill=\"black\" />\n",
       "<rect x=\"92.0\" y=\"199.5\" width=\"8\" height=\"1\" fill=\"black\" />\n",
       "<rect x=\"92.0\" y=\"274.5\" width=\"8\" height=\"1\" fill=\"black\" />\n",
       "<rect x=\"92.0\" y=\"399.5\" width=\"8\" height=\"1\" fill=\"black\" />\n",
       "<rect x=\"92.0\" y=\"524.5\" width=\"8\" height=\"1\" fill=\"black\" />\n",
       "<rect x=\"92.0\" y=\"649.5\" width=\"8\" height=\"1\" fill=\"black\" />\n",
       "<rect x=\"92.0\" y=\"774.5\" width=\"8\" height=\"1\" fill=\"black\" />\n",
       "<rect x=\"92.0\" y=\"899.5\" width=\"8\" height=\"1\" fill=\"black\" />\n",
       "<rect x=\"92.0\" y=\"974.5\" width=\"8\" height=\"1\" fill=\"black\" />\n",
       "<rect x=\"92.0\" y=\"1049.5\" width=\"8\" height=\"1\" fill=\"black\" />\n",
       "<text x=\"80.0\" y=\"127\" font-size=\"25\" fill=\"black\" text-anchor=\"end\" dominant-baseline=\"middle\" transform=\"rotate(0, 80.0, 127)\">-</text>\n",
       "<text x=\"80.0\" y=\"202\" font-size=\"25\" fill=\"black\" text-anchor=\"end\" dominant-baseline=\"middle\" transform=\"rotate(0, 80.0, 202)\">-</text>\n",
       "<text x=\"80.0\" y=\"277\" font-size=\"25\" fill=\"black\" text-anchor=\"end\" dominant-baseline=\"middle\" transform=\"rotate(0, 80.0, 277)\">0</text>\n",
       "<text x=\"80.0\" y=\"402\" font-size=\"25\" fill=\"black\" text-anchor=\"end\" dominant-baseline=\"middle\" transform=\"rotate(0, 80.0, 402)\">1</text>\n",
       "<text x=\"80.0\" y=\"527\" font-size=\"25\" fill=\"black\" text-anchor=\"end\" dominant-baseline=\"middle\" transform=\"rotate(0, 80.0, 527)\">2</text>\n",
       "<text x=\"80.0\" y=\"652\" font-size=\"25\" fill=\"black\" text-anchor=\"end\" dominant-baseline=\"middle\" transform=\"rotate(0, 80.0, 652)\">3</text>\n",
       "<text x=\"80.0\" y=\"777\" font-size=\"25\" fill=\"black\" text-anchor=\"end\" dominant-baseline=\"middle\" transform=\"rotate(0, 80.0, 777)\">4</text>\n",
       "<text x=\"80.0\" y=\"902\" font-size=\"25\" fill=\"black\" text-anchor=\"end\" dominant-baseline=\"middle\" transform=\"rotate(0, 80.0, 902)\">5</text>\n",
       "<text x=\"80.0\" y=\"977\" font-size=\"25\" fill=\"black\" text-anchor=\"end\" dominant-baseline=\"middle\" transform=\"rotate(0, 80.0, 977)\">-</text>\n",
       "<text x=\"80.0\" y=\"1052\" font-size=\"25\" fill=\"black\" text-anchor=\"end\" dominant-baseline=\"middle\" transform=\"rotate(0, 80.0, 1052)\">-</text>\n",
       "<rect x=\"199.95\" y=\"121.0\" width=\"50.1\" height=\"8\" fill=\"black\" />\n",
       "<rect x=\"199.95\" y=\"196.0\" width=\"50.1\" height=\"8\" fill=\"black\" />\n",
       "<rect x=\"149.95\" y=\"271.0\" width=\"100.1\" height=\"8\" fill=\"black\" />\n",
       "<rect x=\"149.95\" y=\"396.0\" width=\"100.1\" height=\"8\" fill=\"black\" />\n",
       "<rect x=\"149.95\" y=\"521.0\" width=\"100.1\" height=\"8\" fill=\"black\" />\n",
       "<rect x=\"149.95\" y=\"646.0\" width=\"100.1\" height=\"8\" fill=\"black\" />\n",
       "<rect x=\"149.95\" y=\"771.0\" width=\"100.1\" height=\"8\" fill=\"black\" />\n",
       "<rect x=\"149.95\" y=\"896.0\" width=\"100.1\" height=\"8\" fill=\"black\" />\n",
       "<rect x=\"199.95\" y=\"971.0\" width=\"50.1\" height=\"8\" fill=\"black\" />\n",
       "<rect x=\"199.95\" y=\"1046.0\" width=\"50.1\" height=\"8\" fill=\"black\" />\n",
       "<rect x=\"250.0\" y=\"100.0\" width=\"100\" height=\"975\" fill=\"#1a0f36\" stroke=\"black\" rx=\"5\" ry=\"5\" />\n",
       "<text x=\"300.0\" y=\"587.5\" font-size=\"25\" fill=\"white\" text-anchor=\"middle\" dominant-baseline=\"middle\" transform=\"rotate(270, 300.0, 587.5)\">CCNOT</text>\n",
       "<rect x=\"349.95\" y=\"121.0\" width=\"50.1\" height=\"8\" fill=\"black\" />\n",
       "<rect x=\"349.95\" y=\"196.0\" width=\"50.1\" height=\"8\" fill=\"black\" />\n",
       "<rect x=\"349.95\" y=\"271.0\" width=\"100.1\" height=\"8\" fill=\"black\" />\n",
       "<rect x=\"349.95\" y=\"396.0\" width=\"100.1\" height=\"8\" fill=\"black\" />\n",
       "<rect x=\"349.95\" y=\"521.0\" width=\"100.1\" height=\"8\" fill=\"black\" />\n",
       "<rect x=\"349.95\" y=\"646.0\" width=\"100.1\" height=\"8\" fill=\"black\" />\n",
       "<rect x=\"349.95\" y=\"771.0\" width=\"100.1\" height=\"8\" fill=\"black\" />\n",
       "<rect x=\"349.95\" y=\"896.0\" width=\"100.1\" height=\"8\" fill=\"black\" />\n",
       "<rect x=\"349.95\" y=\"971.0\" width=\"50.1\" height=\"8\" fill=\"black\" />\n",
       "<rect x=\"349.95\" y=\"1046.0\" width=\"50.1\" height=\"8\" fill=\"black\" />\n",
       "<circle cx=\"200.0\" cy=\"125\" r=\"25\" fill=\"#3e368d\" stroke=\"black\" />\n",
       "<text x=\"200.0\" y=\"127.5\" font-size=\"30\" fill=\"white\" text-anchor=\"middle\" dominant-baseline=\"middle\" transform=\"rotate(0, 200.0, 127.5)\">0</text>\n",
       "<circle cx=\"200.0\" cy=\"200\" r=\"25\" fill=\"#3e368d\" stroke=\"black\" />\n",
       "<text x=\"200.0\" y=\"202.5\" font-size=\"30\" fill=\"white\" text-anchor=\"middle\" dominant-baseline=\"middle\" transform=\"rotate(0, 200.0, 202.5)\">0</text>\n",
       "<circle cx=\"200.0\" cy=\"975\" r=\"25\" fill=\"#3e368d\" stroke=\"black\" />\n",
       "<text x=\"200.0\" y=\"977.5\" font-size=\"30\" fill=\"white\" text-anchor=\"middle\" dominant-baseline=\"middle\" transform=\"rotate(0, 200.0, 977.5)\">0</text>\n",
       "<circle cx=\"200.0\" cy=\"1050\" r=\"25\" fill=\"#3e368d\" stroke=\"black\" />\n",
       "<text x=\"200.0\" y=\"1052.5\" font-size=\"30\" fill=\"white\" text-anchor=\"middle\" dominant-baseline=\"middle\" transform=\"rotate(0, 200.0, 1052.5)\">0</text>\n",
       "<circle cx=\"400.0\" cy=\"125\" r=\"25\" fill=\"#3e368d\" stroke=\"black\" />\n",
       "<text x=\"400.0\" y=\"127.5\" font-size=\"30\" fill=\"white\" text-anchor=\"middle\" dominant-baseline=\"middle\" transform=\"rotate(0, 400.0, 127.5)\">0</text>\n",
       "<circle cx=\"400.0\" cy=\"200\" r=\"25\" fill=\"#3e368d\" stroke=\"black\" />\n",
       "<text x=\"400.0\" y=\"202.5\" font-size=\"30\" fill=\"white\" text-anchor=\"middle\" dominant-baseline=\"middle\" transform=\"rotate(0, 400.0, 202.5)\">0</text>\n",
       "<circle cx=\"400.0\" cy=\"975\" r=\"25\" fill=\"#3e368d\" stroke=\"black\" />\n",
       "<text x=\"400.0\" y=\"977.5\" font-size=\"30\" fill=\"white\" text-anchor=\"middle\" dominant-baseline=\"middle\" transform=\"rotate(0, 400.0, 977.5)\">0</text>\n",
       "<circle cx=\"400.0\" cy=\"1050\" r=\"25\" fill=\"#3e368d\" stroke=\"black\" />\n",
       "<text x=\"400.0\" y=\"1052.5\" font-size=\"30\" fill=\"white\" text-anchor=\"middle\" dominant-baseline=\"middle\" transform=\"rotate(0, 400.0, 1052.5)\">0</text>\n",
       "</svg>"
      ],
      "text/plain": [
       "<drawsvg.drawing.Drawing at 0x2adf7e81710>"
      ]
     },
     "metadata": {},
     "output_type": "display_data"
    }
   ],
   "source": [
    "gate = lw.qubit.CCNOT()\n",
    "\n",
    "gate.display()"
   ]
  },
  {
   "cell_type": "markdown",
   "metadata": {},
   "source": [
    "Each of the possible valid input and outputs can then be simulated to view the action of the gate. We'll define a function to make it easier to go between qubit and mode configurations of the qubit."
   ]
  },
  {
   "cell_type": "code",
   "execution_count": 12,
   "metadata": {},
   "outputs": [],
   "source": [
    "def qubit_to_mode(qubit_state):\n",
    "    mode_state = []\n",
    "    for q in qubit_state:\n",
    "        mode_state += [1, 0] if q == \"0\" else [0, 1]\n",
    "    return mode_state"
   ]
  },
  {
   "cell_type": "markdown",
   "metadata": {},
   "source": [
    "After completion of the simulation, the data is extracted into an array in the order defined in all_inputs."
   ]
  },
  {
   "cell_type": "code",
   "execution_count": 13,
   "metadata": {},
   "outputs": [],
   "source": [
    "# Define qubit inputs\n",
    "all_inputs = [\"000\", \"001\", \"100\", \"101\", \"010\", \"011\", \"110\", \"111\"]\n",
    "\n",
    "# Convert to mode values\n",
    "mapping = {i : lw.State(qubit_to_mode(i)) for i in all_inputs}\n",
    "\n",
    "# Simulate all combinations\n",
    "sim = emulator.Simulator(gate)\n",
    "results = sim.simulate(list(mapping.values()), list(mapping.values()))\n",
    "\n",
    "# Extract all results int array\n",
    "array = np.zeros((len(all_inputs), len(all_inputs)), dtype = complex)\n",
    "for i, si in enumerate(all_inputs):\n",
    "    for j, sj in enumerate(all_inputs):\n",
    "        array[i,j] = results[mapping[si], mapping[sj]]"
   ]
  },
  {
   "cell_type": "markdown",
   "metadata": {},
   "source": [
    "It can then be seen how a swap only takes place when both of the control qubits are in the 1 state."
   ]
  },
  {
   "cell_type": "code",
   "execution_count": 14,
   "metadata": {},
   "outputs": [
    {
     "data": {
      "image/png": "[encoded data removed]",
      "text/plain": [
       "<Figure size 640x480 with 1 Axes>"
      ]
     },
     "metadata": {},
     "output_type": "display_data"
    }
   ],
   "source": [
    "plt.imshow(abs(array)**2)\n",
    "plt.xticks(range(len(all_inputs)), all_inputs)\n",
    "plt.yticks(range(len(all_inputs)), all_inputs)\n",
    "plt.ylabel(\"Input\")\n",
    "plt.xlabel(\"Output\")\n",
    "plt.show()"
   ]
  }
 ],
 "metadata": {
  "kernelspec": {
   "display_name": "venv",
   "language": "python",
   "name": "python3"
  },
  "language_info": {
   "codemirror_mode": {
    "name": "ipython",
    "version": 3
   },
   "file_extension": ".py",
   "mimetype": "text/x-python",
   "name": "python",
   "nbconvert_exporter": "python",
   "pygments_lexer": "ipython3",
   "version": "3.11.6"
  }
 },
 "nbformat": 4,
 "nbformat_minor": 2
}
