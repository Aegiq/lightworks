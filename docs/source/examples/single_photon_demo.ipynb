{
 "cells": [
  {
   "attachments": {},
   "cell_type": "markdown",
   "metadata": {},
   "source": [
    "# Single-photon Simulation\n",
    "The following notebook demonstrates the use of the emulator to simulate the propagation of a single photon in a quantum photonic processor. This can be used to find the unitary implemented by a system.\n",
    "\n",
    "First import required modules and some additional tools."
   ]
  },
  {
   "cell_type": "code",
   "execution_count": 1,
   "metadata": {},
   "outputs": [],
   "source": [
    "from collections import Counter\n",
    "\n",
    "import matplotlib.pyplot as plt\n",
    "\n",
    "import lightworks as lw\n",
    "from lightworks import State, emulator"
   ]
  },
  {
   "attachments": {},
   "cell_type": "markdown",
   "metadata": {},
   "source": [
    "A general N is then defined, which is used to adjust the number of modes used for the circuit throughout the notebook."
   ]
  },
  {
   "cell_type": "code",
   "execution_count": 2,
   "metadata": {},
   "outputs": [],
   "source": [
    "N = 8"
   ]
  },
  {
   "attachments": {},
   "cell_type": "markdown",
   "metadata": {},
   "source": [
    "Can then create a random unitary matrix which is programmed onto the chip."
   ]
  },
  {
   "cell_type": "code",
   "execution_count": 3,
   "metadata": {},
   "outputs": [],
   "source": [
    "U = lw.random_unitary(N)\n",
    "\n",
    "circuit = lw.Unitary(U)"
   ]
  },
  {
   "attachments": {},
   "cell_type": "markdown",
   "metadata": {},
   "source": [
    "## Simulator\n",
    "First we try using the simulation part of the emulator. This allows the simulation of a number of input states, finding the probability amplitudes for the given outputs. To set this up, we specify the generated circuit to the simulator class. \n",
    "\n",
    "In this case we will choose to try to recreate the unitary matrix, which can be done by creating a list of all single photon input and output states."
   ]
  },
  {
   "cell_type": "code",
   "execution_count": 4,
   "metadata": {},
   "outputs": [],
   "source": [
    "# Create all single photon states by adding 1 to list when i=j, otherwise add 0\n",
    "states = [State([int(i == j) for j in range(N)]) for i in range(N)]\n",
    "\n",
    "sim = lw.Simulator(circuit, states, states)\n",
    "\n",
    "# Calculate probability amplitude\n",
    "backed = emulator.Backend(\"permanent\")\n",
    "results = backed.run(sim)\n",
    "\n",
    "U_calc = results.array"
   ]
  },
  {
   "attachments": {},
   "cell_type": "markdown",
   "metadata": {},
   "source": [
    "The resultant matrix probability amplitude matrix can be visualized below, and we see that the unitary is correctly replicated. Note that the unitary needs to be transposed for the plotting below to show identical matrices."
   ]
  },
  {
   "cell_type": "code",
   "execution_count": 5,
   "metadata": {},
   "outputs": [
    {
     "data": {
      "image/png": "[encoded data removed]",
      "text/plain": [
       "<Figure size 1200x600 with 2 Axes>"
      ]
     },
     "metadata": {},
     "output_type": "display_data"
    }
   ],
   "source": [
    "fig, ax = plt.subplots(1, 2, figsize=(12, 6))\n",
    "\n",
    "ax[0].imshow(abs(U.T))\n",
    "ax[1].imshow(abs(U_calc))\n",
    "ax[0].set_title(\"U\")\n",
    "ax[1].set_title(\"Calculated U\")\n",
    "\n",
    "plt.show()"
   ]
  },
  {
   "attachments": {},
   "cell_type": "markdown",
   "metadata": {},
   "source": [
    "It is also possible to directly view the probability amplitudes in a nicer form using the display_as_dataframe function included with the results object. In this case the values are converted to probabilities with the conv_to_probability keyword."
   ]
  },
  {
   "cell_type": "code",
   "execution_count": 6,
   "metadata": {},
   "outputs": [
    {
     "data": {
      "text/html": [
       "<div>\n",
       "<style scoped>\n",
       "    .dataframe tbody tr th:only-of-type {\n",
       "        vertical-align: middle;\n",
       "    }\n",
       "\n",
       "    .dataframe tbody tr th {\n",
       "        vertical-align: top;\n",
       "    }\n",
       "\n",
       "    .dataframe thead th {\n",
       "        text-align: right;\n",
       "    }\n",
       "</style>\n",
       "<table border=\"1\" class=\"dataframe\">\n",
       "  <thead>\n",
       "    <tr style=\"text-align: right;\">\n",
       "      <th></th>\n",
       "      <th>|1,0,0,0,0,0,0,0&gt;</th>\n",
       "      <th>|0,1,0,0,0,0,0,0&gt;</th>\n",
       "      <th>|0,0,1,0,0,0,0,0&gt;</th>\n",
       "      <th>|0,0,0,1,0,0,0,0&gt;</th>\n",
       "      <th>|0,0,0,0,1,0,0,0&gt;</th>\n",
       "      <th>|0,0,0,0,0,1,0,0&gt;</th>\n",
       "      <th>|0,0,0,0,0,0,1,0&gt;</th>\n",
       "      <th>|0,0,0,0,0,0,0,1&gt;</th>\n",
       "    </tr>\n",
       "  </thead>\n",
       "  <tbody>\n",
       "    <tr>\n",
       "      <th>|1,0,0,0,0,0,0,0&gt;</th>\n",
       "      <td>0.069378</td>\n",
       "      <td>0.655108</td>\n",
       "      <td>0.007417</td>\n",
       "      <td>0.028719</td>\n",
       "      <td>0.067282</td>\n",
       "      <td>0.021386</td>\n",
       "      <td>0.137687</td>\n",
       "      <td>0.013023</td>\n",
       "    </tr>\n",
       "    <tr>\n",
       "      <th>|0,1,0,0,0,0,0,0&gt;</th>\n",
       "      <td>0.018867</td>\n",
       "      <td>0.069027</td>\n",
       "      <td>0.124257</td>\n",
       "      <td>0.017275</td>\n",
       "      <td>0.101176</td>\n",
       "      <td>0.344731</td>\n",
       "      <td>0.153050</td>\n",
       "      <td>0.171617</td>\n",
       "    </tr>\n",
       "    <tr>\n",
       "      <th>|0,0,1,0,0,0,0,0&gt;</th>\n",
       "      <td>0.066883</td>\n",
       "      <td>0.035832</td>\n",
       "      <td>0.021391</td>\n",
       "      <td>0.167993</td>\n",
       "      <td>0.039286</td>\n",
       "      <td>0.186602</td>\n",
       "      <td>0.198021</td>\n",
       "      <td>0.283992</td>\n",
       "    </tr>\n",
       "    <tr>\n",
       "      <th>|0,0,0,1,0,0,0,0&gt;</th>\n",
       "      <td>0.214553</td>\n",
       "      <td>0.047760</td>\n",
       "      <td>0.005091</td>\n",
       "      <td>0.047379</td>\n",
       "      <td>0.117540</td>\n",
       "      <td>0.029820</td>\n",
       "      <td>0.356083</td>\n",
       "      <td>0.181773</td>\n",
       "    </tr>\n",
       "    <tr>\n",
       "      <th>|0,0,0,0,1,0,0,0&gt;</th>\n",
       "      <td>0.471405</td>\n",
       "      <td>0.106134</td>\n",
       "      <td>0.045029</td>\n",
       "      <td>0.027395</td>\n",
       "      <td>0.139443</td>\n",
       "      <td>0.031223</td>\n",
       "      <td>0.001003</td>\n",
       "      <td>0.178368</td>\n",
       "    </tr>\n",
       "    <tr>\n",
       "      <th>|0,0,0,0,0,1,0,0&gt;</th>\n",
       "      <td>0.138559</td>\n",
       "      <td>0.034179</td>\n",
       "      <td>0.032468</td>\n",
       "      <td>0.366038</td>\n",
       "      <td>0.104098</td>\n",
       "      <td>0.259513</td>\n",
       "      <td>0.056245</td>\n",
       "      <td>0.008900</td>\n",
       "    </tr>\n",
       "    <tr>\n",
       "      <th>|0,0,0,0,0,0,1,0&gt;</th>\n",
       "      <td>0.001931</td>\n",
       "      <td>0.048244</td>\n",
       "      <td>0.046182</td>\n",
       "      <td>0.221076</td>\n",
       "      <td>0.397049</td>\n",
       "      <td>0.060791</td>\n",
       "      <td>0.070994</td>\n",
       "      <td>0.153732</td>\n",
       "    </tr>\n",
       "    <tr>\n",
       "      <th>|0,0,0,0,0,0,0,1&gt;</th>\n",
       "      <td>0.018424</td>\n",
       "      <td>0.003716</td>\n",
       "      <td>0.718166</td>\n",
       "      <td>0.124123</td>\n",
       "      <td>0.034125</td>\n",
       "      <td>0.065934</td>\n",
       "      <td>0.026918</td>\n",
       "      <td>0.008594</td>\n",
       "    </tr>\n",
       "  </tbody>\n",
       "</table>\n",
       "</div>"
      ],
      "text/plain": [
       "                   |1,0,0,0,0,0,0,0>  |0,1,0,0,0,0,0,0>  |0,0,1,0,0,0,0,0>  \\\n",
       "|1,0,0,0,0,0,0,0>           0.069378           0.655108           0.007417   \n",
       "|0,1,0,0,0,0,0,0>           0.018867           0.069027           0.124257   \n",
       "|0,0,1,0,0,0,0,0>           0.066883           0.035832           0.021391   \n",
       "|0,0,0,1,0,0,0,0>           0.214553           0.047760           0.005091   \n",
       "|0,0,0,0,1,0,0,0>           0.471405           0.106134           0.045029   \n",
       "|0,0,0,0,0,1,0,0>           0.138559           0.034179           0.032468   \n",
       "|0,0,0,0,0,0,1,0>           0.001931           0.048244           0.046182   \n",
       "|0,0,0,0,0,0,0,1>           0.018424           0.003716           0.718166   \n",
       "\n",
       "                   |0,0,0,1,0,0,0,0>  |0,0,0,0,1,0,0,0>  |0,0,0,0,0,1,0,0>  \\\n",
       "|1,0,0,0,0,0,0,0>           0.028719           0.067282           0.021386   \n",
       "|0,1,0,0,0,0,0,0>           0.017275           0.101176           0.344731   \n",
       "|0,0,1,0,0,0,0,0>           0.167993           0.039286           0.186602   \n",
       "|0,0,0,1,0,0,0,0>           0.047379           0.117540           0.029820   \n",
       "|0,0,0,0,1,0,0,0>           0.027395           0.139443           0.031223   \n",
       "|0,0,0,0,0,1,0,0>           0.366038           0.104098           0.259513   \n",
       "|0,0,0,0,0,0,1,0>           0.221076           0.397049           0.060791   \n",
       "|0,0,0,0,0,0,0,1>           0.124123           0.034125           0.065934   \n",
       "\n",
       "                   |0,0,0,0,0,0,1,0>  |0,0,0,0,0,0,0,1>  \n",
       "|1,0,0,0,0,0,0,0>           0.137687           0.013023  \n",
       "|0,1,0,0,0,0,0,0>           0.153050           0.171617  \n",
       "|0,0,1,0,0,0,0,0>           0.198021           0.283992  \n",
       "|0,0,0,1,0,0,0,0>           0.356083           0.181773  \n",
       "|0,0,0,0,1,0,0,0>           0.001003           0.178368  \n",
       "|0,0,0,0,0,1,0,0>           0.056245           0.008900  \n",
       "|0,0,0,0,0,0,1,0>           0.070994           0.153732  \n",
       "|0,0,0,0,0,0,0,1>           0.026918           0.008594  "
      ]
     },
     "execution_count": 6,
     "metadata": {},
     "output_type": "execute_result"
    }
   ],
   "source": [
    "results.display_as_dataframe(conv_to_probability=True)"
   ]
  },
  {
   "attachments": {},
   "cell_type": "markdown",
   "metadata": {},
   "source": [
    "## Sampler\n",
    "Alternatively, the Sampler class can be used to emulate the process of measuring samples from the system. To initialise, this requires the generated circuit, the single input state that we want to look at, and the number of samples to collect. In this case we input a single photon on mode 0."
   ]
  },
  {
   "cell_type": "code",
   "execution_count": 7,
   "metadata": {},
   "outputs": [],
   "source": [
    "sampler = lw.Sampler(circuit, State([1] + [0] * (N - 1)), n_samples=100)"
   ]
  },
  {
   "attachments": {},
   "cell_type": "markdown",
   "metadata": {},
   "source": [
    "Once the sampler has been set up, we can then sample from it many times by running on the backend."
   ]
  },
  {
   "cell_type": "code",
   "execution_count": 8,
   "metadata": {},
   "outputs": [],
   "source": [
    "results = backed.run(sampler)\n",
    "\n",
    "mode_locs = []\n",
    "for state, count in results.items():\n",
    "    loc = state.s.index(1)\n",
    "    mode_locs += [loc] * count\n",
    "\n",
    "# Count number of times we measure a photon on each mode\n",
    "counted = Counter(mode_locs)"
   ]
  },
  {
   "attachments": {},
   "cell_type": "markdown",
   "metadata": {},
   "source": [
    "The counts can then be converted into probabilities and compared to the expected values from the unitary. As we only choose to look at 100 samples here, the measured and expected distributions tend to vary as not enough samples have been taken to see convergence."
   ]
  },
  {
   "cell_type": "code",
   "execution_count": 9,
   "metadata": {},
   "outputs": [
    {
     "data": {
      "image/png": "[encoded data removed]",
      "text/plain": [
       "<Figure size 700x600 with 1 Axes>"
      ]
     },
     "metadata": {},
     "output_type": "display_data"
    }
   ],
   "source": [
    "x = range(N)\n",
    "\n",
    "# Convert counts to a list and normalise to total count numbers\n",
    "p_calc = [counted[i] / sum(counted.values()) for i in x]\n",
    "\n",
    "# Find expected distribution\n",
    "p_exp = abs(U.T[0, :]) ** 2\n",
    "\n",
    "plt.figure(figsize=(7, 6))\n",
    "plt.bar(x, p_calc, label=\"Measured\", alpha=1)\n",
    "plt.bar(\n",
    "    x,\n",
    "    p_exp,\n",
    "    label=\"Expected\",\n",
    "    edgecolor=\"Black\",\n",
    "    fill=False,\n",
    "    linestyle=\"dashed\",\n",
    "    linewidth=1.5,\n",
    ")\n",
    "plt.xlabel(\"Output mode\")\n",
    "plt.ylabel(\"Counts\")\n",
    "plt.legend()\n",
    "plt.show()"
   ]
  }
 ],
 "metadata": {
  "kernelspec": {
   "display_name": "venv",
   "language": "python",
   "name": "python3"
  },
  "language_info": {
   "codemirror_mode": {
    "name": "ipython",
    "version": 3
   },
   "file_extension": ".py",
   "mimetype": "text/x-python",
   "name": "python",
   "nbconvert_exporter": "python",
   "pygments_lexer": "ipython3",
   "version": "3.11.6"
  },
  "orig_nbformat": 4
 },
 "nbformat": 4,
 "nbformat_minor": 2
}
